{
 "cells": [
  {
   "cell_type": "markdown",
   "id": "f5a662e1",
   "metadata": {},
   "source": [
    "## Импорт библиотек"
   ]
  },
  {
   "cell_type": "code",
   "execution_count": 1,
   "id": "47e69b45",
   "metadata": {},
   "outputs": [],
   "source": [
    "import pandas as pd\n",
    "import numpy as np\n",
    "import seaborn as sns\n",
    "from lightgbm import LGBMRegressor\n",
    "from sklearn.model_selection import GridSearchCV\n",
    "import os\n",
    "import contextlib\n",
    "from sklearn.metrics import mean_absolute_percentage_error as mape\n",
    "from sklearn.model_selection import train_test_split\n",
    "import warnings\n",
    "from sklearn.model_selection import StratifiedKFold"
   ]
  },
  {
   "cell_type": "markdown",
   "id": "e4ba5c2c",
   "metadata": {},
   "source": [
    "## Загрузка данных"
   ]
  },
  {
   "cell_type": "code",
   "execution_count": 2,
   "id": "5d97031e",
   "metadata": {},
   "outputs": [
    {
     "data": {
      "text/html": [
       "<div>\n",
       "<style scoped>\n",
       "    .dataframe tbody tr th:only-of-type {\n",
       "        vertical-align: middle;\n",
       "    }\n",
       "\n",
       "    .dataframe tbody tr th {\n",
       "        vertical-align: top;\n",
       "    }\n",
       "\n",
       "    .dataframe thead th {\n",
       "        text-align: right;\n",
       "    }\n",
       "</style>\n",
       "<table border=\"1\" class=\"dataframe\">\n",
       "  <thead>\n",
       "    <tr style=\"text-align: right;\">\n",
       "      <th></th>\n",
       "      <th>metro_name</th>\n",
       "      <th>time_to_metro</th>\n",
       "      <th>num_rooms</th>\n",
       "      <th>total_area</th>\n",
       "      <th>year_house</th>\n",
       "      <th>kitchen_area</th>\n",
       "      <th>repair</th>\n",
       "      <th>price</th>\n",
       "      <th>floors</th>\n",
       "      <th>num_floor</th>\n",
       "      <th>address</th>\n",
       "      <th>date</th>\n",
       "      <th>coord_width</th>\n",
       "      <th>coord_len</th>\n",
       "      <th>link</th>\n",
       "      <th>distance_to_Kremlin</th>\n",
       "      <th>district</th>\n",
       "      <th>metro_line</th>\n",
       "      <th>metro_distance</th>\n",
       "    </tr>\n",
       "  </thead>\n",
       "  <tbody>\n",
       "    <tr>\n",
       "      <th>6449</th>\n",
       "      <td>Маяковская</td>\n",
       "      <td>5.0</td>\n",
       "      <td>4</td>\n",
       "      <td>105.0</td>\n",
       "      <td>1912.0</td>\n",
       "      <td>11.0</td>\n",
       "      <td>1</td>\n",
       "      <td>59500000.0</td>\n",
       "      <td>6.0</td>\n",
       "      <td>3.0</td>\n",
       "      <td>Москва, Тверская ул., 29к1</td>\n",
       "      <td>41</td>\n",
       "      <td>55.768284</td>\n",
       "      <td>37.596363</td>\n",
       "      <td>https://www.avito.ru/moskva/kvartiry/4-k._kvar...</td>\n",
       "      <td>2.34</td>\n",
       "      <td>143</td>\n",
       "      <td>10</td>\n",
       "      <td>1</td>\n",
       "    </tr>\n",
       "    <tr>\n",
       "      <th>7076</th>\n",
       "      <td>Бауманская</td>\n",
       "      <td>13.0</td>\n",
       "      <td>5</td>\n",
       "      <td>116.0</td>\n",
       "      <td>1999.0</td>\n",
       "      <td>15.0</td>\n",
       "      <td>1</td>\n",
       "      <td>43970000.0</td>\n",
       "      <td>12.0</td>\n",
       "      <td>10.0</td>\n",
       "      <td>Москва, Рубцовская наб., 2к3</td>\n",
       "      <td>13</td>\n",
       "      <td>55.773798</td>\n",
       "      <td>37.694845</td>\n",
       "      <td>https://www.avito.ru/moskva/kvartiry/5-k._kvar...</td>\n",
       "      <td>5.37</td>\n",
       "      <td>118</td>\n",
       "      <td>5</td>\n",
       "      <td>4</td>\n",
       "    </tr>\n",
       "    <tr>\n",
       "      <th>16612</th>\n",
       "      <td>NaN</td>\n",
       "      <td>-1.0</td>\n",
       "      <td>3</td>\n",
       "      <td>31.5</td>\n",
       "      <td>1700.0</td>\n",
       "      <td>3.5</td>\n",
       "      <td>0</td>\n",
       "      <td>12961651.0</td>\n",
       "      <td>17.0</td>\n",
       "      <td>4.0</td>\n",
       "      <td>ЖК «Молжаниново», корп. 1</td>\n",
       "      <td>130</td>\n",
       "      <td>55.936420</td>\n",
       "      <td>37.359620</td>\n",
       "      <td>https://avito.ru//moskva/kvartiry/3-k._kvartir...</td>\n",
       "      <td>26.17</td>\n",
       "      <td>24</td>\n",
       "      <td>4</td>\n",
       "      <td>6</td>\n",
       "    </tr>\n",
       "    <tr>\n",
       "      <th>1964</th>\n",
       "      <td>Улица Скобелевская</td>\n",
       "      <td>31.0</td>\n",
       "      <td>1</td>\n",
       "      <td>17.5</td>\n",
       "      <td>2015.0</td>\n",
       "      <td>8.0</td>\n",
       "      <td>1</td>\n",
       "      <td>6850000.0</td>\n",
       "      <td>25.0</td>\n",
       "      <td>8.0</td>\n",
       "      <td>Московская область, Ленинский г.о., рабочий по...</td>\n",
       "      <td>36</td>\n",
       "      <td>55.519264</td>\n",
       "      <td>37.590174</td>\n",
       "      <td>https://www.avito.ru/moskva/kvartiry/1-k._kvar...</td>\n",
       "      <td>25.88</td>\n",
       "      <td>1</td>\n",
       "      <td>0</td>\n",
       "      <td>17</td>\n",
       "    </tr>\n",
       "    <tr>\n",
       "      <th>23879</th>\n",
       "      <td>Молодёжная</td>\n",
       "      <td>5.0</td>\n",
       "      <td>1</td>\n",
       "      <td>29.5</td>\n",
       "      <td>1700.0</td>\n",
       "      <td>11.0</td>\n",
       "      <td>1</td>\n",
       "      <td>18750000.0</td>\n",
       "      <td>40.0</td>\n",
       "      <td>6.0</td>\n",
       "      <td>Москва, Рублёвское шоссе, 107</td>\n",
       "      <td>123</td>\n",
       "      <td>55.744308</td>\n",
       "      <td>37.419521</td>\n",
       "      <td>https://avito.ru//moskva/kvartiry/1-k._kvartir...</td>\n",
       "      <td>12.50</td>\n",
       "      <td>109</td>\n",
       "      <td>5</td>\n",
       "      <td>5</td>\n",
       "    </tr>\n",
       "  </tbody>\n",
       "</table>\n",
       "</div>"
      ],
      "text/plain": [
       "               metro_name  time_to_metro  num_rooms  total_area  year_house  \\\n",
       "6449           Маяковская            5.0          4       105.0      1912.0   \n",
       "7076           Бауманская           13.0          5       116.0      1999.0   \n",
       "16612                 NaN           -1.0          3        31.5      1700.0   \n",
       "1964   Улица Скобелевская           31.0          1        17.5      2015.0   \n",
       "23879          Молодёжная            5.0          1        29.5      1700.0   \n",
       "\n",
       "       kitchen_area  repair       price  floors  num_floor  \\\n",
       "6449           11.0       1  59500000.0     6.0        3.0   \n",
       "7076           15.0       1  43970000.0    12.0       10.0   \n",
       "16612           3.5       0  12961651.0    17.0        4.0   \n",
       "1964            8.0       1   6850000.0    25.0        8.0   \n",
       "23879          11.0       1  18750000.0    40.0        6.0   \n",
       "\n",
       "                                                 address  date  coord_width  \\\n",
       "6449                          Москва, Тверская ул., 29к1    41    55.768284   \n",
       "7076                        Москва, Рубцовская наб., 2к3    13    55.773798   \n",
       "16612                          ЖК «Молжаниново», корп. 1   130    55.936420   \n",
       "1964   Московская область, Ленинский г.о., рабочий по...    36    55.519264   \n",
       "23879                      Москва, Рублёвское шоссе, 107   123    55.744308   \n",
       "\n",
       "       coord_len                                               link  \\\n",
       "6449   37.596363  https://www.avito.ru/moskva/kvartiry/4-k._kvar...   \n",
       "7076   37.694845  https://www.avito.ru/moskva/kvartiry/5-k._kvar...   \n",
       "16612  37.359620  https://avito.ru//moskva/kvartiry/3-k._kvartir...   \n",
       "1964   37.590174  https://www.avito.ru/moskva/kvartiry/1-k._kvar...   \n",
       "23879  37.419521  https://avito.ru//moskva/kvartiry/1-k._kvartir...   \n",
       "\n",
       "       distance_to_Kremlin  district  metro_line  metro_distance  \n",
       "6449                  2.34       143          10               1  \n",
       "7076                  5.37       118           5               4  \n",
       "16612                26.17        24           4               6  \n",
       "1964                 25.88         1           0              17  \n",
       "23879                12.50       109           5               5  "
      ]
     },
     "execution_count": 2,
     "metadata": {},
     "output_type": "execute_result"
    }
   ],
   "source": [
    "df_le=pd.read_csv(r\"C:\\Users\\Stepan\\Desktop\\ВУЗ\\Клиент-серверные\\папка датафреймов\\df_after_encoding_le.csv\")\n",
    "df_mte=pd.read_csv(r\"C:\\Users\\Stepan\\Desktop\\ВУЗ\\Клиент-серверные\\папка датафреймов\\df_after_encoding_mte.csv\")\n",
    "df_le=df_le.drop('Unnamed: 0', axis=1)\n",
    "df_mte=df_mte.drop('Unnamed: 0', axis=1)\n",
    "df_le.sample(5)"
   ]
  },
  {
   "cell_type": "markdown",
   "id": "9ef8d3e8",
   "metadata": {},
   "source": [
    "Будем использовать le кодировку, так как мы работает с lightgbm"
   ]
  },
  {
   "cell_type": "code",
   "execution_count": 3,
   "id": "1adba045",
   "metadata": {},
   "outputs": [],
   "source": [
    "X, y=df_le.drop(['metro_name','coord_width', 'coord_len','link','date','address','price'], axis=1), df_le['price']"
   ]
  },
  {
   "cell_type": "markdown",
   "id": "f13d0efd",
   "metadata": {},
   "source": [
    "## Зависимость между числовыми признаками"
   ]
  },
  {
   "cell_type": "markdown",
   "id": "a26f187c",
   "metadata": {},
   "source": [
    "Определим список числовых переменных. Количество этажей отнесем к числовым, хотя по смыслу этот признак ближе к категориальныму, потому что все-таки категории довольно размыты из-за большого количества этажей, также нет верхнего предела этажей."
   ]
  },
  {
   "cell_type": "code",
   "execution_count": 4,
   "id": "0b2bcca6",
   "metadata": {},
   "outputs": [],
   "source": [
    "num_col=['time_to_metro','total_area','kitchen_area','floors','num_floor', 'distance_to_Kremlin', 'metro_distance']"
   ]
  },
  {
   "cell_type": "markdown",
   "id": "c2db2bf5",
   "metadata": {},
   "source": [
    "Таблица корреляции."
   ]
  },
  {
   "cell_type": "code",
   "execution_count": 5,
   "id": "3fb38a07",
   "metadata": {},
   "outputs": [
    {
     "data": {
      "text/html": [
       "<div>\n",
       "<style scoped>\n",
       "    .dataframe tbody tr th:only-of-type {\n",
       "        vertical-align: middle;\n",
       "    }\n",
       "\n",
       "    .dataframe tbody tr th {\n",
       "        vertical-align: top;\n",
       "    }\n",
       "\n",
       "    .dataframe thead th {\n",
       "        text-align: right;\n",
       "    }\n",
       "</style>\n",
       "<table border=\"1\" class=\"dataframe\">\n",
       "  <thead>\n",
       "    <tr style=\"text-align: right;\">\n",
       "      <th></th>\n",
       "      <th>time_to_metro</th>\n",
       "      <th>total_area</th>\n",
       "      <th>kitchen_area</th>\n",
       "      <th>floors</th>\n",
       "      <th>num_floor</th>\n",
       "      <th>distance_to_Kremlin</th>\n",
       "      <th>metro_distance</th>\n",
       "    </tr>\n",
       "  </thead>\n",
       "  <tbody>\n",
       "    <tr>\n",
       "      <th>time_to_metro</th>\n",
       "      <td>1.000000</td>\n",
       "      <td>0.069971</td>\n",
       "      <td>0.051028</td>\n",
       "      <td>-0.031994</td>\n",
       "      <td>-0.042522</td>\n",
       "      <td>0.105619</td>\n",
       "      <td>0.212336</td>\n",
       "    </tr>\n",
       "    <tr>\n",
       "      <th>total_area</th>\n",
       "      <td>0.069971</td>\n",
       "      <td>1.000000</td>\n",
       "      <td>0.606705</td>\n",
       "      <td>0.023827</td>\n",
       "      <td>0.068075</td>\n",
       "      <td>-0.303391</td>\n",
       "      <td>-0.251984</td>\n",
       "    </tr>\n",
       "    <tr>\n",
       "      <th>kitchen_area</th>\n",
       "      <td>0.051028</td>\n",
       "      <td>0.606705</td>\n",
       "      <td>1.000000</td>\n",
       "      <td>0.163974</td>\n",
       "      <td>0.169024</td>\n",
       "      <td>-0.202453</td>\n",
       "      <td>-0.152425</td>\n",
       "    </tr>\n",
       "    <tr>\n",
       "      <th>floors</th>\n",
       "      <td>-0.031994</td>\n",
       "      <td>0.023827</td>\n",
       "      <td>0.163974</td>\n",
       "      <td>1.000000</td>\n",
       "      <td>0.690344</td>\n",
       "      <td>-0.052494</td>\n",
       "      <td>0.038615</td>\n",
       "    </tr>\n",
       "    <tr>\n",
       "      <th>num_floor</th>\n",
       "      <td>-0.042522</td>\n",
       "      <td>0.068075</td>\n",
       "      <td>0.169024</td>\n",
       "      <td>0.690344</td>\n",
       "      <td>1.000000</td>\n",
       "      <td>-0.041262</td>\n",
       "      <td>0.017784</td>\n",
       "    </tr>\n",
       "    <tr>\n",
       "      <th>distance_to_Kremlin</th>\n",
       "      <td>0.105619</td>\n",
       "      <td>-0.303391</td>\n",
       "      <td>-0.202453</td>\n",
       "      <td>-0.052494</td>\n",
       "      <td>-0.041262</td>\n",
       "      <td>1.000000</td>\n",
       "      <td>0.606773</td>\n",
       "    </tr>\n",
       "    <tr>\n",
       "      <th>metro_distance</th>\n",
       "      <td>0.212336</td>\n",
       "      <td>-0.251984</td>\n",
       "      <td>-0.152425</td>\n",
       "      <td>0.038615</td>\n",
       "      <td>0.017784</td>\n",
       "      <td>0.606773</td>\n",
       "      <td>1.000000</td>\n",
       "    </tr>\n",
       "  </tbody>\n",
       "</table>\n",
       "</div>"
      ],
      "text/plain": [
       "                     time_to_metro  total_area  kitchen_area    floors  \\\n",
       "time_to_metro             1.000000    0.069971      0.051028 -0.031994   \n",
       "total_area                0.069971    1.000000      0.606705  0.023827   \n",
       "kitchen_area              0.051028    0.606705      1.000000  0.163974   \n",
       "floors                   -0.031994    0.023827      0.163974  1.000000   \n",
       "num_floor                -0.042522    0.068075      0.169024  0.690344   \n",
       "distance_to_Kremlin       0.105619   -0.303391     -0.202453 -0.052494   \n",
       "metro_distance            0.212336   -0.251984     -0.152425  0.038615   \n",
       "\n",
       "                     num_floor  distance_to_Kremlin  metro_distance  \n",
       "time_to_metro        -0.042522             0.105619        0.212336  \n",
       "total_area            0.068075            -0.303391       -0.251984  \n",
       "kitchen_area          0.169024            -0.202453       -0.152425  \n",
       "floors                0.690344            -0.052494        0.038615  \n",
       "num_floor             1.000000            -0.041262        0.017784  \n",
       "distance_to_Kremlin  -0.041262             1.000000        0.606773  \n",
       "metro_distance        0.017784             0.606773        1.000000  "
      ]
     },
     "execution_count": 5,
     "metadata": {},
     "output_type": "execute_result"
    }
   ],
   "source": [
    "X[num_col].corr()"
   ]
  },
  {
   "cell_type": "markdown",
   "id": "b13cfa1b",
   "metadata": {},
   "source": [
    "Визуализация"
   ]
  },
  {
   "cell_type": "code",
   "execution_count": 6,
   "id": "153068c2",
   "metadata": {},
   "outputs": [
    {
     "data": {
      "text/plain": [
       "<AxesSubplot:>"
      ]
     },
     "execution_count": 6,
     "metadata": {},
     "output_type": "execute_result"
    },
    {
     "data": {
      "image/png": "[encoded data removed]",
      "text/plain": [
       "<Figure size 432x288 with 2 Axes>"
      ]
     },
     "metadata": {
      "needs_background": "light"
     },
     "output_type": "display_data"
    }
   ],
   "source": [
    "sns.heatmap(X[num_col].corr())"
   ]
  },
  {
   "cell_type": "markdown",
   "id": "81c128e4",
   "metadata": {},
   "source": [
    "## Работа с признаками"
   ]
  },
  {
   "cell_type": "markdown",
   "id": "a6953ea7",
   "metadata": {},
   "source": [
    "Преобразуем некоторые признаки, между которыми есть прямая зависимость, когда один признак вытекает из другого. И протестируем улучшается ли качество модели после этого преобразования."
   ]
  },
  {
   "cell_type": "markdown",
   "id": "7af94d0a",
   "metadata": {},
   "source": [
    "Модель на неизмененных данных. Возьмем метрику mape для оценки качества. Не забудем \"потюнить\" модель."
   ]
  },
  {
   "cell_type": "code",
   "execution_count": 7,
   "id": "78e32605",
   "metadata": {},
   "outputs": [
    {
     "name": "stdout",
     "output_type": "stream",
     "text": [
      "best_params: {'lambda_l1': 5, 'learning_rate': 0.05, 'n_estimators': 4000}\n"
     ]
    }
   ],
   "source": [
    "lgbm_base=LGBMRegressor(bagging_fraction=0.5, random_state=42)\n",
    "param_grid={'learning_rate':[0.01,0.05,0.1,0.2], 'n_estimators':[1000,2000, 4000], 'lambda_l1':[5,15,30]}\n",
    "gd=GridSearchCV(lgbm_base, param_grid, cv=5)\n",
    "with open(os.devnull, \"w\") as f, contextlib.redirect_stdout(f):\n",
    "    gd.fit(X, y)\n",
    "print(f'best_params: {gd.best_params_}')\n"
   ]
  },
  {
   "cell_type": "code",
   "execution_count": 8,
   "id": "e7c08e88",
   "metadata": {},
   "outputs": [
    {
     "name": "stdout",
     "output_type": "stream",
     "text": [
      "MAPE for base dataset: 0.1510772226181048\n"
     ]
    }
   ],
   "source": [
    "\n",
    "skf = StratifiedKFold(n_splits=4, random_state=42, shuffle=True)\n",
    "errors=[]\n",
    "with open(os.devnull, \"w\") as f, contextlib.redirect_stdout(f):\n",
    "    with warnings.catch_warnings():\n",
    "        warnings.simplefilter(\"ignore\")\n",
    "        for tr_ind, val_ind in skf.split(X, y):\n",
    "            lgbm_base=LGBMRegressor(bagging_fraction=0.5, **gd.best_params_, random_state=42)\n",
    "            lgbm_base.fit(X.loc[tr_ind,:], y.loc[tr_ind])\n",
    "            errors.append(mape(y.loc[val_ind],lgbm_base.predict(X.loc[val_ind,:])))\n",
    "print(f'MAPE for base dataset: {np.mean(errors)}')"
   ]
  },
  {
   "cell_type": "markdown",
   "id": "5e034c9d",
   "metadata": {},
   "source": [
    "Площадь кухни. Попробуем взять отношение площади кухни к общей площади. Также не забудем потюнить модель на новых данных."
   ]
  },
  {
   "cell_type": "code",
   "execution_count": 9,
   "id": "e5a73277",
   "metadata": {},
   "outputs": [],
   "source": [
    "with warnings.catch_warnings():\n",
    "    warnings.simplefilter(\"ignore\")    \n",
    "    X_k=X.copy()\n",
    "    y_k=y.copy()\n",
    "    X_k['kitchen_area']=X_k['kitchen_area']/X_k['total_area']"
   ]
  },
  {
   "cell_type": "code",
   "execution_count": 10,
   "id": "5ebd0213",
   "metadata": {},
   "outputs": [
    {
     "name": "stdout",
     "output_type": "stream",
     "text": [
      "MAPE for k dataset: 0.1518808150636886\n"
     ]
    }
   ],
   "source": [
    "skf = StratifiedKFold(n_splits=5, random_state=42, shuffle=True)\n",
    "errors_k=[]\n",
    "with open(os.devnull, \"w\") as f, contextlib.redirect_stdout(f):\n",
    "    with warnings.catch_warnings():\n",
    "        warnings.simplefilter(\"ignore\")\n",
    "        for tr_ind, val_ind in skf.split(X_k, y_k):\n",
    "            lgbm_k=LGBMRegressor(bagging_fraction=0.5, **gd.best_params_, random_state=42)\n",
    "            lgbm_k.fit(X_k.loc[tr_ind,:], y_k.loc[tr_ind])\n",
    "            errors_k.append(mape(y_k.loc[val_ind],lgbm_k.predict(X_k.loc[val_ind,:])))\n",
    "print(f'MAPE for k dataset: {np.mean(errors_k)}')"
   ]
  },
  {
   "cell_type": "markdown",
   "id": "5b928a9c",
   "metadata": {},
   "source": [
    "Не будем применять это изменение признака."
   ]
  },
  {
   "cell_type": "markdown",
   "id": "2a44de66",
   "metadata": {},
   "source": [
    "Количество этажей. Возьмем отношения этажа к количеству этажей и заменим этим признаком признак номера этажа."
   ]
  },
  {
   "cell_type": "code",
   "execution_count": 11,
   "id": "f3c43544",
   "metadata": {},
   "outputs": [],
   "source": [
    "with warnings.catch_warnings():\n",
    "    warnings.simplefilter(\"ignore\")    \n",
    "    X_f=X.copy()\n",
    "    y_f=y.copy()\n",
    "    X_f['num_floor']=X_f['num_floor']/X_f['floors']"
   ]
  },
  {
   "cell_type": "code",
   "execution_count": 12,
   "id": "1797d452",
   "metadata": {},
   "outputs": [
    {
     "name": "stdout",
     "output_type": "stream",
     "text": [
      "MAPE for f dataset: 0.1513629197642955\n"
     ]
    }
   ],
   "source": [
    "skf = StratifiedKFold(n_splits=5, random_state=42, shuffle=True)\n",
    "errors_f=[]\n",
    "with open(os.devnull, \"w\") as f, contextlib.redirect_stdout(f):\n",
    "    with warnings.catch_warnings():\n",
    "        warnings.simplefilter(\"ignore\")\n",
    "        for tr_ind, val_ind in skf.split(X_f, y_f):\n",
    "            lgbm_f=LGBMRegressor(bagging_fraction=0.5, **gd.best_params_, random_state=42)\n",
    "            lgbm_f.fit(X_f.loc[tr_ind,:], y_f.loc[tr_ind])\n",
    "            errors_f.append(mape(y_f.loc[val_ind],lgbm_f.predict(X_f.loc[val_ind,:])))\n",
    "print(f'MAPE for f dataset: {np.mean(errors_f)}')"
   ]
  },
  {
   "cell_type": "markdown",
   "id": "5d30b64b",
   "metadata": {},
   "source": [
    "Оставим это изменение признака. "
   ]
  },
  {
   "cell_type": "markdown",
   "id": "0a4e3dda",
   "metadata": {},
   "source": [
    "Дальность метро от центральной станции и дистанция до Кремля. Возьмем разность между ними."
   ]
  },
  {
   "cell_type": "code",
   "execution_count": 13,
   "id": "94495dc3",
   "metadata": {},
   "outputs": [],
   "source": [
    "with warnings.catch_warnings():\n",
    "    warnings.simplefilter(\"ignore\")    \n",
    "    X_m=X.copy()\n",
    "    y_m=y.copy()\n",
    "    X_m['metro_distance']=X_m['distance_to_Kremlin']-X_m['metro_distance']"
   ]
  },
  {
   "cell_type": "code",
   "execution_count": 14,
   "id": "906517f0",
   "metadata": {},
   "outputs": [
    {
     "name": "stdout",
     "output_type": "stream",
     "text": [
      "MAPE for f dataset: 0.1495809322355758\n"
     ]
    }
   ],
   "source": [
    "skf = StratifiedKFold(n_splits=5, random_state=42, shuffle=True)\n",
    "errors_m=[]\n",
    "with open(os.devnull, \"w\") as f, contextlib.redirect_stdout(f):\n",
    "    with warnings.catch_warnings():\n",
    "        warnings.simplefilter(\"ignore\")\n",
    "        for tr_ind, val_ind in skf.split(X_m, y_m):\n",
    "            lgbm_m=LGBMRegressor(bagging_fraction=0.5, **gd.best_params_, random_state=42)\n",
    "            lgbm_m.fit(X_m.loc[tr_ind,:], y_m.loc[tr_ind])\n",
    "            errors_m.append(mape(y_m.loc[val_ind],lgbm_m.predict(X_m.loc[val_ind,:])))\n",
    "print(f'MAPE for f dataset: {np.mean(errors_m)}')"
   ]
  },
  {
   "cell_type": "markdown",
   "id": "b2a106b9",
   "metadata": {},
   "source": [
    "Оставим и этот признак"
   ]
  },
  {
   "cell_type": "code",
   "execution_count": 15,
   "id": "b54097aa",
   "metadata": {},
   "outputs": [],
   "source": [
    "with warnings.catch_warnings():\n",
    "    warnings.simplefilter(\"ignore\")    \n",
    "    df_le['num_floor']=df_le['num_floor']/df_le['floors']\n",
    "    df_le['metro_distance']=df_le['distance_to_Kremlin']-df_le['metro_distance']"
   ]
  },
  {
   "cell_type": "markdown",
   "id": "ab781350",
   "metadata": {},
   "source": [
    "## Взаимодействия признаков."
   ]
  },
  {
   "cell_type": "markdown",
   "id": "f7a377df",
   "metadata": {},
   "source": [
    "Мы имеем такое количество признаков:"
   ]
  },
  {
   "cell_type": "code",
   "execution_count": 16,
   "id": "61128107",
   "metadata": {},
   "outputs": [
    {
     "data": {
      "text/plain": [
       "12"
      ]
     },
     "execution_count": 16,
     "metadata": {},
     "output_type": "execute_result"
    }
   ],
   "source": [
    "X.shape[1]"
   ]
  },
  {
   "cell_type": "code",
   "execution_count": 17,
   "id": "c58c52f1",
   "metadata": {},
   "outputs": [
    {
     "data": {
      "text/plain": [
       "Index(['time_to_metro', 'num_rooms', 'total_area', 'year_house',\n",
       "       'kitchen_area', 'repair', 'floors', 'num_floor', 'distance_to_Kremlin',\n",
       "       'district', 'metro_line', 'metro_distance'],\n",
       "      dtype='object')"
      ]
     },
     "execution_count": 17,
     "metadata": {},
     "output_type": "execute_result"
    }
   ],
   "source": [
    "X.columns"
   ]
  },
  {
   "cell_type": "markdown",
   "id": "cc9e0df2",
   "metadata": {},
   "source": [
    "Если брать всевозможные взаимодействия, то получим 12! признаков, что много. Тогда будем руководствоваться логикой. Ничего страшного, если добавим лишний признак, мы потом отберем эти признаки."
   ]
  },
  {
   "cell_type": "markdown",
   "id": "3fc55f2e",
   "metadata": {},
   "source": [
    "Взаимодействие времени до метро и района."
   ]
  },
  {
   "cell_type": "code",
   "execution_count": 18,
   "id": "ef9ea113",
   "metadata": {},
   "outputs": [],
   "source": [
    "df_le['distr*time']=df_le['district']*df_le['time_to_metro']\n",
    "df_mte['distr*time']=df_mte['district']*df_mte['time_to_metro']"
   ]
  },
  {
   "cell_type": "markdown",
   "id": "83c95a09",
   "metadata": {},
   "source": [
    "Взаимодействие времени до метро и расстояния до Кремля."
   ]
  },
  {
   "cell_type": "code",
   "execution_count": 19,
   "id": "84f28ea3",
   "metadata": {},
   "outputs": [],
   "source": [
    "df_le['Kre*time']=df_le['distance_to_Kremlin']*df_le['time_to_metro']\n",
    "df_mte['Kre*time']=df_mte['distance_to_Kremlin']*df_mte['time_to_metro']"
   ]
  },
  {
   "cell_type": "markdown",
   "id": "6ca1e283",
   "metadata": {},
   "source": [
    "Взаимодействие общей площади и расстояния до Кремля."
   ]
  },
  {
   "cell_type": "code",
   "execution_count": 20,
   "id": "be8bb2cd",
   "metadata": {},
   "outputs": [],
   "source": [
    "df_le['Kre*area']=df_le['distance_to_Kremlin']*df_le['total_area']\n",
    "df_mte['Kre*area']=df_mte['distance_to_Kremlin']*df_mte['total_area']"
   ]
  },
  {
   "cell_type": "markdown",
   "id": "ba6f5de7",
   "metadata": {},
   "source": [
    "Взаимодействие общей площади и года постройки дома."
   ]
  },
  {
   "cell_type": "code",
   "execution_count": 21,
   "id": "ed1e262c",
   "metadata": {},
   "outputs": [],
   "source": [
    "df_le['year*area']=df_le['year_house']*df_le['total_area']\n",
    "df_mte['year*area']=df_mte['year_house']*df_mte['total_area']"
   ]
  },
  {
   "cell_type": "markdown",
   "id": "0a1e3153",
   "metadata": {},
   "source": [
    "Взаимодействие ремонта и года постройки дома."
   ]
  },
  {
   "cell_type": "code",
   "execution_count": 22,
   "id": "dbcce7f4",
   "metadata": {},
   "outputs": [],
   "source": [
    "df_le['year*repair']=df_le['year_house']*df_le['repair']\n",
    "df_mte['year*repair']=df_mte['year_house']*df_mte['repair']"
   ]
  },
  {
   "cell_type": "markdown",
   "id": "f03994e4",
   "metadata": {},
   "source": [
    "Взаимодействие количества этажей и года постройки"
   ]
  },
  {
   "cell_type": "code",
   "execution_count": 23,
   "id": "36d481f5",
   "metadata": {},
   "outputs": [],
   "source": [
    "df_le['year*floors']=df_le['year_house']*df_le['floors']\n",
    "df_mte['year*floors']=df_mte['year_house']*df_mte['floors']"
   ]
  },
  {
   "cell_type": "markdown",
   "id": "6bac1774",
   "metadata": {},
   "source": [
    "Взаимодействие общей площади и количества комнат. Отношение общей площади к колиечтсву комнат+1"
   ]
  },
  {
   "cell_type": "code",
   "execution_count": 24,
   "id": "b7c7d79f",
   "metadata": {},
   "outputs": [],
   "source": [
    "with warnings.catch_warnings():\n",
    "    warnings.simplefilter(\"ignore\")  \n",
    "    df_le['area/num+1']=df_le['total_area']/(df_le['num_rooms']+np.array([1]*df_le.shape[0]))\n",
    "    df_mte['area/num+1']=df_mte['total_area']/(df_mte['num_rooms']+np.array([1]*df_mte.shape[0]))"
   ]
  },
  {
   "cell_type": "markdown",
   "id": "03dd4a56",
   "metadata": {},
   "source": [
    "## Итоговый датафрейм"
   ]
  },
  {
   "cell_type": "code",
   "execution_count": 25,
   "id": "797ee223",
   "metadata": {},
   "outputs": [
    {
     "data": {
      "text/html": [
       "<div>\n",
       "<style scoped>\n",
       "    .dataframe tbody tr th:only-of-type {\n",
       "        vertical-align: middle;\n",
       "    }\n",
       "\n",
       "    .dataframe tbody tr th {\n",
       "        vertical-align: top;\n",
       "    }\n",
       "\n",
       "    .dataframe thead th {\n",
       "        text-align: right;\n",
       "    }\n",
       "</style>\n",
       "<table border=\"1\" class=\"dataframe\">\n",
       "  <thead>\n",
       "    <tr style=\"text-align: right;\">\n",
       "      <th></th>\n",
       "      <th>metro_name</th>\n",
       "      <th>time_to_metro</th>\n",
       "      <th>num_rooms</th>\n",
       "      <th>total_area</th>\n",
       "      <th>year_house</th>\n",
       "      <th>kitchen_area</th>\n",
       "      <th>repair</th>\n",
       "      <th>price</th>\n",
       "      <th>floors</th>\n",
       "      <th>num_floor</th>\n",
       "      <th>...</th>\n",
       "      <th>district</th>\n",
       "      <th>metro_line</th>\n",
       "      <th>metro_distance</th>\n",
       "      <th>distr*time</th>\n",
       "      <th>Kre*time</th>\n",
       "      <th>Kre*area</th>\n",
       "      <th>year*area</th>\n",
       "      <th>year*repair</th>\n",
       "      <th>year*floors</th>\n",
       "      <th>area/num+1</th>\n",
       "    </tr>\n",
       "  </thead>\n",
       "  <tbody>\n",
       "    <tr>\n",
       "      <th>0</th>\n",
       "      <td>Ясенево</td>\n",
       "      <td>8.0</td>\n",
       "      <td>0</td>\n",
       "      <td>26.0</td>\n",
       "      <td>1700.0</td>\n",
       "      <td>0.0</td>\n",
       "      <td>1</td>\n",
       "      <td>3174900.0</td>\n",
       "      <td>16.0</td>\n",
       "      <td>1.000000</td>\n",
       "      <td>...</td>\n",
       "      <td>19</td>\n",
       "      <td>7</td>\n",
       "      <td>5.62</td>\n",
       "      <td>152.0</td>\n",
       "      <td>140.96</td>\n",
       "      <td>458.12</td>\n",
       "      <td>44200.0</td>\n",
       "      <td>1700.0</td>\n",
       "      <td>27200.0</td>\n",
       "      <td>26.0</td>\n",
       "    </tr>\n",
       "    <tr>\n",
       "      <th>1</th>\n",
       "      <td>Улица академика Янгеля</td>\n",
       "      <td>31.0</td>\n",
       "      <td>0</td>\n",
       "      <td>10.0</td>\n",
       "      <td>1973.0</td>\n",
       "      <td>0.0</td>\n",
       "      <td>2</td>\n",
       "      <td>2500000.0</td>\n",
       "      <td>12.0</td>\n",
       "      <td>0.083333</td>\n",
       "      <td>...</td>\n",
       "      <td>2</td>\n",
       "      <td>6</td>\n",
       "      <td>8.76</td>\n",
       "      <td>62.0</td>\n",
       "      <td>550.56</td>\n",
       "      <td>177.60</td>\n",
       "      <td>19730.0</td>\n",
       "      <td>3946.0</td>\n",
       "      <td>23676.0</td>\n",
       "      <td>10.0</td>\n",
       "    </tr>\n",
       "    <tr>\n",
       "      <th>2</th>\n",
       "      <td>Братиславская</td>\n",
       "      <td>25.5</td>\n",
       "      <td>0</td>\n",
       "      <td>14.5</td>\n",
       "      <td>1700.0</td>\n",
       "      <td>0.0</td>\n",
       "      <td>0</td>\n",
       "      <td>5700000.0</td>\n",
       "      <td>26.0</td>\n",
       "      <td>0.346154</td>\n",
       "      <td>...</td>\n",
       "      <td>12</td>\n",
       "      <td>3</td>\n",
       "      <td>4.96</td>\n",
       "      <td>306.0</td>\n",
       "      <td>304.98</td>\n",
       "      <td>173.42</td>\n",
       "      <td>24650.0</td>\n",
       "      <td>0.0</td>\n",
       "      <td>44200.0</td>\n",
       "      <td>14.5</td>\n",
       "    </tr>\n",
       "    <tr>\n",
       "      <th>3</th>\n",
       "      <td>Панфиловская</td>\n",
       "      <td>8.0</td>\n",
       "      <td>0</td>\n",
       "      <td>8.0</td>\n",
       "      <td>1960.0</td>\n",
       "      <td>0.0</td>\n",
       "      <td>3</td>\n",
       "      <td>4900000.0</td>\n",
       "      <td>1.0</td>\n",
       "      <td>1.000000</td>\n",
       "      <td>...</td>\n",
       "      <td>124</td>\n",
       "      <td>4</td>\n",
       "      <td>3.59</td>\n",
       "      <td>992.0</td>\n",
       "      <td>76.72</td>\n",
       "      <td>76.72</td>\n",
       "      <td>15680.0</td>\n",
       "      <td>5880.0</td>\n",
       "      <td>1960.0</td>\n",
       "      <td>8.0</td>\n",
       "    </tr>\n",
       "    <tr>\n",
       "      <th>4</th>\n",
       "      <td>Рассказовка</td>\n",
       "      <td>31.0</td>\n",
       "      <td>0</td>\n",
       "      <td>20.0</td>\n",
       "      <td>2012.0</td>\n",
       "      <td>0.0</td>\n",
       "      <td>0</td>\n",
       "      <td>3290000.0</td>\n",
       "      <td>3.0</td>\n",
       "      <td>0.666667</td>\n",
       "      <td>...</td>\n",
       "      <td>42</td>\n",
       "      <td>11</td>\n",
       "      <td>10.62</td>\n",
       "      <td>1302.0</td>\n",
       "      <td>670.22</td>\n",
       "      <td>432.40</td>\n",
       "      <td>40240.0</td>\n",
       "      <td>0.0</td>\n",
       "      <td>6036.0</td>\n",
       "      <td>20.0</td>\n",
       "    </tr>\n",
       "  </tbody>\n",
       "</table>\n",
       "<p>5 rows × 26 columns</p>\n",
       "</div>"
      ],
      "text/plain": [
       "               metro_name  time_to_metro  num_rooms  total_area  year_house  \\\n",
       "0                 Ясенево            8.0          0        26.0      1700.0   \n",
       "1  Улица академика Янгеля           31.0          0        10.0      1973.0   \n",
       "2           Братиславская           25.5          0        14.5      1700.0   \n",
       "3            Панфиловская            8.0          0         8.0      1960.0   \n",
       "4             Рассказовка           31.0          0        20.0      2012.0   \n",
       "\n",
       "   kitchen_area  repair      price  floors  num_floor  ... district  \\\n",
       "0           0.0       1  3174900.0    16.0   1.000000  ...       19   \n",
       "1           0.0       2  2500000.0    12.0   0.083333  ...        2   \n",
       "2           0.0       0  5700000.0    26.0   0.346154  ...       12   \n",
       "3           0.0       3  4900000.0     1.0   1.000000  ...      124   \n",
       "4           0.0       0  3290000.0     3.0   0.666667  ...       42   \n",
       "\n",
       "   metro_line  metro_distance  distr*time Kre*time  Kre*area  year*area  \\\n",
       "0           7            5.62       152.0   140.96    458.12    44200.0   \n",
       "1           6            8.76        62.0   550.56    177.60    19730.0   \n",
       "2           3            4.96       306.0   304.98    173.42    24650.0   \n",
       "3           4            3.59       992.0    76.72     76.72    15680.0   \n",
       "4          11           10.62      1302.0   670.22    432.40    40240.0   \n",
       "\n",
       "   year*repair  year*floors  area/num+1  \n",
       "0       1700.0      27200.0        26.0  \n",
       "1       3946.0      23676.0        10.0  \n",
       "2          0.0      44200.0        14.5  \n",
       "3       5880.0       1960.0         8.0  \n",
       "4          0.0       6036.0        20.0  \n",
       "\n",
       "[5 rows x 26 columns]"
      ]
     },
     "execution_count": 25,
     "metadata": {},
     "output_type": "execute_result"
    }
   ],
   "source": [
    "df_le.head()"
   ]
  },
  {
   "cell_type": "code",
   "execution_count": 26,
   "id": "2860f140",
   "metadata": {},
   "outputs": [
    {
     "data": {
      "text/plain": [
       "Index(['metro_name', 'time_to_metro', 'num_rooms', 'total_area', 'year_house',\n",
       "       'kitchen_area', 'repair', 'price', 'floors', 'num_floor', 'address',\n",
       "       'date', 'coord_width', 'coord_len', 'link', 'distance_to_Kremlin',\n",
       "       'district', 'metro_line', 'metro_distance', 'distr*time', 'Kre*time',\n",
       "       'Kre*area', 'year*area', 'year*repair', 'year*floors', 'area/num+1'],\n",
       "      dtype='object')"
      ]
     },
     "execution_count": 26,
     "metadata": {},
     "output_type": "execute_result"
    }
   ],
   "source": [
    "df_le.columns"
   ]
  },
  {
   "cell_type": "markdown",
   "id": "6845340c",
   "metadata": {},
   "source": [
    "## Сохранение данных"
   ]
  },
  {
   "cell_type": "code",
   "execution_count": 27,
   "id": "b3f01932",
   "metadata": {},
   "outputs": [],
   "source": [
    "df_le.to_csv(r\"C:\\Users\\Stepan\\Desktop\\ВУЗ\\Клиент-серверные\\папка датафреймов\\df_after_feat_eng_le.csv\")\n",
    "df_mte.to_csv(r\"C:\\Users\\Stepan\\Desktop\\ВУЗ\\Клиент-серверные\\папка датафреймов\\df_after_feat_eng_mte.csv\")"
   ]
  }
 ],
 "metadata": {
  "kernelspec": {
   "display_name": "Python 3 (ipykernel)",
   "language": "python",
   "name": "python3"
  },
  "language_info": {
   "codemirror_mode": {
    "name": "ipython",
    "version": 3
   },
   "file_extension": ".py",
   "mimetype": "text/x-python",
   "name": "python",
   "nbconvert_exporter": "python",
   "pygments_lexer": "ipython3",
   "version": "3.9.12"
  }
 },
 "nbformat": 4,
 "nbformat_minor": 5
}
