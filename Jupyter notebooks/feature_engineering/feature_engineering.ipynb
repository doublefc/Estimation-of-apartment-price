{
 "cells": [
  {
   "cell_type": "markdown",
   "id": "f5a662e1",
   "metadata": {},
   "source": [
    "## Импорт библиотек"
   ]
  },
  {
   "cell_type": "code",
   "execution_count": 1,
   "id": "47e69b45",
   "metadata": {},
   "outputs": [],
   "source": [
    "import pandas as pd\n",
    "import numpy as np\n",
    "import seaborn as sns\n",
    "from lightgbm import LGBMRegressor\n",
    "from sklearn.model_selection import GridSearchCV\n",
    "import os\n",
    "import contextlib\n",
    "from sklearn.metrics import mean_absolute_percentage_error as mape\n",
    "from sklearn.model_selection import train_test_split\n",
    "import warnings\n",
    "from sklearn.model_selection import StratifiedKFold"
   ]
  },
  {
   "cell_type": "markdown",
   "id": "e4ba5c2c",
   "metadata": {},
   "source": [
    "## Загрузка данных"
   ]
  },
  {
   "cell_type": "code",
   "execution_count": 2,
   "id": "5d97031e",
   "metadata": {},
   "outputs": [
    {
     "data": {
      "text/html": [
       "<div>\n",
       "<style scoped>\n",
       "    .dataframe tbody tr th:only-of-type {\n",
       "        vertical-align: middle;\n",
       "    }\n",
       "\n",
       "    .dataframe tbody tr th {\n",
       "        vertical-align: top;\n",
       "    }\n",
       "\n",
       "    .dataframe thead th {\n",
       "        text-align: right;\n",
       "    }\n",
       "</style>\n",
       "<table border=\"1\" class=\"dataframe\">\n",
       "  <thead>\n",
       "    <tr style=\"text-align: right;\">\n",
       "      <th></th>\n",
       "      <th>metro_name</th>\n",
       "      <th>time_to_metro</th>\n",
       "      <th>num_rooms</th>\n",
       "      <th>total_area</th>\n",
       "      <th>year_house</th>\n",
       "      <th>kitchen_area</th>\n",
       "      <th>repair</th>\n",
       "      <th>price</th>\n",
       "      <th>floors</th>\n",
       "      <th>num_floor</th>\n",
       "      <th>address</th>\n",
       "      <th>date</th>\n",
       "      <th>coord_width</th>\n",
       "      <th>coord_len</th>\n",
       "      <th>link</th>\n",
       "      <th>distance_to_Kremlin</th>\n",
       "      <th>district</th>\n",
       "      <th>metro_line</th>\n",
       "      <th>metro_distance</th>\n",
       "    </tr>\n",
       "  </thead>\n",
       "  <tbody>\n",
       "    <tr>\n",
       "      <th>406</th>\n",
       "      <td>Римская</td>\n",
       "      <td>13.0</td>\n",
       "      <td>1.027881e+07</td>\n",
       "      <td>8.5</td>\n",
       "      <td>1961.0</td>\n",
       "      <td>0.0</td>\n",
       "      <td>2.299117e+07</td>\n",
       "      <td>4350000.0</td>\n",
       "      <td>8.0</td>\n",
       "      <td>1.0</td>\n",
       "      <td>Москва, Нижегородская ул., 13А</td>\n",
       "      <td>21</td>\n",
       "      <td>55.738328</td>\n",
       "      <td>37.687713</td>\n",
       "      <td>https://www.avito.ru/moskva/kvartiry/kvartira-...</td>\n",
       "      <td>4.55</td>\n",
       "      <td>3.387433e+07</td>\n",
       "      <td>2.451582e+07</td>\n",
       "      <td>0</td>\n",
       "    </tr>\n",
       "    <tr>\n",
       "      <th>25603</th>\n",
       "      <td>Некрасовка</td>\n",
       "      <td>7.5</td>\n",
       "      <td>1.555949e+07</td>\n",
       "      <td>18.0</td>\n",
       "      <td>2022.0</td>\n",
       "      <td>8.0</td>\n",
       "      <td>2.299117e+07</td>\n",
       "      <td>9500000.0</td>\n",
       "      <td>23.0</td>\n",
       "      <td>9.0</td>\n",
       "      <td>Москва, улица Маресьева, 6к1</td>\n",
       "      <td>121</td>\n",
       "      <td>55.709880</td>\n",
       "      <td>37.936232</td>\n",
       "      <td>https://avito.ru//moskva/kvartiry/1-k._kvartir...</td>\n",
       "      <td>20.41</td>\n",
       "      <td>1.518474e+07</td>\n",
       "      <td>1.812523e+07</td>\n",
       "      <td>8</td>\n",
       "    </tr>\n",
       "    <tr>\n",
       "      <th>1476</th>\n",
       "      <td>Ботанический сад</td>\n",
       "      <td>18.0</td>\n",
       "      <td>1.555949e+07</td>\n",
       "      <td>27.0</td>\n",
       "      <td>1700.0</td>\n",
       "      <td>8.0</td>\n",
       "      <td>2.299117e+07</td>\n",
       "      <td>9950000.0</td>\n",
       "      <td>11.0</td>\n",
       "      <td>5.0</td>\n",
       "      <td>Москва, Берёзовая аллея, 17к1</td>\n",
       "      <td>16</td>\n",
       "      <td>55.850914</td>\n",
       "      <td>37.617536</td>\n",
       "      <td>https://www.avito.ru/moskva/kvartiry/1-k._kvar...</td>\n",
       "      <td>11.06</td>\n",
       "      <td>2.493670e+07</td>\n",
       "      <td>3.042966e+07</td>\n",
       "      <td>4</td>\n",
       "    </tr>\n",
       "    <tr>\n",
       "      <th>15098</th>\n",
       "      <td>NaN</td>\n",
       "      <td>15.5</td>\n",
       "      <td>2.651027e+07</td>\n",
       "      <td>26.5</td>\n",
       "      <td>1973.0</td>\n",
       "      <td>3.0</td>\n",
       "      <td>3.579406e+07</td>\n",
       "      <td>9950000.0</td>\n",
       "      <td>9.0</td>\n",
       "      <td>5.0</td>\n",
       "      <td>Москва, Хабаровская ул., 18к1</td>\n",
       "      <td>131</td>\n",
       "      <td>55.824471</td>\n",
       "      <td>37.826512</td>\n",
       "      <td>https://avito.ru//moskva/kvartiry/3-k._kvartir...</td>\n",
       "      <td>15.31</td>\n",
       "      <td>1.472755e+07</td>\n",
       "      <td>2.497894e+07</td>\n",
       "      <td>6</td>\n",
       "    </tr>\n",
       "    <tr>\n",
       "      <th>3092</th>\n",
       "      <td>Цветной бульвар</td>\n",
       "      <td>8.0</td>\n",
       "      <td>1.996163e+07</td>\n",
       "      <td>34.5</td>\n",
       "      <td>1912.0</td>\n",
       "      <td>10.0</td>\n",
       "      <td>5.234562e+07</td>\n",
       "      <td>37500000.0</td>\n",
       "      <td>6.0</td>\n",
       "      <td>2.0</td>\n",
       "      <td>Москва, Средний Каретный пер., 4</td>\n",
       "      <td>15</td>\n",
       "      <td>55.770542</td>\n",
       "      <td>37.615380</td>\n",
       "      <td>https://www.avito.ru/moskva/kvartiry/2-k._kvar...</td>\n",
       "      <td>2.13</td>\n",
       "      <td>6.647645e+07</td>\n",
       "      <td>2.633074e+07</td>\n",
       "      <td>4</td>\n",
       "    </tr>\n",
       "  </tbody>\n",
       "</table>\n",
       "</div>"
      ],
      "text/plain": [
       "             metro_name  time_to_metro     num_rooms  total_area  year_house  \\\n",
       "406             Римская           13.0  1.027881e+07         8.5      1961.0   \n",
       "25603        Некрасовка            7.5  1.555949e+07        18.0      2022.0   \n",
       "1476   Ботанический сад           18.0  1.555949e+07        27.0      1700.0   \n",
       "15098               NaN           15.5  2.651027e+07        26.5      1973.0   \n",
       "3092    Цветной бульвар            8.0  1.996163e+07        34.5      1912.0   \n",
       "\n",
       "       kitchen_area        repair       price  floors  num_floor  \\\n",
       "406             0.0  2.299117e+07   4350000.0     8.0        1.0   \n",
       "25603           8.0  2.299117e+07   9500000.0    23.0        9.0   \n",
       "1476            8.0  2.299117e+07   9950000.0    11.0        5.0   \n",
       "15098           3.0  3.579406e+07   9950000.0     9.0        5.0   \n",
       "3092           10.0  5.234562e+07  37500000.0     6.0        2.0   \n",
       "\n",
       "                                address  date  coord_width  coord_len  \\\n",
       "406      Москва, Нижегородская ул., 13А    21    55.738328  37.687713   \n",
       "25603      Москва, улица Маресьева, 6к1   121    55.709880  37.936232   \n",
       "1476      Москва, Берёзовая аллея, 17к1    16    55.850914  37.617536   \n",
       "15098     Москва, Хабаровская ул., 18к1   131    55.824471  37.826512   \n",
       "3092   Москва, Средний Каретный пер., 4    15    55.770542  37.615380   \n",
       "\n",
       "                                                    link  distance_to_Kremlin  \\\n",
       "406    https://www.avito.ru/moskva/kvartiry/kvartira-...                 4.55   \n",
       "25603  https://avito.ru//moskva/kvartiry/1-k._kvartir...                20.41   \n",
       "1476   https://www.avito.ru/moskva/kvartiry/1-k._kvar...                11.06   \n",
       "15098  https://avito.ru//moskva/kvartiry/3-k._kvartir...                15.31   \n",
       "3092   https://www.avito.ru/moskva/kvartiry/2-k._kvar...                 2.13   \n",
       "\n",
       "           district    metro_line  metro_distance  \n",
       "406    3.387433e+07  2.451582e+07               0  \n",
       "25603  1.518474e+07  1.812523e+07               8  \n",
       "1476   2.493670e+07  3.042966e+07               4  \n",
       "15098  1.472755e+07  2.497894e+07               6  \n",
       "3092   6.647645e+07  2.633074e+07               4  "
      ]
     },
     "execution_count": 2,
     "metadata": {},
     "output_type": "execute_result"
    }
   ],
   "source": [
    "df_le=pd.read_csv(r\"C:\\Users\\Stepan\\Desktop\\ВУЗ\\Клиент-серверные\\папка датафреймов\\df_after_encoding_le.csv\")\n",
    "df_mte=pd.read_csv(r\"C:\\Users\\Stepan\\Desktop\\ВУЗ\\Клиент-серверные\\папка датафреймов\\df_after_encoding_mte.csv\")\n",
    "df_le=df_le.drop('Unnamed: 0', axis=1)\n",
    "df_mte=df_mte.drop('Unnamed: 0', axis=1)\n",
    "df_mte.sample(5)"
   ]
  },
  {
   "cell_type": "markdown",
   "id": "9ef8d3e8",
   "metadata": {},
   "source": [
    "Будем использовать le кодировку, так как мы работает с lightgbm"
   ]
  },
  {
   "cell_type": "code",
   "execution_count": 4,
   "id": "1adba045",
   "metadata": {},
   "outputs": [],
   "source": [
    "X, y=df_mte.drop(['metro_name','coord_width', 'coord_len','link','date','address','price'], axis=1), df_le['price']"
   ]
  },
  {
   "cell_type": "markdown",
   "id": "f13d0efd",
   "metadata": {},
   "source": [
    "## Зависимость между числовыми признаками"
   ]
  },
  {
   "cell_type": "markdown",
   "id": "a26f187c",
   "metadata": {},
   "source": [
    "Определим список числовых переменных. Количество этажей отнесем к числовым, хотя по смыслу этот признак ближе к категориальныму, потому что все-таки категории довольно размыты из-за большого количества этажей, также нет верхнего предела этажей."
   ]
  },
  {
   "cell_type": "code",
   "execution_count": 4,
   "id": "0b2bcca6",
   "metadata": {},
   "outputs": [],
   "source": [
    "num_col=['time_to_metro','total_area','kitchen_area','floors','num_floor', 'distance_to_Kremlin', 'metro_distance']"
   ]
  },
  {
   "cell_type": "markdown",
   "id": "c2db2bf5",
   "metadata": {},
   "source": [
    "Таблица корреляции."
   ]
  },
  {
   "cell_type": "code",
   "execution_count": 5,
   "id": "3fb38a07",
   "metadata": {},
   "outputs": [
    {
     "data": {
      "text/html": [
       "<div>\n",
       "<style scoped>\n",
       "    .dataframe tbody tr th:only-of-type {\n",
       "        vertical-align: middle;\n",
       "    }\n",
       "\n",
       "    .dataframe tbody tr th {\n",
       "        vertical-align: top;\n",
       "    }\n",
       "\n",
       "    .dataframe thead th {\n",
       "        text-align: right;\n",
       "    }\n",
       "</style>\n",
       "<table border=\"1\" class=\"dataframe\">\n",
       "  <thead>\n",
       "    <tr style=\"text-align: right;\">\n",
       "      <th></th>\n",
       "      <th>time_to_metro</th>\n",
       "      <th>total_area</th>\n",
       "      <th>kitchen_area</th>\n",
       "      <th>floors</th>\n",
       "      <th>num_floor</th>\n",
       "      <th>distance_to_Kremlin</th>\n",
       "      <th>metro_distance</th>\n",
       "    </tr>\n",
       "  </thead>\n",
       "  <tbody>\n",
       "    <tr>\n",
       "      <th>time_to_metro</th>\n",
       "      <td>1.000000</td>\n",
       "      <td>0.069971</td>\n",
       "      <td>0.051028</td>\n",
       "      <td>-0.031994</td>\n",
       "      <td>-0.042522</td>\n",
       "      <td>0.105619</td>\n",
       "      <td>0.212336</td>\n",
       "    </tr>\n",
       "    <tr>\n",
       "      <th>total_area</th>\n",
       "      <td>0.069971</td>\n",
       "      <td>1.000000</td>\n",
       "      <td>0.606705</td>\n",
       "      <td>0.023827</td>\n",
       "      <td>0.068075</td>\n",
       "      <td>-0.303391</td>\n",
       "      <td>-0.251984</td>\n",
       "    </tr>\n",
       "    <tr>\n",
       "      <th>kitchen_area</th>\n",
       "      <td>0.051028</td>\n",
       "      <td>0.606705</td>\n",
       "      <td>1.000000</td>\n",
       "      <td>0.163974</td>\n",
       "      <td>0.169024</td>\n",
       "      <td>-0.202453</td>\n",
       "      <td>-0.152425</td>\n",
       "    </tr>\n",
       "    <tr>\n",
       "      <th>floors</th>\n",
       "      <td>-0.031994</td>\n",
       "      <td>0.023827</td>\n",
       "      <td>0.163974</td>\n",
       "      <td>1.000000</td>\n",
       "      <td>0.690344</td>\n",
       "      <td>-0.052494</td>\n",
       "      <td>0.038615</td>\n",
       "    </tr>\n",
       "    <tr>\n",
       "      <th>num_floor</th>\n",
       "      <td>-0.042522</td>\n",
       "      <td>0.068075</td>\n",
       "      <td>0.169024</td>\n",
       "      <td>0.690344</td>\n",
       "      <td>1.000000</td>\n",
       "      <td>-0.041262</td>\n",
       "      <td>0.017784</td>\n",
       "    </tr>\n",
       "    <tr>\n",
       "      <th>distance_to_Kremlin</th>\n",
       "      <td>0.105619</td>\n",
       "      <td>-0.303391</td>\n",
       "      <td>-0.202453</td>\n",
       "      <td>-0.052494</td>\n",
       "      <td>-0.041262</td>\n",
       "      <td>1.000000</td>\n",
       "      <td>0.606773</td>\n",
       "    </tr>\n",
       "    <tr>\n",
       "      <th>metro_distance</th>\n",
       "      <td>0.212336</td>\n",
       "      <td>-0.251984</td>\n",
       "      <td>-0.152425</td>\n",
       "      <td>0.038615</td>\n",
       "      <td>0.017784</td>\n",
       "      <td>0.606773</td>\n",
       "      <td>1.000000</td>\n",
       "    </tr>\n",
       "  </tbody>\n",
       "</table>\n",
       "</div>"
      ],
      "text/plain": [
       "                     time_to_metro  total_area  kitchen_area    floors  \\\n",
       "time_to_metro             1.000000    0.069971      0.051028 -0.031994   \n",
       "total_area                0.069971    1.000000      0.606705  0.023827   \n",
       "kitchen_area              0.051028    0.606705      1.000000  0.163974   \n",
       "floors                   -0.031994    0.023827      0.163974  1.000000   \n",
       "num_floor                -0.042522    0.068075      0.169024  0.690344   \n",
       "distance_to_Kremlin       0.105619   -0.303391     -0.202453 -0.052494   \n",
       "metro_distance            0.212336   -0.251984     -0.152425  0.038615   \n",
       "\n",
       "                     num_floor  distance_to_Kremlin  metro_distance  \n",
       "time_to_metro        -0.042522             0.105619        0.212336  \n",
       "total_area            0.068075            -0.303391       -0.251984  \n",
       "kitchen_area          0.169024            -0.202453       -0.152425  \n",
       "floors                0.690344            -0.052494        0.038615  \n",
       "num_floor             1.000000            -0.041262        0.017784  \n",
       "distance_to_Kremlin  -0.041262             1.000000        0.606773  \n",
       "metro_distance        0.017784             0.606773        1.000000  "
      ]
     },
     "execution_count": 5,
     "metadata": {},
     "output_type": "execute_result"
    }
   ],
   "source": [
    "X[num_col].corr()"
   ]
  },
  {
   "cell_type": "markdown",
   "id": "b13cfa1b",
   "metadata": {},
   "source": [
    "Визуализация"
   ]
  },
  {
   "cell_type": "code",
   "execution_count": 6,
   "id": "153068c2",
   "metadata": {},
   "outputs": [
    {
     "data": {
      "text/plain": [
       "<AxesSubplot:>"
      ]
     },
     "execution_count": 6,
     "metadata": {},
     "output_type": "execute_result"
    },
    {
     "data": {
      "image/png": "[encoded data removed]",
      "text/plain": [
       "<Figure size 432x288 with 2 Axes>"
      ]
     },
     "metadata": {
      "needs_background": "light"
     },
     "output_type": "display_data"
    }
   ],
   "source": [
    "sns.heatmap(X[num_col].corr())"
   ]
  },
  {
   "cell_type": "markdown",
   "id": "81c128e4",
   "metadata": {},
   "source": [
    "## Работа с признаками"
   ]
  },
  {
   "cell_type": "markdown",
   "id": "a6953ea7",
   "metadata": {},
   "source": [
    "Преобразуем некоторые признаки, между которыми есть прямая зависимость, когда один признак вытекает из другого. И протестируем улучшается ли качество модели после этого преобразования."
   ]
  },
  {
   "cell_type": "markdown",
   "id": "7af94d0a",
   "metadata": {},
   "source": [
    "Модель на неизмененных данных. Возьмем метрику mape для оценки качества. Не забудем \"потюнить\" модель."
   ]
  },
  {
   "cell_type": "code",
   "execution_count": 7,
   "id": "78e32605",
   "metadata": {},
   "outputs": [
    {
     "name": "stdout",
     "output_type": "stream",
     "text": [
      "best_params: {'lambda_l1': 5, 'learning_rate': 0.05, 'n_estimators': 4000}\n"
     ]
    }
   ],
   "source": [
    "lgbm_base=LGBMRegressor(bagging_fraction=0.5, random_state=42)\n",
    "param_grid={'learning_rate':[0.01,0.05,0.1,0.2], 'n_estimators':[1000,2000, 4000], 'lambda_l1':[5,15,30]}\n",
    "gd=GridSearchCV(lgbm_base, param_grid, cv=5)\n",
    "with open(os.devnull, \"w\") as f, contextlib.redirect_stdout(f):\n",
    "    gd.fit(X, y)\n",
    "print(f'best_params: {gd.best_params_}')\n"
   ]
  },
  {
   "cell_type": "code",
   "execution_count": 8,
   "id": "e7c08e88",
   "metadata": {},
   "outputs": [
    {
     "name": "stdout",
     "output_type": "stream",
     "text": [
      "MAPE for base dataset: 0.15107854151951636\n"
     ]
    }
   ],
   "source": [
    "\n",
    "skf = StratifiedKFold(n_splits=4, random_state=42, shuffle=True)\n",
    "errors=[]\n",
    "with open(os.devnull, \"w\") as f, contextlib.redirect_stdout(f):\n",
    "    with warnings.catch_warnings():\n",
    "        warnings.simplefilter(\"ignore\")\n",
    "        for tr_ind, val_ind in skf.split(X, y):\n",
    "            lgbm_base=LGBMRegressor(bagging_fraction=0.5, **gd.best_params_, random_state=42)\n",
    "            lgbm_base.fit(X.loc[tr_ind,:], y.loc[tr_ind])\n",
    "            errors.append(mape(y.loc[val_ind],lgbm_base.predict(X.loc[val_ind,:])))\n",
    "print(f'MAPE for base dataset: {np.mean(errors)}')"
   ]
  },
  {
   "cell_type": "markdown",
   "id": "5e034c9d",
   "metadata": {},
   "source": [
    "Площадь кухни. Попробуем взять отношение площади кухни к общей площади. Также не забудем потюнить модель на новых данных."
   ]
  },
  {
   "cell_type": "code",
   "execution_count": 9,
   "id": "e5a73277",
   "metadata": {},
   "outputs": [],
   "source": [
    "with warnings.catch_warnings():\n",
    "    warnings.simplefilter(\"ignore\")    \n",
    "    X_k=X.copy()\n",
    "    y_k=y.copy()\n",
    "    X_k['kitchen_area']=X_k['kitchen_area']/X_k['total_area']"
   ]
  },
  {
   "cell_type": "code",
   "execution_count": 10,
   "id": "5ebd0213",
   "metadata": {},
   "outputs": [
    {
     "name": "stdout",
     "output_type": "stream",
     "text": [
      "MAPE for k dataset: 0.1518842458520088\n"
     ]
    }
   ],
   "source": [
    "skf = StratifiedKFold(n_splits=5, random_state=42, shuffle=True)\n",
    "errors_k=[]\n",
    "with open(os.devnull, \"w\") as f, contextlib.redirect_stdout(f):\n",
    "    with warnings.catch_warnings():\n",
    "        warnings.simplefilter(\"ignore\")\n",
    "        for tr_ind, val_ind in skf.split(X_k, y_k):\n",
    "            lgbm_k=LGBMRegressor(bagging_fraction=0.5, **gd.best_params_, random_state=42)\n",
    "            lgbm_k.fit(X_k.loc[tr_ind,:], y_k.loc[tr_ind])\n",
    "            errors_k.append(mape(y_k.loc[val_ind],lgbm_k.predict(X_k.loc[val_ind,:])))\n",
    "print(f'MAPE for k dataset: {np.mean(errors_k)}')"
   ]
  },
  {
   "cell_type": "markdown",
   "id": "5b928a9c",
   "metadata": {},
   "source": [
    "Не будем применять это изменение признака."
   ]
  },
  {
   "cell_type": "markdown",
   "id": "2a44de66",
   "metadata": {},
   "source": [
    "Количество этажей. Возьмем отношения этажа к количеству этажей и заменим этим признаком признак номера этажа."
   ]
  },
  {
   "cell_type": "code",
   "execution_count": 11,
   "id": "f3c43544",
   "metadata": {},
   "outputs": [],
   "source": [
    "with warnings.catch_warnings():\n",
    "    warnings.simplefilter(\"ignore\")    \n",
    "    X_f=X.copy()\n",
    "    y_f=y.copy()\n",
    "    X_f['num_floor']=X_f['num_floor']/X_f['floors']"
   ]
  },
  {
   "cell_type": "code",
   "execution_count": 12,
   "id": "1797d452",
   "metadata": {},
   "outputs": [
    {
     "name": "stdout",
     "output_type": "stream",
     "text": [
      "MAPE for f dataset: 0.15136536869616685\n"
     ]
    }
   ],
   "source": [
    "skf = StratifiedKFold(n_splits=5, random_state=42, shuffle=True)\n",
    "errors_f=[]\n",
    "with open(os.devnull, \"w\") as f, contextlib.redirect_stdout(f):\n",
    "    with warnings.catch_warnings():\n",
    "        warnings.simplefilter(\"ignore\")\n",
    "        for tr_ind, val_ind in skf.split(X_f, y_f):\n",
    "            lgbm_f=LGBMRegressor(bagging_fraction=0.5, **gd.best_params_, random_state=42)\n",
    "            lgbm_f.fit(X_f.loc[tr_ind,:], y_f.loc[tr_ind])\n",
    "            errors_f.append(mape(y_f.loc[val_ind],lgbm_f.predict(X_f.loc[val_ind,:])))\n",
    "print(f'MAPE for f dataset: {np.mean(errors_f)}')"
   ]
  },
  {
   "cell_type": "markdown",
   "id": "5d30b64b",
   "metadata": {},
   "source": [
    "Не будем применять это изменение признака."
   ]
  },
  {
   "cell_type": "markdown",
   "id": "0a4e3dda",
   "metadata": {},
   "source": [
    "Дальность метро от центральной станции и дистанция до Кремля. Возьмем разность между ними."
   ]
  },
  {
   "cell_type": "code",
   "execution_count": 13,
   "id": "94495dc3",
   "metadata": {},
   "outputs": [],
   "source": [
    "with warnings.catch_warnings():\n",
    "    warnings.simplefilter(\"ignore\")    \n",
    "    X_m=X.copy()\n",
    "    y_m=y.copy()\n",
    "    X_m['metro_distance']=X_m['distance_to_Kremlin']-X_m['metro_distance']"
   ]
  },
  {
   "cell_type": "code",
   "execution_count": 14,
   "id": "906517f0",
   "metadata": {},
   "outputs": [
    {
     "name": "stdout",
     "output_type": "stream",
     "text": [
      "MAPE for f dataset: 0.14958280690743714\n"
     ]
    }
   ],
   "source": [
    "skf = StratifiedKFold(n_splits=5, random_state=42, shuffle=True)\n",
    "errors_m=[]\n",
    "with open(os.devnull, \"w\") as f, contextlib.redirect_stdout(f):\n",
    "    with warnings.catch_warnings():\n",
    "        warnings.simplefilter(\"ignore\")\n",
    "        for tr_ind, val_ind in skf.split(X_m, y_m):\n",
    "            lgbm_m=LGBMRegressor(bagging_fraction=0.5, **gd.best_params_, random_state=42)\n",
    "            lgbm_m.fit(X_m.loc[tr_ind,:], y_m.loc[tr_ind])\n",
    "            errors_m.append(mape(y_m.loc[val_ind],lgbm_m.predict(X_m.loc[val_ind,:])))\n",
    "print(f'MAPE for f dataset: {np.mean(errors_m)}')"
   ]
  },
  {
   "cell_type": "markdown",
   "id": "b2a106b9",
   "metadata": {},
   "source": [
    "Оставим и этот признак. Примем, что на mte кодировки также улучшается/уменьшается качество в зависимости от изменения признака."
   ]
  },
  {
   "cell_type": "code",
   "execution_count": 5,
   "id": "b54097aa",
   "metadata": {},
   "outputs": [],
   "source": [
    "with warnings.catch_warnings():\n",
    "    warnings.simplefilter(\"ignore\")    \n",
    "    df_le['metro_distance']=df_le['distance_to_Kremlin']-df_le['metro_distance']\n",
    "    df_mte['metro_distance']=df_mte['distance_to_Kremlin']-df_mte['metro_distance']"
   ]
  },
  {
   "cell_type": "code",
   "execution_count": 16,
   "id": "2ac8bb96",
   "metadata": {},
   "outputs": [
    {
     "data": {
      "text/plain": [
       "<AxesSubplot:>"
      ]
     },
     "execution_count": 16,
     "metadata": {},
     "output_type": "execute_result"
    },
    {
     "data": {
      "image/png": "[encoded data removed]",
      "text/plain": [
       "<Figure size 432x288 with 2 Axes>"
      ]
     },
     "metadata": {
      "needs_background": "light"
     },
     "output_type": "display_data"
    }
   ],
   "source": [
    "sns.heatmap(df_mte[num_col].corr())"
   ]
  },
  {
   "cell_type": "markdown",
   "id": "ab781350",
   "metadata": {},
   "source": [
    "## Взаимодействия признаков."
   ]
  },
  {
   "cell_type": "markdown",
   "id": "f7a377df",
   "metadata": {},
   "source": [
    "Мы имеем такое количество признаков:"
   ]
  },
  {
   "cell_type": "code",
   "execution_count": 17,
   "id": "61128107",
   "metadata": {},
   "outputs": [
    {
     "data": {
      "text/plain": [
       "12"
      ]
     },
     "execution_count": 17,
     "metadata": {},
     "output_type": "execute_result"
    }
   ],
   "source": [
    "X.shape[1]"
   ]
  },
  {
   "cell_type": "code",
   "execution_count": 18,
   "id": "c58c52f1",
   "metadata": {},
   "outputs": [
    {
     "data": {
      "text/plain": [
       "Index(['time_to_metro', 'num_rooms', 'total_area', 'year_house',\n",
       "       'kitchen_area', 'repair', 'floors', 'num_floor', 'distance_to_Kremlin',\n",
       "       'district', 'metro_line', 'metro_distance'],\n",
       "      dtype='object')"
      ]
     },
     "execution_count": 18,
     "metadata": {},
     "output_type": "execute_result"
    }
   ],
   "source": [
    "X.columns"
   ]
  },
  {
   "cell_type": "markdown",
   "id": "cc9e0df2",
   "metadata": {},
   "source": [
    "Если брать всевозможные взаимодействия, то получим 12! признаков, что много. Тогда будем руководствоваться логикой. Ничего страшного, если добавим лишний признак, мы потом отберем эти признаки."
   ]
  },
  {
   "cell_type": "markdown",
   "id": "3fc55f2e",
   "metadata": {},
   "source": [
    "Взаимодействие времени до метро и района."
   ]
  },
  {
   "cell_type": "code",
   "execution_count": 6,
   "id": "ef9ea113",
   "metadata": {},
   "outputs": [],
   "source": [
    "df_le['distr*time']=df_le['district']*df_le['time_to_metro']\n",
    "df_mte['distr*time']=df_mte['district']*df_mte['time_to_metro']"
   ]
  },
  {
   "cell_type": "markdown",
   "id": "83c95a09",
   "metadata": {},
   "source": [
    "Взаимодействие времени до метро и расстояния до Кремля."
   ]
  },
  {
   "cell_type": "code",
   "execution_count": 7,
   "id": "84f28ea3",
   "metadata": {},
   "outputs": [],
   "source": [
    "df_le['Kre*time']=df_le['distance_to_Kremlin']*df_le['time_to_metro']\n",
    "df_mte['Kre*time']=df_mte['distance_to_Kremlin']*df_mte['time_to_metro']"
   ]
  },
  {
   "cell_type": "markdown",
   "id": "6ca1e283",
   "metadata": {},
   "source": [
    "Взаимодействие общей площади и расстояния до Кремля."
   ]
  },
  {
   "cell_type": "code",
   "execution_count": 8,
   "id": "be8bb2cd",
   "metadata": {},
   "outputs": [],
   "source": [
    "df_le['Kre*area']=df_le['distance_to_Kremlin']*df_le['total_area']\n",
    "df_mte['Kre*area']=df_mte['distance_to_Kremlin']*df_mte['total_area']"
   ]
  },
  {
   "cell_type": "markdown",
   "id": "ba6f5de7",
   "metadata": {},
   "source": [
    "Взаимодействие общей площади и года постройки дома."
   ]
  },
  {
   "cell_type": "code",
   "execution_count": 9,
   "id": "ed1e262c",
   "metadata": {},
   "outputs": [],
   "source": [
    "df_le['year*area']=df_le['year_house']*df_le['total_area']\n",
    "df_mte['year*area']=df_mte['year_house']*df_mte['total_area']"
   ]
  },
  {
   "cell_type": "markdown",
   "id": "0a1e3153",
   "metadata": {},
   "source": [
    "Взаимодействие ремонта и года постройки дома."
   ]
  },
  {
   "cell_type": "code",
   "execution_count": 10,
   "id": "dbcce7f4",
   "metadata": {},
   "outputs": [],
   "source": [
    "df_le['year*repair']=df_le['year_house']*df_le['repair']\n",
    "df_mte['year*repair']=df_mte['year_house']*df_mte['repair']"
   ]
  },
  {
   "cell_type": "markdown",
   "id": "f03994e4",
   "metadata": {},
   "source": [
    "Взаимодействие количества этажей и года постройки"
   ]
  },
  {
   "cell_type": "code",
   "execution_count": 11,
   "id": "36d481f5",
   "metadata": {},
   "outputs": [],
   "source": [
    "df_le['year*floors']=df_le['year_house']*df_le['floors']\n",
    "df_mte['year*floors']=df_mte['year_house']*df_mte['floors']"
   ]
  },
  {
   "cell_type": "markdown",
   "id": "6bac1774",
   "metadata": {},
   "source": [
    "Взаимодействие общей площади и количества комнат. Отношение общей площади к колиечтсву комнат+1"
   ]
  },
  {
   "cell_type": "code",
   "execution_count": 12,
   "id": "b7c7d79f",
   "metadata": {},
   "outputs": [],
   "source": [
    "with warnings.catch_warnings():\n",
    "    warnings.simplefilter(\"ignore\")  \n",
    "    df_le['area/num+1']=df_le['total_area']/(df_le['num_rooms']+np.array([1]*df_le.shape[0]))\n",
    "    df_mte['area/num+1']=df_mte['total_area']/(df_mte['num_rooms'])"
   ]
  },
  {
   "cell_type": "markdown",
   "id": "03dd4a56",
   "metadata": {},
   "source": [
    "## Итоговый датафрейм"
   ]
  },
  {
   "cell_type": "code",
   "execution_count": 13,
   "id": "797ee223",
   "metadata": {},
   "outputs": [
    {
     "data": {
      "text/html": [
       "<div>\n",
       "<style scoped>\n",
       "    .dataframe tbody tr th:only-of-type {\n",
       "        vertical-align: middle;\n",
       "    }\n",
       "\n",
       "    .dataframe tbody tr th {\n",
       "        vertical-align: top;\n",
       "    }\n",
       "\n",
       "    .dataframe thead th {\n",
       "        text-align: right;\n",
       "    }\n",
       "</style>\n",
       "<table border=\"1\" class=\"dataframe\">\n",
       "  <thead>\n",
       "    <tr style=\"text-align: right;\">\n",
       "      <th></th>\n",
       "      <th>metro_name</th>\n",
       "      <th>time_to_metro</th>\n",
       "      <th>num_rooms</th>\n",
       "      <th>total_area</th>\n",
       "      <th>year_house</th>\n",
       "      <th>kitchen_area</th>\n",
       "      <th>repair</th>\n",
       "      <th>price</th>\n",
       "      <th>floors</th>\n",
       "      <th>num_floor</th>\n",
       "      <th>...</th>\n",
       "      <th>district</th>\n",
       "      <th>metro_line</th>\n",
       "      <th>metro_distance</th>\n",
       "      <th>distr*time</th>\n",
       "      <th>Kre*time</th>\n",
       "      <th>Kre*area</th>\n",
       "      <th>year*area</th>\n",
       "      <th>year*repair</th>\n",
       "      <th>year*floors</th>\n",
       "      <th>area/num+1</th>\n",
       "    </tr>\n",
       "  </thead>\n",
       "  <tbody>\n",
       "    <tr>\n",
       "      <th>0</th>\n",
       "      <td>Ясенево</td>\n",
       "      <td>8.0</td>\n",
       "      <td>0</td>\n",
       "      <td>26.0</td>\n",
       "      <td>1700.0</td>\n",
       "      <td>0.0</td>\n",
       "      <td>1</td>\n",
       "      <td>3174900.0</td>\n",
       "      <td>16.0</td>\n",
       "      <td>16.0</td>\n",
       "      <td>...</td>\n",
       "      <td>147</td>\n",
       "      <td>5</td>\n",
       "      <td>5.62</td>\n",
       "      <td>1176.0</td>\n",
       "      <td>140.96</td>\n",
       "      <td>458.12</td>\n",
       "      <td>44200.0</td>\n",
       "      <td>1700.0</td>\n",
       "      <td>27200.0</td>\n",
       "      <td>26.0</td>\n",
       "    </tr>\n",
       "    <tr>\n",
       "      <th>1</th>\n",
       "      <td>Улица академика Янгеля</td>\n",
       "      <td>31.0</td>\n",
       "      <td>0</td>\n",
       "      <td>10.0</td>\n",
       "      <td>1973.0</td>\n",
       "      <td>0.0</td>\n",
       "      <td>3</td>\n",
       "      <td>2500000.0</td>\n",
       "      <td>12.0</td>\n",
       "      <td>1.0</td>\n",
       "      <td>...</td>\n",
       "      <td>12</td>\n",
       "      <td>10</td>\n",
       "      <td>8.76</td>\n",
       "      <td>372.0</td>\n",
       "      <td>550.56</td>\n",
       "      <td>177.60</td>\n",
       "      <td>19730.0</td>\n",
       "      <td>5919.0</td>\n",
       "      <td>23676.0</td>\n",
       "      <td>10.0</td>\n",
       "    </tr>\n",
       "    <tr>\n",
       "      <th>2</th>\n",
       "      <td>Братиславская</td>\n",
       "      <td>25.5</td>\n",
       "      <td>0</td>\n",
       "      <td>14.5</td>\n",
       "      <td>1700.0</td>\n",
       "      <td>0.0</td>\n",
       "      <td>2</td>\n",
       "      <td>5700000.0</td>\n",
       "      <td>26.0</td>\n",
       "      <td>9.0</td>\n",
       "      <td>...</td>\n",
       "      <td>64</td>\n",
       "      <td>7</td>\n",
       "      <td>4.96</td>\n",
       "      <td>1632.0</td>\n",
       "      <td>304.98</td>\n",
       "      <td>173.42</td>\n",
       "      <td>24650.0</td>\n",
       "      <td>3400.0</td>\n",
       "      <td>44200.0</td>\n",
       "      <td>14.5</td>\n",
       "    </tr>\n",
       "    <tr>\n",
       "      <th>3</th>\n",
       "      <td>Панфиловская</td>\n",
       "      <td>8.0</td>\n",
       "      <td>0</td>\n",
       "      <td>8.0</td>\n",
       "      <td>1960.0</td>\n",
       "      <td>0.0</td>\n",
       "      <td>0</td>\n",
       "      <td>4900000.0</td>\n",
       "      <td>1.0</td>\n",
       "      <td>1.0</td>\n",
       "      <td>...</td>\n",
       "      <td>140</td>\n",
       "      <td>1</td>\n",
       "      <td>3.59</td>\n",
       "      <td>1120.0</td>\n",
       "      <td>76.72</td>\n",
       "      <td>76.72</td>\n",
       "      <td>15680.0</td>\n",
       "      <td>0.0</td>\n",
       "      <td>1960.0</td>\n",
       "      <td>8.0</td>\n",
       "    </tr>\n",
       "    <tr>\n",
       "      <th>4</th>\n",
       "      <td>Рассказовка</td>\n",
       "      <td>31.0</td>\n",
       "      <td>0</td>\n",
       "      <td>20.0</td>\n",
       "      <td>2012.0</td>\n",
       "      <td>0.0</td>\n",
       "      <td>2</td>\n",
       "      <td>3290000.0</td>\n",
       "      <td>3.0</td>\n",
       "      <td>2.0</td>\n",
       "      <td>...</td>\n",
       "      <td>0</td>\n",
       "      <td>12</td>\n",
       "      <td>10.62</td>\n",
       "      <td>0.0</td>\n",
       "      <td>670.22</td>\n",
       "      <td>432.40</td>\n",
       "      <td>40240.0</td>\n",
       "      <td>4024.0</td>\n",
       "      <td>6036.0</td>\n",
       "      <td>20.0</td>\n",
       "    </tr>\n",
       "  </tbody>\n",
       "</table>\n",
       "<p>5 rows × 26 columns</p>\n",
       "</div>"
      ],
      "text/plain": [
       "               metro_name  time_to_metro  num_rooms  total_area  year_house  \\\n",
       "0                 Ясенево            8.0          0        26.0      1700.0   \n",
       "1  Улица академика Янгеля           31.0          0        10.0      1973.0   \n",
       "2           Братиславская           25.5          0        14.5      1700.0   \n",
       "3            Панфиловская            8.0          0         8.0      1960.0   \n",
       "4             Рассказовка           31.0          0        20.0      2012.0   \n",
       "\n",
       "   kitchen_area  repair      price  floors  num_floor  ... district  \\\n",
       "0           0.0       1  3174900.0    16.0       16.0  ...      147   \n",
       "1           0.0       3  2500000.0    12.0        1.0  ...       12   \n",
       "2           0.0       2  5700000.0    26.0        9.0  ...       64   \n",
       "3           0.0       0  4900000.0     1.0        1.0  ...      140   \n",
       "4           0.0       2  3290000.0     3.0        2.0  ...        0   \n",
       "\n",
       "   metro_line  metro_distance  distr*time Kre*time  Kre*area  year*area  \\\n",
       "0           5            5.62      1176.0   140.96    458.12    44200.0   \n",
       "1          10            8.76       372.0   550.56    177.60    19730.0   \n",
       "2           7            4.96      1632.0   304.98    173.42    24650.0   \n",
       "3           1            3.59      1120.0    76.72     76.72    15680.0   \n",
       "4          12           10.62         0.0   670.22    432.40    40240.0   \n",
       "\n",
       "   year*repair  year*floors  area/num+1  \n",
       "0       1700.0      27200.0        26.0  \n",
       "1       5919.0      23676.0        10.0  \n",
       "2       3400.0      44200.0        14.5  \n",
       "3          0.0       1960.0         8.0  \n",
       "4       4024.0       6036.0        20.0  \n",
       "\n",
       "[5 rows x 26 columns]"
      ]
     },
     "execution_count": 13,
     "metadata": {},
     "output_type": "execute_result"
    }
   ],
   "source": [
    "df_le.head()"
   ]
  },
  {
   "cell_type": "code",
   "execution_count": 14,
   "id": "2860f140",
   "metadata": {},
   "outputs": [
    {
     "data": {
      "text/plain": [
       "Index(['metro_name', 'time_to_metro', 'num_rooms', 'total_area', 'year_house',\n",
       "       'kitchen_area', 'repair', 'price', 'floors', 'num_floor', 'address',\n",
       "       'date', 'coord_width', 'coord_len', 'link', 'distance_to_Kremlin',\n",
       "       'district', 'metro_line', 'metro_distance', 'distr*time', 'Kre*time',\n",
       "       'Kre*area', 'year*area', 'year*repair', 'year*floors', 'area/num+1'],\n",
       "      dtype='object')"
      ]
     },
     "execution_count": 14,
     "metadata": {},
     "output_type": "execute_result"
    }
   ],
   "source": [
    "df_le.columns"
   ]
  },
  {
   "cell_type": "markdown",
   "id": "6845340c",
   "metadata": {},
   "source": [
    "## Сохранение данных"
   ]
  },
  {
   "cell_type": "code",
   "execution_count": 15,
   "id": "b3f01932",
   "metadata": {},
   "outputs": [],
   "source": [
    "df_le.to_csv(r\"C:\\Users\\Stepan\\Desktop\\ВУЗ\\Клиент-серверные\\папка датафреймов\\df_after_feat_eng_le.csv\")\n",
    "df_mte.to_csv(r\"C:\\Users\\Stepan\\Desktop\\ВУЗ\\Клиент-серверные\\папка датафреймов\\df_after_feat_eng_mte.csv\")"
   ]
  }
 ],
 "metadata": {
  "kernelspec": {
   "display_name": "Python 3 (ipykernel)",
   "language": "python",
   "name": "python3"
  },
  "language_info": {
   "codemirror_mode": {
    "name": "ipython",
    "version": 3
   },
   "file_extension": ".py",
   "mimetype": "text/x-python",
   "name": "python",
   "nbconvert_exporter": "python",
   "pygments_lexer": "ipython3",
   "version": "3.9.12"
  }
 },
 "nbformat": 4,
 "nbformat_minor": 5
}
