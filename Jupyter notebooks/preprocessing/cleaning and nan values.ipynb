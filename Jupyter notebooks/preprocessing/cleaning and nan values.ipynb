{
 "cells": [
  {
   "cell_type": "markdown",
   "id": "73104cd8",
   "metadata": {},
   "source": [
    "## Импорт библиотек"
   ]
  },
  {
   "cell_type": "code",
   "execution_count": 1,
   "id": "a08cd8dd",
   "metadata": {},
   "outputs": [],
   "source": [
    "import pandas as pd\n",
    "import re\n",
    "import numpy as np\n",
    "import matplotlib.pyplot as plt\n",
    "import matplotlib\n",
    "import seaborn as sns\n",
    "import statsmodels.api as sm\n",
    "import warnings"
   ]
  },
  {
   "cell_type": "markdown",
   "id": "5fcb3890",
   "metadata": {},
   "source": [
    "## Загрузка данных\n",
    "\n",
    "Загружаем данные для каждого количества комнат и объединяем их."
   ]
  },
  {
   "cell_type": "code",
   "execution_count": 2,
   "id": "3f0b1410",
   "metadata": {},
   "outputs": [
    {
     "data": {
      "text/html": [
       "<div>\n",
       "<style scoped>\n",
       "    .dataframe tbody tr th:only-of-type {\n",
       "        vertical-align: middle;\n",
       "    }\n",
       "\n",
       "    .dataframe tbody tr th {\n",
       "        vertical-align: top;\n",
       "    }\n",
       "\n",
       "    .dataframe thead th {\n",
       "        text-align: right;\n",
       "    }\n",
       "</style>\n",
       "<table border=\"1\" class=\"dataframe\">\n",
       "  <thead>\n",
       "    <tr style=\"text-align: right;\">\n",
       "      <th></th>\n",
       "      <th>metro_name</th>\n",
       "      <th>time_to_metro</th>\n",
       "      <th>num_rooms</th>\n",
       "      <th>total_area</th>\n",
       "      <th>year_house</th>\n",
       "      <th>kitchen_area</th>\n",
       "      <th>repair</th>\n",
       "      <th>price</th>\n",
       "      <th>floors</th>\n",
       "      <th>num_floor</th>\n",
       "      <th>address</th>\n",
       "      <th>date</th>\n",
       "      <th>coord_width</th>\n",
       "      <th>coord_len</th>\n",
       "      <th>link</th>\n",
       "    </tr>\n",
       "  </thead>\n",
       "  <tbody>\n",
       "    <tr>\n",
       "      <th>0</th>\n",
       "      <td>Цветной бульвар</td>\n",
       "      <td>до 5 мин.</td>\n",
       "      <td>Cтудия</td>\n",
       "      <td>36,7</td>\n",
       "      <td>NaN</td>\n",
       "      <td>NaN</td>\n",
       "      <td>дизайнерский</td>\n",
       "      <td>21000000.0</td>\n",
       "      <td>4.0</td>\n",
       "      <td>1.0</td>\n",
       "      <td>Москва, Трубная ул., 29с2</td>\n",
       "      <td>2023-04-29</td>\n",
       "      <td>55.772102</td>\n",
       "      <td>37.624480</td>\n",
       "      <td>https://www.avito.ru/moskva/kvartiry/kvartira-...</td>\n",
       "    </tr>\n",
       "    <tr>\n",
       "      <th>1</th>\n",
       "      <td>Ясенево</td>\n",
       "      <td>6–10 мин.</td>\n",
       "      <td>Cтудия</td>\n",
       "      <td>26 м</td>\n",
       "      <td>NaN</td>\n",
       "      <td>NaN</td>\n",
       "      <td>евро</td>\n",
       "      <td>3174900.0</td>\n",
       "      <td>16.0</td>\n",
       "      <td>16.0</td>\n",
       "      <td>Москва, ул. Паустовского, 8к3</td>\n",
       "      <td>2023-04-29</td>\n",
       "      <td>55.599967</td>\n",
       "      <td>37.536365</td>\n",
       "      <td>https://www.avito.ru/moskva/kvartiry/kvartira-...</td>\n",
       "    </tr>\n",
       "    <tr>\n",
       "      <th>2</th>\n",
       "      <td>Улица академика Янгеля</td>\n",
       "      <td>от 31 мин.</td>\n",
       "      <td>Cтудия</td>\n",
       "      <td>10 м</td>\n",
       "      <td>1973.0</td>\n",
       "      <td>NaN</td>\n",
       "      <td>требует ремонта</td>\n",
       "      <td>2500000.0</td>\n",
       "      <td>12.0</td>\n",
       "      <td>1.0</td>\n",
       "      <td>Москва, Медынская ул., 4/1</td>\n",
       "      <td>2023-04-29</td>\n",
       "      <td>55.592490</td>\n",
       "      <td>37.645717</td>\n",
       "      <td>https://www.avito.ru/moskva/kvartiry/kvartira-...</td>\n",
       "    </tr>\n",
       "    <tr>\n",
       "      <th>3</th>\n",
       "      <td>Братиславская</td>\n",
       "      <td>21–30 мин.</td>\n",
       "      <td>Cтудия</td>\n",
       "      <td>24,5</td>\n",
       "      <td>NaN</td>\n",
       "      <td>NaN</td>\n",
       "      <td>NaN</td>\n",
       "      <td>5700000.0</td>\n",
       "      <td>26.0</td>\n",
       "      <td>9.0</td>\n",
       "      <td>ул. Люблинская, вл. 72, корп. 11</td>\n",
       "      <td>2023-04-29</td>\n",
       "      <td>55.665770</td>\n",
       "      <td>37.734130</td>\n",
       "      <td>https://www.avito.ru/moskva/kvartiry/kvartira-...</td>\n",
       "    </tr>\n",
       "    <tr>\n",
       "      <th>4</th>\n",
       "      <td>Панфиловская</td>\n",
       "      <td>6–10 мин.</td>\n",
       "      <td>Cтудия</td>\n",
       "      <td>13,3</td>\n",
       "      <td>1960.0</td>\n",
       "      <td>NaN</td>\n",
       "      <td>дизайнерский</td>\n",
       "      <td>4900000.0</td>\n",
       "      <td>1.0</td>\n",
       "      <td>1.0</td>\n",
       "      <td>Москва, ул. Маршала Конева, 2</td>\n",
       "      <td>2023-04-29</td>\n",
       "      <td>55.799952</td>\n",
       "      <td>37.491889</td>\n",
       "      <td>https://www.avito.ru/moskva/kvartiry/kvartira-...</td>\n",
       "    </tr>\n",
       "    <tr>\n",
       "      <th>...</th>\n",
       "      <td>...</td>\n",
       "      <td>...</td>\n",
       "      <td>...</td>\n",
       "      <td>...</td>\n",
       "      <td>...</td>\n",
       "      <td>...</td>\n",
       "      <td>...</td>\n",
       "      <td>...</td>\n",
       "      <td>...</td>\n",
       "      <td>...</td>\n",
       "      <td>...</td>\n",
       "      <td>...</td>\n",
       "      <td>...</td>\n",
       "      <td>...</td>\n",
       "      <td>...</td>\n",
       "    </tr>\n",
       "    <tr>\n",
       "      <th>46490</th>\n",
       "      <td>Мякинино</td>\n",
       "      <td>20.0</td>\n",
       "      <td>1</td>\n",
       "      <td>27.8</td>\n",
       "      <td>2008.0</td>\n",
       "      <td>8.0</td>\n",
       "      <td>требует ремонта</td>\n",
       "      <td>4490000.0</td>\n",
       "      <td>3.0</td>\n",
       "      <td>2.0</td>\n",
       "      <td>Москва, 5-я Мякининская ул., 49</td>\n",
       "      <td>2023-01-13</td>\n",
       "      <td>55.811133</td>\n",
       "      <td>37.379438</td>\n",
       "      <td>https://avito.ru//moskva/kvartiry/1-k._kvartir...</td>\n",
       "    </tr>\n",
       "    <tr>\n",
       "      <th>46491</th>\n",
       "      <td>Новокузнецкая</td>\n",
       "      <td>10.0</td>\n",
       "      <td>2</td>\n",
       "      <td>86.0</td>\n",
       "      <td>1908.0</td>\n",
       "      <td>12.0</td>\n",
       "      <td>евро</td>\n",
       "      <td>37900000.0</td>\n",
       "      <td>5.0</td>\n",
       "      <td>3.0</td>\n",
       "      <td>Москва, Кадашёвская наб., 36с4</td>\n",
       "      <td>2023-01-13</td>\n",
       "      <td>55.745372</td>\n",
       "      <td>37.626088</td>\n",
       "      <td>https://avito.ru//moskva/kvartiry/2-k._kvartir...</td>\n",
       "    </tr>\n",
       "    <tr>\n",
       "      <th>46492</th>\n",
       "      <td>Первомайская</td>\n",
       "      <td>5.0</td>\n",
       "      <td>3</td>\n",
       "      <td>107.0</td>\n",
       "      <td>2010.0</td>\n",
       "      <td>28.0</td>\n",
       "      <td>дизайнерский</td>\n",
       "      <td>49500000.0</td>\n",
       "      <td>22.0</td>\n",
       "      <td>3.0</td>\n",
       "      <td>Москва, 10-я Парковая улица, 3</td>\n",
       "      <td>2023-01-13</td>\n",
       "      <td>55.794365</td>\n",
       "      <td>37.801423</td>\n",
       "      <td>https://avito.ru//moskva/kvartiry/3-k._kvartir...</td>\n",
       "    </tr>\n",
       "    <tr>\n",
       "      <th>46493</th>\n",
       "      <td>Селигерская</td>\n",
       "      <td>15.0</td>\n",
       "      <td>1</td>\n",
       "      <td>38.0</td>\n",
       "      <td>2004.0</td>\n",
       "      <td>9.0</td>\n",
       "      <td>дизайнерский</td>\n",
       "      <td>14500000.0</td>\n",
       "      <td>17.0</td>\n",
       "      <td>4.0</td>\n",
       "      <td>Москва, Дубнинская ул., 39</td>\n",
       "      <td>2023-01-13</td>\n",
       "      <td>55.867592</td>\n",
       "      <td>37.562824</td>\n",
       "      <td>https://avito.ru//moskva/kvartiry/1-k._kvartir...</td>\n",
       "    </tr>\n",
       "    <tr>\n",
       "      <th>46494</th>\n",
       "      <td>Беговая</td>\n",
       "      <td>5.0</td>\n",
       "      <td>3</td>\n",
       "      <td>75.0</td>\n",
       "      <td>1992.0</td>\n",
       "      <td>11.0</td>\n",
       "      <td>евро</td>\n",
       "      <td>23459999.0</td>\n",
       "      <td>17.0</td>\n",
       "      <td>7.0</td>\n",
       "      <td>Москва, Хорошёвское ш., 5к1</td>\n",
       "      <td>2023-01-13</td>\n",
       "      <td>55.773945</td>\n",
       "      <td>37.540542</td>\n",
       "      <td>https://avito.ru//moskva/kvartiry/3-k._kvartir...</td>\n",
       "    </tr>\n",
       "  </tbody>\n",
       "</table>\n",
       "<p>46495 rows × 15 columns</p>\n",
       "</div>"
      ],
      "text/plain": [
       "                   metro_name time_to_metro num_rooms total_area  year_house  \\\n",
       "0             Цветной бульвар     до 5 мин.    Cтудия       36,7         NaN   \n",
       "1                     Ясенево     6–10 мин.    Cтудия       26 м         NaN   \n",
       "2      Улица академика Янгеля    от 31 мин.    Cтудия       10 м      1973.0   \n",
       "3               Братиславская    21–30 мин.    Cтудия       24,5         NaN   \n",
       "4                Панфиловская     6–10 мин.    Cтудия       13,3      1960.0   \n",
       "...                       ...           ...       ...        ...         ...   \n",
       "46490                Мякинино          20.0         1       27.8      2008.0   \n",
       "46491           Новокузнецкая          10.0         2       86.0      1908.0   \n",
       "46492            Первомайская           5.0         3      107.0      2010.0   \n",
       "46493             Селигерская          15.0         1       38.0      2004.0   \n",
       "46494                 Беговая           5.0         3       75.0      1992.0   \n",
       "\n",
       "      kitchen_area           repair       price  floors  num_floor  \\\n",
       "0              NaN     дизайнерский  21000000.0     4.0        1.0   \n",
       "1              NaN             евро   3174900.0    16.0       16.0   \n",
       "2              NaN  требует ремонта   2500000.0    12.0        1.0   \n",
       "3              NaN              NaN   5700000.0    26.0        9.0   \n",
       "4              NaN     дизайнерский   4900000.0     1.0        1.0   \n",
       "...            ...              ...         ...     ...        ...   \n",
       "46490          8.0  требует ремонта   4490000.0     3.0        2.0   \n",
       "46491         12.0             евро  37900000.0     5.0        3.0   \n",
       "46492         28.0     дизайнерский  49500000.0    22.0        3.0   \n",
       "46493          9.0     дизайнерский  14500000.0    17.0        4.0   \n",
       "46494         11.0             евро  23459999.0    17.0        7.0   \n",
       "\n",
       "                                address        date  coord_width  coord_len  \\\n",
       "0             Москва, Трубная ул., 29с2  2023-04-29    55.772102  37.624480   \n",
       "1         Москва, ул. Паустовского, 8к3  2023-04-29    55.599967  37.536365   \n",
       "2            Москва, Медынская ул., 4/1  2023-04-29    55.592490  37.645717   \n",
       "3      ул. Люблинская, вл. 72, корп. 11  2023-04-29    55.665770  37.734130   \n",
       "4         Москва, ул. Маршала Конева, 2  2023-04-29    55.799952  37.491889   \n",
       "...                                 ...         ...          ...        ...   \n",
       "46490   Москва, 5-я Мякининская ул., 49  2023-01-13    55.811133  37.379438   \n",
       "46491    Москва, Кадашёвская наб., 36с4  2023-01-13    55.745372  37.626088   \n",
       "46492    Москва, 10-я Парковая улица, 3  2023-01-13    55.794365  37.801423   \n",
       "46493        Москва, Дубнинская ул., 39  2023-01-13    55.867592  37.562824   \n",
       "46494       Москва, Хорошёвское ш., 5к1  2023-01-13    55.773945  37.540542   \n",
       "\n",
       "                                                    link  \n",
       "0      https://www.avito.ru/moskva/kvartiry/kvartira-...  \n",
       "1      https://www.avito.ru/moskva/kvartiry/kvartira-...  \n",
       "2      https://www.avito.ru/moskva/kvartiry/kvartira-...  \n",
       "3      https://www.avito.ru/moskva/kvartiry/kvartira-...  \n",
       "4      https://www.avito.ru/moskva/kvartiry/kvartira-...  \n",
       "...                                                  ...  \n",
       "46490  https://avito.ru//moskva/kvartiry/1-k._kvartir...  \n",
       "46491  https://avito.ru//moskva/kvartiry/2-k._kvartir...  \n",
       "46492  https://avito.ru//moskva/kvartiry/3-k._kvartir...  \n",
       "46493  https://avito.ru//moskva/kvartiry/1-k._kvartir...  \n",
       "46494  https://avito.ru//moskva/kvartiry/3-k._kvartir...  \n",
       "\n",
       "[46495 rows x 15 columns]"
      ]
     },
     "execution_count": 2,
     "metadata": {},
     "output_type": "execute_result"
    }
   ],
   "source": [
    "df_s=pd.read_csv(r\"C:\\Users\\Stepan\\Desktop\\ВУЗ\\Клиент-серверные\\папка датафреймов\\STUDIYA.csv\")\n",
    "df_1=pd.read_csv(r\"C:\\Users\\Stepan\\Desktop\\ВУЗ\\Клиент-серверные\\папка датафреймов\\1k.csv\")\n",
    "df_2=pd.read_csv(r\"C:\\Users\\Stepan\\Desktop\\ВУЗ\\Клиент-серверные\\папка датафреймов\\2k.csv\")\n",
    "df_3=pd.read_csv(r\"C:\\Users\\Stepan\\Desktop\\ВУЗ\\Клиент-серверные\\папка датафреймов\\3k.csv\")\n",
    "df_4=pd.read_csv(r\"C:\\Users\\Stepan\\Desktop\\ВУЗ\\Клиент-серверные\\папка датафреймов\\4k.csv\")\n",
    "df_5=pd.read_csv(r\"C:\\Users\\Stepan\\Desktop\\ВУЗ\\Клиент-серверные\\папка датафреймов\\5k.csv\")\n",
    "df_mul=pd.read_csv(r\"C:\\Users\\Stepan\\Desktop\\ВУЗ\\Клиент-серверные\\папка датафреймов\\mul.csv\")\n",
    "df=pd.concat([df_s,df_1,df_2,df_3,df_4,df_5, df_mul], ignore_index=True)\n",
    "df_raw=df.drop('Unnamed: 0', axis=1)\n",
    "df_raw=df_raw.rename(columns={'coords_len':'coord_len'})\n",
    "df_raw"
   ]
  },
  {
   "cell_type": "markdown",
   "id": "61340095",
   "metadata": {},
   "source": [
    "Посмотрим общую информацию о датафрейме"
   ]
  },
  {
   "cell_type": "code",
   "execution_count": 3,
   "id": "79e2c637",
   "metadata": {},
   "outputs": [
    {
     "name": "stdout",
     "output_type": "stream",
     "text": [
      "<class 'pandas.core.frame.DataFrame'>\n",
      "RangeIndex: 46495 entries, 0 to 46494\n",
      "Data columns (total 15 columns):\n",
      " #   Column         Non-Null Count  Dtype  \n",
      "---  ------         --------------  -----  \n",
      " 0   metro_name     44198 non-null  object \n",
      " 1   time_to_metro  44665 non-null  object \n",
      " 2   num_rooms      46476 non-null  object \n",
      " 3   total_area     46476 non-null  object \n",
      " 4   year_house     22298 non-null  float64\n",
      " 5   kitchen_area   43809 non-null  object \n",
      " 6   repair         36148 non-null  object \n",
      " 7   price          46476 non-null  float64\n",
      " 8   floors         46467 non-null  float64\n",
      " 9   num_floor      46467 non-null  float64\n",
      " 10  address        46469 non-null  object \n",
      " 11  date           46473 non-null  object \n",
      " 12  coord_width    46469 non-null  float64\n",
      " 13  coord_len      46469 non-null  float64\n",
      " 14  link           46495 non-null  object \n",
      "dtypes: float64(6), object(9)\n",
      "memory usage: 5.3+ MB\n"
     ]
    }
   ],
   "source": [
    "df_raw.info()"
   ]
  },
  {
   "cell_type": "code",
   "execution_count": 4,
   "id": "7efce4cb",
   "metadata": {},
   "outputs": [
    {
     "data": {
      "text/html": [
       "<div>\n",
       "<style scoped>\n",
       "    .dataframe tbody tr th:only-of-type {\n",
       "        vertical-align: middle;\n",
       "    }\n",
       "\n",
       "    .dataframe tbody tr th {\n",
       "        vertical-align: top;\n",
       "    }\n",
       "\n",
       "    .dataframe thead th {\n",
       "        text-align: right;\n",
       "    }\n",
       "</style>\n",
       "<table border=\"1\" class=\"dataframe\">\n",
       "  <thead>\n",
       "    <tr style=\"text-align: right;\">\n",
       "      <th></th>\n",
       "      <th>metro_name</th>\n",
       "      <th>time_to_metro</th>\n",
       "      <th>total_area</th>\n",
       "      <th>year_house</th>\n",
       "      <th>kitchen_area</th>\n",
       "      <th>repair</th>\n",
       "      <th>price</th>\n",
       "      <th>floors</th>\n",
       "      <th>num_floor</th>\n",
       "      <th>address</th>\n",
       "      <th>date</th>\n",
       "      <th>coord_width</th>\n",
       "      <th>coord_len</th>\n",
       "      <th>link</th>\n",
       "    </tr>\n",
       "    <tr>\n",
       "      <th>num_rooms</th>\n",
       "      <th></th>\n",
       "      <th></th>\n",
       "      <th></th>\n",
       "      <th></th>\n",
       "      <th></th>\n",
       "      <th></th>\n",
       "      <th></th>\n",
       "      <th></th>\n",
       "      <th></th>\n",
       "      <th></th>\n",
       "      <th></th>\n",
       "      <th></th>\n",
       "      <th></th>\n",
       "      <th></th>\n",
       "    </tr>\n",
       "  </thead>\n",
       "  <tbody>\n",
       "    <tr>\n",
       "      <th>1.0</th>\n",
       "      <td>10678</td>\n",
       "      <td>10791</td>\n",
       "      <td>11424</td>\n",
       "      <td>5277</td>\n",
       "      <td>11189</td>\n",
       "      <td>8322</td>\n",
       "      <td>11424</td>\n",
       "      <td>11419</td>\n",
       "      <td>11419</td>\n",
       "      <td>11420</td>\n",
       "      <td>11423</td>\n",
       "      <td>11420</td>\n",
       "      <td>11420</td>\n",
       "      <td>11424</td>\n",
       "    </tr>\n",
       "    <tr>\n",
       "      <th>2.0</th>\n",
       "      <td>13886</td>\n",
       "      <td>14110</td>\n",
       "      <td>14876</td>\n",
       "      <td>6785</td>\n",
       "      <td>14609</td>\n",
       "      <td>10756</td>\n",
       "      <td>14876</td>\n",
       "      <td>14875</td>\n",
       "      <td>14875</td>\n",
       "      <td>14875</td>\n",
       "      <td>14876</td>\n",
       "      <td>14875</td>\n",
       "      <td>14875</td>\n",
       "      <td>14876</td>\n",
       "    </tr>\n",
       "    <tr>\n",
       "      <th>3.0</th>\n",
       "      <td>9857</td>\n",
       "      <td>9976</td>\n",
       "      <td>10277</td>\n",
       "      <td>4939</td>\n",
       "      <td>10119</td>\n",
       "      <td>8089</td>\n",
       "      <td>10277</td>\n",
       "      <td>10277</td>\n",
       "      <td>10277</td>\n",
       "      <td>10277</td>\n",
       "      <td>10277</td>\n",
       "      <td>10277</td>\n",
       "      <td>10277</td>\n",
       "      <td>10277</td>\n",
       "    </tr>\n",
       "    <tr>\n",
       "      <th>4.0</th>\n",
       "      <td>5441</td>\n",
       "      <td>5452</td>\n",
       "      <td>5525</td>\n",
       "      <td>2594</td>\n",
       "      <td>5514</td>\n",
       "      <td>4813</td>\n",
       "      <td>5525</td>\n",
       "      <td>5525</td>\n",
       "      <td>5525</td>\n",
       "      <td>5525</td>\n",
       "      <td>5525</td>\n",
       "      <td>5525</td>\n",
       "      <td>5525</td>\n",
       "      <td>5525</td>\n",
       "    </tr>\n",
       "    <tr>\n",
       "      <th>5</th>\n",
       "      <td>1779</td>\n",
       "      <td>1779</td>\n",
       "      <td>1786</td>\n",
       "      <td>794</td>\n",
       "      <td>1785</td>\n",
       "      <td>1641</td>\n",
       "      <td>1786</td>\n",
       "      <td>1786</td>\n",
       "      <td>1786</td>\n",
       "      <td>1786</td>\n",
       "      <td>1786</td>\n",
       "      <td>1786</td>\n",
       "      <td>1786</td>\n",
       "      <td>1786</td>\n",
       "    </tr>\n",
       "    <tr>\n",
       "      <th>6</th>\n",
       "      <td>588</td>\n",
       "      <td>588</td>\n",
       "      <td>592</td>\n",
       "      <td>240</td>\n",
       "      <td>592</td>\n",
       "      <td>543</td>\n",
       "      <td>592</td>\n",
       "      <td>592</td>\n",
       "      <td>592</td>\n",
       "      <td>592</td>\n",
       "      <td>592</td>\n",
       "      <td>592</td>\n",
       "      <td>592</td>\n",
       "      <td>592</td>\n",
       "    </tr>\n",
       "    <tr>\n",
       "      <th>Cтудия</th>\n",
       "      <td>1969</td>\n",
       "      <td>1969</td>\n",
       "      <td>1996</td>\n",
       "      <td>1669</td>\n",
       "      <td>1</td>\n",
       "      <td>1984</td>\n",
       "      <td>1996</td>\n",
       "      <td>1993</td>\n",
       "      <td>1993</td>\n",
       "      <td>1994</td>\n",
       "      <td>1994</td>\n",
       "      <td>1994</td>\n",
       "      <td>1994</td>\n",
       "      <td>1996</td>\n",
       "    </tr>\n",
       "  </tbody>\n",
       "</table>\n",
       "</div>"
      ],
      "text/plain": [
       "           metro_name  time_to_metro  total_area  year_house  kitchen_area  \\\n",
       "num_rooms                                                                    \n",
       "1.0             10678          10791       11424        5277         11189   \n",
       "2.0             13886          14110       14876        6785         14609   \n",
       "3.0              9857           9976       10277        4939         10119   \n",
       "4.0              5441           5452        5525        2594          5514   \n",
       "5                1779           1779        1786         794          1785   \n",
       "6                 588            588         592         240           592   \n",
       "Cтудия           1969           1969        1996        1669             1   \n",
       "\n",
       "           repair  price  floors  num_floor  address   date  coord_width  \\\n",
       "num_rooms                                                                  \n",
       "1.0          8322  11424   11419      11419    11420  11423        11420   \n",
       "2.0         10756  14876   14875      14875    14875  14876        14875   \n",
       "3.0          8089  10277   10277      10277    10277  10277        10277   \n",
       "4.0          4813   5525    5525       5525     5525   5525         5525   \n",
       "5            1641   1786    1786       1786     1786   1786         1786   \n",
       "6             543    592     592        592      592    592          592   \n",
       "Cтудия       1984   1996    1993       1993     1994   1994         1994   \n",
       "\n",
       "           coord_len   link  \n",
       "num_rooms                    \n",
       "1.0            11420  11424  \n",
       "2.0            14875  14876  \n",
       "3.0            10277  10277  \n",
       "4.0             5525   5525  \n",
       "5               1786   1786  \n",
       "6                592    592  \n",
       "Cтудия          1994   1996  "
      ]
     },
     "execution_count": 4,
     "metadata": {},
     "output_type": "execute_result"
    }
   ],
   "source": [
    "df_raw.groupby('num_rooms').count()"
   ]
  },
  {
   "cell_type": "markdown",
   "id": "891db7c8",
   "metadata": {},
   "source": [
    "Размер датафрейма"
   ]
  },
  {
   "cell_type": "code",
   "execution_count": 5,
   "id": "20e3acbc",
   "metadata": {},
   "outputs": [
    {
     "data": {
      "text/plain": [
       "(46495, 15)"
      ]
     },
     "execution_count": 5,
     "metadata": {},
     "output_type": "execute_result"
    }
   ],
   "source": [
    "df_raw.shape"
   ]
  },
  {
   "cell_type": "markdown",
   "id": "d12b07b9",
   "metadata": {},
   "source": [
    "Списки числовых и категориальных признаков"
   ]
  },
  {
   "cell_type": "code",
   "execution_count": 6,
   "id": "6eaf6767",
   "metadata": {},
   "outputs": [
    {
     "data": {
      "text/plain": [
       "['metro_name', 'time_to_metro', 'num_rooms', 'date', 'repair']"
      ]
     },
     "execution_count": 6,
     "metadata": {},
     "output_type": "execute_result"
    }
   ],
   "source": [
    "num_col=['time_to_metro', 'total_area','year_house','kitchen_area','coord_width','coord_len','floors', 'num_floor']\n",
    "cat_col=['metro_name','time_to_metro','num_rooms', 'date', 'repair']\n",
    "cat_col"
   ]
  },
  {
   "cell_type": "markdown",
   "id": "d9ba5115",
   "metadata": {},
   "source": [
    "## Исправление ошибок парсинга"
   ]
  },
  {
   "cell_type": "markdown",
   "id": "00bb5c07",
   "metadata": {},
   "source": [
    "Удалим дубликаты. Дубликаты ищутся по подмножеству признаков: адрес, этаж,колиечство комнат, общая площадь"
   ]
  },
  {
   "cell_type": "code",
   "execution_count": 7,
   "id": "6a200620",
   "metadata": {},
   "outputs": [
    {
     "name": "stdout",
     "output_type": "stream",
     "text": [
      "Количество дубликатов: 4031\n",
      "Количество старых объявлений (до 2023 года): 7752\n"
     ]
    }
   ],
   "source": [
    "n_duplicates = df.duplicated(\n",
    "    subset=['address', 'num_floor', 'num_rooms', 'total_area'],keep='first').sum()\n",
    "print(f'Количество дубликатов: {n_duplicates}')\n",
    "df_raw = df_raw.drop_duplicates(\n",
    "    subset=['address', 'num_floor', 'num_rooms', 'total_area'],\n",
    "    keep='last')\n",
    "old_ad=len(df[df['date']<'2023-01-01'])\n",
    "print(f\"Количество старых объявлений (до 2023 года): {old_ad}\")"
   ]
  },
  {
   "cell_type": "markdown",
   "id": "6264f697",
   "metadata": {},
   "source": [
    "Удалим в столбцах лишние символы, преобразуем данные к определенному типу. На RuntimeWarning не стоит обращать внимания."
   ]
  },
  {
   "cell_type": "code",
   "execution_count": 8,
   "id": "58464acd",
   "metadata": {},
   "outputs": [],
   "source": [
    "with warnings.catch_warnings():\n",
    "    warnings.simplefilter(\"ignore\")\n",
    "    \n",
    "    df_raw.time_to_metro=df_raw.time_to_metro.transform(lambda x: np.mean([int(i) for i in re.findall('[0-9]+', str(x))]))\n",
    "    df_raw.total_area=df_raw.total_area.transform(lambda x: np.mean([int(i) for i in re.findall('[0-9]+', str(x))]))\n",
    "    df_raw.kitchen_area=df_raw.kitchen_area.transform(lambda x: np.mean([int(i) for i in re.findall('[0-9]+', str(x))]))\n",
    "    df_raw.date=df_raw.date.astype('str')"
   ]
  },
  {
   "cell_type": "markdown",
   "id": "97328abe",
   "metadata": {},
   "source": [
    "Удаляем nan значения в price"
   ]
  },
  {
   "cell_type": "code",
   "execution_count": 9,
   "id": "118edf50",
   "metadata": {},
   "outputs": [],
   "source": [
    "df_raw=df_raw.dropna(subset=['price'])"
   ]
  },
  {
   "cell_type": "markdown",
   "id": "663f5952",
   "metadata": {},
   "source": [
    "Подготовим признак количeства комнат"
   ]
  },
  {
   "cell_type": "code",
   "execution_count": 10,
   "id": "8bc633b8",
   "metadata": {},
   "outputs": [],
   "source": [
    "df_raw.num_rooms=df_raw.num_rooms.transform(lambda x: '0' if str(x).strip()=='Cтудия' else x)\n",
    "df_raw.num_rooms=df_raw.num_rooms.astype('float')"
   ]
  },
  {
   "cell_type": "code",
   "execution_count": 11,
   "id": "ff2650bf",
   "metadata": {},
   "outputs": [
    {
     "data": {
      "text/html": [
       "<div>\n",
       "<style scoped>\n",
       "    .dataframe tbody tr th:only-of-type {\n",
       "        vertical-align: middle;\n",
       "    }\n",
       "\n",
       "    .dataframe tbody tr th {\n",
       "        vertical-align: top;\n",
       "    }\n",
       "\n",
       "    .dataframe thead th {\n",
       "        text-align: right;\n",
       "    }\n",
       "</style>\n",
       "<table border=\"1\" class=\"dataframe\">\n",
       "  <thead>\n",
       "    <tr style=\"text-align: right;\">\n",
       "      <th></th>\n",
       "      <th>metro_name</th>\n",
       "      <th>time_to_metro</th>\n",
       "      <th>total_area</th>\n",
       "      <th>year_house</th>\n",
       "      <th>kitchen_area</th>\n",
       "      <th>repair</th>\n",
       "      <th>price</th>\n",
       "      <th>floors</th>\n",
       "      <th>num_floor</th>\n",
       "      <th>address</th>\n",
       "      <th>date</th>\n",
       "      <th>coord_width</th>\n",
       "      <th>coord_len</th>\n",
       "      <th>link</th>\n",
       "    </tr>\n",
       "    <tr>\n",
       "      <th>num_rooms</th>\n",
       "      <th></th>\n",
       "      <th></th>\n",
       "      <th></th>\n",
       "      <th></th>\n",
       "      <th></th>\n",
       "      <th></th>\n",
       "      <th></th>\n",
       "      <th></th>\n",
       "      <th></th>\n",
       "      <th></th>\n",
       "      <th></th>\n",
       "      <th></th>\n",
       "      <th></th>\n",
       "      <th></th>\n",
       "    </tr>\n",
       "  </thead>\n",
       "  <tbody>\n",
       "    <tr>\n",
       "      <th>0.0</th>\n",
       "      <td>1203</td>\n",
       "      <td>1203</td>\n",
       "      <td>1222</td>\n",
       "      <td>957</td>\n",
       "      <td>1</td>\n",
       "      <td>1213</td>\n",
       "      <td>1222</td>\n",
       "      <td>1220</td>\n",
       "      <td>1220</td>\n",
       "      <td>1221</td>\n",
       "      <td>1222</td>\n",
       "      <td>1221</td>\n",
       "      <td>1221</td>\n",
       "      <td>1222</td>\n",
       "    </tr>\n",
       "    <tr>\n",
       "      <th>1.0</th>\n",
       "      <td>10103</td>\n",
       "      <td>10215</td>\n",
       "      <td>10750</td>\n",
       "      <td>4996</td>\n",
       "      <td>10523</td>\n",
       "      <td>7863</td>\n",
       "      <td>10750</td>\n",
       "      <td>10745</td>\n",
       "      <td>10745</td>\n",
       "      <td>10746</td>\n",
       "      <td>10750</td>\n",
       "      <td>10746</td>\n",
       "      <td>10746</td>\n",
       "      <td>10750</td>\n",
       "    </tr>\n",
       "    <tr>\n",
       "      <th>2.0</th>\n",
       "      <td>13094</td>\n",
       "      <td>13314</td>\n",
       "      <td>13997</td>\n",
       "      <td>6409</td>\n",
       "      <td>13747</td>\n",
       "      <td>10153</td>\n",
       "      <td>13997</td>\n",
       "      <td>13996</td>\n",
       "      <td>13996</td>\n",
       "      <td>13996</td>\n",
       "      <td>13997</td>\n",
       "      <td>13996</td>\n",
       "      <td>13996</td>\n",
       "      <td>13997</td>\n",
       "    </tr>\n",
       "    <tr>\n",
       "      <th>3.0</th>\n",
       "      <td>9201</td>\n",
       "      <td>9317</td>\n",
       "      <td>9597</td>\n",
       "      <td>4640</td>\n",
       "      <td>9442</td>\n",
       "      <td>7561</td>\n",
       "      <td>9597</td>\n",
       "      <td>9597</td>\n",
       "      <td>9597</td>\n",
       "      <td>9597</td>\n",
       "      <td>9597</td>\n",
       "      <td>9597</td>\n",
       "      <td>9597</td>\n",
       "      <td>9597</td>\n",
       "    </tr>\n",
       "    <tr>\n",
       "      <th>4.0</th>\n",
       "      <td>4752</td>\n",
       "      <td>4763</td>\n",
       "      <td>4831</td>\n",
       "      <td>2275</td>\n",
       "      <td>4820</td>\n",
       "      <td>4177</td>\n",
       "      <td>4831</td>\n",
       "      <td>4831</td>\n",
       "      <td>4831</td>\n",
       "      <td>4831</td>\n",
       "      <td>4831</td>\n",
       "      <td>4831</td>\n",
       "      <td>4831</td>\n",
       "      <td>4831</td>\n",
       "    </tr>\n",
       "    <tr>\n",
       "      <th>5.0</th>\n",
       "      <td>1530</td>\n",
       "      <td>1530</td>\n",
       "      <td>1537</td>\n",
       "      <td>670</td>\n",
       "      <td>1536</td>\n",
       "      <td>1412</td>\n",
       "      <td>1537</td>\n",
       "      <td>1537</td>\n",
       "      <td>1537</td>\n",
       "      <td>1537</td>\n",
       "      <td>1537</td>\n",
       "      <td>1537</td>\n",
       "      <td>1537</td>\n",
       "      <td>1537</td>\n",
       "    </tr>\n",
       "    <tr>\n",
       "      <th>6.0</th>\n",
       "      <td>526</td>\n",
       "      <td>526</td>\n",
       "      <td>529</td>\n",
       "      <td>216</td>\n",
       "      <td>529</td>\n",
       "      <td>483</td>\n",
       "      <td>529</td>\n",
       "      <td>529</td>\n",
       "      <td>529</td>\n",
       "      <td>529</td>\n",
       "      <td>529</td>\n",
       "      <td>529</td>\n",
       "      <td>529</td>\n",
       "      <td>529</td>\n",
       "    </tr>\n",
       "  </tbody>\n",
       "</table>\n",
       "</div>"
      ],
      "text/plain": [
       "           metro_name  time_to_metro  total_area  year_house  kitchen_area  \\\n",
       "num_rooms                                                                    \n",
       "0.0              1203           1203        1222         957             1   \n",
       "1.0             10103          10215       10750        4996         10523   \n",
       "2.0             13094          13314       13997        6409         13747   \n",
       "3.0              9201           9317        9597        4640          9442   \n",
       "4.0              4752           4763        4831        2275          4820   \n",
       "5.0              1530           1530        1537         670          1536   \n",
       "6.0               526            526         529         216           529   \n",
       "\n",
       "           repair  price  floors  num_floor  address   date  coord_width  \\\n",
       "num_rooms                                                                  \n",
       "0.0          1213   1222    1220       1220     1221   1222         1221   \n",
       "1.0          7863  10750   10745      10745    10746  10750        10746   \n",
       "2.0         10153  13997   13996      13996    13996  13997        13996   \n",
       "3.0          7561   9597    9597       9597     9597   9597         9597   \n",
       "4.0          4177   4831    4831       4831     4831   4831         4831   \n",
       "5.0          1412   1537    1537       1537     1537   1537         1537   \n",
       "6.0           483    529     529        529      529    529          529   \n",
       "\n",
       "           coord_len   link  \n",
       "num_rooms                    \n",
       "0.0             1221   1222  \n",
       "1.0            10746  10750  \n",
       "2.0            13996  13997  \n",
       "3.0             9597   9597  \n",
       "4.0             4831   4831  \n",
       "5.0             1537   1537  \n",
       "6.0              529    529  "
      ]
     },
     "execution_count": 11,
     "metadata": {},
     "output_type": "execute_result"
    }
   ],
   "source": [
    "df_raw.groupby('num_rooms').count()"
   ]
  },
  {
   "cell_type": "markdown",
   "id": "f962ad0e",
   "metadata": {},
   "source": [
    "## Работа с выбросами"
   ]
  },
  {
   "cell_type": "markdown",
   "id": "a938cfe0",
   "metadata": {},
   "source": [
    "Создадим словарь максимальных площадей квартир для каждого количества комнат .Максимальное значение будем брать, как 2 межквартильных расстояния, отложенное от верхнего квартиля, а не как обычно 1.5. А минимальное зададим вручную."
   ]
  },
  {
   "cell_type": "code",
   "execution_count": 12,
   "id": "4c501f33",
   "metadata": {},
   "outputs": [
    {
     "name": "stdout",
     "output_type": "stream",
     "text": [
      "boxplot for 0 rooms\n",
      "count    1222.000000\n",
      "mean       14.313421\n",
      "std        11.454105\n",
      "min         5.500000\n",
      "25%        10.000000\n",
      "50%        12.000000\n",
      "75%        17.000000\n",
      "max       343.000000\n",
      "Name: total_area, dtype: float64\n"
     ]
    },
    {
     "data": {
      "image/png": "[encoded data removed]",
      "text/plain": [
       "<Figure size 432x288 with 1 Axes>"
      ]
     },
     "metadata": {
      "needs_background": "light"
     },
     "output_type": "display_data"
    },
    {
     "name": "stdout",
     "output_type": "stream",
     "text": [
      "boxplot for 1 rooms\n",
      "count    10750.000000\n",
      "mean        22.424233\n",
      "std         25.521403\n",
      "min          5.000000\n",
      "25%         18.500000\n",
      "50%         20.500000\n",
      "75%         23.000000\n",
      "max       1050.000000\n",
      "Name: total_area, dtype: float64\n"
     ]
    },
    {
     "data": {
      "image/png": "[encoded data removed]",
      "text/plain": [
       "<Figure size 432x288 with 1 Axes>"
      ]
     },
     "metadata": {
      "needs_background": "light"
     },
     "output_type": "display_data"
    },
    {
     "name": "stdout",
     "output_type": "stream",
     "text": [
      "boxplot for 2 rooms\n",
      "count    13997.000000\n",
      "mean        31.061585\n",
      "std         11.055299\n",
      "min          9.500000\n",
      "25%         25.000000\n",
      "50%         29.000000\n",
      "75%         34.000000\n",
      "max        374.500000\n",
      "Name: total_area, dtype: float64\n"
     ]
    },
    {
     "data": {
      "image/png": "[encoded data removed]",
      "text/plain": [
       "<Figure size 432x288 with 1 Axes>"
      ]
     },
     "metadata": {
      "needs_background": "light"
     },
     "output_type": "display_data"
    },
    {
     "name": "stdout",
     "output_type": "stream",
     "text": [
      "boxplot for 3 rooms\n",
      "count    9597.000000\n",
      "mean       46.760759\n",
      "std        20.753164\n",
      "min        11.500000\n",
      "25%        35.500000\n",
      "50%        41.000000\n",
      "75%        50.500000\n",
      "max       429.000000\n",
      "Name: total_area, dtype: float64\n"
     ]
    },
    {
     "data": {
      "image/png": "[encoded data removed]",
      "text/plain": [
       "<Figure size 432x288 with 1 Axes>"
      ]
     },
     "metadata": {
      "needs_background": "light"
     },
     "output_type": "display_data"
    },
    {
     "name": "stdout",
     "output_type": "stream",
     "text": [
      "boxplot for 4 rooms\n",
      "count    4831.000000\n",
      "mean      105.593355\n",
      "std        55.392225\n",
      "min        22.500000\n",
      "25%        59.000000\n",
      "50%        97.000000\n",
      "75%       138.000000\n",
      "max       402.000000\n",
      "Name: total_area, dtype: float64\n"
     ]
    },
    {
     "data": {
      "image/png": "[encoded data removed]",
      "text/plain": [
       "<Figure size 432x288 with 1 Axes>"
      ]
     },
     "metadata": {
      "needs_background": "light"
     },
     "output_type": "display_data"
    },
    {
     "name": "stdout",
     "output_type": "stream",
     "text": [
      "boxplot for 6 rooms\n",
      "count     529.000000\n",
      "mean      240.840265\n",
      "std       142.362901\n",
      "min        52.000000\n",
      "25%       135.000000\n",
      "50%       215.000000\n",
      "75%       300.000000\n",
      "max      1040.000000\n",
      "Name: total_area, dtype: float64\n"
     ]
    },
    {
     "data": {
      "image/png": "[encoded data removed]",
      "text/plain": [
       "<Figure size 432x288 with 1 Axes>"
      ]
     },
     "metadata": {
      "needs_background": "light"
     },
     "output_type": "display_data"
    },
    {
     "name": "stdout",
     "output_type": "stream",
     "text": [
      "boxplot for 5 rooms\n",
      "count    1537.000000\n",
      "mean      165.135979\n",
      "std        90.526087\n",
      "min        22.000000\n",
      "25%       100.500000\n",
      "50%       145.000000\n",
      "75%       209.000000\n",
      "max       885.000000\n",
      "Name: total_area, dtype: float64\n"
     ]
    },
    {
     "data": {
      "image/png": "[encoded data removed]",
      "text/plain": [
       "<Figure size 432x288 with 1 Axes>"
      ]
     },
     "metadata": {
      "needs_background": "light"
     },
     "output_type": "display_data"
    },
    {
     "name": "stdout",
     "output_type": "stream",
     "text": [
      "{0.0: 31.0, 1.0: 32.0, 2.0: 52.0, 3.0: 80.5, 4.0: 296.0, 6.0: 630.0, 5.0: 426.0}\n"
     ]
    }
   ],
   "source": [
    "dict_max_ta={}\n",
    "dict_min_ta={}\n",
    "for i in df_raw.num_rooms.unique():\n",
    "    \n",
    "    print(f'boxplot for {int(i)} rooms')\n",
    "    sns.boxplot(x=df_raw[df_raw['num_rooms']==i]['total_area'])\n",
    "    desc_tab=df_raw[df_raw['num_rooms']==i]['total_area'].describe()\n",
    "    print(desc_tab)\n",
    "    dict_max_ta[i]=desc_tab['75%']+2*(desc_tab['75%']-desc_tab['25%'])\n",
    "    plt.show()\n",
    "dict_min_ta={0:7.0,1:12.0, 2:20.0,3:25.0, 4: 30.0, 5:35.0, 6:40.0}\n",
    "print(dict_max_ta)"
   ]
  },
  {
   "cell_type": "markdown",
   "id": "cf3c0e97",
   "metadata": {},
   "source": [
    "Создадим список индексов, которые нужно удалить"
   ]
  },
  {
   "cell_type": "code",
   "execution_count": 13,
   "id": "950b5271",
   "metadata": {},
   "outputs": [
    {
     "name": "stdout",
     "output_type": "stream",
     "text": [
      "Количество удаленных выбросов total_area: 2637\n"
     ]
    }
   ],
   "source": [
    "drop_index=[]\n",
    "for i in df_raw.num_rooms.unique():\n",
    "\n",
    "    drop_index.extend(df_raw[(df_raw['num_rooms']==i) & (df_raw['total_area']>dict_max_ta[i])].index.tolist())\n",
    "    drop_index.extend(df_raw[(df_raw['num_rooms']==i) & (df_raw['total_area']<dict_min_ta[i])].index.tolist())    \n",
    "df_raw=df_raw.drop(index=drop_index, axis=0)\n",
    "print(f'Количество удаленных выбросов total_area: {len(drop_index)}')"
   ]
  },
  {
   "cell_type": "markdown",
   "id": "bffa49df",
   "metadata": {},
   "source": [
    "Посмотрим распределение площадей для каждого количества комнат после удаления выбросов. Не стоит обращать внимания на то, что у нас слева есть выбросы, хотя по идее мы взяли 1.5 межквартильных расстояния, что и должно равняться расстоянию до \"уса\". Дело в том, что внизу получились новые боксплоты, с новыми межквартильными расстояниями."
   ]
  },
  {
   "cell_type": "code",
   "execution_count": 14,
   "id": "d01ce02f",
   "metadata": {},
   "outputs": [
    {
     "name": "stdout",
     "output_type": "stream",
     "text": [
      "boxplot for 0 rooms\n",
      "count    1168.000000\n",
      "mean       13.729024\n",
      "std         5.137441\n",
      "min         7.000000\n",
      "25%        10.000000\n",
      "50%        12.250000\n",
      "75%        16.000000\n",
      "max        31.000000\n",
      "Name: total_area, dtype: float64\n"
     ]
    },
    {
     "data": {
      "image/png": "[encoded data removed]",
      "text/plain": [
       "<Figure size 432x288 with 1 Axes>"
      ]
     },
     "metadata": {
      "needs_background": "light"
     },
     "output_type": "display_data"
    },
    {
     "name": "stdout",
     "output_type": "stream",
     "text": [
      "boxplot for 1 rooms\n",
      "count    9874.000000\n",
      "mean       20.613632\n",
      "std         3.349755\n",
      "min        12.000000\n",
      "25%        18.500000\n",
      "50%        20.500000\n",
      "75%        22.500000\n",
      "max        32.000000\n",
      "Name: total_area, dtype: float64\n"
     ]
    },
    {
     "data": {
      "image/png": "[encoded data removed]",
      "text/plain": [
       "<Figure size 432x288 with 1 Axes>"
      ]
     },
     "metadata": {
      "needs_background": "light"
     },
     "output_type": "display_data"
    },
    {
     "name": "stdout",
     "output_type": "stream",
     "text": [
      "boxplot for 2 rooms\n",
      "count    12953.000000\n",
      "mean        29.953601\n",
      "std          6.323039\n",
      "min         20.000000\n",
      "25%         25.500000\n",
      "50%         29.000000\n",
      "75%         33.000000\n",
      "max         52.000000\n",
      "Name: total_area, dtype: float64\n"
     ]
    },
    {
     "data": {
      "image/png": "[encoded data removed]",
      "text/plain": [
       "<Figure size 432x288 with 1 Axes>"
      ]
     },
     "metadata": {
      "needs_background": "light"
     },
     "output_type": "display_data"
    },
    {
     "name": "stdout",
     "output_type": "stream",
     "text": [
      "boxplot for 3 rooms\n",
      "count    9003.000000\n",
      "mean       42.929301\n",
      "std        11.626669\n",
      "min        25.000000\n",
      "25%        35.000000\n",
      "50%        40.000000\n",
      "75%        48.000000\n",
      "max        80.500000\n",
      "Name: total_area, dtype: float64\n"
     ]
    },
    {
     "data": {
      "image/png": "[encoded data removed]",
      "text/plain": [
       "<Figure size 432x288 with 1 Axes>"
      ]
     },
     "metadata": {
      "needs_background": "light"
     },
     "output_type": "display_data"
    },
    {
     "name": "stdout",
     "output_type": "stream",
     "text": [
      "boxplot for 4 rooms\n",
      "count    4799.000000\n",
      "mean      104.255678\n",
      "std        52.515832\n",
      "min        30.000000\n",
      "25%        59.000000\n",
      "50%        97.000000\n",
      "75%       138.000000\n",
      "max       296.000000\n",
      "Name: total_area, dtype: float64\n"
     ]
    },
    {
     "data": {
      "image/png": "[encoded data removed]",
      "text/plain": [
       "<Figure size 432x288 with 1 Axes>"
      ]
     },
     "metadata": {
      "needs_background": "light"
     },
     "output_type": "display_data"
    },
    {
     "name": "stdout",
     "output_type": "stream",
     "text": [
      "boxplot for 6 rooms\n",
      "count    515.000000\n",
      "mean     226.659223\n",
      "std      113.043154\n",
      "min       52.000000\n",
      "25%      135.000000\n",
      "50%      210.000000\n",
      "75%      294.250000\n",
      "max      610.000000\n",
      "Name: total_area, dtype: float64\n"
     ]
    },
    {
     "data": {
      "image/png": "[encoded data removed]",
      "text/plain": [
       "<Figure size 432x288 with 1 Axes>"
      ]
     },
     "metadata": {
      "needs_background": "light"
     },
     "output_type": "display_data"
    },
    {
     "name": "stdout",
     "output_type": "stream",
     "text": [
      "boxplot for 5 rooms\n",
      "count    1514.000000\n",
      "mean      159.818362\n",
      "std        78.071476\n",
      "min        38.000000\n",
      "25%       100.000000\n",
      "50%       144.000000\n",
      "75%       206.000000\n",
      "max       425.000000\n",
      "Name: total_area, dtype: float64\n"
     ]
    },
    {
     "data": {
      "image/png": "[encoded data removed]",
      "text/plain": [
       "<Figure size 432x288 with 1 Axes>"
      ]
     },
     "metadata": {
      "needs_background": "light"
     },
     "output_type": "display_data"
    }
   ],
   "source": [
    "for i in df_raw.num_rooms.unique():\n",
    "    \n",
    "    print(f'boxplot for {int(i)} rooms')\n",
    "    sns.boxplot(x=df_raw[df_raw['num_rooms']==i]['total_area'])\n",
    "    desc_tab=df_raw[df_raw['num_rooms']==i]['total_area'].describe()\n",
    "    print(desc_tab)\n",
    "\n",
    "    plt.show()"
   ]
  },
  {
   "cell_type": "markdown",
   "id": "a9d32cdc",
   "metadata": {},
   "source": [
    "Посмотрим распределение цены для каждого количества комнат "
   ]
  },
  {
   "cell_type": "code",
   "execution_count": 15,
   "id": "8e914d90",
   "metadata": {},
   "outputs": [
    {
     "name": "stdout",
     "output_type": "stream",
     "text": [
      "boxplot for 0 rooms\n",
      "count    1.168000e+03\n",
      "mean     5.408900e+06\n",
      "std      2.885119e+06\n",
      "min      2.300000e+06\n",
      "25%      3.650000e+06\n",
      "50%      4.450000e+06\n",
      "75%      5.792500e+06\n",
      "max      2.350000e+07\n",
      "Name: price, dtype: float64\n"
     ]
    },
    {
     "data": {
      "image/png": "[encoded data removed]",
      "text/plain": [
       "<Figure size 432x288 with 1 Axes>"
      ]
     },
     "metadata": {
      "needs_background": "light"
     },
     "output_type": "display_data"
    },
    {
     "name": "stdout",
     "output_type": "stream",
     "text": [
      "boxplot for 1 rooms\n",
      "count    9.874000e+03\n",
      "mean     1.187680e+07\n",
      "std      5.589060e+06\n",
      "min      6.000000e+04\n",
      "25%      8.500000e+06\n",
      "50%      1.030000e+07\n",
      "75%      1.350000e+07\n",
      "max      6.623440e+07\n",
      "Name: price, dtype: float64\n"
     ]
    },
    {
     "data": {
      "image/png": "[encoded data removed]",
      "text/plain": [
       "<Figure size 432x288 with 1 Axes>"
      ]
     },
     "metadata": {
      "needs_background": "light"
     },
     "output_type": "display_data"
    },
    {
     "name": "stdout",
     "output_type": "stream",
     "text": [
      "boxplot for 2 rooms\n",
      "count    1.295300e+04\n",
      "mean     1.860149e+07\n",
      "std      1.191029e+07\n",
      "min      1.150000e+04\n",
      "25%      1.150000e+07\n",
      "50%      1.485361e+07\n",
      "75%      2.220000e+07\n",
      "max      2.600000e+08\n",
      "Name: price, dtype: float64\n"
     ]
    },
    {
     "data": {
      "image/png": "[encoded data removed]",
      "text/plain": [
       "<Figure size 432x288 with 1 Axes>"
      ]
     },
     "metadata": {
      "needs_background": "light"
     },
     "output_type": "display_data"
    },
    {
     "name": "stdout",
     "output_type": "stream",
     "text": [
      "boxplot for 3 rooms\n",
      "count    9.003000e+03\n",
      "mean     3.044160e+07\n",
      "std      2.688627e+07\n",
      "min      1.000000e+00\n",
      "25%      1.530000e+07\n",
      "50%      2.170000e+07\n",
      "75%      3.567994e+07\n",
      "max      3.352327e+08\n",
      "Name: price, dtype: float64\n"
     ]
    },
    {
     "data": {
      "image/png": "[encoded data removed]",
      "text/plain": [
       "<Figure size 432x288 with 1 Axes>"
      ]
     },
     "metadata": {
      "needs_background": "light"
     },
     "output_type": "display_data"
    },
    {
     "name": "stdout",
     "output_type": "stream",
     "text": [
      "boxplot for 4 rooms\n",
      "count    4.799000e+03\n",
      "mean     8.633851e+07\n",
      "std      8.777313e+07\n",
      "min      1.800000e+06\n",
      "25%      3.353042e+07\n",
      "50%      5.890000e+07\n",
      "75%      1.090000e+08\n",
      "max      1.199133e+09\n",
      "Name: price, dtype: float64\n"
     ]
    },
    {
     "data": {
      "image/png": "[encoded data removed]",
      "text/plain": [
       "<Figure size 432x288 with 1 Axes>"
      ]
     },
     "metadata": {
      "needs_background": "light"
     },
     "output_type": "display_data"
    },
    {
     "name": "stdout",
     "output_type": "stream",
     "text": [
      "boxplot for 6 rooms\n",
      "count    5.150000e+02\n",
      "mean     2.238548e+08\n",
      "std      1.864666e+08\n",
      "min      2.298000e+07\n",
      "25%      9.500000e+07\n",
      "50%      1.610186e+08\n",
      "75%      3.000000e+08\n",
      "max      1.180000e+09\n",
      "Name: price, dtype: float64\n"
     ]
    },
    {
     "data": {
      "image/png": "[encoded data removed]",
      "text/plain": [
       "<Figure size 432x288 with 1 Axes>"
      ]
     },
     "metadata": {
      "needs_background": "light"
     },
     "output_type": "display_data"
    },
    {
     "name": "stdout",
     "output_type": "stream",
     "text": [
      "boxplot for 5 rooms\n",
      "count    1.514000e+03\n",
      "mean     1.545916e+08\n",
      "std      1.447366e+08\n",
      "min      2.000000e+06\n",
      "25%      6.960000e+07\n",
      "50%      1.099995e+08\n",
      "75%      1.980000e+08\n",
      "max      1.606380e+09\n",
      "Name: price, dtype: float64\n"
     ]
    },
    {
     "data": {
      "image/png": "[encoded data removed]",
      "text/plain": [
       "<Figure size 432x288 with 1 Axes>"
      ]
     },
     "metadata": {
      "needs_background": "light"
     },
     "output_type": "display_data"
    }
   ],
   "source": [
    "for i in df_raw.num_rooms.unique():\n",
    "    \n",
    "    print(f'boxplot for {int(i)} rooms')\n",
    "    sns.boxplot(x=df_raw[df_raw['num_rooms']==i]['price'])\n",
    "    desc_tab=df_raw[df_raw['num_rooms']==i]['price'].describe()\n",
    "    print(desc_tab)\n",
    "\n",
    "    plt.show()"
   ]
  },
  {
   "cell_type": "markdown",
   "id": "676450b5",
   "metadata": {},
   "source": [
    "Удалим записи со слишком высокими и низкими ценами."
   ]
  },
  {
   "cell_type": "code",
   "execution_count": 16,
   "id": "5b4df9fe",
   "metadata": {},
   "outputs": [
    {
     "name": "stdout",
     "output_type": "stream",
     "text": [
      "Количество удаленных выбросов price: 286\n"
     ]
    }
   ],
   "source": [
    "drop_price=[]\n",
    "drop_price.extend(df_raw[(df_raw['num_rooms']==1) &( (df_raw['price']>35000000) | (df_raw['price']<800000))].index.tolist())\n",
    "drop_price.extend(df_raw[(df_raw['num_rooms']==2) & ((df_raw['price']>80000000) | (df_raw['price']<1000000))].index.tolist())\n",
    "drop_price.extend(df_raw[(df_raw['num_rooms']==3) & ((df_raw['price']>150000000) | (df_raw['price']<2000000))].index.tolist())\n",
    "drop_price.extend(df_raw[(df_raw['num_rooms']==4) &( (df_raw['price']>400000000) | (df_raw['price']<4000000))].index.tolist())\n",
    "drop_price.extend(df_raw[(df_raw['num_rooms']==5) & ((df_raw['price']>600000000) | (df_raw['price']<10000000))].index.tolist())\n",
    "drop_price.extend(df_raw[(df_raw['num_rooms']==6) & ((df_raw['price']>800000000) | (df_raw['price']<15000000))].index.tolist())\n",
    "df_raw=df_raw.drop(index=drop_price, axis=0)\n",
    "print(f'Количество удаленных выбросов price: {len(drop_price)}')"
   ]
  },
  {
   "cell_type": "markdown",
   "id": "6a77f400",
   "metadata": {},
   "source": [
    "Посмотрим гистограмму цены для каждого количества комнат после удаления выбросов"
   ]
  },
  {
   "cell_type": "code",
   "execution_count": 17,
   "id": "3d5a2af8",
   "metadata": {},
   "outputs": [
    {
     "name": "stdout",
     "output_type": "stream",
     "text": [
      "boxplot for 0 rooms\n",
      "count    1.168000e+03\n",
      "mean     5.408900e+06\n",
      "std      2.885119e+06\n",
      "min      2.300000e+06\n",
      "25%      3.650000e+06\n",
      "50%      4.450000e+06\n",
      "75%      5.792500e+06\n",
      "max      2.350000e+07\n",
      "Name: price, dtype: float64\n"
     ]
    },
    {
     "data": {
      "image/png": "[encoded data removed]",
      "text/plain": [
       "<Figure size 432x288 with 1 Axes>"
      ]
     },
     "metadata": {
      "needs_background": "light"
     },
     "output_type": "display_data"
    },
    {
     "name": "stdout",
     "output_type": "stream",
     "text": [
      "boxplot for 1 rooms\n",
      "count    9.820000e+03\n",
      "mean     1.170247e+07\n",
      "std      5.021669e+06\n",
      "min      1.191000e+06\n",
      "25%      8.500000e+06\n",
      "50%      1.025000e+07\n",
      "75%      1.350000e+07\n",
      "max      3.500000e+07\n",
      "Name: price, dtype: float64\n"
     ]
    },
    {
     "data": {
      "image/png": "[encoded data removed]",
      "text/plain": [
       "<Figure size 432x288 with 1 Axes>"
      ]
     },
     "metadata": {
      "needs_background": "light"
     },
     "output_type": "display_data"
    },
    {
     "name": "stdout",
     "output_type": "stream",
     "text": [
      "boxplot for 2 rooms\n",
      "count    1.289000e+04\n",
      "mean     1.820488e+07\n",
      "std      1.018372e+07\n",
      "min      2.200000e+06\n",
      "25%      1.150000e+07\n",
      "50%      1.480000e+07\n",
      "75%      2.200000e+07\n",
      "max      8.000000e+07\n",
      "Name: price, dtype: float64\n"
     ]
    },
    {
     "data": {
      "image/png": "[encoded data removed]",
      "text/plain": [
       "<Figure size 432x288 with 1 Axes>"
      ]
     },
     "metadata": {
      "needs_background": "light"
     },
     "output_type": "display_data"
    },
    {
     "name": "stdout",
     "output_type": "stream",
     "text": [
      "boxplot for 3 rooms\n",
      "count    8.922000e+03\n",
      "mean     2.895915e+07\n",
      "std      2.121744e+07\n",
      "min      2.500000e+06\n",
      "25%      1.527030e+07\n",
      "50%      2.150000e+07\n",
      "75%      3.500000e+07\n",
      "max      1.500000e+08\n",
      "Name: price, dtype: float64\n"
     ]
    },
    {
     "data": {
      "image/png": "[encoded data removed]",
      "text/plain": [
       "<Figure size 432x288 with 1 Axes>"
      ]
     },
     "metadata": {
      "needs_background": "light"
     },
     "output_type": "display_data"
    },
    {
     "name": "stdout",
     "output_type": "stream",
     "text": [
      "boxplot for 4 rooms\n",
      "count    4.743000e+03\n",
      "mean     8.075565e+07\n",
      "std      6.849029e+07\n",
      "min      7.970000e+06\n",
      "25%      3.349900e+07\n",
      "50%      5.800000e+07\n",
      "75%      1.026200e+08\n",
      "max      3.850000e+08\n",
      "Name: price, dtype: float64\n"
     ]
    },
    {
     "data": {
      "image/png": "[encoded data removed]",
      "text/plain": [
       "<Figure size 432x288 with 1 Axes>"
      ]
     },
     "metadata": {
      "needs_background": "light"
     },
     "output_type": "display_data"
    },
    {
     "name": "stdout",
     "output_type": "stream",
     "text": [
      "boxplot for 6 rooms\n",
      "count    5.080000e+02\n",
      "mean     2.143771e+08\n",
      "std      1.684455e+08\n",
      "min      2.298000e+07\n",
      "25%      9.450000e+07\n",
      "50%      1.578268e+08\n",
      "75%      2.950000e+08\n",
      "max      7.860000e+08\n",
      "Name: price, dtype: float64\n"
     ]
    },
    {
     "data": {
      "image/png": "[encoded data removed]",
      "text/plain": [
       "<Figure size 432x288 with 1 Axes>"
      ]
     },
     "metadata": {
      "needs_background": "light"
     },
     "output_type": "display_data"
    },
    {
     "name": "stdout",
     "output_type": "stream",
     "text": [
      "boxplot for 5 rooms\n",
      "count    1.489000e+03\n",
      "mean     1.434477e+08\n",
      "std      1.092510e+08\n",
      "min      1.048448e+07\n",
      "25%      6.900000e+07\n",
      "50%      1.075314e+08\n",
      "75%      1.854000e+08\n",
      "max      5.950000e+08\n",
      "Name: price, dtype: float64\n"
     ]
    },
    {
     "data": {
      "image/png": "[encoded data removed]",
      "text/plain": [
       "<Figure size 432x288 with 1 Axes>"
      ]
     },
     "metadata": {
      "needs_background": "light"
     },
     "output_type": "display_data"
    }
   ],
   "source": [
    "for i in df_raw.num_rooms.unique():\n",
    "    \n",
    "    print(f'boxplot for {int(i)} rooms')\n",
    "    sns.histplot(x=df_raw[df_raw['num_rooms']==i]['price'])\n",
    "    desc_tab=df_raw[df_raw['num_rooms']==i]['price'].describe()\n",
    "    print(desc_tab)\n",
    "\n",
    "    plt.show()"
   ]
  },
  {
   "cell_type": "markdown",
   "id": "a5c88065",
   "metadata": {},
   "source": [
    "Построим диаграммы размахов для каждого числового признака"
   ]
  },
  {
   "cell_type": "code",
   "execution_count": 18,
   "id": "23deefac",
   "metadata": {},
   "outputs": [
    {
     "data": {
      "image/png": "[encoded data removed]",
      "text/plain": [
       "<Figure size 432x288 with 1 Axes>"
      ]
     },
     "metadata": {
      "needs_background": "light"
     },
     "output_type": "display_data"
    },
    {
     "data": {
      "image/png": "[encoded data removed]",
      "text/plain": [
       "<Figure size 432x288 with 1 Axes>"
      ]
     },
     "metadata": {
      "needs_background": "light"
     },
     "output_type": "display_data"
    },
    {
     "data": {
      "image/png": "[encoded data removed]",
      "text/plain": [
       "<Figure size 432x288 with 1 Axes>"
      ]
     },
     "metadata": {
      "needs_background": "light"
     },
     "output_type": "display_data"
    },
    {
     "data": {
      "image/png": "[encoded data removed]",
      "text/plain": [
       "<Figure size 432x288 with 1 Axes>"
      ]
     },
     "metadata": {
      "needs_background": "light"
     },
     "output_type": "display_data"
    },
    {
     "data": {
      "image/png": "[encoded data removed]",
      "text/plain": [
       "<Figure size 432x288 with 1 Axes>"
      ]
     },
     "metadata": {
      "needs_background": "light"
     },
     "output_type": "display_data"
    },
    {
     "data": {
      "image/png": "[encoded data removed]",
      "text/plain": [
       "<Figure size 432x288 with 1 Axes>"
      ]
     },
     "metadata": {
      "needs_background": "light"
     },
     "output_type": "display_data"
    },
    {
     "data": {
      "image/png": "[encoded data removed]",
      "text/plain": [
       "<Figure size 432x288 with 1 Axes>"
      ]
     },
     "metadata": {
      "needs_background": "light"
     },
     "output_type": "display_data"
    },
    {
     "data": {
      "image/png": "[encoded data removed]",
      "text/plain": [
       "<Figure size 432x288 with 1 Axes>"
      ]
     },
     "metadata": {
      "needs_background": "light"
     },
     "output_type": "display_data"
    }
   ],
   "source": [
    "for i in num_col:\n",
    "    sns.boxplot(x=i, data=df_raw)\n",
    "    plt.show()"
   ]
  },
  {
   "cell_type": "markdown",
   "id": "22b9d74c",
   "metadata": {},
   "source": [
    "Все числовые признаки распределены приемлимо, кроме года постройки и времени до метро. Присвоим nan значения для признака 'year_house', значения которого меньше 1750, потому что эти значения возникли явно из-за ошибок во время парсинга. Удаоим значения, время до метро у которых больше 40 минут."
   ]
  },
  {
   "cell_type": "code",
   "execution_count": 19,
   "id": "5370ff4b",
   "metadata": {},
   "outputs": [
    {
     "name": "stdout",
     "output_type": "stream",
     "text": [
      "Количество выбросов для времени до метро: 208\n"
     ]
    }
   ],
   "source": [
    "df_raw.loc[df_raw['year_house']<1750,'year_house']=np.nan\n",
    "drop_time=[]\n",
    "drop_time.extend(df_raw.loc[df_raw['time_to_metro']>40.0,:].index.to_list())\n",
    "df_raw=df_raw.drop(index=drop_time, axis=0)\n",
    "print(f\"Количество выбросов для времени до метро: {len(drop_time)}\")"
   ]
  },
  {
   "cell_type": "markdown",
   "id": "9669d6d1",
   "metadata": {},
   "source": [
    "Посмотрим распределение цены"
   ]
  },
  {
   "cell_type": "code",
   "execution_count": 20,
   "id": "d4843c93",
   "metadata": {},
   "outputs": [
    {
     "data": {
      "image/png": "[encoded data removed]",
      "text/plain": [
       "<Figure size 432x288 with 1 Axes>"
      ]
     },
     "metadata": {
      "needs_background": "light"
     },
     "output_type": "display_data"
    }
   ],
   "source": [
    "sns.histplot(x='price', data=df_raw)\n",
    "plt.show()"
   ]
  },
  {
   "cell_type": "markdown",
   "id": "9d3924e3",
   "metadata": {},
   "source": [
    "Посмотрим распределение цены за квадратный метр"
   ]
  },
  {
   "cell_type": "code",
   "execution_count": 21,
   "id": "ca0bfb3e",
   "metadata": {},
   "outputs": [
    {
     "data": {
      "text/plain": [
       "<AxesSubplot:ylabel='Count'>"
      ]
     },
     "execution_count": 21,
     "metadata": {},
     "output_type": "execute_result"
    },
    {
     "data": {
      "image/png": "[encoded data removed]",
      "text/plain": [
       "<Figure size 432x288 with 1 Axes>"
      ]
     },
     "metadata": {
      "needs_background": "light"
     },
     "output_type": "display_data"
    }
   ],
   "source": [
    "sns.histplot(x=df_raw['price']/df_raw['total_area'])"
   ]
  },
  {
   "cell_type": "markdown",
   "id": "43bf1ae4",
   "metadata": {},
   "source": [
    "Удалим слишком высокие цены за квадратный метр"
   ]
  },
  {
   "cell_type": "code",
   "execution_count": 22,
   "id": "b78cdce4",
   "metadata": {},
   "outputs": [
    {
     "data": {
      "text/plain": [
       "<AxesSubplot:ylabel='Count'>"
      ]
     },
     "execution_count": 22,
     "metadata": {},
     "output_type": "execute_result"
    },
    {
     "data": {
      "image/png": "[encoded data removed]",
      "text/plain": [
       "<Figure size 432x288 with 1 Axes>"
      ]
     },
     "metadata": {
      "needs_background": "light"
     },
     "output_type": "display_data"
    }
   ],
   "source": [
    "a=df_raw['price']/df_raw['total_area']>1400000\n",
    "drop_sqm=list(filter(lambda x: a[x], a.index))\n",
    "df_raw=df_raw.drop(drop_sqm)\n",
    "sns.histplot(x=df_raw['price']/df_raw['total_area'], kde=True)"
   ]
  },
  {
   "cell_type": "markdown",
   "id": "dd746004",
   "metadata": {},
   "source": [
    "Построим boxplot для цены за кв. м."
   ]
  },
  {
   "cell_type": "code",
   "execution_count": 23,
   "id": "692056db",
   "metadata": {},
   "outputs": [
    {
     "data": {
      "text/html": [
       "<div>\n",
       "<style scoped>\n",
       "    .dataframe tbody tr th:only-of-type {\n",
       "        vertical-align: middle;\n",
       "    }\n",
       "\n",
       "    .dataframe tbody tr th {\n",
       "        vertical-align: top;\n",
       "    }\n",
       "\n",
       "    .dataframe thead th {\n",
       "        text-align: right;\n",
       "    }\n",
       "</style>\n",
       "<table border=\"1\" class=\"dataframe\">\n",
       "  <thead>\n",
       "    <tr style=\"text-align: right;\">\n",
       "      <th></th>\n",
       "      <th>metro_name</th>\n",
       "      <th>time_to_metro</th>\n",
       "      <th>total_area</th>\n",
       "      <th>year_house</th>\n",
       "      <th>kitchen_area</th>\n",
       "      <th>repair</th>\n",
       "      <th>price</th>\n",
       "      <th>floors</th>\n",
       "      <th>num_floor</th>\n",
       "      <th>address</th>\n",
       "      <th>date</th>\n",
       "      <th>coord_width</th>\n",
       "      <th>coord_len</th>\n",
       "      <th>link</th>\n",
       "    </tr>\n",
       "    <tr>\n",
       "      <th>num_rooms</th>\n",
       "      <th></th>\n",
       "      <th></th>\n",
       "      <th></th>\n",
       "      <th></th>\n",
       "      <th></th>\n",
       "      <th></th>\n",
       "      <th></th>\n",
       "      <th></th>\n",
       "      <th></th>\n",
       "      <th></th>\n",
       "      <th></th>\n",
       "      <th></th>\n",
       "      <th></th>\n",
       "      <th></th>\n",
       "    </tr>\n",
       "  </thead>\n",
       "  <tbody>\n",
       "    <tr>\n",
       "      <th>0.0</th>\n",
       "      <td>1150</td>\n",
       "      <td>1150</td>\n",
       "      <td>1168</td>\n",
       "      <td>909</td>\n",
       "      <td>1</td>\n",
       "      <td>1159</td>\n",
       "      <td>1168</td>\n",
       "      <td>1166</td>\n",
       "      <td>1166</td>\n",
       "      <td>1167</td>\n",
       "      <td>1168</td>\n",
       "      <td>1167</td>\n",
       "      <td>1167</td>\n",
       "      <td>1168</td>\n",
       "    </tr>\n",
       "    <tr>\n",
       "      <th>1.0</th>\n",
       "      <td>9140</td>\n",
       "      <td>9250</td>\n",
       "      <td>9775</td>\n",
       "      <td>4371</td>\n",
       "      <td>9555</td>\n",
       "      <td>6978</td>\n",
       "      <td>9775</td>\n",
       "      <td>9771</td>\n",
       "      <td>9771</td>\n",
       "      <td>9772</td>\n",
       "      <td>9775</td>\n",
       "      <td>9772</td>\n",
       "      <td>9772</td>\n",
       "      <td>9775</td>\n",
       "    </tr>\n",
       "    <tr>\n",
       "      <th>2.0</th>\n",
       "      <td>11774</td>\n",
       "      <td>11982</td>\n",
       "      <td>12613</td>\n",
       "      <td>5627</td>\n",
       "      <td>12372</td>\n",
       "      <td>8994</td>\n",
       "      <td>12613</td>\n",
       "      <td>12612</td>\n",
       "      <td>12612</td>\n",
       "      <td>12612</td>\n",
       "      <td>12613</td>\n",
       "      <td>12612</td>\n",
       "      <td>12612</td>\n",
       "      <td>12613</td>\n",
       "    </tr>\n",
       "    <tr>\n",
       "      <th>3.0</th>\n",
       "      <td>8077</td>\n",
       "      <td>8192</td>\n",
       "      <td>8470</td>\n",
       "      <td>4028</td>\n",
       "      <td>8317</td>\n",
       "      <td>6495</td>\n",
       "      <td>8470</td>\n",
       "      <td>8470</td>\n",
       "      <td>8470</td>\n",
       "      <td>8470</td>\n",
       "      <td>8470</td>\n",
       "      <td>8470</td>\n",
       "      <td>8470</td>\n",
       "      <td>8470</td>\n",
       "    </tr>\n",
       "    <tr>\n",
       "      <th>4.0</th>\n",
       "      <td>4115</td>\n",
       "      <td>4125</td>\n",
       "      <td>4193</td>\n",
       "      <td>2008</td>\n",
       "      <td>4183</td>\n",
       "      <td>3587</td>\n",
       "      <td>4193</td>\n",
       "      <td>4193</td>\n",
       "      <td>4193</td>\n",
       "      <td>4193</td>\n",
       "      <td>4193</td>\n",
       "      <td>4193</td>\n",
       "      <td>4193</td>\n",
       "      <td>4193</td>\n",
       "    </tr>\n",
       "    <tr>\n",
       "      <th>5.0</th>\n",
       "      <td>1209</td>\n",
       "      <td>1209</td>\n",
       "      <td>1216</td>\n",
       "      <td>551</td>\n",
       "      <td>1215</td>\n",
       "      <td>1119</td>\n",
       "      <td>1216</td>\n",
       "      <td>1216</td>\n",
       "      <td>1216</td>\n",
       "      <td>1216</td>\n",
       "      <td>1216</td>\n",
       "      <td>1216</td>\n",
       "      <td>1216</td>\n",
       "      <td>1216</td>\n",
       "    </tr>\n",
       "    <tr>\n",
       "      <th>6.0</th>\n",
       "      <td>398</td>\n",
       "      <td>398</td>\n",
       "      <td>401</td>\n",
       "      <td>177</td>\n",
       "      <td>401</td>\n",
       "      <td>363</td>\n",
       "      <td>401</td>\n",
       "      <td>401</td>\n",
       "      <td>401</td>\n",
       "      <td>401</td>\n",
       "      <td>401</td>\n",
       "      <td>401</td>\n",
       "      <td>401</td>\n",
       "      <td>401</td>\n",
       "    </tr>\n",
       "  </tbody>\n",
       "</table>\n",
       "</div>"
      ],
      "text/plain": [
       "           metro_name  time_to_metro  total_area  year_house  kitchen_area  \\\n",
       "num_rooms                                                                    \n",
       "0.0              1150           1150        1168         909             1   \n",
       "1.0              9140           9250        9775        4371          9555   \n",
       "2.0             11774          11982       12613        5627         12372   \n",
       "3.0              8077           8192        8470        4028          8317   \n",
       "4.0              4115           4125        4193        2008          4183   \n",
       "5.0              1209           1209        1216         551          1215   \n",
       "6.0               398            398         401         177           401   \n",
       "\n",
       "           repair  price  floors  num_floor  address   date  coord_width  \\\n",
       "num_rooms                                                                  \n",
       "0.0          1159   1168    1166       1166     1167   1168         1167   \n",
       "1.0          6978   9775    9771       9771     9772   9775         9772   \n",
       "2.0          8994  12613   12612      12612    12612  12613        12612   \n",
       "3.0          6495   8470    8470       8470     8470   8470         8470   \n",
       "4.0          3587   4193    4193       4193     4193   4193         4193   \n",
       "5.0          1119   1216    1216       1216     1216   1216         1216   \n",
       "6.0           363    401     401        401      401    401          401   \n",
       "\n",
       "           coord_len   link  \n",
       "num_rooms                    \n",
       "0.0             1167   1168  \n",
       "1.0             9772   9775  \n",
       "2.0            12612  12613  \n",
       "3.0             8470   8470  \n",
       "4.0             4193   4193  \n",
       "5.0             1216   1216  \n",
       "6.0              401    401  "
      ]
     },
     "execution_count": 23,
     "metadata": {},
     "output_type": "execute_result"
    }
   ],
   "source": [
    "df_raw.groupby('num_rooms').count()"
   ]
  },
  {
   "cell_type": "code",
   "execution_count": 24,
   "id": "3ffa2b1a",
   "metadata": {},
   "outputs": [
    {
     "data": {
      "image/png": "[encoded data removed]",
      "text/plain": [
       "<Figure size 432x288 with 1 Axes>"
      ]
     },
     "metadata": {
      "needs_background": "light"
     },
     "output_type": "display_data"
    }
   ],
   "source": [
    "with warnings.catch_warnings():\n",
    "    warnings.simplefilter(\"ignore\")\n",
    "    sns.boxplot(df_raw['price']/df_raw['total_area'])"
   ]
  },
  {
   "cell_type": "code",
   "execution_count": 25,
   "id": "549cdc4f",
   "metadata": {},
   "outputs": [
    {
     "data": {
      "text/html": [
       "<div>\n",
       "<style scoped>\n",
       "    .dataframe tbody tr th:only-of-type {\n",
       "        vertical-align: middle;\n",
       "    }\n",
       "\n",
       "    .dataframe tbody tr th {\n",
       "        vertical-align: top;\n",
       "    }\n",
       "\n",
       "    .dataframe thead th {\n",
       "        text-align: right;\n",
       "    }\n",
       "</style>\n",
       "<table border=\"1\" class=\"dataframe\">\n",
       "  <thead>\n",
       "    <tr style=\"text-align: right;\">\n",
       "      <th></th>\n",
       "      <th>metro_name</th>\n",
       "      <th>time_to_metro</th>\n",
       "      <th>total_area</th>\n",
       "      <th>year_house</th>\n",
       "      <th>kitchen_area</th>\n",
       "      <th>repair</th>\n",
       "      <th>price</th>\n",
       "      <th>floors</th>\n",
       "      <th>num_floor</th>\n",
       "      <th>address</th>\n",
       "      <th>date</th>\n",
       "      <th>coord_width</th>\n",
       "      <th>coord_len</th>\n",
       "      <th>link</th>\n",
       "    </tr>\n",
       "    <tr>\n",
       "      <th>num_rooms</th>\n",
       "      <th></th>\n",
       "      <th></th>\n",
       "      <th></th>\n",
       "      <th></th>\n",
       "      <th></th>\n",
       "      <th></th>\n",
       "      <th></th>\n",
       "      <th></th>\n",
       "      <th></th>\n",
       "      <th></th>\n",
       "      <th></th>\n",
       "      <th></th>\n",
       "      <th></th>\n",
       "      <th></th>\n",
       "    </tr>\n",
       "  </thead>\n",
       "  <tbody>\n",
       "    <tr>\n",
       "      <th>0.0</th>\n",
       "      <td>1150</td>\n",
       "      <td>1150</td>\n",
       "      <td>1168</td>\n",
       "      <td>909</td>\n",
       "      <td>1</td>\n",
       "      <td>1159</td>\n",
       "      <td>1168</td>\n",
       "      <td>1166</td>\n",
       "      <td>1166</td>\n",
       "      <td>1167</td>\n",
       "      <td>1168</td>\n",
       "      <td>1167</td>\n",
       "      <td>1167</td>\n",
       "      <td>1168</td>\n",
       "    </tr>\n",
       "    <tr>\n",
       "      <th>1.0</th>\n",
       "      <td>9140</td>\n",
       "      <td>9250</td>\n",
       "      <td>9775</td>\n",
       "      <td>4371</td>\n",
       "      <td>9555</td>\n",
       "      <td>6978</td>\n",
       "      <td>9775</td>\n",
       "      <td>9771</td>\n",
       "      <td>9771</td>\n",
       "      <td>9772</td>\n",
       "      <td>9775</td>\n",
       "      <td>9772</td>\n",
       "      <td>9772</td>\n",
       "      <td>9775</td>\n",
       "    </tr>\n",
       "    <tr>\n",
       "      <th>2.0</th>\n",
       "      <td>11774</td>\n",
       "      <td>11982</td>\n",
       "      <td>12613</td>\n",
       "      <td>5627</td>\n",
       "      <td>12372</td>\n",
       "      <td>8994</td>\n",
       "      <td>12613</td>\n",
       "      <td>12612</td>\n",
       "      <td>12612</td>\n",
       "      <td>12612</td>\n",
       "      <td>12613</td>\n",
       "      <td>12612</td>\n",
       "      <td>12612</td>\n",
       "      <td>12613</td>\n",
       "    </tr>\n",
       "    <tr>\n",
       "      <th>3.0</th>\n",
       "      <td>8077</td>\n",
       "      <td>8192</td>\n",
       "      <td>8470</td>\n",
       "      <td>4028</td>\n",
       "      <td>8317</td>\n",
       "      <td>6495</td>\n",
       "      <td>8470</td>\n",
       "      <td>8470</td>\n",
       "      <td>8470</td>\n",
       "      <td>8470</td>\n",
       "      <td>8470</td>\n",
       "      <td>8470</td>\n",
       "      <td>8470</td>\n",
       "      <td>8470</td>\n",
       "    </tr>\n",
       "    <tr>\n",
       "      <th>4.0</th>\n",
       "      <td>4115</td>\n",
       "      <td>4125</td>\n",
       "      <td>4193</td>\n",
       "      <td>2008</td>\n",
       "      <td>4183</td>\n",
       "      <td>3587</td>\n",
       "      <td>4193</td>\n",
       "      <td>4193</td>\n",
       "      <td>4193</td>\n",
       "      <td>4193</td>\n",
       "      <td>4193</td>\n",
       "      <td>4193</td>\n",
       "      <td>4193</td>\n",
       "      <td>4193</td>\n",
       "    </tr>\n",
       "    <tr>\n",
       "      <th>5.0</th>\n",
       "      <td>1209</td>\n",
       "      <td>1209</td>\n",
       "      <td>1216</td>\n",
       "      <td>551</td>\n",
       "      <td>1215</td>\n",
       "      <td>1119</td>\n",
       "      <td>1216</td>\n",
       "      <td>1216</td>\n",
       "      <td>1216</td>\n",
       "      <td>1216</td>\n",
       "      <td>1216</td>\n",
       "      <td>1216</td>\n",
       "      <td>1216</td>\n",
       "      <td>1216</td>\n",
       "    </tr>\n",
       "    <tr>\n",
       "      <th>6.0</th>\n",
       "      <td>398</td>\n",
       "      <td>398</td>\n",
       "      <td>401</td>\n",
       "      <td>177</td>\n",
       "      <td>401</td>\n",
       "      <td>363</td>\n",
       "      <td>401</td>\n",
       "      <td>401</td>\n",
       "      <td>401</td>\n",
       "      <td>401</td>\n",
       "      <td>401</td>\n",
       "      <td>401</td>\n",
       "      <td>401</td>\n",
       "      <td>401</td>\n",
       "    </tr>\n",
       "  </tbody>\n",
       "</table>\n",
       "</div>"
      ],
      "text/plain": [
       "           metro_name  time_to_metro  total_area  year_house  kitchen_area  \\\n",
       "num_rooms                                                                    \n",
       "0.0              1150           1150        1168         909             1   \n",
       "1.0              9140           9250        9775        4371          9555   \n",
       "2.0             11774          11982       12613        5627         12372   \n",
       "3.0              8077           8192        8470        4028          8317   \n",
       "4.0              4115           4125        4193        2008          4183   \n",
       "5.0              1209           1209        1216         551          1215   \n",
       "6.0               398            398         401         177           401   \n",
       "\n",
       "           repair  price  floors  num_floor  address   date  coord_width  \\\n",
       "num_rooms                                                                  \n",
       "0.0          1159   1168    1166       1166     1167   1168         1167   \n",
       "1.0          6978   9775    9771       9771     9772   9775         9772   \n",
       "2.0          8994  12613   12612      12612    12612  12613        12612   \n",
       "3.0          6495   8470    8470       8470     8470   8470         8470   \n",
       "4.0          3587   4193    4193       4193     4193   4193         4193   \n",
       "5.0          1119   1216    1216       1216     1216   1216         1216   \n",
       "6.0           363    401     401        401      401    401          401   \n",
       "\n",
       "           coord_len   link  \n",
       "num_rooms                    \n",
       "0.0             1167   1168  \n",
       "1.0             9772   9775  \n",
       "2.0            12612  12613  \n",
       "3.0             8470   8470  \n",
       "4.0             4193   4193  \n",
       "5.0             1216   1216  \n",
       "6.0              401    401  "
      ]
     },
     "execution_count": 25,
     "metadata": {},
     "output_type": "execute_result"
    }
   ],
   "source": [
    "df_raw.groupby('num_rooms').count()"
   ]
  },
  {
   "cell_type": "code",
   "execution_count": null,
   "id": "9093ec63",
   "metadata": {},
   "outputs": [],
   "source": []
  },
  {
   "cell_type": "markdown",
   "id": "e7e9d0b4",
   "metadata": {},
   "source": [
    "## Обработка nan значений"
   ]
  },
  {
   "cell_type": "markdown",
   "id": "1c221b18",
   "metadata": {},
   "source": [
    "Распределение nan значений по признакам"
   ]
  },
  {
   "cell_type": "code",
   "execution_count": 26,
   "id": "c10c8fd0",
   "metadata": {},
   "outputs": [
    {
     "data": {
      "image/png": "[encoded data removed]",
      "text/plain": [
       "<Figure size 1152x576 with 1 Axes>"
      ]
     },
     "metadata": {
      "needs_background": "light"
     },
     "output_type": "display_data"
    }
   ],
   "source": [
    "    plt.figure(figsize=(16, 8))\n",
    "    a=df_raw.isna().sum().sort_values()[::-1]\n",
    "\n",
    "    sns.barplot(x=a.values, y=a.index)\n",
    "\n",
    "    plt.show()"
   ]
  },
  {
   "cell_type": "markdown",
   "id": "5f4d9799",
   "metadata": {},
   "source": [
    "Построим корреляцию между 'year_house' и 'price'. Проверим jочищенный от nan значений признак 'year_house' на отсутсвие зависимости с таргетом. Ориентироваться будем на p-value."
   ]
  },
  {
   "cell_type": "code",
   "execution_count": 27,
   "id": "d15425a1",
   "metadata": {},
   "outputs": [
    {
     "name": "stdout",
     "output_type": "stream",
     "text": [
      "0.09809311569467706\n",
      "                            OLS Regression Results                            \n",
      "==============================================================================\n",
      "Dep. Variable:                  price   R-squared:                       0.010\n",
      "Model:                            OLS   Adj. R-squared:                  0.010\n",
      "Method:                 Least Squares   F-statistic:                     171.7\n",
      "Date:                Fri, 12 May 2023   Prob (F-statistic):           4.86e-39\n",
      "Time:                        15:50:21   Log-Likelihood:            -3.3122e+05\n",
      "No. Observations:               17671   AIC:                         6.624e+05\n",
      "Df Residuals:                   17669   BIC:                         6.625e+05\n",
      "Df Model:                           1                                         \n",
      "Covariance Type:            nonrobust                                         \n",
      "==============================================================================\n",
      "                 coef    std err          t      P>|t|      [0.025      0.975]\n",
      "------------------------------------------------------------------------------\n",
      "const      -2.148e+08   1.83e+07    -11.752      0.000   -2.51e+08   -1.79e+08\n",
      "year_house  1.203e+05   9185.203     13.102      0.000    1.02e+05    1.38e+05\n",
      "==============================================================================\n",
      "Omnibus:                    18189.314   Durbin-Watson:                   1.088\n",
      "Prob(Omnibus):                  0.000   Jarque-Bera (JB):          1161817.601\n",
      "Skew:                           5.183   Prob(JB):                         0.00\n",
      "Kurtosis:                      41.347   Cond. No.                     1.45e+05\n",
      "==============================================================================\n",
      "\n",
      "Notes:\n",
      "[1] Standard Errors assume that the covariance matrix of the errors is correctly specified.\n",
      "[2] The condition number is large, 1.45e+05. This might indicate that there are\n",
      "strong multicollinearity or other numerical problems.\n"
     ]
    }
   ],
   "source": [
    "df_time=df_raw.dropna(subset=['year_house'])\n",
    "print(df_time.corr()['year_house']['price'])\n",
    "y=df_time['price']\n",
    "x=df_time['year_house']\n",
    "x=sm.add_constant(x)\n",
    "model = sm.OLS(y, x).fit()\n",
    "print(model.summary())"
   ]
  },
  {
   "cell_type": "code",
   "execution_count": 28,
   "id": "a12357b3",
   "metadata": {},
   "outputs": [
    {
     "data": {
      "image/png": "[encoded data removed]",
      "text/plain": [
       "<Figure size 432x288 with 1 Axes>"
      ]
     },
     "metadata": {
      "needs_background": "light"
     },
     "output_type": "display_data"
    }
   ],
   "source": [
    "plt.plot(df_time['year_house'], df_time['price'], '.')\n",
    "plt.xlabel('year_house')\n",
    "plt.ylabel('price')\n",
    "plt.show()"
   ]
  },
  {
   "cell_type": "markdown",
   "id": "d6439f7b",
   "metadata": {},
   "source": [
    "Замена nan и слишком низких значений в годе постройки. Кодировать будем минимальным значением. Из-за строения решаюшего дерева этот подход жизнеспособен, так как будет отправлять все nan значения в один лист."
   ]
  },
  {
   "cell_type": "code",
   "execution_count": 29,
   "id": "d0041291",
   "metadata": {},
   "outputs": [],
   "source": [
    "df_raw['year_house'].fillna(1700, inplace=True)"
   ]
  },
  {
   "cell_type": "markdown",
   "id": "44071572",
   "metadata": {},
   "source": [
    "Проверка оставшихся nan значений"
   ]
  },
  {
   "cell_type": "code",
   "execution_count": 30,
   "id": "120dc665",
   "metadata": {},
   "outputs": [
    {
     "data": {
      "text/plain": [
       "metro_name       1973\n",
       "time_to_metro    1530\n",
       "num_rooms           0\n",
       "total_area          0\n",
       "year_house          0\n",
       "kitchen_area     1792\n",
       "repair           9141\n",
       "price               0\n",
       "floors              7\n",
       "num_floor           7\n",
       "address             5\n",
       "date                0\n",
       "coord_width         5\n",
       "coord_len           5\n",
       "link                0\n",
       "dtype: int64"
      ]
     },
     "execution_count": 30,
     "metadata": {},
     "output_type": "execute_result"
    }
   ],
   "source": [
    "df_raw.isna().sum()"
   ]
  },
  {
   "cell_type": "markdown",
   "id": "d22fd7cf",
   "metadata": {},
   "source": [
    "Замена nan значений площади кухни. Будем пользоваться тем же методом, что и с 'year_house'."
   ]
  },
  {
   "cell_type": "markdown",
   "id": "48b4a143",
   "metadata": {},
   "source": [
    "Заполним nan значения в ремонте. Вероятно, что пользователь, когда не оставлял информацию о ремонте, сам не знал, какой у него именно ремонт, так как ремонт ничем не выделялся, то есть три последнии категории не подходят. Но так как это вторичка и ремонт не может быть идеальным, скорее всего требуется косметический ремонт."
   ]
  },
  {
   "cell_type": "code",
   "execution_count": 31,
   "id": "f1bfcb3a",
   "metadata": {},
   "outputs": [
    {
     "name": "stdout",
     "output_type": "stream",
     "text": [
      "косметический      9564\n",
      "евро               7909\n",
      "требует ремонта    6447\n",
      "дизайнерский       4775\n",
      "Name: repair, dtype: int64\n"
     ]
    }
   ],
   "source": [
    "print(df_raw['repair'].value_counts())\n",
    "df_raw['repair']=df_raw['repair'].fillna('косметический')\n"
   ]
  },
  {
   "cell_type": "markdown",
   "id": "3861e5ad",
   "metadata": {},
   "source": [
    "Проверка оставшихся nan значений"
   ]
  },
  {
   "cell_type": "code",
   "execution_count": 32,
   "id": "4a20059a",
   "metadata": {},
   "outputs": [
    {
     "data": {
      "image/png": "[encoded data removed]",
      "text/plain": [
       "<Figure size 1152x576 with 1 Axes>"
      ]
     },
     "metadata": {
      "needs_background": "light"
     },
     "output_type": "display_data"
    }
   ],
   "source": [
    "plt.figure(figsize=(16, 8))\n",
    "a=df_raw.isna().sum().sort_values()[::-1]\n",
    "\n",
    "sns.barplot(x=a.values, y=a.index)\n",
    "plt.xlabel('Количество nan значений')\n",
    "plt.show()"
   ]
  },
  {
   "cell_type": "markdown",
   "id": "4e8ddd9b",
   "metadata": {},
   "source": [
    "Поступим с оставшимися nan значениями также, как и с годом постройки"
   ]
  },
  {
   "cell_type": "code",
   "execution_count": 33,
   "id": "d807be46",
   "metadata": {},
   "outputs": [],
   "source": [
    "df_raw['kitchen_area']=df_raw['kitchen_area'].fillna(0)\n",
    "df_raw['metro_name']=df_raw['metro_name'].fillna('')\n",
    "df_raw['time_to_metro']=df_raw['time_to_metro'].fillna(-1)"
   ]
  },
  {
   "cell_type": "code",
   "execution_count": 34,
   "id": "6c78f2da",
   "metadata": {},
   "outputs": [
    {
     "data": {
      "text/plain": [
       "metro_name       0\n",
       "time_to_metro    0\n",
       "num_rooms        0\n",
       "total_area       0\n",
       "year_house       0\n",
       "kitchen_area     0\n",
       "repair           0\n",
       "price            0\n",
       "floors           7\n",
       "num_floor        7\n",
       "address          5\n",
       "date             0\n",
       "coord_width      5\n",
       "coord_len        5\n",
       "link             0\n",
       "dtype: int64"
      ]
     },
     "execution_count": 34,
     "metadata": {},
     "output_type": "execute_result"
    }
   ],
   "source": [
    "df_raw.isna().sum()"
   ]
  },
  {
   "cell_type": "markdown",
   "id": "3139524c",
   "metadata": {},
   "source": [
    "Удалим оставшиеся nan значения, так как их не так много."
   ]
  },
  {
   "cell_type": "code",
   "execution_count": 35,
   "id": "9bcc9fe0",
   "metadata": {},
   "outputs": [
    {
     "data": {
      "text/plain": [
       "(37829, 15)"
      ]
     },
     "execution_count": 35,
     "metadata": {},
     "output_type": "execute_result"
    }
   ],
   "source": [
    "df_raw=df_raw.dropna()\n",
    "df_raw.shape"
   ]
  },
  {
   "cell_type": "markdown",
   "id": "1580fe78",
   "metadata": {},
   "source": [
    "Сократим немного наши данные."
   ]
  },
  {
   "cell_type": "code",
   "execution_count": 36,
   "id": "d80c73c7",
   "metadata": {},
   "outputs": [
    {
     "data": {
      "text/html": [
       "<div>\n",
       "<style scoped>\n",
       "    .dataframe tbody tr th:only-of-type {\n",
       "        vertical-align: middle;\n",
       "    }\n",
       "\n",
       "    .dataframe tbody tr th {\n",
       "        vertical-align: top;\n",
       "    }\n",
       "\n",
       "    .dataframe thead th {\n",
       "        text-align: right;\n",
       "    }\n",
       "</style>\n",
       "<table border=\"1\" class=\"dataframe\">\n",
       "  <thead>\n",
       "    <tr style=\"text-align: right;\">\n",
       "      <th></th>\n",
       "      <th>metro_name</th>\n",
       "      <th>time_to_metro</th>\n",
       "      <th>total_area</th>\n",
       "      <th>year_house</th>\n",
       "      <th>kitchen_area</th>\n",
       "      <th>repair</th>\n",
       "      <th>price</th>\n",
       "      <th>floors</th>\n",
       "      <th>num_floor</th>\n",
       "      <th>address</th>\n",
       "      <th>date</th>\n",
       "      <th>coord_width</th>\n",
       "      <th>coord_len</th>\n",
       "      <th>link</th>\n",
       "    </tr>\n",
       "    <tr>\n",
       "      <th>num_rooms</th>\n",
       "      <th></th>\n",
       "      <th></th>\n",
       "      <th></th>\n",
       "      <th></th>\n",
       "      <th></th>\n",
       "      <th></th>\n",
       "      <th></th>\n",
       "      <th></th>\n",
       "      <th></th>\n",
       "      <th></th>\n",
       "      <th></th>\n",
       "      <th></th>\n",
       "      <th></th>\n",
       "      <th></th>\n",
       "    </tr>\n",
       "  </thead>\n",
       "  <tbody>\n",
       "    <tr>\n",
       "      <th>0.0</th>\n",
       "      <td>1166</td>\n",
       "      <td>1166</td>\n",
       "      <td>1166</td>\n",
       "      <td>1166</td>\n",
       "      <td>1166</td>\n",
       "      <td>1166</td>\n",
       "      <td>1166</td>\n",
       "      <td>1166</td>\n",
       "      <td>1166</td>\n",
       "      <td>1166</td>\n",
       "      <td>1166</td>\n",
       "      <td>1166</td>\n",
       "      <td>1166</td>\n",
       "      <td>1166</td>\n",
       "    </tr>\n",
       "    <tr>\n",
       "      <th>1.0</th>\n",
       "      <td>7000</td>\n",
       "      <td>7000</td>\n",
       "      <td>7000</td>\n",
       "      <td>7000</td>\n",
       "      <td>7000</td>\n",
       "      <td>7000</td>\n",
       "      <td>7000</td>\n",
       "      <td>7000</td>\n",
       "      <td>7000</td>\n",
       "      <td>7000</td>\n",
       "      <td>7000</td>\n",
       "      <td>7000</td>\n",
       "      <td>7000</td>\n",
       "      <td>7000</td>\n",
       "    </tr>\n",
       "    <tr>\n",
       "      <th>2.0</th>\n",
       "      <td>7000</td>\n",
       "      <td>7000</td>\n",
       "      <td>7000</td>\n",
       "      <td>7000</td>\n",
       "      <td>7000</td>\n",
       "      <td>7000</td>\n",
       "      <td>7000</td>\n",
       "      <td>7000</td>\n",
       "      <td>7000</td>\n",
       "      <td>7000</td>\n",
       "      <td>7000</td>\n",
       "      <td>7000</td>\n",
       "      <td>7000</td>\n",
       "      <td>7000</td>\n",
       "    </tr>\n",
       "    <tr>\n",
       "      <th>3.0</th>\n",
       "      <td>7000</td>\n",
       "      <td>7000</td>\n",
       "      <td>7000</td>\n",
       "      <td>7000</td>\n",
       "      <td>7000</td>\n",
       "      <td>7000</td>\n",
       "      <td>7000</td>\n",
       "      <td>7000</td>\n",
       "      <td>7000</td>\n",
       "      <td>7000</td>\n",
       "      <td>7000</td>\n",
       "      <td>7000</td>\n",
       "      <td>7000</td>\n",
       "      <td>7000</td>\n",
       "    </tr>\n",
       "    <tr>\n",
       "      <th>4.0</th>\n",
       "      <td>4193</td>\n",
       "      <td>4193</td>\n",
       "      <td>4193</td>\n",
       "      <td>4193</td>\n",
       "      <td>4193</td>\n",
       "      <td>4193</td>\n",
       "      <td>4193</td>\n",
       "      <td>4193</td>\n",
       "      <td>4193</td>\n",
       "      <td>4193</td>\n",
       "      <td>4193</td>\n",
       "      <td>4193</td>\n",
       "      <td>4193</td>\n",
       "      <td>4193</td>\n",
       "    </tr>\n",
       "    <tr>\n",
       "      <th>5.0</th>\n",
       "      <td>1216</td>\n",
       "      <td>1216</td>\n",
       "      <td>1216</td>\n",
       "      <td>1216</td>\n",
       "      <td>1216</td>\n",
       "      <td>1216</td>\n",
       "      <td>1216</td>\n",
       "      <td>1216</td>\n",
       "      <td>1216</td>\n",
       "      <td>1216</td>\n",
       "      <td>1216</td>\n",
       "      <td>1216</td>\n",
       "      <td>1216</td>\n",
       "      <td>1216</td>\n",
       "    </tr>\n",
       "    <tr>\n",
       "      <th>6.0</th>\n",
       "      <td>401</td>\n",
       "      <td>401</td>\n",
       "      <td>401</td>\n",
       "      <td>401</td>\n",
       "      <td>401</td>\n",
       "      <td>401</td>\n",
       "      <td>401</td>\n",
       "      <td>401</td>\n",
       "      <td>401</td>\n",
       "      <td>401</td>\n",
       "      <td>401</td>\n",
       "      <td>401</td>\n",
       "      <td>401</td>\n",
       "      <td>401</td>\n",
       "    </tr>\n",
       "  </tbody>\n",
       "</table>\n",
       "</div>"
      ],
      "text/plain": [
       "           metro_name  time_to_metro  total_area  year_house  kitchen_area  \\\n",
       "num_rooms                                                                    \n",
       "0.0              1166           1166        1166        1166          1166   \n",
       "1.0              7000           7000        7000        7000          7000   \n",
       "2.0              7000           7000        7000        7000          7000   \n",
       "3.0              7000           7000        7000        7000          7000   \n",
       "4.0              4193           4193        4193        4193          4193   \n",
       "5.0              1216           1216        1216        1216          1216   \n",
       "6.0               401            401         401         401           401   \n",
       "\n",
       "           repair  price  floors  num_floor  address  date  coord_width  \\\n",
       "num_rooms                                                                 \n",
       "0.0          1166   1166    1166       1166     1166  1166         1166   \n",
       "1.0          7000   7000    7000       7000     7000  7000         7000   \n",
       "2.0          7000   7000    7000       7000     7000  7000         7000   \n",
       "3.0          7000   7000    7000       7000     7000  7000         7000   \n",
       "4.0          4193   4193    4193       4193     4193  4193         4193   \n",
       "5.0          1216   1216    1216       1216     1216  1216         1216   \n",
       "6.0           401    401     401        401      401   401          401   \n",
       "\n",
       "           coord_len  link  \n",
       "num_rooms                   \n",
       "0.0             1166  1166  \n",
       "1.0             7000  7000  \n",
       "2.0             7000  7000  \n",
       "3.0             7000  7000  \n",
       "4.0             4193  4193  \n",
       "5.0             1216  1216  \n",
       "6.0              401   401  "
      ]
     },
     "execution_count": 36,
     "metadata": {},
     "output_type": "execute_result"
    }
   ],
   "source": [
    "drop_index_num=[]\n",
    "drop_index_num.extend(df_raw[df_raw['num_rooms']==2].index.to_list()[7000:])\n",
    "drop_index_num.extend(df_raw[df_raw['num_rooms']==1].index.to_list()[7000:])\n",
    "drop_index_num.extend(df_raw[df_raw['num_rooms']==3].index.to_list()[7000:])\n",
    "df_raw=df_raw.drop(index=drop_index_num, axis=0)\n",
    "df_raw.groupby('num_rooms').count()"
   ]
  },
  {
   "cell_type": "markdown",
   "id": "59284986",
   "metadata": {},
   "source": [
    "Размер конечной выборки"
   ]
  },
  {
   "cell_type": "code",
   "execution_count": 38,
   "id": "f2f21abd",
   "metadata": {},
   "outputs": [
    {
     "data": {
      "text/plain": [
       "(27976, 15)"
      ]
     },
     "execution_count": 38,
     "metadata": {},
     "output_type": "execute_result"
    }
   ],
   "source": [
    "df_raw.shape"
   ]
  },
  {
   "cell_type": "markdown",
   "id": "4020d65e",
   "metadata": {},
   "source": [
    "## Сохранение данных"
   ]
  },
  {
   "cell_type": "code",
   "execution_count": 37,
   "id": "a12dec23",
   "metadata": {},
   "outputs": [],
   "source": [
    "df_raw.to_csv(r\"C:\\Users\\Stepan\\Desktop\\ВУЗ\\Клиент-серверные\\папка датафреймов\\df_after_cleaning.csv\")"
   ]
  }
 ],
 "metadata": {
  "kernelspec": {
   "display_name": "Python 3 (ipykernel)",
   "language": "python",
   "name": "python3"
  },
  "language_info": {
   "codemirror_mode": {
    "name": "ipython",
    "version": 3
   },
   "file_extension": ".py",
   "mimetype": "text/x-python",
   "name": "python",
   "nbconvert_exporter": "python",
   "pygments_lexer": "ipython3",
   "version": "3.9.12"
  }
 },
 "nbformat": 4,
 "nbformat_minor": 5
}
