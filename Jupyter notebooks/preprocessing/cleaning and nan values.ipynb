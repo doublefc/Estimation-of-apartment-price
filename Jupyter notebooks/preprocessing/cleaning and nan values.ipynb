{
 "cells": [
  {
   "cell_type": "markdown",
   "id": "0391d40f",
   "metadata": {},
   "source": [
    "## Импорт библиотек"
   ]
  },
  {
   "cell_type": "code",
   "execution_count": 1,
   "id": "be98d7cb",
   "metadata": {},
   "outputs": [],
   "source": [
    "import pandas as pd\n",
    "import re\n",
    "import numpy as np\n",
    "import matplotlib.pyplot as plt\n",
    "import matplotlib\n",
    "import seaborn as sns\n",
    "import statsmodels.api as sm\n",
    "import warnings"
   ]
  },
  {
   "cell_type": "markdown",
   "id": "65518eaf",
   "metadata": {},
   "source": [
    "## Загрузка данных\n",
    "\n",
    "Загружаем данные для каждого количества комнат и объединяем их."
   ]
  },
  {
   "cell_type": "code",
   "execution_count": 2,
   "id": "3f0b1410",
   "metadata": {},
   "outputs": [
    {
     "data": {
      "text/html": [
       "<div>\n",
       "<style scoped>\n",
       "    .dataframe tbody tr th:only-of-type {\n",
       "        vertical-align: middle;\n",
       "    }\n",
       "\n",
       "    .dataframe tbody tr th {\n",
       "        vertical-align: top;\n",
       "    }\n",
       "\n",
       "    .dataframe thead th {\n",
       "        text-align: right;\n",
       "    }\n",
       "</style>\n",
       "<table border=\"1\" class=\"dataframe\">\n",
       "  <thead>\n",
       "    <tr style=\"text-align: right;\">\n",
       "      <th></th>\n",
       "      <th>metro_name</th>\n",
       "      <th>time_to_metro</th>\n",
       "      <th>num_rooms</th>\n",
       "      <th>total_area</th>\n",
       "      <th>year_house</th>\n",
       "      <th>kitchen_area</th>\n",
       "      <th>repair</th>\n",
       "      <th>price</th>\n",
       "      <th>floors</th>\n",
       "      <th>num_floor</th>\n",
       "      <th>address</th>\n",
       "      <th>date</th>\n",
       "      <th>coord_width</th>\n",
       "      <th>coord_len</th>\n",
       "      <th>link</th>\n",
       "    </tr>\n",
       "  </thead>\n",
       "  <tbody>\n",
       "    <tr>\n",
       "      <th>0</th>\n",
       "      <td>Цветной бульвар</td>\n",
       "      <td>до 5 мин.</td>\n",
       "      <td>Cтудия</td>\n",
       "      <td>36,7</td>\n",
       "      <td>NaN</td>\n",
       "      <td>NaN</td>\n",
       "      <td>дизайнерский</td>\n",
       "      <td>21000000.0</td>\n",
       "      <td>4.0</td>\n",
       "      <td>1.0</td>\n",
       "      <td>Москва, Трубная ул., 29с2</td>\n",
       "      <td>2023-04-29</td>\n",
       "      <td>55.772102</td>\n",
       "      <td>37.624480</td>\n",
       "      <td>https://www.avito.ru/moskva/kvartiry/kvartira-...</td>\n",
       "    </tr>\n",
       "    <tr>\n",
       "      <th>1</th>\n",
       "      <td>Ясенево</td>\n",
       "      <td>6–10 мин.</td>\n",
       "      <td>Cтудия</td>\n",
       "      <td>26 м</td>\n",
       "      <td>NaN</td>\n",
       "      <td>NaN</td>\n",
       "      <td>евро</td>\n",
       "      <td>3174900.0</td>\n",
       "      <td>16.0</td>\n",
       "      <td>16.0</td>\n",
       "      <td>Москва, ул. Паустовского, 8к3</td>\n",
       "      <td>2023-04-29</td>\n",
       "      <td>55.599967</td>\n",
       "      <td>37.536365</td>\n",
       "      <td>https://www.avito.ru/moskva/kvartiry/kvartira-...</td>\n",
       "    </tr>\n",
       "    <tr>\n",
       "      <th>2</th>\n",
       "      <td>Улица академика Янгеля</td>\n",
       "      <td>от 31 мин.</td>\n",
       "      <td>Cтудия</td>\n",
       "      <td>10 м</td>\n",
       "      <td>1973.0</td>\n",
       "      <td>NaN</td>\n",
       "      <td>требует ремонта</td>\n",
       "      <td>2500000.0</td>\n",
       "      <td>12.0</td>\n",
       "      <td>1.0</td>\n",
       "      <td>Москва, Медынская ул., 4/1</td>\n",
       "      <td>2023-04-29</td>\n",
       "      <td>55.592490</td>\n",
       "      <td>37.645717</td>\n",
       "      <td>https://www.avito.ru/moskva/kvartiry/kvartira-...</td>\n",
       "    </tr>\n",
       "    <tr>\n",
       "      <th>3</th>\n",
       "      <td>Братиславская</td>\n",
       "      <td>21–30 мин.</td>\n",
       "      <td>Cтудия</td>\n",
       "      <td>24,5</td>\n",
       "      <td>NaN</td>\n",
       "      <td>NaN</td>\n",
       "      <td>NaN</td>\n",
       "      <td>5700000.0</td>\n",
       "      <td>26.0</td>\n",
       "      <td>9.0</td>\n",
       "      <td>ул. Люблинская, вл. 72, корп. 11</td>\n",
       "      <td>2023-04-29</td>\n",
       "      <td>55.665770</td>\n",
       "      <td>37.734130</td>\n",
       "      <td>https://www.avito.ru/moskva/kvartiry/kvartira-...</td>\n",
       "    </tr>\n",
       "    <tr>\n",
       "      <th>4</th>\n",
       "      <td>Панфиловская</td>\n",
       "      <td>6–10 мин.</td>\n",
       "      <td>Cтудия</td>\n",
       "      <td>13,3</td>\n",
       "      <td>1960.0</td>\n",
       "      <td>NaN</td>\n",
       "      <td>дизайнерский</td>\n",
       "      <td>4900000.0</td>\n",
       "      <td>1.0</td>\n",
       "      <td>1.0</td>\n",
       "      <td>Москва, ул. Маршала Конева, 2</td>\n",
       "      <td>2023-04-29</td>\n",
       "      <td>55.799952</td>\n",
       "      <td>37.491889</td>\n",
       "      <td>https://www.avito.ru/moskva/kvartiry/kvartira-...</td>\n",
       "    </tr>\n",
       "    <tr>\n",
       "      <th>...</th>\n",
       "      <td>...</td>\n",
       "      <td>...</td>\n",
       "      <td>...</td>\n",
       "      <td>...</td>\n",
       "      <td>...</td>\n",
       "      <td>...</td>\n",
       "      <td>...</td>\n",
       "      <td>...</td>\n",
       "      <td>...</td>\n",
       "      <td>...</td>\n",
       "      <td>...</td>\n",
       "      <td>...</td>\n",
       "      <td>...</td>\n",
       "      <td>...</td>\n",
       "      <td>...</td>\n",
       "    </tr>\n",
       "    <tr>\n",
       "      <th>12099</th>\n",
       "      <td>Кропоткинская</td>\n",
       "      <td>6–10 мин.</td>\n",
       "      <td>5</td>\n",
       "      <td>230</td>\n",
       "      <td>NaN</td>\n",
       "      <td>25м²</td>\n",
       "      <td>евро</td>\n",
       "      <td>210000000.0</td>\n",
       "      <td>7.0</td>\n",
       "      <td>4.0</td>\n",
       "      <td>Москва, 2-й Обыденский пер., 3с1</td>\n",
       "      <td>2023-04-06</td>\n",
       "      <td>55.741546</td>\n",
       "      <td>37.604421</td>\n",
       "      <td>https://www.avito.ru/moskva/kvartiry/5-k._kvar...</td>\n",
       "    </tr>\n",
       "    <tr>\n",
       "      <th>12100</th>\n",
       "      <td>Чкаловская</td>\n",
       "      <td>11–15 мин.</td>\n",
       "      <td>5</td>\n",
       "      <td>342,</td>\n",
       "      <td>2023.0</td>\n",
       "      <td>35м²</td>\n",
       "      <td>требует ремонта</td>\n",
       "      <td>318034178.0</td>\n",
       "      <td>9.0</td>\n",
       "      <td>9.0</td>\n",
       "      <td>Москва, Серебрянический пер., 8</td>\n",
       "      <td>2023-04-14</td>\n",
       "      <td>55.750019</td>\n",
       "      <td>37.647457</td>\n",
       "      <td>https://www.avito.ru/moskva/kvartiry/5-k._kvar...</td>\n",
       "    </tr>\n",
       "    <tr>\n",
       "      <th>12101</th>\n",
       "      <td>Минская</td>\n",
       "      <td>21–30 мин.</td>\n",
       "      <td>1</td>\n",
       "      <td>750</td>\n",
       "      <td>NaN</td>\n",
       "      <td>55м²</td>\n",
       "      <td>требует ремонта</td>\n",
       "      <td>193750000.0</td>\n",
       "      <td>19.0</td>\n",
       "      <td>17.0</td>\n",
       "      <td>Москва, Минская ул., 1Гк6</td>\n",
       "      <td>2023-04-11</td>\n",
       "      <td>55.710849</td>\n",
       "      <td>37.498698</td>\n",
       "      <td>https://www.avito.ru/moskva/kvartiry/10_i_bole...</td>\n",
       "    </tr>\n",
       "    <tr>\n",
       "      <th>12102</th>\n",
       "      <td>Минская</td>\n",
       "      <td>21–30 мин.</td>\n",
       "      <td>6</td>\n",
       "      <td>583</td>\n",
       "      <td>NaN</td>\n",
       "      <td>58м²</td>\n",
       "      <td>евро</td>\n",
       "      <td>295000000.0</td>\n",
       "      <td>22.0</td>\n",
       "      <td>19.0</td>\n",
       "      <td>Москва, Минская ул., 1Гк2</td>\n",
       "      <td>2023-04-06</td>\n",
       "      <td>55.712122</td>\n",
       "      <td>37.499067</td>\n",
       "      <td>https://www.avito.ru/moskva/kvartiry/6-k._kvar...</td>\n",
       "    </tr>\n",
       "    <tr>\n",
       "      <th>12103</th>\n",
       "      <td>Новослободская</td>\n",
       "      <td>до 5 мин.</td>\n",
       "      <td>6</td>\n",
       "      <td>198,</td>\n",
       "      <td>2007.0</td>\n",
       "      <td>15м²</td>\n",
       "      <td>дизайнерский</td>\n",
       "      <td>145000000.0</td>\n",
       "      <td>8.0</td>\n",
       "      <td>5.0</td>\n",
       "      <td>Москва, Весковский пер., 3</td>\n",
       "      <td>2023-04-02</td>\n",
       "      <td>55.778801</td>\n",
       "      <td>37.598825</td>\n",
       "      <td>https://www.avito.ru/moskva/kvartiry/6-k._kvar...</td>\n",
       "    </tr>\n",
       "  </tbody>\n",
       "</table>\n",
       "<p>12104 rows × 15 columns</p>\n",
       "</div>"
      ],
      "text/plain": [
       "                   metro_name time_to_metro num_rooms total_area  year_house  \\\n",
       "0             Цветной бульвар     до 5 мин.    Cтудия       36,7         NaN   \n",
       "1                     Ясенево     6–10 мин.    Cтудия       26 м         NaN   \n",
       "2      Улица академика Янгеля    от 31 мин.    Cтудия       10 м      1973.0   \n",
       "3               Братиславская    21–30 мин.    Cтудия       24,5         NaN   \n",
       "4                Панфиловская     6–10 мин.    Cтудия       13,3      1960.0   \n",
       "...                       ...           ...       ...        ...         ...   \n",
       "12099           Кропоткинская     6–10 мин.         5       230          NaN   \n",
       "12100              Чкаловская    11–15 мин.         5       342,      2023.0   \n",
       "12101                 Минская    21–30 мин.         1       750          NaN   \n",
       "12102                 Минская    21–30 мин.         6       583          NaN   \n",
       "12103          Новослободская     до 5 мин.         6       198,      2007.0   \n",
       "\n",
       "      kitchen_area           repair        price  floors  num_floor  \\\n",
       "0              NaN     дизайнерский   21000000.0     4.0        1.0   \n",
       "1              NaN             евро    3174900.0    16.0       16.0   \n",
       "2              NaN  требует ремонта    2500000.0    12.0        1.0   \n",
       "3              NaN              NaN    5700000.0    26.0        9.0   \n",
       "4              NaN     дизайнерский    4900000.0     1.0        1.0   \n",
       "...            ...              ...          ...     ...        ...   \n",
       "12099         25м²             евро  210000000.0     7.0        4.0   \n",
       "12100         35м²  требует ремонта  318034178.0     9.0        9.0   \n",
       "12101         55м²  требует ремонта  193750000.0    19.0       17.0   \n",
       "12102         58м²             евро  295000000.0    22.0       19.0   \n",
       "12103         15м²     дизайнерский  145000000.0     8.0        5.0   \n",
       "\n",
       "                                address        date  coord_width  coord_len  \\\n",
       "0             Москва, Трубная ул., 29с2  2023-04-29    55.772102  37.624480   \n",
       "1         Москва, ул. Паустовского, 8к3  2023-04-29    55.599967  37.536365   \n",
       "2            Москва, Медынская ул., 4/1  2023-04-29    55.592490  37.645717   \n",
       "3      ул. Люблинская, вл. 72, корп. 11  2023-04-29    55.665770  37.734130   \n",
       "4         Москва, ул. Маршала Конева, 2  2023-04-29    55.799952  37.491889   \n",
       "...                                 ...         ...          ...        ...   \n",
       "12099  Москва, 2-й Обыденский пер., 3с1  2023-04-06    55.741546  37.604421   \n",
       "12100   Москва, Серебрянический пер., 8  2023-04-14    55.750019  37.647457   \n",
       "12101         Москва, Минская ул., 1Гк6  2023-04-11    55.710849  37.498698   \n",
       "12102         Москва, Минская ул., 1Гк2  2023-04-06    55.712122  37.499067   \n",
       "12103        Москва, Весковский пер., 3  2023-04-02    55.778801  37.598825   \n",
       "\n",
       "                                                    link  \n",
       "0      https://www.avito.ru/moskva/kvartiry/kvartira-...  \n",
       "1      https://www.avito.ru/moskva/kvartiry/kvartira-...  \n",
       "2      https://www.avito.ru/moskva/kvartiry/kvartira-...  \n",
       "3      https://www.avito.ru/moskva/kvartiry/kvartira-...  \n",
       "4      https://www.avito.ru/moskva/kvartiry/kvartira-...  \n",
       "...                                                  ...  \n",
       "12099  https://www.avito.ru/moskva/kvartiry/5-k._kvar...  \n",
       "12100  https://www.avito.ru/moskva/kvartiry/5-k._kvar...  \n",
       "12101  https://www.avito.ru/moskva/kvartiry/10_i_bole...  \n",
       "12102  https://www.avito.ru/moskva/kvartiry/6-k._kvar...  \n",
       "12103  https://www.avito.ru/moskva/kvartiry/6-k._kvar...  \n",
       "\n",
       "[12104 rows x 15 columns]"
      ]
     },
     "execution_count": 2,
     "metadata": {},
     "output_type": "execute_result"
    }
   ],
   "source": [
    "df_s=pd.read_csv(r\"C:\\Users\\Stepan\\Desktop\\ВУЗ\\Клиент-серверные\\папка датафреймов\\STUDIYA.csv\")\n",
    "df_1=pd.read_csv(r\"C:\\Users\\Stepan\\Desktop\\ВУЗ\\Клиент-серверные\\папка датафреймов\\1k.csv\")\n",
    "df_2=pd.read_csv(r\"C:\\Users\\Stepan\\Desktop\\ВУЗ\\Клиент-серверные\\папка датафреймов\\2k.csv\")\n",
    "df_3=pd.read_csv(r\"C:\\Users\\Stepan\\Desktop\\ВУЗ\\Клиент-серверные\\папка датафреймов\\3k.csv\")\n",
    "df_4=pd.read_csv(r\"C:\\Users\\Stepan\\Desktop\\ВУЗ\\Клиент-серверные\\папка датафреймов\\4k.csv\")\n",
    "df_5=pd.read_csv(r\"C:\\Users\\Stepan\\Desktop\\ВУЗ\\Клиент-серверные\\папка датафреймов\\5k.csv\")\n",
    "df=pd.concat([df_s,df_1,df_2,df_3,df_4,df_5], ignore_index=True)\n",
    "df_raw=df.drop('Unnamed: 0', axis=1)\n",
    "df_raw=df_raw.rename(columns={'coords_len':'coord_len'})\n",
    "df_raw"
   ]
  },
  {
   "cell_type": "markdown",
   "id": "7facc0e3",
   "metadata": {},
   "source": [
    "Посмотрим общую информацию о датафрейме"
   ]
  },
  {
   "cell_type": "code",
   "execution_count": 3,
   "id": "79e2c637",
   "metadata": {},
   "outputs": [
    {
     "name": "stdout",
     "output_type": "stream",
     "text": [
      "<class 'pandas.core.frame.DataFrame'>\n",
      "RangeIndex: 12104 entries, 0 to 12103\n",
      "Data columns (total 15 columns):\n",
      " #   Column         Non-Null Count  Dtype  \n",
      "---  ------         --------------  -----  \n",
      " 0   metro_name     11993 non-null  object \n",
      " 1   time_to_metro  11993 non-null  object \n",
      " 2   num_rooms      12085 non-null  object \n",
      " 3   total_area     12085 non-null  object \n",
      " 4   year_house     7638 non-null   float64\n",
      " 5   kitchen_area   10082 non-null  object \n",
      " 6   repair         11634 non-null  object \n",
      " 7   price          12085 non-null  float64\n",
      " 8   floors         12076 non-null  float64\n",
      " 9   num_floor      12076 non-null  float64\n",
      " 10  address        12078 non-null  object \n",
      " 11  date           12082 non-null  object \n",
      " 12  coord_width    12078 non-null  float64\n",
      " 13  coord_len      12078 non-null  float64\n",
      " 14  link           12104 non-null  object \n",
      "dtypes: float64(6), object(9)\n",
      "memory usage: 1.4+ MB\n"
     ]
    }
   ],
   "source": [
    "df_raw.info()"
   ]
  },
  {
   "cell_type": "markdown",
   "id": "a1d407ed",
   "metadata": {},
   "source": [
    "Списки числовых и категориальных признаков"
   ]
  },
  {
   "cell_type": "code",
   "execution_count": 4,
   "id": "84d500d7",
   "metadata": {},
   "outputs": [
    {
     "data": {
      "text/plain": [
       "['metro_name', 'time_to_metro', 'num_rooms', 'date', 'repair']"
      ]
     },
     "execution_count": 4,
     "metadata": {},
     "output_type": "execute_result"
    }
   ],
   "source": [
    "num_col=['time_to_metro', 'total_area','year_house','kitchen_area','coord_width','coord_len','floors', 'num_floor']\n",
    "cat_col=['metro_name','time_to_metro','num_rooms', 'date', 'repair']\n",
    "cat_col"
   ]
  },
  {
   "cell_type": "markdown",
   "id": "e68881a9",
   "metadata": {},
   "source": [
    "## Исправление ошибок парсинга"
   ]
  },
  {
   "cell_type": "markdown",
   "id": "65b281db",
   "metadata": {},
   "source": [
    "Удалим дубликаты. Дубликаты ищутся по подмножеству признаков: адрес, этаж,колиечство комнат, общая площадь"
   ]
  },
  {
   "cell_type": "code",
   "execution_count": 5,
   "id": "7a89ca93",
   "metadata": {},
   "outputs": [
    {
     "name": "stdout",
     "output_type": "stream",
     "text": [
      "Количество дубликатов: 2260\n",
      "Количество старых объявлений (до 2023 года): 0\n"
     ]
    }
   ],
   "source": [
    "n_duplicates = df.duplicated(\n",
    "    subset=['address', 'num_floor', 'num_rooms', 'total_area'],keep='first').sum()\n",
    "print(f'Количество дубликатов: {n_duplicates}')\n",
    "df_raw = df_raw.drop_duplicates(\n",
    "    subset=['address', 'num_floor', 'num_rooms', 'total_area'],\n",
    "    keep='last')\n",
    "old_ad=len(df[df['date']<'2023-01-01'])\n",
    "print(f\"Количество старых объявлений (до 2023 года): {old_ad}\")"
   ]
  },
  {
   "cell_type": "markdown",
   "id": "e489379b",
   "metadata": {},
   "source": [
    "Удалим в столбцах лишние символы, преобразуем данные к определенному типу. На RuntimeWarning не стоит обращать внимания."
   ]
  },
  {
   "cell_type": "code",
   "execution_count": 6,
   "id": "58464acd",
   "metadata": {},
   "outputs": [],
   "source": [
    "with warnings.catch_warnings():\n",
    "    warnings.simplefilter(\"ignore\")\n",
    "    \n",
    "    df_raw.time_to_metro=df_raw.time_to_metro.transform(lambda x: np.mean([int(i) for i in re.findall('[0-9]+', str(x))]))\n",
    "    df_raw.total_area=df_raw.total_area.transform(lambda x: np.mean([int(i) for i in re.findall('[0-9]+', str(x))]))\n",
    "    df_raw.kitchen_area=df_raw.kitchen_area.transform(lambda x: np.mean([int(i) for i in re.findall('[0-9]+', str(x))]))\n",
    "    df_raw.date=df_raw.date.astype('str')"
   ]
  },
  {
   "cell_type": "markdown",
   "id": "a1bbb566",
   "metadata": {},
   "source": [
    "Удаляем nan значения в price"
   ]
  },
  {
   "cell_type": "code",
   "execution_count": 7,
   "id": "118edf50",
   "metadata": {},
   "outputs": [],
   "source": [
    "df_raw=df_raw.dropna(subset=['price'])"
   ]
  },
  {
   "cell_type": "markdown",
   "id": "e24624af",
   "metadata": {},
   "source": [
    "Подготовим признак количeства комнат"
   ]
  },
  {
   "cell_type": "code",
   "execution_count": 8,
   "id": "cc0762ca",
   "metadata": {},
   "outputs": [],
   "source": [
    "df_raw.num_rooms=df_raw.num_rooms.transform(lambda x: '0' if str(x).strip()=='Cтудия' else x)\n",
    "df_raw.num_rooms=df_raw.num_rooms.astype('float')"
   ]
  },
  {
   "cell_type": "markdown",
   "id": "0a9b26e8",
   "metadata": {},
   "source": [
    "## Работа с выбросами"
   ]
  },
  {
   "cell_type": "markdown",
   "id": "dbd4f44a",
   "metadata": {},
   "source": [
    "Создадим словарь максимальных площадей квартир для каждого количества комнат .Максимальное значение будем брать, как 2 межквартильных расстояния, отложенное от верхнего квартиля, а не как обычно 1.5."
   ]
  },
  {
   "cell_type": "code",
   "execution_count": 9,
   "id": "79f1cfa7",
   "metadata": {},
   "outputs": [
    {
     "name": "stdout",
     "output_type": "stream",
     "text": [
      "boxplot for 0 rooms\n",
      "count    1222.000000\n",
      "mean       14.313421\n",
      "std        11.454105\n",
      "min         5.500000\n",
      "25%        10.000000\n",
      "50%        12.000000\n",
      "75%        17.000000\n",
      "max       343.000000\n",
      "Name: total_area, dtype: float64\n"
     ]
    },
    {
     "data": {
      "image/png": "[encoded data removed]",
      "text/plain": [
       "<Figure size 432x288 with 1 Axes>"
      ]
     },
     "metadata": {
      "needs_background": "light"
     },
     "output_type": "display_data"
    },
    {
     "name": "stdout",
     "output_type": "stream",
     "text": [
      "boxplot for 1 rooms\n",
      "count    1523.000000\n",
      "mean       33.669074\n",
      "std        65.042517\n",
      "min         7.500000\n",
      "25%        20.000000\n",
      "50%        23.500000\n",
      "75%        36.000000\n",
      "max      1050.000000\n",
      "Name: total_area, dtype: float64\n"
     ]
    },
    {
     "data": {
      "image/png": "[encoded data removed]",
      "text/plain": [
       "<Figure size 432x288 with 1 Axes>"
      ]
     },
     "metadata": {
      "needs_background": "light"
     },
     "output_type": "display_data"
    },
    {
     "name": "stdout",
     "output_type": "stream",
     "text": [
      "boxplot for 2 rooms\n",
      "count    1787.000000\n",
      "mean       41.188025\n",
      "std        17.828265\n",
      "min        11.500000\n",
      "25%        28.000000\n",
      "50%        37.000000\n",
      "75%        52.000000\n",
      "max       196.000000\n",
      "Name: total_area, dtype: float64\n"
     ]
    },
    {
     "data": {
      "image/png": "[encoded data removed]",
      "text/plain": [
       "<Figure size 432x288 with 1 Axes>"
      ]
     },
     "metadata": {
      "needs_background": "light"
     },
     "output_type": "display_data"
    },
    {
     "name": "stdout",
     "output_type": "stream",
     "text": [
      "boxplot for 3 rooms\n",
      "count    1466.000000\n",
      "mean       65.272851\n",
      "std        33.974382\n",
      "min        11.500000\n",
      "25%        39.000000\n",
      "50%        59.000000\n",
      "75%        81.000000\n",
      "max       270.000000\n",
      "Name: total_area, dtype: float64\n"
     ]
    },
    {
     "data": {
      "image/png": "[encoded data removed]",
      "text/plain": [
       "<Figure size 432x288 with 1 Axes>"
      ]
     },
     "metadata": {
      "needs_background": "light"
     },
     "output_type": "display_data"
    },
    {
     "name": "stdout",
     "output_type": "stream",
     "text": [
      "boxplot for 4 rooms\n",
      "count    2649.000000\n",
      "mean      135.165723\n",
      "std        55.633302\n",
      "min        28.500000\n",
      "25%       101.000000\n",
      "50%       132.000000\n",
      "75%       168.000000\n",
      "max       402.000000\n",
      "Name: total_area, dtype: float64\n"
     ]
    },
    {
     "data": {
      "image/png": "[encoded data removed]",
      "text/plain": [
       "<Figure size 432x288 with 1 Axes>"
      ]
     },
     "metadata": {
      "needs_background": "light"
     },
     "output_type": "display_data"
    },
    {
     "name": "stdout",
     "output_type": "stream",
     "text": [
      "boxplot for 6 rooms\n",
      "count     318.000000\n",
      "mean      304.525157\n",
      "std       144.469390\n",
      "min        52.000000\n",
      "25%       210.000000\n",
      "50%       272.000000\n",
      "75%       352.250000\n",
      "max      1040.000000\n",
      "Name: total_area, dtype: float64\n"
     ]
    },
    {
     "data": {
      "image/png": "[encoded data removed]",
      "text/plain": [
       "<Figure size 432x288 with 1 Axes>"
      ]
     },
     "metadata": {
      "needs_background": "light"
     },
     "output_type": "display_data"
    },
    {
     "name": "stdout",
     "output_type": "stream",
     "text": [
      "boxplot for 5 rooms\n",
      "count    878.000000\n",
      "mean     211.441344\n",
      "std       89.488342\n",
      "min       38.000000\n",
      "25%      151.000000\n",
      "50%      200.000000\n",
      "75%      247.000000\n",
      "max      885.000000\n",
      "Name: total_area, dtype: float64\n"
     ]
    },
    {
     "data": {
      "image/png": "[encoded data removed]",
      "text/plain": [
       "<Figure size 432x288 with 1 Axes>"
      ]
     },
     "metadata": {
      "needs_background": "light"
     },
     "output_type": "display_data"
    },
    {
     "name": "stdout",
     "output_type": "stream",
     "text": [
      "{0.0: 31.0, 1.0: 68.0, 2.0: 100.0, 3.0: 165.0, 4.0: 302.0, 6.0: 636.75, 5.0: 439.0}\n"
     ]
    }
   ],
   "source": [
    "dict_max_ta={}\n",
    "for i in df_raw.num_rooms.unique():\n",
    "    \n",
    "    print(f'boxplot for {int(i)} rooms')\n",
    "    sns.boxplot(x=df_raw[df_raw['num_rooms']==i]['total_area'])\n",
    "    desc_tab=df_raw[df_raw['num_rooms']==i]['total_area'].describe()\n",
    "    print(desc_tab)\n",
    "    dict_max_ta[i]=desc_tab['75%']+2*(desc_tab['75%']-desc_tab['25%'])\n",
    "    plt.show()\n",
    "print(dict_max_ta)"
   ]
  },
  {
   "cell_type": "markdown",
   "id": "f89038a3",
   "metadata": {},
   "source": [
    "Создадим список индексов, которые нужно удалить"
   ]
  },
  {
   "cell_type": "code",
   "execution_count": 10,
   "id": "a454cac0",
   "metadata": {},
   "outputs": [
    {
     "name": "stdout",
     "output_type": "stream",
     "text": [
      "Количество удаленных выбросов total_area: 145\n"
     ]
    }
   ],
   "source": [
    "drop_index=[]\n",
    "for i in df_raw.num_rooms.unique():\n",
    "    time_index=df_raw[(df_raw['num_rooms']==i) & (df_raw['total_area']>dict_max_ta[i])].index.tolist()\n",
    "    drop_index.extend(time_index)\n",
    "df_raw=df_raw.drop(index=drop_index, axis=0)\n",
    "print(f'Количество удаленных выбросов total_area: {len(drop_index)}')"
   ]
  },
  {
   "cell_type": "markdown",
   "id": "eab98e2d",
   "metadata": {},
   "source": [
    "Посмотрим распределение площадей для каждого колиечства комнат после удаления выбросов."
   ]
  },
  {
   "cell_type": "code",
   "execution_count": 11,
   "id": "62de0ca5",
   "metadata": {},
   "outputs": [
    {
     "name": "stdout",
     "output_type": "stream",
     "text": [
      "boxplot for 0 rooms\n",
      "count    1197.000000\n",
      "mean       13.545113\n",
      "std         5.207730\n",
      "min         5.500000\n",
      "25%        10.000000\n",
      "50%        12.000000\n",
      "75%        16.000000\n",
      "max        31.000000\n",
      "Name: total_area, dtype: float64\n"
     ]
    },
    {
     "data": {
      "image/png": "[encoded data removed]",
      "text/plain": [
       "<Figure size 432x288 with 1 Axes>"
      ]
     },
     "metadata": {
      "needs_background": "light"
     },
     "output_type": "display_data"
    },
    {
     "name": "stdout",
     "output_type": "stream",
     "text": [
      "boxplot for 1 rooms\n",
      "count    1505.000000\n",
      "mean       27.366777\n",
      "std         9.655900\n",
      "min         7.500000\n",
      "25%        20.000000\n",
      "50%        23.500000\n",
      "75%        35.000000\n",
      "max        65.000000\n",
      "Name: total_area, dtype: float64\n"
     ]
    },
    {
     "data": {
      "image/png": "[encoded data removed]",
      "text/plain": [
       "<Figure size 432x288 with 1 Axes>"
      ]
     },
     "metadata": {
      "needs_background": "light"
     },
     "output_type": "display_data"
    },
    {
     "name": "stdout",
     "output_type": "stream",
     "text": [
      "boxplot for 2 rooms\n",
      "count    1766.000000\n",
      "mean       40.257078\n",
      "std        15.501390\n",
      "min        11.500000\n",
      "25%        28.000000\n",
      "50%        36.500000\n",
      "75%        52.000000\n",
      "max       100.000000\n",
      "Name: total_area, dtype: float64\n"
     ]
    },
    {
     "data": {
      "image/png": "[encoded data removed]",
      "text/plain": [
       "<Figure size 432x288 with 1 Axes>"
      ]
     },
     "metadata": {
      "needs_background": "light"
     },
     "output_type": "display_data"
    },
    {
     "name": "stdout",
     "output_type": "stream",
     "text": [
      "boxplot for 3 rooms\n",
      "count    1442.000000\n",
      "mean       63.013870\n",
      "std        29.168606\n",
      "min        11.500000\n",
      "25%        39.000000\n",
      "50%        58.000000\n",
      "75%        80.000000\n",
      "max       164.000000\n",
      "Name: total_area, dtype: float64\n"
     ]
    },
    {
     "data": {
      "image/png": "[encoded data removed]",
      "text/plain": [
       "<Figure size 432x288 with 1 Axes>"
      ]
     },
     "metadata": {
      "needs_background": "light"
     },
     "output_type": "display_data"
    },
    {
     "name": "stdout",
     "output_type": "stream",
     "text": [
      "boxplot for 4 rooms\n",
      "count    2624.000000\n",
      "mean      133.240473\n",
      "std        52.180576\n",
      "min        28.500000\n",
      "25%       101.000000\n",
      "50%       131.000000\n",
      "75%       166.000000\n",
      "max       302.000000\n",
      "Name: total_area, dtype: float64\n"
     ]
    },
    {
     "data": {
      "image/png": "[encoded data removed]",
      "text/plain": [
       "<Figure size 432x288 with 1 Axes>"
      ]
     },
     "metadata": {
      "needs_background": "light"
     },
     "output_type": "display_data"
    },
    {
     "name": "stdout",
     "output_type": "stream",
     "text": [
      "boxplot for 6 rooms\n",
      "count    304.000000\n",
      "mean     283.434211\n",
      "std      104.758195\n",
      "min       52.000000\n",
      "25%      206.750000\n",
      "50%      262.000000\n",
      "75%      344.750000\n",
      "max      610.000000\n",
      "Name: total_area, dtype: float64\n"
     ]
    },
    {
     "data": {
      "image/png": "[encoded data removed]",
      "text/plain": [
       "<Figure size 432x288 with 1 Axes>"
      ]
     },
     "metadata": {
      "needs_background": "light"
     },
     "output_type": "display_data"
    },
    {
     "name": "stdout",
     "output_type": "stream",
     "text": [
      "boxplot for 5 rooms\n",
      "count    860.000000\n",
      "mean     204.197093\n",
      "std       73.293610\n",
      "min       38.000000\n",
      "25%      150.000000\n",
      "50%      198.000000\n",
      "75%      240.500000\n",
      "max      431.000000\n",
      "Name: total_area, dtype: float64\n"
     ]
    },
    {
     "data": {
      "image/png": "[encoded data removed]",
      "text/plain": [
       "<Figure size 432x288 with 1 Axes>"
      ]
     },
     "metadata": {
      "needs_background": "light"
     },
     "output_type": "display_data"
    }
   ],
   "source": [
    "for i in df_raw.num_rooms.unique():\n",
    "    \n",
    "    print(f'boxplot for {int(i)} rooms')\n",
    "    sns.boxplot(x=df_raw[df_raw['num_rooms']==i]['total_area'])\n",
    "    desc_tab=df_raw[df_raw['num_rooms']==i]['total_area'].describe()\n",
    "    print(desc_tab)\n",
    "\n",
    "    plt.show()"
   ]
  },
  {
   "cell_type": "markdown",
   "id": "bf5e199d",
   "metadata": {},
   "source": [
    "Посмотрим распределение цены для каждого количества комнат "
   ]
  },
  {
   "cell_type": "code",
   "execution_count": 12,
   "id": "4f4df2a8",
   "metadata": {},
   "outputs": [
    {
     "name": "stdout",
     "output_type": "stream",
     "text": [
      "boxplot for 0 rooms\n",
      "count    1.197000e+03\n",
      "mean     5.356390e+06\n",
      "std      2.870160e+06\n",
      "min      2.300000e+06\n",
      "25%      3.600000e+06\n",
      "50%      4.350000e+06\n",
      "75%      5.650000e+06\n",
      "max      2.350000e+07\n",
      "Name: price, dtype: float64\n"
     ]
    },
    {
     "data": {
      "image/png": "[encoded data removed]",
      "text/plain": [
       "<Figure size 432x288 with 1 Axes>"
      ]
     },
     "metadata": {
      "needs_background": "light"
     },
     "output_type": "display_data"
    },
    {
     "name": "stdout",
     "output_type": "stream",
     "text": [
      "boxplot for 1 rooms\n",
      "count    1.505000e+03\n",
      "mean     1.115420e+07\n",
      "std      5.508535e+06\n",
      "min      1.191000e+06\n",
      "25%      8.500000e+06\n",
      "50%      1.000000e+07\n",
      "75%      1.250000e+07\n",
      "max      1.400000e+08\n",
      "Name: price, dtype: float64\n"
     ]
    },
    {
     "data": {
      "image/png": "[encoded data removed]",
      "text/plain": [
       "<Figure size 432x288 with 1 Axes>"
      ]
     },
     "metadata": {
      "needs_background": "light"
     },
     "output_type": "display_data"
    },
    {
     "name": "stdout",
     "output_type": "stream",
     "text": [
      "boxplot for 2 rooms\n",
      "count    1.766000e+03\n",
      "mean     1.739899e+07\n",
      "std      1.180760e+07\n",
      "min      2.900000e+06\n",
      "25%      1.150000e+07\n",
      "50%      1.400000e+07\n",
      "75%      1.870000e+07\n",
      "max      1.632548e+08\n",
      "Name: price, dtype: float64\n"
     ]
    },
    {
     "data": {
      "image/png": "[encoded data removed]",
      "text/plain": [
       "<Figure size 432x288 with 1 Axes>"
      ]
     },
     "metadata": {
      "needs_background": "light"
     },
     "output_type": "display_data"
    },
    {
     "name": "stdout",
     "output_type": "stream",
     "text": [
      "boxplot for 3 rooms\n",
      "count    1.442000e+03\n",
      "mean     2.807560e+07\n",
      "std      2.312407e+07\n",
      "min      2.806000e+06\n",
      "25%      1.499000e+07\n",
      "50%      2.000000e+07\n",
      "75%      3.099750e+07\n",
      "max      2.500000e+08\n",
      "Name: price, dtype: float64\n"
     ]
    },
    {
     "data": {
      "image/png": "[encoded data removed]",
      "text/plain": [
       "<Figure size 432x288 with 1 Axes>"
      ]
     },
     "metadata": {
      "needs_background": "light"
     },
     "output_type": "display_data"
    },
    {
     "name": "stdout",
     "output_type": "stream",
     "text": [
      "boxplot for 4 rooms\n",
      "count    2.624000e+03\n",
      "mean     8.656712e+07\n",
      "std      8.207420e+07\n",
      "min      9.000000e+06\n",
      "25%      3.443083e+07\n",
      "50%      5.900000e+07\n",
      "75%      1.100000e+08\n",
      "max      7.097500e+08\n",
      "Name: price, dtype: float64\n"
     ]
    },
    {
     "data": {
      "image/png": "[encoded data removed]",
      "text/plain": [
       "<Figure size 432x288 with 1 Axes>"
      ]
     },
     "metadata": {
      "needs_background": "light"
     },
     "output_type": "display_data"
    },
    {
     "name": "stdout",
     "output_type": "stream",
     "text": [
      "boxplot for 6 rooms\n",
      "count    3.040000e+02\n",
      "mean     2.313621e+08\n",
      "std      1.977607e+08\n",
      "min      2.298000e+07\n",
      "25%      9.500000e+07\n",
      "50%      1.630601e+08\n",
      "75%      3.252363e+08\n",
      "max      1.180000e+09\n",
      "Name: price, dtype: float64\n"
     ]
    },
    {
     "data": {
      "image/png": "[encoded data removed]",
      "text/plain": [
       "<Figure size 432x288 with 1 Axes>"
      ]
     },
     "metadata": {
      "needs_background": "light"
     },
     "output_type": "display_data"
    },
    {
     "name": "stdout",
     "output_type": "stream",
     "text": [
      "boxplot for 5 rooms\n",
      "count    8.600000e+02\n",
      "mean     1.589993e+08\n",
      "std      1.516877e+08\n",
      "min      1.300000e+07\n",
      "25%      6.950000e+07\n",
      "50%      1.100000e+08\n",
      "75%      2.000000e+08\n",
      "max      1.574701e+09\n",
      "Name: price, dtype: float64\n"
     ]
    },
    {
     "data": {
      "image/png": "[encoded data removed]",
      "text/plain": [
       "<Figure size 432x288 with 1 Axes>"
      ]
     },
     "metadata": {
      "needs_background": "light"
     },
     "output_type": "display_data"
    }
   ],
   "source": [
    "for i in df_raw.num_rooms.unique():\n",
    "    \n",
    "    print(f'boxplot for {int(i)} rooms')\n",
    "    sns.boxplot(x=df_raw[df_raw['num_rooms']==i]['price'])\n",
    "    desc_tab=df_raw[df_raw['num_rooms']==i]['price'].describe()\n",
    "    print(desc_tab)\n",
    "\n",
    "    plt.show()"
   ]
  },
  {
   "cell_type": "markdown",
   "id": "ec376211",
   "metadata": {},
   "source": [
    "Удалим записи со слишком высокими ценами"
   ]
  },
  {
   "cell_type": "code",
   "execution_count": 13,
   "id": "98460124",
   "metadata": {},
   "outputs": [
    {
     "name": "stdout",
     "output_type": "stream",
     "text": [
      "Количество удаленных выбросов price: 63\n"
     ]
    }
   ],
   "source": [
    "drop_price=[]\n",
    "drop_price.extend(df_raw[(df_raw['num_rooms']==1) & (df_raw['price']>35000000)].index.tolist())\n",
    "drop_price.extend(df_raw[(df_raw['num_rooms']==2) & (df_raw['price']>80000000)].index.tolist())\n",
    "drop_price.extend(df_raw[(df_raw['num_rooms']==3) & (df_raw['price']>150000000)].index.tolist())\n",
    "drop_price.extend(df_raw[(df_raw['num_rooms']==4) & (df_raw['price']>400000000)].index.tolist())\n",
    "drop_price.extend(df_raw[(df_raw['num_rooms']==5) & (df_raw['price']>600000000)].index.tolist())\n",
    "df_raw=df_raw.drop(index=drop_price, axis=0)\n",
    "print(f'Количество удаленных выбросов price: {len(drop_price)}')"
   ]
  },
  {
   "cell_type": "markdown",
   "id": "e5231ba2",
   "metadata": {},
   "source": [
    "Посмотрим распределение цены для каждого количества комнат после удаления выбросов"
   ]
  },
  {
   "cell_type": "code",
   "execution_count": 14,
   "id": "d351e298",
   "metadata": {},
   "outputs": [
    {
     "name": "stdout",
     "output_type": "stream",
     "text": [
      "boxplot for 0 rooms\n",
      "count    1.197000e+03\n",
      "mean     5.356390e+06\n",
      "std      2.870160e+06\n",
      "min      2.300000e+06\n",
      "25%      3.600000e+06\n",
      "50%      4.350000e+06\n",
      "75%      5.650000e+06\n",
      "max      2.350000e+07\n",
      "Name: price, dtype: float64\n"
     ]
    },
    {
     "data": {
      "image/png": "[encoded data removed]",
      "text/plain": [
       "<Figure size 432x288 with 1 Axes>"
      ]
     },
     "metadata": {
      "needs_background": "light"
     },
     "output_type": "display_data"
    },
    {
     "name": "stdout",
     "output_type": "stream",
     "text": [
      "boxplot for 1 rooms\n",
      "count    1.501000e+03\n",
      "mean     1.100138e+07\n",
      "std      4.123199e+06\n",
      "min      1.191000e+06\n",
      "25%      8.500000e+06\n",
      "50%      1.000000e+07\n",
      "75%      1.246000e+07\n",
      "max      3.400000e+07\n",
      "Name: price, dtype: float64\n"
     ]
    },
    {
     "data": {
      "image/png": "[encoded data removed]",
      "text/plain": [
       "<Figure size 432x288 with 1 Axes>"
      ]
     },
     "metadata": {
      "needs_background": "light"
     },
     "output_type": "display_data"
    },
    {
     "name": "stdout",
     "output_type": "stream",
     "text": [
      "boxplot for 2 rooms\n",
      "count    1.758000e+03\n",
      "mean     1.694124e+07\n",
      "std      9.574795e+06\n",
      "min      2.900000e+06\n",
      "25%      1.150000e+07\n",
      "50%      1.400000e+07\n",
      "75%      1.850000e+07\n",
      "max      7.970000e+07\n",
      "Name: price, dtype: float64\n"
     ]
    },
    {
     "data": {
      "image/png": "[encoded data removed]",
      "text/plain": [
       "<Figure size 432x288 with 1 Axes>"
      ]
     },
     "metadata": {
      "needs_background": "light"
     },
     "output_type": "display_data"
    },
    {
     "name": "stdout",
     "output_type": "stream",
     "text": [
      "boxplot for 3 rooms\n",
      "count    1.434000e+03\n",
      "mean     2.720612e+07\n",
      "std      1.991255e+07\n",
      "min      2.806000e+06\n",
      "25%      1.496000e+07\n",
      "50%      2.000000e+07\n",
      "75%      3.050000e+07\n",
      "max      1.350000e+08\n",
      "Name: price, dtype: float64\n"
     ]
    },
    {
     "data": {
      "image/png": "[encoded data removed]",
      "text/plain": [
       "<Figure size 432x288 with 1 Axes>"
      ]
     },
     "metadata": {
      "needs_background": "light"
     },
     "output_type": "display_data"
    },
    {
     "name": "stdout",
     "output_type": "stream",
     "text": [
      "boxplot for 4 rooms\n",
      "count    2.598000e+03\n",
      "mean     8.224604e+07\n",
      "std      6.962729e+07\n",
      "min      9.000000e+06\n",
      "25%      3.400000e+07\n",
      "50%      5.894500e+07\n",
      "75%      1.068403e+08\n",
      "max      3.850000e+08\n",
      "Name: price, dtype: float64\n"
     ]
    },
    {
     "data": {
      "image/png": "[encoded data removed]",
      "text/plain": [
       "<Figure size 432x288 with 1 Axes>"
      ]
     },
     "metadata": {
      "needs_background": "light"
     },
     "output_type": "display_data"
    },
    {
     "name": "stdout",
     "output_type": "stream",
     "text": [
      "boxplot for 6 rooms\n",
      "count    3.040000e+02\n",
      "mean     2.313621e+08\n",
      "std      1.977607e+08\n",
      "min      2.298000e+07\n",
      "25%      9.500000e+07\n",
      "50%      1.630601e+08\n",
      "75%      3.252363e+08\n",
      "max      1.180000e+09\n",
      "Name: price, dtype: float64\n"
     ]
    },
    {
     "data": {
      "image/png": "[encoded data removed]",
      "text/plain": [
       "<Figure size 432x288 with 1 Axes>"
      ]
     },
     "metadata": {
      "needs_background": "light"
     },
     "output_type": "display_data"
    },
    {
     "name": "stdout",
     "output_type": "stream",
     "text": [
      "boxplot for 5 rooms\n",
      "count    8.430000e+02\n",
      "mean     1.451390e+08\n",
      "std      1.104792e+08\n",
      "min      1.300000e+07\n",
      "25%      6.900000e+07\n",
      "50%      1.100000e+08\n",
      "75%      1.906750e+08\n",
      "max      5.950000e+08\n",
      "Name: price, dtype: float64\n"
     ]
    },
    {
     "data": {
      "image/png": "[encoded data removed]",
      "text/plain": [
       "<Figure size 432x288 with 1 Axes>"
      ]
     },
     "metadata": {
      "needs_background": "light"
     },
     "output_type": "display_data"
    }
   ],
   "source": [
    "for i in df_raw.num_rooms.unique():\n",
    "    \n",
    "    print(f'boxplot for {int(i)} rooms')\n",
    "    sns.boxplot(x=df_raw[df_raw['num_rooms']==i]['price'])\n",
    "    desc_tab=df_raw[df_raw['num_rooms']==i]['price'].describe()\n",
    "    print(desc_tab)\n",
    "\n",
    "    plt.show()"
   ]
  },
  {
   "cell_type": "markdown",
   "id": "0a321adb",
   "metadata": {},
   "source": [
    "Построим диаграммы размахов для каждого числового признака"
   ]
  },
  {
   "cell_type": "code",
   "execution_count": 15,
   "id": "55360fca",
   "metadata": {},
   "outputs": [
    {
     "data": {
      "image/png": "[encoded data removed]",
      "text/plain": [
       "<Figure size 432x288 with 1 Axes>"
      ]
     },
     "metadata": {
      "needs_background": "light"
     },
     "output_type": "display_data"
    },
    {
     "data": {
      "image/png": "[encoded data removed]",
      "text/plain": [
       "<Figure size 432x288 with 1 Axes>"
      ]
     },
     "metadata": {
      "needs_background": "light"
     },
     "output_type": "display_data"
    },
    {
     "data": {
      "image/png": "[encoded data removed]",
      "text/plain": [
       "<Figure size 432x288 with 1 Axes>"
      ]
     },
     "metadata": {
      "needs_background": "light"
     },
     "output_type": "display_data"
    },
    {
     "data": {
      "image/png": "[encoded data removed]",
      "text/plain": [
       "<Figure size 432x288 with 1 Axes>"
      ]
     },
     "metadata": {
      "needs_background": "light"
     },
     "output_type": "display_data"
    },
    {
     "data": {
      "image/png": "[encoded data removed]",
      "text/plain": [
       "<Figure size 432x288 with 1 Axes>"
      ]
     },
     "metadata": {
      "needs_background": "light"
     },
     "output_type": "display_data"
    },
    {
     "data": {
      "image/png": "[encoded data removed]",
      "text/plain": [
       "<Figure size 432x288 with 1 Axes>"
      ]
     },
     "metadata": {
      "needs_background": "light"
     },
     "output_type": "display_data"
    },
    {
     "data": {
      "image/png": "[encoded data removed]",
      "text/plain": [
       "<Figure size 432x288 with 1 Axes>"
      ]
     },
     "metadata": {
      "needs_background": "light"
     },
     "output_type": "display_data"
    },
    {
     "data": {
      "image/png": "[encoded data removed]",
      "text/plain": [
       "<Figure size 432x288 with 1 Axes>"
      ]
     },
     "metadata": {
      "needs_background": "light"
     },
     "output_type": "display_data"
    }
   ],
   "source": [
    "for i in num_col:\n",
    "    sns.boxplot(x=i, data=df_raw)\n",
    "    plt.show()"
   ]
  },
  {
   "cell_type": "markdown",
   "id": "6bc259bd",
   "metadata": {},
   "source": [
    "Посмотрим распределение цены"
   ]
  },
  {
   "cell_type": "code",
   "execution_count": 16,
   "id": "3f760967",
   "metadata": {},
   "outputs": [
    {
     "data": {
      "image/png": "[encoded data removed]",
      "text/plain": [
       "<Figure size 432x288 with 1 Axes>"
      ]
     },
     "metadata": {
      "needs_background": "light"
     },
     "output_type": "display_data"
    }
   ],
   "source": [
    "sns.histplot(x='price', data=df_raw)\n",
    "plt.show()"
   ]
  },
  {
   "cell_type": "markdown",
   "id": "ed23b034",
   "metadata": {},
   "source": [
    "Посмотрим распределение цены за квадратный метр"
   ]
  },
  {
   "cell_type": "code",
   "execution_count": 17,
   "id": "03c3e933",
   "metadata": {},
   "outputs": [
    {
     "data": {
      "text/plain": [
       "<AxesSubplot:ylabel='Count'>"
      ]
     },
     "execution_count": 17,
     "metadata": {},
     "output_type": "execute_result"
    },
    {
     "data": {
      "image/png": "[encoded data removed]",
      "text/plain": [
       "<Figure size 432x288 with 1 Axes>"
      ]
     },
     "metadata": {
      "needs_background": "light"
     },
     "output_type": "display_data"
    }
   ],
   "source": [
    "sns.histplot(x=df_raw['price']/df_raw['total_area'], kde=True)"
   ]
  },
  {
   "cell_type": "markdown",
   "id": "a1ee4b5a",
   "metadata": {},
   "source": [
    "Удалим слишком высокие цены за квадратный метр"
   ]
  },
  {
   "cell_type": "code",
   "execution_count": 18,
   "id": "10004bba",
   "metadata": {},
   "outputs": [
    {
     "data": {
      "text/plain": [
       "<AxesSubplot:ylabel='Count'>"
      ]
     },
     "execution_count": 18,
     "metadata": {},
     "output_type": "execute_result"
    },
    {
     "data": {
      "image/png": "[encoded data removed]",
      "text/plain": [
       "<Figure size 432x288 with 1 Axes>"
      ]
     },
     "metadata": {
      "needs_background": "light"
     },
     "output_type": "display_data"
    }
   ],
   "source": [
    "a=df_raw['price']/df_raw['total_area']>1400000\n",
    "drop_sqm=list(filter(lambda x: a[x], a.index))\n",
    "df_raw=df_raw.drop(drop_sqm)\n",
    "sns.histplot(x=df_raw['price']/df_raw['total_area'], kde=True)"
   ]
  },
  {
   "cell_type": "markdown",
   "id": "e67f5436",
   "metadata": {},
   "source": [
    "## Обработка nan значений"
   ]
  },
  {
   "cell_type": "markdown",
   "id": "725a4e7e",
   "metadata": {},
   "source": [
    "Распределение nan значений по признакам"
   ]
  },
  {
   "cell_type": "code",
   "execution_count": 19,
   "id": "bd9eef08",
   "metadata": {},
   "outputs": [
    {
     "data": {
      "image/png": "[encoded data removed]",
      "text/plain": [
       "<Figure size 1152x576 with 1 Axes>"
      ]
     },
     "metadata": {
      "needs_background": "light"
     },
     "output_type": "display_data"
    }
   ],
   "source": [
    "plt.figure(figsize=(16, 8))\n",
    "a=df_raw.isna().sum().sort_values()[::-1]\n",
    "\n",
    "sns.barplot(x=a.values, y=a.index)\n",
    "\n",
    "plt.show()"
   ]
  },
  {
   "cell_type": "markdown",
   "id": "63c1e09d",
   "metadata": {},
   "source": [
    "Построим таблицу корреляции для числовых признаков. Проверим признак 'year_house' на отсутсвие зависимости с таргетом"
   ]
  },
  {
   "cell_type": "code",
   "execution_count": 20,
   "id": "41cf2bd6",
   "metadata": {},
   "outputs": [
    {
     "name": "stdout",
     "output_type": "stream",
     "text": [
      "               time_to_metro  num_rooms  total_area  year_house  kitchen_area  \\\n",
      "time_to_metro       1.000000  -0.138126   -0.147117    0.028007     -0.093430   \n",
      "num_rooms          -0.138126   1.000000    0.796977   -0.018296      0.456839   \n",
      "total_area         -0.147117   0.796977    1.000000    0.010709      0.564418   \n",
      "year_house          0.028007  -0.018296    0.010709    1.000000      0.029143   \n",
      "kitchen_area       -0.093430   0.456839    0.564418    0.029143      1.000000   \n",
      "price              -0.181562   0.626928    0.847676    0.016375      0.457055   \n",
      "floors              0.043010   0.135255    0.133152    0.048964      0.190210   \n",
      "num_floor           0.016039   0.210266    0.203641    0.036101      0.192247   \n",
      "coord_width        -0.085981   0.062454    0.053943   -0.008174      0.022858   \n",
      "coord_len          -0.083747  -0.172570   -0.171082    0.006121     -0.141219   \n",
      "\n",
      "                  price    floors  num_floor  coord_width  coord_len  \n",
      "time_to_metro -0.181562  0.043010   0.016039    -0.085981  -0.083747  \n",
      "num_rooms      0.626928  0.135255   0.210266     0.062454  -0.172570  \n",
      "total_area     0.847676  0.133152   0.203641     0.053943  -0.171082  \n",
      "year_house     0.016375  0.048964   0.036101    -0.008174   0.006121  \n",
      "kitchen_area   0.457055  0.190210   0.192247     0.022858  -0.141219  \n",
      "price          1.000000  0.045861   0.123876     0.055978  -0.114935  \n",
      "floors         0.045861  1.000000   0.718552    -0.033817  -0.216650  \n",
      "num_floor      0.123876  0.718552   1.000000    -0.009061  -0.186743  \n",
      "coord_width    0.055978 -0.033817  -0.009061     1.000000  -0.042043  \n",
      "coord_len     -0.114935 -0.216650  -0.186743    -0.042043   1.000000  \n",
      "AxesSubplot(0.125,0.125;0.62x0.755)\n",
      "                            OLS Regression Results                            \n",
      "==============================================================================\n",
      "Dep. Variable:                  price   R-squared:                       0.000\n",
      "Model:                            OLS   Adj. R-squared:                  0.000\n",
      "Method:                 Least Squares   F-statistic:                     1.620\n",
      "Date:                Mon, 08 May 2023   Prob (F-statistic):              0.203\n",
      "Time:                        23:28:13   Log-Likelihood:                -94115.\n",
      "No. Observations:                4911   AIC:                         1.882e+05\n",
      "Df Residuals:                    4909   BIC:                         1.882e+05\n",
      "Df Model:                           1                                         \n",
      "Covariance Type:            nonrobust                                         \n",
      "==============================================================================\n",
      "                 coef    std err          t      P>|t|      [0.025      0.975]\n",
      "------------------------------------------------------------------------------\n",
      "const       3.188e+07   5.46e+06      5.844      0.000    2.12e+07    4.26e+07\n",
      "year_house  3520.0715   2765.385      1.273      0.203   -1901.320    8941.463\n",
      "==============================================================================\n",
      "Omnibus:                     3503.738   Durbin-Watson:                   1.083\n",
      "Prob(Omnibus):                  0.000   Jarque-Bera (JB):            51469.948\n",
      "Skew:                           3.342   Prob(JB):                         0.00\n",
      "Kurtosis:                      17.383   Cond. No.                     1.48e+04\n",
      "==============================================================================\n",
      "\n",
      "Notes:\n",
      "[1] Standard Errors assume that the covariance matrix of the errors is correctly specified.\n",
      "[2] The condition number is large, 1.48e+04. This might indicate that there are\n",
      "strong multicollinearity or other numerical problems.\n"
     ]
    },
    {
     "data": {
      "image/png": "[encoded data removed]",
      "text/plain": [
       "<Figure size 432x288 with 2 Axes>"
      ]
     },
     "metadata": {
      "needs_background": "light"
     },
     "output_type": "display_data"
    }
   ],
   "source": [
    "print(df_raw.corr())\n",
    "print(sns.heatmap(df_raw.corr()))\n",
    "df_time=df_raw.dropna()\n",
    "y=df_time['price']\n",
    "x=df_time['year_house']\n",
    "x=sm.add_constant(x)\n",
    "model = sm.OLS(y, x).fit()\n",
    "print(model.summary())"
   ]
  },
  {
   "cell_type": "markdown",
   "id": "a7713625",
   "metadata": {},
   "source": [
    "Замена nan и слишком низких значений в годе постройки"
   ]
  },
  {
   "cell_type": "code",
   "execution_count": 21,
   "id": "94c0fd1d",
   "metadata": {},
   "outputs": [],
   "source": [
    "df_raw.loc[df_raw['year_house']<1500, 'year_house']=1750\n",
    "df_raw['year_house'].fillna(1750, inplace=True)"
   ]
  },
  {
   "cell_type": "markdown",
   "id": "1010e96a",
   "metadata": {},
   "source": [
    "Проверка оставшихся nan значений"
   ]
  },
  {
   "cell_type": "code",
   "execution_count": 22,
   "id": "120dc665",
   "metadata": {},
   "outputs": [
    {
     "data": {
      "text/plain": [
       "metro_name         19\n",
       "time_to_metro      19\n",
       "num_rooms           0\n",
       "total_area          0\n",
       "year_house          0\n",
       "kitchen_area     1196\n",
       "repair              9\n",
       "price               0\n",
       "floors              2\n",
       "num_floor           2\n",
       "address             1\n",
       "date                0\n",
       "coord_width         1\n",
       "coord_len           1\n",
       "link                0\n",
       "dtype: int64"
      ]
     },
     "execution_count": 22,
     "metadata": {},
     "output_type": "execute_result"
    }
   ],
   "source": [
    "df_raw[df_raw['num_rooms']==0].isna().sum()"
   ]
  },
  {
   "cell_type": "markdown",
   "id": "59c60b00",
   "metadata": {},
   "source": [
    "Замена nan значений площади кухни. Будем пользоваться соотношением площади кухни к общей площади."
   ]
  },
  {
   "cell_type": "code",
   "execution_count": 23,
   "id": "c4a4154e",
   "metadata": {},
   "outputs": [],
   "source": [
    "ratio=np.mean(df_raw[df_raw['num_rooms']==1]['kitchen_area']/df_raw[df_raw['num_rooms']==1]['total_area'])\n",
    "a=df_raw['kitchen_area'].isna()\n",
    "ind_kitchen=list(filter(lambda x: a[x], a.index))\n",
    "df_raw.loc[ind_kitchen, 'kitchen_area']=ratio*df_raw.loc[ind_kitchen, 'total_area']\n"
   ]
  },
  {
   "cell_type": "markdown",
   "id": "816fb42a",
   "metadata": {},
   "source": [
    "Заполним nan значения в ремонте. Вероятно, что пользователь, когда не оставлял информацию о ремонте, сам не знал, какой у него именно ремонт, так как ремонт ничем не выделялся, то есть три последнии категории не подходят. Но так как это вторичка и ремонт не может быть идеальным, скорее всего требуется косметический ремонт."
   ]
  },
  {
   "cell_type": "code",
   "execution_count": 24,
   "id": "f1bfcb3a",
   "metadata": {},
   "outputs": [
    {
     "name": "stdout",
     "output_type": "stream",
     "text": [
      "косметический      2555\n",
      "требует ремонта    2373\n",
      "евро               2293\n",
      "дизайнерский       1865\n",
      "Name: repair, dtype: int64\n"
     ]
    }
   ],
   "source": [
    "print(df_raw['repair'].value_counts())\n",
    "df_raw['repair']=df_raw['repair'].fillna('косметический')\n"
   ]
  },
  {
   "cell_type": "markdown",
   "id": "c1a7418d",
   "metadata": {},
   "source": [
    "Проверка оставшихся nan значений"
   ]
  },
  {
   "cell_type": "code",
   "execution_count": 25,
   "id": "8fcb6bff",
   "metadata": {},
   "outputs": [
    {
     "data": {
      "image/png": "[encoded data removed]",
      "text/plain": [
       "<Figure size 1152x576 with 1 Axes>"
      ]
     },
     "metadata": {
      "needs_background": "light"
     },
     "output_type": "display_data"
    }
   ],
   "source": [
    "plt.figure(figsize=(16, 8))\n",
    "a=df_raw.isna().sum().sort_values()[::-1]\n",
    "\n",
    "sns.barplot(x=a.values, y=a.index)\n",
    "\n",
    "plt.show()"
   ]
  },
  {
   "cell_type": "markdown",
   "id": "06c1e754",
   "metadata": {},
   "source": [
    "Удалим оставшиеся nan значения, так как их очень мало."
   ]
  },
  {
   "cell_type": "code",
   "execution_count": 26,
   "id": "bc9cff93",
   "metadata": {},
   "outputs": [],
   "source": [
    "df_raw=df_raw.dropna()"
   ]
  },
  {
   "cell_type": "markdown",
   "id": "25930209",
   "metadata": {},
   "source": [
    "## Сохранение данных"
   ]
  },
  {
   "cell_type": "code",
   "execution_count": 27,
   "id": "12ac029a",
   "metadata": {},
   "outputs": [],
   "source": [
    "df_raw.to_csv(r\"C:\\Users\\Stepan\\Desktop\\ВУЗ\\Клиент-серверные\\папка датафреймов\\df_after_cleaning.csv\")"
   ]
  }
 ],
 "metadata": {
  "kernelspec": {
   "display_name": "Python 3 (ipykernel)",
   "language": "python",
   "name": "python3"
  },
  "language_info": {
   "codemirror_mode": {
    "name": "ipython",
    "version": 3
   },
   "file_extension": ".py",
   "mimetype": "text/x-python",
   "name": "python",
   "nbconvert_exporter": "python",
   "pygments_lexer": "ipython3",
   "version": "3.9.12"
  }
 },
 "nbformat": 4,
 "nbformat_minor": 5
}
