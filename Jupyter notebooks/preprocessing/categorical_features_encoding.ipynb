{
 "cells": [
  {
   "cell_type": "markdown",
   "id": "d85f13b6",
   "metadata": {},
   "source": [
    "## Импорт библиотек"
   ]
  },
  {
   "cell_type": "code",
   "execution_count": 1,
   "id": "1782ace8",
   "metadata": {},
   "outputs": [],
   "source": [
    "import pandas as pd\n",
    "import numpy as np\n",
    "import seaborn as sns\n",
    "import matplotlib.pyplot as plt\n",
    "from sklearn.preprocessing import LabelEncoder\n",
    "from sklearn.model_selection import GridSearchCV, StratifiedKFold, train_test_split\n",
    "from lightgbm import LGBMRegressor\n",
    "from sklearn.metrics import mean_squared_error as mse\n",
    "from sklearn.metrics import mean_absolute_percentage_error as mape\n",
    "import warnings\n",
    "import os\n",
    "import contextlib\n",
    "from catboost import CatBoostRegressor\n",
    "from sklearn.model_selection import cross_validate\n",
    "from sklearn.metrics import r2_score"
   ]
  },
  {
   "cell_type": "markdown",
   "id": "c2e91624",
   "metadata": {},
   "source": [
    "## Загрузка данных"
   ]
  },
  {
   "cell_type": "code",
   "execution_count": 2,
   "id": "26519e6f",
   "metadata": {},
   "outputs": [
    {
     "data": {
      "text/html": [
       "<div>\n",
       "<style scoped>\n",
       "    .dataframe tbody tr th:only-of-type {\n",
       "        vertical-align: middle;\n",
       "    }\n",
       "\n",
       "    .dataframe tbody tr th {\n",
       "        vertical-align: top;\n",
       "    }\n",
       "\n",
       "    .dataframe thead th {\n",
       "        text-align: right;\n",
       "    }\n",
       "</style>\n",
       "<table border=\"1\" class=\"dataframe\">\n",
       "  <thead>\n",
       "    <tr style=\"text-align: right;\">\n",
       "      <th></th>\n",
       "      <th>metro_name</th>\n",
       "      <th>time_to_metro</th>\n",
       "      <th>num_rooms</th>\n",
       "      <th>total_area</th>\n",
       "      <th>year_house</th>\n",
       "      <th>kitchen_area</th>\n",
       "      <th>repair</th>\n",
       "      <th>price</th>\n",
       "      <th>floors</th>\n",
       "      <th>num_floor</th>\n",
       "      <th>address</th>\n",
       "      <th>date</th>\n",
       "      <th>coord_width</th>\n",
       "      <th>coord_len</th>\n",
       "      <th>link</th>\n",
       "      <th>distance_to_Kremlin</th>\n",
       "      <th>district</th>\n",
       "      <th>metro_line</th>\n",
       "      <th>metro_distance</th>\n",
       "    </tr>\n",
       "  </thead>\n",
       "  <tbody>\n",
       "    <tr>\n",
       "      <th>0</th>\n",
       "      <td>Ясенево</td>\n",
       "      <td>8.0</td>\n",
       "      <td>0.0</td>\n",
       "      <td>26.0</td>\n",
       "      <td>1700.0</td>\n",
       "      <td>0.0</td>\n",
       "      <td>евро</td>\n",
       "      <td>3174900.0</td>\n",
       "      <td>16.0</td>\n",
       "      <td>16.0</td>\n",
       "      <td>Москва, ул. Паустовского, 8к3</td>\n",
       "      <td>13</td>\n",
       "      <td>55.599967</td>\n",
       "      <td>37.536365</td>\n",
       "      <td>https://www.avito.ru/moskva/kvartiry/kvartira-...</td>\n",
       "      <td>17.62</td>\n",
       "      <td>Ясенево</td>\n",
       "      <td>Калужско-Рижская</td>\n",
       "      <td>12</td>\n",
       "    </tr>\n",
       "    <tr>\n",
       "      <th>1</th>\n",
       "      <td>Улица академика Янгеля</td>\n",
       "      <td>31.0</td>\n",
       "      <td>0.0</td>\n",
       "      <td>10.0</td>\n",
       "      <td>1973.0</td>\n",
       "      <td>0.0</td>\n",
       "      <td>требует ремонта</td>\n",
       "      <td>2500000.0</td>\n",
       "      <td>12.0</td>\n",
       "      <td>1.0</td>\n",
       "      <td>Москва, Медынская ул., 4/1</td>\n",
       "      <td>13</td>\n",
       "      <td>55.592490</td>\n",
       "      <td>37.645717</td>\n",
       "      <td>https://www.avito.ru/moskva/kvartiry/kvartira-...</td>\n",
       "      <td>17.76</td>\n",
       "      <td>Бирюлёво Западное</td>\n",
       "      <td>Серпуховско-Тимирязевская</td>\n",
       "      <td>9</td>\n",
       "    </tr>\n",
       "    <tr>\n",
       "      <th>2</th>\n",
       "      <td>Братиславская</td>\n",
       "      <td>25.5</td>\n",
       "      <td>0.0</td>\n",
       "      <td>14.5</td>\n",
       "      <td>1700.0</td>\n",
       "      <td>0.0</td>\n",
       "      <td>косметический</td>\n",
       "      <td>5700000.0</td>\n",
       "      <td>26.0</td>\n",
       "      <td>9.0</td>\n",
       "      <td>ул. Люблинская, вл. 72, корп. 11</td>\n",
       "      <td>13</td>\n",
       "      <td>55.665770</td>\n",
       "      <td>37.734130</td>\n",
       "      <td>https://www.avito.ru/moskva/kvartiry/kvartira-...</td>\n",
       "      <td>11.96</td>\n",
       "      <td>Люблино</td>\n",
       "      <td>Люблинско-Дмитровская</td>\n",
       "      <td>7</td>\n",
       "    </tr>\n",
       "    <tr>\n",
       "      <th>3</th>\n",
       "      <td>Панфиловская</td>\n",
       "      <td>8.0</td>\n",
       "      <td>0.0</td>\n",
       "      <td>8.0</td>\n",
       "      <td>1960.0</td>\n",
       "      <td>0.0</td>\n",
       "      <td>дизайнерский</td>\n",
       "      <td>4900000.0</td>\n",
       "      <td>1.0</td>\n",
       "      <td>1.0</td>\n",
       "      <td>Москва, ул. Маршала Конева, 2</td>\n",
       "      <td>13</td>\n",
       "      <td>55.799952</td>\n",
       "      <td>37.491889</td>\n",
       "      <td>https://www.avito.ru/moskva/kvartiry/kvartira-...</td>\n",
       "      <td>9.59</td>\n",
       "      <td>Щукино</td>\n",
       "      <td>БКЛ</td>\n",
       "      <td>6</td>\n",
       "    </tr>\n",
       "    <tr>\n",
       "      <th>4</th>\n",
       "      <td>Рассказовка</td>\n",
       "      <td>31.0</td>\n",
       "      <td>0.0</td>\n",
       "      <td>20.0</td>\n",
       "      <td>2012.0</td>\n",
       "      <td>0.0</td>\n",
       "      <td>косметический</td>\n",
       "      <td>3290000.0</td>\n",
       "      <td>3.0</td>\n",
       "      <td>2.0</td>\n",
       "      <td>Москва, Новомосковский административный округ,...</td>\n",
       "      <td>13</td>\n",
       "      <td>55.647214</td>\n",
       "      <td>37.327623</td>\n",
       "      <td>https://www.avito.ru/moskva/kvartiry/kvartira-...</td>\n",
       "      <td>21.62</td>\n",
       "      <td>NaN</td>\n",
       "      <td>Солнцевская</td>\n",
       "      <td>11</td>\n",
       "    </tr>\n",
       "    <tr>\n",
       "      <th>...</th>\n",
       "      <td>...</td>\n",
       "      <td>...</td>\n",
       "      <td>...</td>\n",
       "      <td>...</td>\n",
       "      <td>...</td>\n",
       "      <td>...</td>\n",
       "      <td>...</td>\n",
       "      <td>...</td>\n",
       "      <td>...</td>\n",
       "      <td>...</td>\n",
       "      <td>...</td>\n",
       "      <td>...</td>\n",
       "      <td>...</td>\n",
       "      <td>...</td>\n",
       "      <td>...</td>\n",
       "      <td>...</td>\n",
       "      <td>...</td>\n",
       "      <td>...</td>\n",
       "      <td>...</td>\n",
       "    </tr>\n",
       "    <tr>\n",
       "      <th>27971</th>\n",
       "      <td>Ростокино</td>\n",
       "      <td>5.0</td>\n",
       "      <td>5.0</td>\n",
       "      <td>75.0</td>\n",
       "      <td>2001.0</td>\n",
       "      <td>10.0</td>\n",
       "      <td>дизайнерский</td>\n",
       "      <td>42000000.0</td>\n",
       "      <td>17.0</td>\n",
       "      <td>17.0</td>\n",
       "      <td>Москва, ул. Бажова, 24к2</td>\n",
       "      <td>118</td>\n",
       "      <td>55.836428</td>\n",
       "      <td>37.665533</td>\n",
       "      <td>https://avito.ru//moskva/kvartiry/5-k._kvartir...</td>\n",
       "      <td>9.89</td>\n",
       "      <td>Ростокино</td>\n",
       "      <td>МЦК</td>\n",
       "      <td>4</td>\n",
       "    </tr>\n",
       "    <tr>\n",
       "      <th>27972</th>\n",
       "      <td>Ломоносовский проспект</td>\n",
       "      <td>2.5</td>\n",
       "      <td>4.0</td>\n",
       "      <td>70.5</td>\n",
       "      <td>2008.0</td>\n",
       "      <td>15.0</td>\n",
       "      <td>евро</td>\n",
       "      <td>74000000.0</td>\n",
       "      <td>14.0</td>\n",
       "      <td>11.0</td>\n",
       "      <td>Москва, Ломоносовский пр-т, 29к1</td>\n",
       "      <td>118</td>\n",
       "      <td>55.703611</td>\n",
       "      <td>37.516476</td>\n",
       "      <td>https://avito.ru//moskva/kvartiry/4-k._kvartir...</td>\n",
       "      <td>8.33</td>\n",
       "      <td>Раменки</td>\n",
       "      <td>Солнцевская</td>\n",
       "      <td>3</td>\n",
       "    </tr>\n",
       "    <tr>\n",
       "      <th>27973</th>\n",
       "      <td>Тверская</td>\n",
       "      <td>5.0</td>\n",
       "      <td>5.0</td>\n",
       "      <td>115.5</td>\n",
       "      <td>1700.0</td>\n",
       "      <td>12.5</td>\n",
       "      <td>евро</td>\n",
       "      <td>99000000.0</td>\n",
       "      <td>4.0</td>\n",
       "      <td>4.0</td>\n",
       "      <td>Москва, Большой Палашёвский пер., 2/12</td>\n",
       "      <td>118</td>\n",
       "      <td>55.763341</td>\n",
       "      <td>37.597073</td>\n",
       "      <td>https://avito.ru//moskva/kvartiry/5-k._kvartir...</td>\n",
       "      <td>1.89</td>\n",
       "      <td>Пресненский</td>\n",
       "      <td>Замоскворецкая</td>\n",
       "      <td>0</td>\n",
       "    </tr>\n",
       "    <tr>\n",
       "      <th>27974</th>\n",
       "      <td>Новаторская</td>\n",
       "      <td>5.0</td>\n",
       "      <td>6.0</td>\n",
       "      <td>129.5</td>\n",
       "      <td>1700.0</td>\n",
       "      <td>7.5</td>\n",
       "      <td>евро</td>\n",
       "      <td>72900000.0</td>\n",
       "      <td>29.0</td>\n",
       "      <td>6.0</td>\n",
       "      <td>Москва, ул. Михаила Певцова</td>\n",
       "      <td>118</td>\n",
       "      <td>55.670855</td>\n",
       "      <td>37.514228</td>\n",
       "      <td>https://avito.ru//moskva/kvartiry/6-k._kvartir...</td>\n",
       "      <td>11.10</td>\n",
       "      <td>Проспект Вернадского</td>\n",
       "      <td>БКЛ</td>\n",
       "      <td>6</td>\n",
       "    </tr>\n",
       "    <tr>\n",
       "      <th>27975</th>\n",
       "      <td>Крылатское</td>\n",
       "      <td>10.0</td>\n",
       "      <td>4.0</td>\n",
       "      <td>75.0</td>\n",
       "      <td>2004.0</td>\n",
       "      <td>46.0</td>\n",
       "      <td>евро</td>\n",
       "      <td>48900000.0</td>\n",
       "      <td>9.0</td>\n",
       "      <td>9.0</td>\n",
       "      <td>Москва, ул. Маршала Тимошенко, 17к1</td>\n",
       "      <td>119</td>\n",
       "      <td>55.745630</td>\n",
       "      <td>37.394611</td>\n",
       "      <td>https://avito.ru//moskva/kvartiry/4-k._kvartir...</td>\n",
       "      <td>14.04</td>\n",
       "      <td>Кунцево</td>\n",
       "      <td>Арбатско-Покровская</td>\n",
       "      <td>6</td>\n",
       "    </tr>\n",
       "  </tbody>\n",
       "</table>\n",
       "<p>27976 rows × 19 columns</p>\n",
       "</div>"
      ],
      "text/plain": [
       "                   metro_name  time_to_metro  num_rooms  total_area  \\\n",
       "0                     Ясенево            8.0        0.0        26.0   \n",
       "1      Улица академика Янгеля           31.0        0.0        10.0   \n",
       "2               Братиславская           25.5        0.0        14.5   \n",
       "3                Панфиловская            8.0        0.0         8.0   \n",
       "4                 Рассказовка           31.0        0.0        20.0   \n",
       "...                       ...            ...        ...         ...   \n",
       "27971               Ростокино            5.0        5.0        75.0   \n",
       "27972  Ломоносовский проспект            2.5        4.0        70.5   \n",
       "27973                Тверская            5.0        5.0       115.5   \n",
       "27974             Новаторская            5.0        6.0       129.5   \n",
       "27975              Крылатское           10.0        4.0        75.0   \n",
       "\n",
       "       year_house  kitchen_area           repair       price  floors  \\\n",
       "0          1700.0           0.0             евро   3174900.0    16.0   \n",
       "1          1973.0           0.0  требует ремонта   2500000.0    12.0   \n",
       "2          1700.0           0.0    косметический   5700000.0    26.0   \n",
       "3          1960.0           0.0     дизайнерский   4900000.0     1.0   \n",
       "4          2012.0           0.0    косметический   3290000.0     3.0   \n",
       "...           ...           ...              ...         ...     ...   \n",
       "27971      2001.0          10.0     дизайнерский  42000000.0    17.0   \n",
       "27972      2008.0          15.0             евро  74000000.0    14.0   \n",
       "27973      1700.0          12.5             евро  99000000.0     4.0   \n",
       "27974      1700.0           7.5             евро  72900000.0    29.0   \n",
       "27975      2004.0          46.0             евро  48900000.0     9.0   \n",
       "\n",
       "       num_floor                                            address  date  \\\n",
       "0           16.0                      Москва, ул. Паустовского, 8к3    13   \n",
       "1            1.0                         Москва, Медынская ул., 4/1    13   \n",
       "2            9.0                   ул. Люблинская, вл. 72, корп. 11    13   \n",
       "3            1.0                      Москва, ул. Маршала Конева, 2    13   \n",
       "4            2.0  Москва, Новомосковский административный округ,...    13   \n",
       "...          ...                                                ...   ...   \n",
       "27971       17.0                           Москва, ул. Бажова, 24к2   118   \n",
       "27972       11.0                   Москва, Ломоносовский пр-т, 29к1   118   \n",
       "27973        4.0             Москва, Большой Палашёвский пер., 2/12   118   \n",
       "27974        6.0                        Москва, ул. Михаила Певцова   118   \n",
       "27975        9.0                Москва, ул. Маршала Тимошенко, 17к1   119   \n",
       "\n",
       "       coord_width  coord_len  \\\n",
       "0        55.599967  37.536365   \n",
       "1        55.592490  37.645717   \n",
       "2        55.665770  37.734130   \n",
       "3        55.799952  37.491889   \n",
       "4        55.647214  37.327623   \n",
       "...            ...        ...   \n",
       "27971    55.836428  37.665533   \n",
       "27972    55.703611  37.516476   \n",
       "27973    55.763341  37.597073   \n",
       "27974    55.670855  37.514228   \n",
       "27975    55.745630  37.394611   \n",
       "\n",
       "                                                    link  distance_to_Kremlin  \\\n",
       "0      https://www.avito.ru/moskva/kvartiry/kvartira-...                17.62   \n",
       "1      https://www.avito.ru/moskva/kvartiry/kvartira-...                17.76   \n",
       "2      https://www.avito.ru/moskva/kvartiry/kvartira-...                11.96   \n",
       "3      https://www.avito.ru/moskva/kvartiry/kvartira-...                 9.59   \n",
       "4      https://www.avito.ru/moskva/kvartiry/kvartira-...                21.62   \n",
       "...                                                  ...                  ...   \n",
       "27971  https://avito.ru//moskva/kvartiry/5-k._kvartir...                 9.89   \n",
       "27972  https://avito.ru//moskva/kvartiry/4-k._kvartir...                 8.33   \n",
       "27973  https://avito.ru//moskva/kvartiry/5-k._kvartir...                 1.89   \n",
       "27974  https://avito.ru//moskva/kvartiry/6-k._kvartir...                11.10   \n",
       "27975  https://avito.ru//moskva/kvartiry/4-k._kvartir...                14.04   \n",
       "\n",
       "                   district                 metro_line  metro_distance  \n",
       "0                   Ясенево           Калужско-Рижская              12  \n",
       "1         Бирюлёво Западное  Серпуховско-Тимирязевская               9  \n",
       "2                   Люблино      Люблинско-Дмитровская               7  \n",
       "3                    Щукино                        БКЛ               6  \n",
       "4                       NaN                Солнцевская              11  \n",
       "...                     ...                        ...             ...  \n",
       "27971             Ростокино                        МЦК               4  \n",
       "27972               Раменки                Солнцевская               3  \n",
       "27973           Пресненский             Замоскворецкая               0  \n",
       "27974  Проспект Вернадского                        БКЛ               6  \n",
       "27975               Кунцево        Арбатско-Покровская               6  \n",
       "\n",
       "[27976 rows x 19 columns]"
      ]
     },
     "execution_count": 2,
     "metadata": {},
     "output_type": "execute_result"
    }
   ],
   "source": [
    "df_raw=pd.read_csv(r\"C:\\Users\\Stepan\\Desktop\\ВУЗ\\Клиент-серверные\\папка датафреймов\\df_after_work_with_cat1.csv\")\n",
    "df_raw=df_raw.drop('Unnamed: 0', axis=1)\n",
    "df_raw"
   ]
  },
  {
   "cell_type": "code",
   "execution_count": 3,
   "id": "40b3a913",
   "metadata": {},
   "outputs": [],
   "source": [
    "df_raw['district'].fillna('', inplace=True)\n",
    "df_raw['metro_name'].fillna('', inplace=True)"
   ]
  },
  {
   "cell_type": "code",
   "execution_count": 4,
   "id": "2a73315b",
   "metadata": {},
   "outputs": [],
   "source": [
    "df_raw=df_raw.drop(index=[13855,15282], axis=0)\n"
   ]
  },
  {
   "cell_type": "markdown",
   "id": "e677a5aa",
   "metadata": {},
   "source": [
    "## Работа с категориальными признаками"
   ]
  },
  {
   "cell_type": "markdown",
   "id": "f8d214cb",
   "metadata": {},
   "source": [
    "Определим список категориальных признаков"
   ]
  },
  {
   "cell_type": "code",
   "execution_count": 5,
   "id": "9652ddf4",
   "metadata": {},
   "outputs": [],
   "source": [
    "cat_col=['district','metro_line', 'repair', 'num_rooms']"
   ]
  },
  {
   "cell_type": "markdown",
   "id": "d8e287ce",
   "metadata": {},
   "source": [
    "Построим графики зависмости  средней цены в категории от категориальных признаков"
   ]
  },
  {
   "cell_type": "code",
   "execution_count": 6,
   "id": "ee42736e",
   "metadata": {},
   "outputs": [
    {
     "data": {
      "image/png": "[encoded data removed]",
      "text/plain": [
       "<Figure size 1800x576 with 1 Axes>"
      ]
     },
     "metadata": {
      "needs_background": "light"
     },
     "output_type": "display_data"
    },
    {
     "data": {
      "image/png": "[encoded data removed]",
      "text/plain": [
       "<Figure size 1800x576 with 1 Axes>"
      ]
     },
     "metadata": {
      "needs_background": "light"
     },
     "output_type": "display_data"
    },
    {
     "data": {
      "image/png": "[encoded data removed]",
      "text/plain": [
       "<Figure size 1800x576 with 1 Axes>"
      ]
     },
     "metadata": {
      "needs_background": "light"
     },
     "output_type": "display_data"
    },
    {
     "data": {
      "image/png": "[encoded data removed]",
      "text/plain": [
       "<Figure size 1800x576 with 1 Axes>"
      ]
     },
     "metadata": {
      "needs_background": "light"
     },
     "output_type": "display_data"
    }
   ],
   "source": [
    "for i in cat_col:\n",
    "    fig, axes = plt.subplots(1, figsize=(25, 8))\n",
    "    for item in axes.get_xticklabels():\n",
    "        item.set_rotation('vertical')\n",
    "    \n",
    "    sns.barplot(x=i, y='price', data=df_raw)\n",
    "    plt.show()"
   ]
  },
  {
   "cell_type": "markdown",
   "id": "079883dd",
   "metadata": {},
   "source": [
    "## Кодирование признаков"
   ]
  },
  {
   "cell_type": "markdown",
   "id": "ab0dede9",
   "metadata": {},
   "source": [
    "Будем использовать для кодировки mean target encoding. Реализую его самостоятельно. Буду пользоваться сглаживанием. То есть кодировать будем как $(mean(target)* nrows+globalmean* \\alpha)/(nrows+\\alpha)$. Однако как мы можем видеть, этой формуле сопоставима другая: $k*mean(target)+(1-k)*globalmean$, где k можно выбрать глобально. Чем меньше k, тем меньше модель склонна к переобучению, но и тем меньше качество кодировки. Также я буду \"обучать\" TargetEncoder не на всех данных, нетроннутой я оставлю отложенную выборку."
   ]
  },
  {
   "cell_type": "code",
   "execution_count": 7,
   "id": "3e9627b8",
   "metadata": {},
   "outputs": [],
   "source": [
    "class TargetEncoder():\n",
    "    def __init__(self, k,  cat_features):\n",
    "        self.cat_features= cat_features\n",
    "        self.k=k\n",
    "    def fit(self, data, y,):\n",
    "        self.globalmean=np.mean(data[y])\n",
    "        self.mean=[]\n",
    "        for i in self.cat_features:\n",
    "            self.mean.append(data.groupby(i).mean()[y])\n",
    "            \n",
    "    def transform(self,data):\n",
    "        with warnings.catch_warnings():\n",
    "            warnings.simplefilter(\"ignore\")\n",
    "            for i in range(len(self.cat_features)):\n",
    "                for j in data[self.cat_features[i]].unique():\n",
    "                    try:\n",
    "                        data.loc[data[self.cat_features[i]]==j, self.cat_features[i]]=(self.mean[i][j]*self.k+(1-self.k)*self.globalmean)\n",
    "                    except:\n",
    "                        data.loc[data[self.cat_features[i]]==j, self.cat_features[i]]=self.globalmean\n",
    "                data[self.cat_features[i]]= data[self.cat_features[i]].astype('float')\n",
    "        return data\n",
    "        "
   ]
  },
  {
   "cell_type": "markdown",
   "id": "16eda3a4",
   "metadata": {},
   "source": [
    "Протестируем на синтетическом датасете"
   ]
  },
  {
   "cell_type": "code",
   "execution_count": 8,
   "id": "77155cc1",
   "metadata": {},
   "outputs": [
    {
     "data": {
      "text/html": [
       "<div>\n",
       "<style scoped>\n",
       "    .dataframe tbody tr th:only-of-type {\n",
       "        vertical-align: middle;\n",
       "    }\n",
       "\n",
       "    .dataframe tbody tr th {\n",
       "        vertical-align: top;\n",
       "    }\n",
       "\n",
       "    .dataframe thead th {\n",
       "        text-align: right;\n",
       "    }\n",
       "</style>\n",
       "<table border=\"1\" class=\"dataframe\">\n",
       "  <thead>\n",
       "    <tr style=\"text-align: right;\">\n",
       "      <th></th>\n",
       "      <th>x</th>\n",
       "      <th>y</th>\n",
       "    </tr>\n",
       "  </thead>\n",
       "  <tbody>\n",
       "    <tr>\n",
       "      <th>0</th>\n",
       "      <td>3.125</td>\n",
       "      <td>1</td>\n",
       "    </tr>\n",
       "    <tr>\n",
       "      <th>1</th>\n",
       "      <td>3.875</td>\n",
       "      <td>2</td>\n",
       "    </tr>\n",
       "    <tr>\n",
       "      <th>2</th>\n",
       "      <td>3.125</td>\n",
       "      <td>3</td>\n",
       "    </tr>\n",
       "    <tr>\n",
       "      <th>3</th>\n",
       "      <td>3.875</td>\n",
       "      <td>4</td>\n",
       "    </tr>\n",
       "    <tr>\n",
       "      <th>4</th>\n",
       "      <td>3.125</td>\n",
       "      <td>5</td>\n",
       "    </tr>\n",
       "    <tr>\n",
       "      <th>5</th>\n",
       "      <td>3.875</td>\n",
       "      <td>6</td>\n",
       "    </tr>\n",
       "  </tbody>\n",
       "</table>\n",
       "</div>"
      ],
      "text/plain": [
       "       x  y\n",
       "0  3.125  1\n",
       "1  3.875  2\n",
       "2  3.125  3\n",
       "3  3.875  4\n",
       "4  3.125  5\n",
       "5  3.875  6"
      ]
     },
     "execution_count": 8,
     "metadata": {},
     "output_type": "execute_result"
    }
   ],
   "source": [
    "df_s=pd.DataFrame(columns=['x','y'])\n",
    "df_s['x']=[1,0,1,0, 1, 0]\n",
    "df_s['y']=[1,2,3,4,5,6]\n",
    "te=TargetEncoder(0.75, ['x'])\n",
    "te.fit(df_s,'y')\n",
    "te.transform(df_s)"
   ]
  },
  {
   "cell_type": "markdown",
   "id": "300b2765",
   "metadata": {},
   "source": [
    "Тест прошел успешно"
   ]
  },
  {
   "cell_type": "markdown",
   "id": "917e91e2",
   "metadata": {},
   "source": [
    "Разобьем наши данные на обучающую и отложенную выборку"
   ]
  },
  {
   "cell_type": "code",
   "execution_count": 9,
   "id": "66469ca6",
   "metadata": {},
   "outputs": [],
   "source": [
    "df_mte_tr, df_mte_val=train_test_split(df_raw, test_size=0.2, random_state=42)\n",
    "mte=TargetEncoder(k=0.8, cat_features=cat_col)\n",
    "mte.fit(df_mte_tr, 'price' )\n",
    "df_mte_tr=mte.transform(df_mte_tr)\n",
    "df_mte_val=mte.transform(df_mte_val)\n",
    "df_mte=mte.transform(df_raw)"
   ]
  },
  {
   "cell_type": "code",
   "execution_count": 10,
   "id": "91d26345",
   "metadata": {},
   "outputs": [
    {
     "name": "stdout",
     "output_type": "stream",
     "text": [
      "<class 'pandas.core.frame.DataFrame'>\n",
      "Int64Index: 27974 entries, 0 to 27975\n",
      "Data columns (total 19 columns):\n",
      " #   Column               Non-Null Count  Dtype  \n",
      "---  ------               --------------  -----  \n",
      " 0   metro_name           27974 non-null  object \n",
      " 1   time_to_metro        27974 non-null  float64\n",
      " 2   num_rooms            27974 non-null  float64\n",
      " 3   total_area           27974 non-null  float64\n",
      " 4   year_house           27974 non-null  float64\n",
      " 5   kitchen_area         27974 non-null  float64\n",
      " 6   repair               27974 non-null  float64\n",
      " 7   price                27974 non-null  float64\n",
      " 8   floors               27974 non-null  float64\n",
      " 9   num_floor            27974 non-null  float64\n",
      " 10  address              27974 non-null  object \n",
      " 11  date                 27974 non-null  int64  \n",
      " 12  coord_width          27974 non-null  float64\n",
      " 13  coord_len            27974 non-null  float64\n",
      " 14  link                 27974 non-null  object \n",
      " 15  distance_to_Kremlin  27974 non-null  float64\n",
      " 16  district             27974 non-null  float64\n",
      " 17  metro_line           27974 non-null  float64\n",
      " 18  metro_distance       27974 non-null  int64  \n",
      "dtypes: float64(14), int64(2), object(3)\n",
      "memory usage: 4.3+ MB\n"
     ]
    }
   ],
   "source": [
    "df_mte.info()"
   ]
  },
  {
   "cell_type": "markdown",
   "id": "f1bf478e",
   "metadata": {},
   "source": [
    "Посмотрим на коррреляцию наших признаков с нашим целевым признаком после mte кодировки"
   ]
  },
  {
   "cell_type": "code",
   "execution_count": 11,
   "id": "a8aa56dd",
   "metadata": {},
   "outputs": [
    {
     "data": {
      "text/plain": [
       "time_to_metro         -0.025682\n",
       "num_rooms              0.702434\n",
       "total_area             0.853662\n",
       "year_house            -0.048710\n",
       "kitchen_area           0.509221\n",
       "repair                 0.290686\n",
       "price                  1.000000\n",
       "floors                 0.044400\n",
       "num_floor              0.085265\n",
       "date                  -0.261587\n",
       "distance_to_Kremlin   -0.393354\n",
       "district               0.605511\n",
       "metro_line             0.342131\n",
       "metro_distance        -0.328481\n",
       "Name: price, dtype: float64"
      ]
     },
     "execution_count": 11,
     "metadata": {},
     "output_type": "execute_result"
    }
   ],
   "source": [
    "df_mte.drop(['coord_width', 'coord_len'], axis=1).corr()['price']"
   ]
  },
  {
   "cell_type": "markdown",
   "id": "cd028af4",
   "metadata": {},
   "source": [
    "Также создадим датасет с Label encoding и посмотрим, что лучше"
   ]
  },
  {
   "cell_type": "code",
   "execution_count": 24,
   "id": "6570cb6d",
   "metadata": {},
   "outputs": [
    {
     "data": {
      "text/html": [
       "<div>\n",
       "<style scoped>\n",
       "    .dataframe tbody tr th:only-of-type {\n",
       "        vertical-align: middle;\n",
       "    }\n",
       "\n",
       "    .dataframe tbody tr th {\n",
       "        vertical-align: top;\n",
       "    }\n",
       "\n",
       "    .dataframe thead th {\n",
       "        text-align: right;\n",
       "    }\n",
       "</style>\n",
       "<table border=\"1\" class=\"dataframe\">\n",
       "  <thead>\n",
       "    <tr style=\"text-align: right;\">\n",
       "      <th></th>\n",
       "      <th>metro_name</th>\n",
       "      <th>time_to_metro</th>\n",
       "      <th>num_rooms</th>\n",
       "      <th>total_area</th>\n",
       "      <th>year_house</th>\n",
       "      <th>kitchen_area</th>\n",
       "      <th>repair</th>\n",
       "      <th>price</th>\n",
       "      <th>floors</th>\n",
       "      <th>num_floor</th>\n",
       "      <th>address</th>\n",
       "      <th>date</th>\n",
       "      <th>coord_width</th>\n",
       "      <th>coord_len</th>\n",
       "      <th>link</th>\n",
       "      <th>distance_to_Kremlin</th>\n",
       "      <th>district</th>\n",
       "      <th>metro_line</th>\n",
       "      <th>metro_distance</th>\n",
       "    </tr>\n",
       "  </thead>\n",
       "  <tbody>\n",
       "    <tr>\n",
       "      <th>25512</th>\n",
       "      <td>Дмитровская</td>\n",
       "      <td>5.0</td>\n",
       "      <td>1</td>\n",
       "      <td>16.5</td>\n",
       "      <td>1700.0</td>\n",
       "      <td>6.0</td>\n",
       "      <td>0</td>\n",
       "      <td>9999000.0</td>\n",
       "      <td>9.0</td>\n",
       "      <td>4.0</td>\n",
       "      <td>Москва, улица Яблочкова, 4</td>\n",
       "      <td>121</td>\n",
       "      <td>55.814133</td>\n",
       "      <td>37.582709</td>\n",
       "      <td>https://avito.ru//moskva/kvartiry/1-k._kvartir...</td>\n",
       "      <td>7.32</td>\n",
       "      <td>88</td>\n",
       "      <td>6</td>\n",
       "      <td>7</td>\n",
       "    </tr>\n",
       "    <tr>\n",
       "      <th>26815</th>\n",
       "      <td>Пролетарская</td>\n",
       "      <td>7.5</td>\n",
       "      <td>3</td>\n",
       "      <td>47.5</td>\n",
       "      <td>2022.0</td>\n",
       "      <td>5.0</td>\n",
       "      <td>1</td>\n",
       "      <td>31500000.0</td>\n",
       "      <td>15.0</td>\n",
       "      <td>15.0</td>\n",
       "      <td>Москва, ул. Мельникова, 2</td>\n",
       "      <td>125</td>\n",
       "      <td>55.727242</td>\n",
       "      <td>37.676574</td>\n",
       "      <td>https://avito.ru//moskva/kvartiry/3-k._kvartir...</td>\n",
       "      <td>4.51</td>\n",
       "      <td>127</td>\n",
       "      <td>9</td>\n",
       "      <td>3</td>\n",
       "    </tr>\n",
       "    <tr>\n",
       "      <th>20676</th>\n",
       "      <td>Спартак</td>\n",
       "      <td>7.5</td>\n",
       "      <td>3</td>\n",
       "      <td>57.5</td>\n",
       "      <td>1700.0</td>\n",
       "      <td>0.0</td>\n",
       "      <td>0</td>\n",
       "      <td>31698241.0</td>\n",
       "      <td>15.0</td>\n",
       "      <td>2.0</td>\n",
       "      <td>ул. Летная, вл. 95Б</td>\n",
       "      <td>129</td>\n",
       "      <td>55.819130</td>\n",
       "      <td>37.422230</td>\n",
       "      <td>https://avito.ru//moskva/kvartiry/3-k._kvartir...</td>\n",
       "      <td>14.41</td>\n",
       "      <td>122</td>\n",
       "      <td>9</td>\n",
       "      <td>8</td>\n",
       "    </tr>\n",
       "    <tr>\n",
       "      <th>17223</th>\n",
       "      <td>Коммунарка</td>\n",
       "      <td>15.5</td>\n",
       "      <td>1</td>\n",
       "      <td>16.5</td>\n",
       "      <td>1700.0</td>\n",
       "      <td>8.5</td>\n",
       "      <td>0</td>\n",
       "      <td>6568224.0</td>\n",
       "      <td>9.0</td>\n",
       "      <td>7.0</td>\n",
       "      <td>пос. Сосенское, дер. Столбово, стр. 10-11</td>\n",
       "      <td>131</td>\n",
       "      <td>55.540180</td>\n",
       "      <td>37.460400</td>\n",
       "      <td>https://avito.ru//moskva/kvartiry/1-k._kvartir...</td>\n",
       "      <td>25.51</td>\n",
       "      <td>47</td>\n",
       "      <td>4</td>\n",
       "      <td>6</td>\n",
       "    </tr>\n",
       "    <tr>\n",
       "      <th>23217</th>\n",
       "      <td>Борисово</td>\n",
       "      <td>15.0</td>\n",
       "      <td>1</td>\n",
       "      <td>22.0</td>\n",
       "      <td>2019.0</td>\n",
       "      <td>9.0</td>\n",
       "      <td>0</td>\n",
       "      <td>11218671.0</td>\n",
       "      <td>22.0</td>\n",
       "      <td>18.0</td>\n",
       "      <td>Москва, ул. Борисовские Пруды, 7к2</td>\n",
       "      <td>126</td>\n",
       "      <td>55.636463</td>\n",
       "      <td>37.715597</td>\n",
       "      <td>https://avito.ru//moskva/kvartiry/auktsion_1-k...</td>\n",
       "      <td>14.15</td>\n",
       "      <td>64</td>\n",
       "      <td>3</td>\n",
       "      <td>9</td>\n",
       "    </tr>\n",
       "  </tbody>\n",
       "</table>\n",
       "</div>"
      ],
      "text/plain": [
       "         metro_name  time_to_metro  num_rooms  total_area  year_house  \\\n",
       "25512   Дмитровская            5.0          1        16.5      1700.0   \n",
       "26815  Пролетарская            7.5          3        47.5      2022.0   \n",
       "20676       Спартак            7.5          3        57.5      1700.0   \n",
       "17223    Коммунарка           15.5          1        16.5      1700.0   \n",
       "23217      Борисово           15.0          1        22.0      2019.0   \n",
       "\n",
       "       kitchen_area  repair       price  floors  num_floor  \\\n",
       "25512           6.0       0   9999000.0     9.0        4.0   \n",
       "26815           5.0       1  31500000.0    15.0       15.0   \n",
       "20676           0.0       0  31698241.0    15.0        2.0   \n",
       "17223           8.5       0   6568224.0     9.0        7.0   \n",
       "23217           9.0       0  11218671.0    22.0       18.0   \n",
       "\n",
       "                                         address  date  coord_width  \\\n",
       "25512                 Москва, улица Яблочкова, 4   121    55.814133   \n",
       "26815                  Москва, ул. Мельникова, 2   125    55.727242   \n",
       "20676                        ул. Летная, вл. 95Б   129    55.819130   \n",
       "17223  пос. Сосенское, дер. Столбово, стр. 10-11   131    55.540180   \n",
       "23217         Москва, ул. Борисовские Пруды, 7к2   126    55.636463   \n",
       "\n",
       "       coord_len                                               link  \\\n",
       "25512  37.582709  https://avito.ru//moskva/kvartiry/1-k._kvartir...   \n",
       "26815  37.676574  https://avito.ru//moskva/kvartiry/3-k._kvartir...   \n",
       "20676  37.422230  https://avito.ru//moskva/kvartiry/3-k._kvartir...   \n",
       "17223  37.460400  https://avito.ru//moskva/kvartiry/1-k._kvartir...   \n",
       "23217  37.715597  https://avito.ru//moskva/kvartiry/auktsion_1-k...   \n",
       "\n",
       "       distance_to_Kremlin  district  metro_line  metro_distance  \n",
       "25512                 7.32        88           6               7  \n",
       "26815                 4.51       127           9               3  \n",
       "20676                14.41       122           9               8  \n",
       "17223                25.51        47           4               6  \n",
       "23217                14.15        64           3               9  "
      ]
     },
     "execution_count": 24,
     "metadata": {},
     "output_type": "execute_result"
    }
   ],
   "source": [
    "df_le=df_raw.copy()\n",
    "for i in cat_col:\n",
    "    le=LabelEncoder()\n",
    "    df_le[i]=le.fit_transform(df_le[i])\n",
    "df_le.sample(5)\n"
   ]
  },
  {
   "cell_type": "markdown",
   "id": "73323d83",
   "metadata": {},
   "source": [
    "## Выбор кодировки"
   ]
  },
  {
   "cell_type": "markdown",
   "id": "47ee4e8d",
   "metadata": {},
   "source": [
    "Создадим матрицу признаков и вектор целевой переменной, удалив все ненужные признаки."
   ]
  },
  {
   "cell_type": "code",
   "execution_count": 20,
   "id": "d43231b4",
   "metadata": {},
   "outputs": [],
   "source": [
    "X_le, y_le=df_le_tr.drop(['metro_name','price','address','coord_width', 'coord_len', 'link', 'date'], axis=1), df_le_tr['price']\n",
    "X_mte, y_mte=df_mte_tr.drop(['metro_name','price','address','coord_width', 'coord_len', 'link', 'date'], axis=1), df_mte_tr['price']"
   ]
  },
  {
   "cell_type": "markdown",
   "id": "1736b381",
   "metadata": {},
   "source": [
    "Проверим какая кодировка лучше, используя LGBMRegressor. Будем использовать GridsearchCV для подбора лучших гиперпараметров. После того как \"потюним\" модель, обучим модель на обучаюшей выборке и проверим ее на валидационной. Выберем кодировку с меньшей ошибкой"
   ]
  },
  {
   "cell_type": "code",
   "execution_count": 14,
   "id": "ababdea5",
   "metadata": {},
   "outputs": [],
   "source": [
    "with open(os.devnull, \"w\") as f, contextlib.redirect_stdout(f):\n",
    "    lgbm_le=LGBMRegressor(verbose=-1, random_state=42, bagging_fraction=0.5)\n",
    "    param_grid={ 'lambda_l1':[1,5,15,30], 'learning_rate':[0.1, 0.2, 0.3],\n",
    "                     'n_estimators':[1000, 2000, 4000]}\n",
    "    gd_le=GridSearchCV(lgbm_le, param_grid, cv=5, scoring='neg_mean_absolute_percentage_error',verbose=-1 )\n",
    "    gd_le.fit(X_le, y_le)\n"
   ]
  },
  {
   "cell_type": "code",
   "execution_count": 15,
   "id": "3b53ecb6",
   "metadata": {},
   "outputs": [
    {
     "name": "stdout",
     "output_type": "stream",
     "text": [
      "Лучшие параметры для le кодировки: {'lambda_l1': 30, 'learning_rate': 0.1, 'n_estimators': 4000}\n"
     ]
    }
   ],
   "source": [
    "print(f'Лучшие параметры для le кодировки: {gd_le.best_params_}')\n"
   ]
  },
  {
   "cell_type": "code",
   "execution_count": 29,
   "id": "2f9f9c83",
   "metadata": {},
   "outputs": [
    {
     "name": "stderr",
     "output_type": "stream",
     "text": [
      "C:\\Users\\Stepan\\anaconda3\\lib\\site-packages\\sklearn\\model_selection\\_split.py:676: UserWarning: The least populated class in y has only 1 members, which is less than n_splits=5.\n",
      "  warnings.warn(\n"
     ]
    },
    {
     "name": "stdout",
     "output_type": "stream",
     "text": [
      "MAPE for le: 0.15186118765638593\n"
     ]
    }
   ],
   "source": [
    "skf = StratifiedKFold(n_splits=5, random_state=42, shuffle=True)\n",
    "errors_le=[]\n",
    "with open(os.devnull, \"w\") as f, contextlib.redirect_stdout(f):\n",
    "    for tr_ind, val_ind in skf.split(X_le, y_le):\n",
    "        lgbm_le=LGBMRegressor(bagging_fraction=0.5, **gd_le.best_params_)\n",
    "        lgbm_le.fit(X_le.iloc[tr_ind,:], y_le.iloc[tr_ind])\n",
    "        errors_le.append(mape(y_le.iloc[val_ind],lgbm_le.predict(X_le.iloc[val_ind,:])))\n",
    "print(f'MAPE for le: {np.mean(errors_le)}')"
   ]
  },
  {
   "cell_type": "code",
   "execution_count": 30,
   "id": "870d0a7d",
   "metadata": {},
   "outputs": [],
   "source": [
    "with open(os.devnull, \"w\") as f, contextlib.redirect_stdout(f):\n",
    "    lgbm_mte=LGBMRegressor(verbose=-1, random_state=42, bagging_fraction=0.5)\n",
    "    param_grid={ 'lambda_l1':[1,5,15,30], 'learning_rate':[0.1, 0.2, 0.3],\n",
    "                     'n_estimators':[1000, 2000, 4000]}\n",
    "    gd_mte=GridSearchCV(lgbm_mte, param_grid, cv=5, scoring='neg_mean_absolute_percentage_error',verbose=-1 )\n",
    "    gd_mte.fit(X_mte, y_mte)\n"
   ]
  },
  {
   "cell_type": "code",
   "execution_count": 31,
   "id": "c924f973",
   "metadata": {},
   "outputs": [
    {
     "name": "stdout",
     "output_type": "stream",
     "text": [
      "Лучшие параметры для mte кодировки: {'lambda_l1': 5, 'learning_rate': 0.1, 'n_estimators': 4000}\n"
     ]
    }
   ],
   "source": [
    "print(f'Лучшие параметры для mte кодировки: {gd_mte.best_params_}')\n"
   ]
  },
  {
   "cell_type": "code",
   "execution_count": 32,
   "id": "1a5cdbab",
   "metadata": {},
   "outputs": [
    {
     "name": "stderr",
     "output_type": "stream",
     "text": [
      "C:\\Users\\Stepan\\anaconda3\\lib\\site-packages\\sklearn\\model_selection\\_split.py:676: UserWarning: The least populated class in y has only 1 members, which is less than n_splits=5.\n",
      "  warnings.warn(\n"
     ]
    },
    {
     "name": "stdout",
     "output_type": "stream",
     "text": [
      "MAPE for mte: 0.1553341828228498\n"
     ]
    }
   ],
   "source": [
    "skf = StratifiedKFold(n_splits=5, random_state=42, shuffle=True)\n",
    "errors_mte=[]\n",
    "with open(os.devnull, \"w\") as f, contextlib.redirect_stdout(f):\n",
    "    for tr_ind, val_ind in skf.split(X_mte, y_mte):\n",
    "        lgbm_mte=LGBMRegressor(bagging_fraction=0.5, **gd_le.best_params_)\n",
    "        lgbm_mte.fit(X_mte.iloc[tr_ind], y_mte.iloc[tr_ind])\n",
    "        errors_mte.append(mape(y_mte.iloc[val_ind],lgbm_mte.predict(X_mte.iloc[val_ind])))\n",
    "print(f'MAPE for mte: {np.mean(errors_mte)}')"
   ]
  },
  {
   "cell_type": "markdown",
   "id": "f79c59da",
   "metadata": {},
   "source": [
    "le лучше, ее и оставим"
   ]
  },
  {
   "cell_type": "markdown",
   "id": "d8307131",
   "metadata": {},
   "source": [
    "## Сохранение данных"
   ]
  },
  {
   "cell_type": "code",
   "execution_count": 33,
   "id": "c7cdfef6",
   "metadata": {},
   "outputs": [],
   "source": [
    "df_le.to_csv(r\"C:\\Users\\Stepan\\Desktop\\ВУЗ\\Клиент-серверные\\папка датафреймов\\df_after_encoding.csv\")"
   ]
  }
 ],
 "metadata": {
  "kernelspec": {
   "display_name": "Python 3 (ipykernel)",
   "language": "python",
   "name": "python3"
  },
  "language_info": {
   "codemirror_mode": {
    "name": "ipython",
    "version": 3
   },
   "file_extension": ".py",
   "mimetype": "text/x-python",
   "name": "python",
   "nbconvert_exporter": "python",
   "pygments_lexer": "ipython3",
   "version": "3.9.12"
  }
 },
 "nbformat": 4,
 "nbformat_minor": 5
}
