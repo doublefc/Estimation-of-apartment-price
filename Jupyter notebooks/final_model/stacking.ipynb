{
 "cells": [
  {
   "cell_type": "markdown",
   "id": "eb1a657b",
   "metadata": {},
   "source": [
    "# Импорт библиотек"
   ]
  },
  {
   "cell_type": "code",
   "execution_count": 38,
   "id": "b7bc5a4b",
   "metadata": {},
   "outputs": [],
   "source": [
    "import pandas as pd\n",
    "from catboost import *\n",
    "from lightgbm import *\n",
    "from xgboost import *\n",
    "import os\n",
    "import contextlib\n",
    "from sklearn.model_selection import GridSearchCV, train_test_split,StratifiedKFold\n",
    "from sklearn.linear_model import Ridge\n",
    "from sklearn.metrics import mean_absolute_percentage_error as mape\n",
    "import numpy as np\n",
    "import pickle\n",
    "import warnings"
   ]
  },
  {
   "cell_type": "markdown",
   "id": "0a7ad575",
   "metadata": {},
   "source": [
    "# Загрузка данных"
   ]
  },
  {
   "cell_type": "code",
   "execution_count": 8,
   "id": "426ea1fa",
   "metadata": {},
   "outputs": [
    {
     "data": {
      "text/plain": [
       "Index(['metro_name', 'time_to_metro', 'num_rooms', 'total_area', 'year_house',\n",
       "       'kitchen_area', 'repair', 'price', 'floors', 'num_floor', 'address',\n",
       "       'date', 'coord_width', 'coord_len', 'link', 'distance_to_Kremlin',\n",
       "       'district', 'metro_line', 'metro_distance', 'distr*time', 'Kre*time',\n",
       "       'Kre*area', 'year*area', 'year*floors', 'area/num+1'],\n",
       "      dtype='object')"
      ]
     },
     "execution_count": 8,
     "metadata": {},
     "output_type": "execute_result"
    }
   ],
   "source": [
    "df_le=pd.read_csv(r\"C:\\Users\\Stepan\\Desktop\\ВУЗ\\Клиент-серверные\\папка датафреймов\\df_after_delete_le.csv\")\n",
    "df_mte=pd.read_csv(r\"C:\\Users\\Stepan\\Desktop\\ВУЗ\\Клиент-серверные\\папка датафреймов\\df_after_delete_mte.csv\")\n",
    "df_le=df_le.drop('Unnamed: 0', axis=1)\n",
    "df_mte=df_mte.drop('Unnamed: 0', axis=1)\n",
    "df_le.columns"
   ]
  },
  {
   "cell_type": "code",
   "execution_count": 9,
   "id": "ff9d91ac",
   "metadata": {},
   "outputs": [],
   "source": [
    "X_le, y_le=df_le.drop(['metro_name','price','address','date','coord_width','coord_len','link'], axis=1), df_le['price']\n",
    "X_mte, y_mte=df_mte.drop(['metro_name','price','address','date','coord_width','coord_len','link'], axis=1), df_mte['price']"
   ]
  },
  {
   "cell_type": "markdown",
   "id": "155c9380",
   "metadata": {},
   "source": [
    "# Стеккинг моделей"
   ]
  },
  {
   "cell_type": "markdown",
   "id": "14125883",
   "metadata": {},
   "source": [
    "Будем использовать три градиентных бустинга: catboost, xgboost, lightgbm."
   ]
  },
  {
   "cell_type": "code",
   "execution_count": 10,
   "id": "78476079",
   "metadata": {},
   "outputs": [],
   "source": [
    "cat=CatBoostRegressor(random_state=42, silent=True)\n",
    "lgbm=LGBMRegressor(verbose=-1, random_state=42, bagging_fraction=0.5)\n",
    "xgb=XGBRegressor(random_state=42)"
   ]
  },
  {
   "cell_type": "markdown",
   "id": "9344c7a1",
   "metadata": {},
   "source": [
    "Потюним модели. Для xgboost будем использовать данные с mean target encoding, так как xgboost лучше работает на этих данных. Для lightgbm и catboost будем использовать label encoding."
   ]
  },
  {
   "cell_type": "markdown",
   "id": "df318a66",
   "metadata": {},
   "source": [
    "Подбор гиперпараметров для lightgbm."
   ]
  },
  {
   "cell_type": "code",
   "execution_count": 11,
   "id": "94fb601b",
   "metadata": {},
   "outputs": [],
   "source": [
    "param_grid={ 'lambda_l1':[1,5,15,30], 'learning_rate':[0.1, 0.2, 0.3],\n",
    "                         'n_estimators':[1000, 2000, 4000]}\n",
    "with open(os.devnull, \"w\") as f, contextlib.redirect_stdout(f):\n",
    "    gd_lgbm=GridSearchCV(lgbm, param_grid, cv=5, scoring='neg_mean_absolute_percentage_error',verbose=-1 )\n",
    "    gd_lgbm.fit(X_le, y_le)\n"
   ]
  },
  {
   "cell_type": "markdown",
   "id": "8bcd9b8a",
   "metadata": {},
   "source": [
    "Подбор гиперпараметров для catboost."
   ]
  },
  {
   "cell_type": "code",
   "execution_count": 12,
   "id": "ee2e10eb",
   "metadata": {},
   "outputs": [],
   "source": [
    "grid = {'learning_rate': [0.03, 0.1, 0.2],\n",
    "        'depth': [2,4, 6,8],\n",
    "        'l2_leaf_reg': [1, 10, 30],\n",
    "       'iterations':[1000,2000, 4000],\n",
    "       'learning_rate':[0.1, 0.2, 0.3]}\n",
    "with open(os.devnull, \"w\") as f, contextlib.redirect_stdout(f):\n",
    "    grid_search_result = cat.grid_search(grid, X=X_le, y=y_le, plot=False, verbose=False, cv=5, calc_cv_statistics=False,log_cout=f)"
   ]
  },
  {
   "cell_type": "markdown",
   "id": "75347ea1",
   "metadata": {},
   "source": [
    "Подбор гиперпараметров для xgboost."
   ]
  },
  {
   "cell_type": "code",
   "execution_count": 13,
   "id": "e52605b7",
   "metadata": {},
   "outputs": [],
   "source": [
    "param_grid={ 'lambda_l1':[1,15,30], 'learning_rate':[0.1, 0.2],\n",
    "                         'n_estimators':[ 2000, 4000], 'depth':[2,4, 8]}\n",
    "with open(os.devnull, \"w\") as f, contextlib.redirect_stdout(f):\n",
    "    gd_xgb=GridSearchCV(xgb, param_grid, cv=5, scoring='neg_mean_absolute_percentage_error',verbose=1 )\n",
    "    gd_xgb.fit(X_mte, y_mte)\n",
    " "
   ]
  },
  {
   "cell_type": "markdown",
   "id": "3221373a",
   "metadata": {},
   "source": [
    "Модели с подобранными гиперпараметрами."
   ]
  },
  {
   "cell_type": "code",
   "execution_count": 14,
   "id": "a59af9bb",
   "metadata": {},
   "outputs": [],
   "source": [
    "cat=CatBoostRegressor(random_state=42, **grid_search_result['params'], verbose=False)  \n",
    "xgb=XGBRegressor(random_state=42, **gd_xgb.best_params_)  \n",
    "lgbm=LGBMRegressor(verbose=-1, random_state=42, bagging_fraction=0.5, **gd_lgbm.best_params_)   "
   ]
  },
  {
   "cell_type": "markdown",
   "id": "89163389",
   "metadata": {},
   "source": [
    "Разделим данные на трейн, тест."
   ]
  },
  {
   "cell_type": "code",
   "execution_count": 51,
   "id": "ce2cbb67",
   "metadata": {},
   "outputs": [],
   "source": [
    "X_ltr,X_lv,y_ltr,y_lv=train_test_split(X_le, y_le, test_size=0.1, shuffle=True, random_state=42)\n",
    "X_mtr,X_mv,y_mtr,y_mv=train_test_split(X_mte, y_mte, test_size=0.1, shuffle=True, random_state=42)"
   ]
  },
  {
   "cell_type": "markdown",
   "id": "254360fb",
   "metadata": {},
   "source": [
    "Обучим модели на кроссвалидации и сохраним их. Из предсказаний на кросс-валидации сделаем датасет для обучения стек-модели."
   ]
  },
  {
   "cell_type": "code",
   "execution_count": 57,
   "id": "c58fbea6",
   "metadata": {},
   "outputs": [],
   "source": [
    "k=0\n",
    "skf = StratifiedKFold(n_splits=5, random_state=42, shuffle=True)\n",
    "y,y1,y2,y3=np.zeros(X_ltr.shape[0]),np.zeros(X_ltr.shape[0]),np.zeros(X_ltr.shape[0]),np.zeros(X_ltr.shape[0])\n",
    "\n",
    "\n",
    "with open(os.devnull, \"w\") as f, contextlib.redirect_stdout(f):\n",
    "    with warnings.catch_warnings():\n",
    "        warnings.simplefilter(\"ignore\")\n",
    "        for tr_ind, val_ind in skf.split(X_ltr, y_ltr):\n",
    "\n",
    "            cat=CatBoostRegressor(random_state=42, **grid_search_result['params'], verbose=False)  \n",
    "            xgb=XGBRegressor(random_state=42, **gd_xgb.best_params_)  \n",
    "            lgbm=LGBMRegressor(verbose=-1, random_state=42, bagging_fraction=0.5, **gd_lgbm.best_params_)   \n",
    "            cat.fit(X_ltr.iloc[tr_ind], y_ltr.iloc[tr_ind])\n",
    "            xgb.fit(X_mtr.iloc[tr_ind],y_mtr.iloc[tr_ind])\n",
    "            lgbm.fit(X_mtr.iloc[tr_ind], y_mtr.iloc[tr_ind])\n",
    "\n",
    "\n",
    "            y[val_ind]=y_ltr.iloc[val_ind]\n",
    "            y1[val_ind]=cat.predict(X_ltr.iloc[val_ind])\n",
    "            y2[val_ind]=xgb.predict(X_mtr.iloc[val_ind])\n",
    "            y3[val_ind]=lgbm.predict(X_mtr.iloc[val_ind])\n",
    "\n",
    "\n",
    "\n",
    "            with open(fr\"C:\\Users\\Stepan\\Desktop\\ВУЗ\\Клиент-серверные\\Jupyter notebooks\\utils\\cat{k}.pkl\", \"wb\") as f:\n",
    "                pickle.dump(cat, f)\n",
    "            with open(fr\"C:\\Users\\Stepan\\Desktop\\ВУЗ\\Клиент-серверные\\Jupyter notebooks\\utils\\xgb{k}.pkl\", \"wb\") as f:\n",
    "                pickle.dump(xgb, f)\n",
    "            with open(fr\"C:\\Users\\Stepan\\Desktop\\ВУЗ\\Клиент-серверные\\Jupyter notebooks\\utils\\lgbm{k}.pkl\", \"wb\") as f:\n",
    "                pickle.dump(lgbm, f)\n",
    "\n",
    "            k+=1\n",
    "    \n"
   ]
  },
  {
   "cell_type": "markdown",
   "id": "b13cef72",
   "metadata": {},
   "source": [
    "Обучение стек модели на кросс-валидации"
   ]
  },
  {
   "cell_type": "code",
   "execution_count": 58,
   "id": "b831104a",
   "metadata": {},
   "outputs": [
    {
     "name": "stdout",
     "output_type": "stream",
     "text": [
      "[0.14972913316615152, 0.14706691880950357, 0.14072319471489222, 0.14767801470563993, 0.14711528319328634] 0.14646250891789472\n"
     ]
    }
   ],
   "source": [
    "skf = StratifiedKFold(n_splits=5, random_state=42, shuffle=True)\n",
    "k=0\n",
    "\n",
    "df_stack=pd.DataFrame(columns=['y1','y2','y3','y'])\n",
    "df_stack['y']=y\n",
    "df_stack['y1']=y1\n",
    "df_stack['y2']=y2\n",
    "df_stack['y3']=y3\n",
    "\n",
    "errors=[]\n",
    "\n",
    "\n",
    "with open(os.devnull, \"w\") as f, contextlib.redirect_stdout(f):\n",
    "    with warnings.catch_warnings():\n",
    "        warnings.simplefilter(\"ignore\")\n",
    "        for tr_ind, val_ind in skf.split(X_ltr, y_ltr):\n",
    "\n",
    "            s_model=Ridge(alpha=1,fit_intercept=False )\n",
    "            s_model.fit(df_stack.drop('y', axis=1).iloc[tr_ind], df_stack.iloc[tr_ind,3])\n",
    "            with open(fr\"C:\\Users\\Stepan\\Desktop\\ВУЗ\\Клиент-серверные\\Jupyter notebooks\\utils\\s_model{k}.pkl\", \"wb\") as f:\n",
    "                pickle.dump(s_model, f)\n",
    "            k+=1\n",
    "            errors.append(mape(df_stack.iloc[val_ind,3], s_model.predict(df_stack.drop('y', axis=1).iloc[val_ind])))\n",
    "print(errors, np.mean(errors))\n",
    "    \n"
   ]
  },
  {
   "cell_type": "markdown",
   "id": "4c3c4bae",
   "metadata": {},
   "source": [
    "Протестируем нашу стек модель на отложенной выборке"
   ]
  },
  {
   "cell_type": "code",
   "execution_count": 59,
   "id": "77fb5d07",
   "metadata": {},
   "outputs": [],
   "source": [
    "y1=[]\n",
    "y2=[]\n",
    "y3=[]\n",
    "\n",
    "for i in range(5):\n",
    "    with open(fr\"C:\\Users\\Stepan\\Desktop\\ВУЗ\\Клиент-серверные\\Jupyter notebooks\\utils\\cat{i}.pkl\", \"rb\") as f:\n",
    "        cat=pickle.load(f)\n",
    "    with open(fr\"C:\\Users\\Stepan\\Desktop\\ВУЗ\\Клиент-серверные\\Jupyter notebooks\\utils\\xgb{i}.pkl\", \"rb\") as f:\n",
    "        xgb=pickle.load(f)\n",
    "    with open(fr\"C:\\Users\\Stepan\\Desktop\\ВУЗ\\Клиент-серверные\\Jupyter notebooks\\utils\\lgbm{i}.pkl\", \"rb\") as f:\n",
    "        lgbm=pickle.load(f)\n",
    "    y1.append(cat.predict(X_lv))\n",
    "    y2.append(xgb.predict(X_mv))\n",
    "    y3.append(lgbm.predict(X_mv))\n",
    "    \n",
    "y1=np.mean(y1, axis=0)\n",
    "y2=np.mean(y2, axis=0)\n",
    "y3=np.mean(y3, axis=0)\n",
    "\n",
    "df_test=pd.DataFrame(columns=['y1','y2','y3'])\n",
    "\n",
    "df_test['y1']=y1\n",
    "df_test['y2']=y2\n",
    "df_test['y3']=y3"
   ]
  },
  {
   "cell_type": "code",
   "execution_count": 60,
   "id": "39e96517",
   "metadata": {},
   "outputs": [
    {
     "data": {
      "text/plain": [
       "0.13736349061687375"
      ]
     },
     "execution_count": 60,
     "metadata": {},
     "output_type": "execute_result"
    }
   ],
   "source": [
    "res=[]\n",
    "\n",
    "for i in range(5):\n",
    "    with open(fr\"C:\\Users\\Stepan\\Desktop\\ВУЗ\\Клиент-серверные\\Jupyter notebooks\\utils\\s_model{i}.pkl\", \"rb\") as f:\n",
    "        s_model=pickle.load(f)\n",
    "    res.append(s_model.predict(df_test))\n",
    "\n",
    "res=np.mean(res, axis=0)\n",
    "mape(y_lv, res)"
   ]
  },
  {
   "cell_type": "markdown",
   "id": "0ae7c692",
   "metadata": {},
   "source": [
    "0.13735134844436467 Такого качество нашей стек модели на отложенной выборке"
   ]
  }
 ],
 "metadata": {
  "kernelspec": {
   "display_name": "Python 3 (ipykernel)",
   "language": "python",
   "name": "python3"
  },
  "language_info": {
   "codemirror_mode": {
    "name": "ipython",
    "version": 3
   },
   "file_extension": ".py",
   "mimetype": "text/x-python",
   "name": "python",
   "nbconvert_exporter": "python",
   "pygments_lexer": "ipython3",
   "version": "3.9.12"
  }
 },
 "nbformat": 4,
 "nbformat_minor": 5
}
