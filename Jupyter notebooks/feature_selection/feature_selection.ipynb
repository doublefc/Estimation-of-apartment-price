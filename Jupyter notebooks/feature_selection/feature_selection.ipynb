{
 "cells": [
  {
   "cell_type": "markdown",
   "id": "f4607063",
   "metadata": {},
   "source": [
    "# Импортируем библиотеки"
   ]
  },
  {
   "cell_type": "code",
   "execution_count": 1,
   "id": "1ad7bbb2",
   "metadata": {},
   "outputs": [],
   "source": [
    "from lightgbm import LGBMRegressor\n",
    "import pandas as pd\n",
    "import lightgbm as lgb\n",
    "from sklearn.inspection import permutation_importance\n",
    "import random\n",
    "import numpy as np\n",
    "from sklearn.model_selection import train_test_split\n",
    "from sklearn.model_selection import StratifiedKFold\n",
    "import os\n",
    "import contextlib\n",
    "import warnings\n",
    "from sklearn.metrics import mean_absolute_percentage_error as mape\n",
    "import matplotlib.pyplot as plt\n",
    "import seaborn as sns\n",
    "from sklearn.inspection import permutation_importance\n",
    "from sklearn.model_selection import  GridSearchCV\n",
    "from tqdm import tqdm\n",
    "import statsmodels.api as sm"
   ]
  },
  {
   "cell_type": "markdown",
   "id": "bda5cbef",
   "metadata": {},
   "source": [
    "# Загрузка данных"
   ]
  },
  {
   "cell_type": "markdown",
   "id": "af1554df",
   "metadata": {},
   "source": [
    "Будем использовать le кодировку, так как будем работать с lightgbm"
   ]
  },
  {
   "cell_type": "code",
   "execution_count": 2,
   "id": "4b374f06",
   "metadata": {},
   "outputs": [
    {
     "data": {
      "text/html": [
       "<div>\n",
       "<style scoped>\n",
       "    .dataframe tbody tr th:only-of-type {\n",
       "        vertical-align: middle;\n",
       "    }\n",
       "\n",
       "    .dataframe tbody tr th {\n",
       "        vertical-align: top;\n",
       "    }\n",
       "\n",
       "    .dataframe thead th {\n",
       "        text-align: right;\n",
       "    }\n",
       "</style>\n",
       "<table border=\"1\" class=\"dataframe\">\n",
       "  <thead>\n",
       "    <tr style=\"text-align: right;\">\n",
       "      <th></th>\n",
       "      <th>metro_name</th>\n",
       "      <th>time_to_metro</th>\n",
       "      <th>num_rooms</th>\n",
       "      <th>total_area</th>\n",
       "      <th>year_house</th>\n",
       "      <th>kitchen_area</th>\n",
       "      <th>repair</th>\n",
       "      <th>price</th>\n",
       "      <th>floors</th>\n",
       "      <th>num_floor</th>\n",
       "      <th>...</th>\n",
       "      <th>district</th>\n",
       "      <th>metro_line</th>\n",
       "      <th>metro_distance</th>\n",
       "      <th>distr*time</th>\n",
       "      <th>Kre*time</th>\n",
       "      <th>Kre*area</th>\n",
       "      <th>year*area</th>\n",
       "      <th>year*repair</th>\n",
       "      <th>year*floors</th>\n",
       "      <th>area/num+1</th>\n",
       "    </tr>\n",
       "  </thead>\n",
       "  <tbody>\n",
       "    <tr>\n",
       "      <th>20754</th>\n",
       "      <td>Саларьево</td>\n",
       "      <td>5.0</td>\n",
       "      <td>3</td>\n",
       "      <td>44.5</td>\n",
       "      <td>1700.0</td>\n",
       "      <td>9.0</td>\n",
       "      <td>0</td>\n",
       "      <td>14148762.0</td>\n",
       "      <td>14.0</td>\n",
       "      <td>0.214286</td>\n",
       "      <td>...</td>\n",
       "      <td>42</td>\n",
       "      <td>13</td>\n",
       "      <td>6.65</td>\n",
       "      <td>210.0</td>\n",
       "      <td>98.250</td>\n",
       "      <td>874.425</td>\n",
       "      <td>75650.0</td>\n",
       "      <td>0.0</td>\n",
       "      <td>23800.0</td>\n",
       "      <td>11.125</td>\n",
       "    </tr>\n",
       "    <tr>\n",
       "      <th>14779</th>\n",
       "      <td>Новопеределкино</td>\n",
       "      <td>2.5</td>\n",
       "      <td>3</td>\n",
       "      <td>36.0</td>\n",
       "      <td>1700.0</td>\n",
       "      <td>6.0</td>\n",
       "      <td>1</td>\n",
       "      <td>22990000.0</td>\n",
       "      <td>23.0</td>\n",
       "      <td>0.217391</td>\n",
       "      <td>...</td>\n",
       "      <td>57</td>\n",
       "      <td>11</td>\n",
       "      <td>10.35</td>\n",
       "      <td>142.5</td>\n",
       "      <td>50.875</td>\n",
       "      <td>732.600</td>\n",
       "      <td>61200.0</td>\n",
       "      <td>1700.0</td>\n",
       "      <td>39100.0</td>\n",
       "      <td>9.000</td>\n",
       "    </tr>\n",
       "    <tr>\n",
       "      <th>22165</th>\n",
       "      <td>Царицыно</td>\n",
       "      <td>15.0</td>\n",
       "      <td>2</td>\n",
       "      <td>34.5</td>\n",
       "      <td>1700.0</td>\n",
       "      <td>8.0</td>\n",
       "      <td>0</td>\n",
       "      <td>18000000.0</td>\n",
       "      <td>11.0</td>\n",
       "      <td>0.272727</td>\n",
       "      <td>...</td>\n",
       "      <td>25</td>\n",
       "      <td>10</td>\n",
       "      <td>7.34</td>\n",
       "      <td>375.0</td>\n",
       "      <td>245.100</td>\n",
       "      <td>563.730</td>\n",
       "      <td>58650.0</td>\n",
       "      <td>0.0</td>\n",
       "      <td>18700.0</td>\n",
       "      <td>11.500</td>\n",
       "    </tr>\n",
       "    <tr>\n",
       "      <th>18235</th>\n",
       "      <td>Дмитровская</td>\n",
       "      <td>5.0</td>\n",
       "      <td>3</td>\n",
       "      <td>41.5</td>\n",
       "      <td>1700.0</td>\n",
       "      <td>5.0</td>\n",
       "      <td>0</td>\n",
       "      <td>32975890.0</td>\n",
       "      <td>36.0</td>\n",
       "      <td>0.583333</td>\n",
       "      <td>...</td>\n",
       "      <td>104</td>\n",
       "      <td>6</td>\n",
       "      <td>-0.25</td>\n",
       "      <td>520.0</td>\n",
       "      <td>33.750</td>\n",
       "      <td>280.125</td>\n",
       "      <td>70550.0</td>\n",
       "      <td>0.0</td>\n",
       "      <td>61200.0</td>\n",
       "      <td>10.375</td>\n",
       "    </tr>\n",
       "    <tr>\n",
       "      <th>4163</th>\n",
       "      <td>Алексеевская</td>\n",
       "      <td>13.0</td>\n",
       "      <td>3</td>\n",
       "      <td>52.0</td>\n",
       "      <td>2023.0</td>\n",
       "      <td>13.0</td>\n",
       "      <td>2</td>\n",
       "      <td>36359736.0</td>\n",
       "      <td>34.0</td>\n",
       "      <td>0.970588</td>\n",
       "      <td>...</td>\n",
       "      <td>100</td>\n",
       "      <td>7</td>\n",
       "      <td>1.56</td>\n",
       "      <td>1300.0</td>\n",
       "      <td>85.280</td>\n",
       "      <td>341.120</td>\n",
       "      <td>105196.0</td>\n",
       "      <td>4046.0</td>\n",
       "      <td>68782.0</td>\n",
       "      <td>13.000</td>\n",
       "    </tr>\n",
       "  </tbody>\n",
       "</table>\n",
       "<p>5 rows × 26 columns</p>\n",
       "</div>"
      ],
      "text/plain": [
       "            metro_name  time_to_metro  num_rooms  total_area  year_house  \\\n",
       "20754        Саларьево            5.0          3        44.5      1700.0   \n",
       "14779  Новопеределкино            2.5          3        36.0      1700.0   \n",
       "22165         Царицыно           15.0          2        34.5      1700.0   \n",
       "18235      Дмитровская            5.0          3        41.5      1700.0   \n",
       "4163      Алексеевская           13.0          3        52.0      2023.0   \n",
       "\n",
       "       kitchen_area  repair       price  floors  num_floor  ... district  \\\n",
       "20754           9.0       0  14148762.0    14.0   0.214286  ...       42   \n",
       "14779           6.0       1  22990000.0    23.0   0.217391  ...       57   \n",
       "22165           8.0       0  18000000.0    11.0   0.272727  ...       25   \n",
       "18235           5.0       0  32975890.0    36.0   0.583333  ...      104   \n",
       "4163           13.0       2  36359736.0    34.0   0.970588  ...      100   \n",
       "\n",
       "       metro_line  metro_distance  distr*time Kre*time  Kre*area  year*area  \\\n",
       "20754          13            6.65       210.0   98.250   874.425    75650.0   \n",
       "14779          11           10.35       142.5   50.875   732.600    61200.0   \n",
       "22165          10            7.34       375.0  245.100   563.730    58650.0   \n",
       "18235           6           -0.25       520.0   33.750   280.125    70550.0   \n",
       "4163            7            1.56      1300.0   85.280   341.120   105196.0   \n",
       "\n",
       "       year*repair  year*floors  area/num+1  \n",
       "20754          0.0      23800.0      11.125  \n",
       "14779       1700.0      39100.0       9.000  \n",
       "22165          0.0      18700.0      11.500  \n",
       "18235          0.0      61200.0      10.375  \n",
       "4163        4046.0      68782.0      13.000  \n",
       "\n",
       "[5 rows x 26 columns]"
      ]
     },
     "execution_count": 2,
     "metadata": {},
     "output_type": "execute_result"
    }
   ],
   "source": [
    "df_le=pd.read_csv(r\"C:\\Users\\Stepan\\Desktop\\ВУЗ\\Клиент-серверные\\папка датафреймов\\df_after_feat_eng_le.csv\")\n",
    "df_mte=pd.read_csv(r\"C:\\Users\\Stepan\\Desktop\\ВУЗ\\Клиент-серверные\\папка датафреймов\\df_after_feat_eng_mte.csv\")\n",
    "df_le=df_le.drop('Unnamed: 0', axis=1)\n",
    "df_mte=df_mte.drop('Unnamed: 0', axis=1)\n",
    "df_le.sample(5)"
   ]
  },
  {
   "cell_type": "code",
   "execution_count": 3,
   "id": "dcceaf82",
   "metadata": {},
   "outputs": [
    {
     "data": {
      "text/plain": [
       "(27974, 26)"
      ]
     },
     "execution_count": 3,
     "metadata": {},
     "output_type": "execute_result"
    }
   ],
   "source": [
    "df_le.shape"
   ]
  },
  {
   "cell_type": "markdown",
   "id": "761ff9d7",
   "metadata": {},
   "source": [
    "# Важности признаков"
   ]
  },
  {
   "cell_type": "markdown",
   "id": "56291129",
   "metadata": {},
   "source": [
    "Будем двигаться от более легких методов к более сложным."
   ]
  },
  {
   "cell_type": "markdown",
   "id": "ed7ab9a8",
   "metadata": {},
   "source": [
    "## Split "
   ]
  },
  {
   "cell_type": "markdown",
   "id": "17009598",
   "metadata": {},
   "source": [
    "Посмотрим простейший способ получения важности под названием split, который встроен в lightgbm. Важность признака определяется по количеству использований признака для сплита в течение всего процесса обучения."
   ]
  },
  {
   "cell_type": "markdown",
   "id": "ff1a6d2c",
   "metadata": {},
   "source": [
    "Для этого сначала обучим градиентный бустинг на кросс-валидации. Также перед этим потюним модель."
   ]
  },
  {
   "cell_type": "code",
   "execution_count": 4,
   "id": "358c7d9e",
   "metadata": {},
   "outputs": [],
   "source": [
    "X,y=df_le.drop(['coord_width', 'coord_len', 'link', 'address', 'metro_name', 'price', 'date'], axis=1), df_le['price']\n",
    "X_tr, X_v,y_tr, y_v=train_test_split(X,y, test_size=0.8)"
   ]
  },
  {
   "cell_type": "code",
   "execution_count": 5,
   "id": "73af9c57",
   "metadata": {},
   "outputs": [
    {
     "name": "stdout",
     "output_type": "stream",
     "text": [
      "best params: {'lambda_l1': 5, 'learning_rate': 0.05, 'n_estimators': 4000}\n"
     ]
    }
   ],
   "source": [
    "lgbm=LGBMRegressor(bagging_fraction=0.5, random_state=42)\n",
    "param_grid={'learning_rate':[0.01,0.05,0.1,0.2], 'n_estimators':[1000,2000, 4000], 'lambda_l1':[5,15,30]}\n",
    "gd=GridSearchCV(lgbm, param_grid, cv=5)\n",
    "with open(os.devnull, \"w\") as f, contextlib.redirect_stdout(f):\n",
    "    gd.fit(X,y)\n",
    "print(f'best params: {gd.best_params_}')"
   ]
  },
  {
   "cell_type": "markdown",
   "id": "d163f6cc",
   "metadata": {},
   "source": [
    "Считаем важности признаков на кросс-валидации."
   ]
  },
  {
   "cell_type": "code",
   "execution_count": 6,
   "id": "6f0bbaa9",
   "metadata": {},
   "outputs": [],
   "source": [
    "skf = StratifiedKFold(n_splits=4, random_state=42, shuffle=True)\n",
    "importance=[]\n",
    "with open(os.devnull, \"w\") as f, contextlib.redirect_stdout(f):\n",
    "    with warnings.catch_warnings():\n",
    "        warnings.simplefilter(\"ignore\")\n",
    "        for tr_ind, val_ind in skf.split(X, y):\n",
    "            lgbm=LGBMRegressor(bagging_fraction=0.5, random_state=42, **gd.best_params_)\n",
    "            lgbm.fit(X.loc[tr_ind,:], y.loc[tr_ind])\n",
    "            importance.append(lgbm.booster_.feature_importance())\n"
   ]
  },
  {
   "cell_type": "code",
   "execution_count": 7,
   "id": "8fea3ff8",
   "metadata": {},
   "outputs": [
    {
     "data": {
      "text/plain": [
       "array([ 1466.25,  1465.5 , 12234.25,  3963.25,  8888.5 ,  1380.  ,\n",
       "        4588.  ,  9906.5 ,  7098.25,  5672.25,  3273.  ,  8200.75,\n",
       "        6059.75,  6391.25,  9798.25,  7042.5 ,  4230.  ,  6412.  ,\n",
       "       11929.75])"
      ]
     },
     "execution_count": 7,
     "metadata": {},
     "output_type": "execute_result"
    }
   ],
   "source": [
    "feat_imp=np.mean(np.array(importance), axis=0)\n",
    "feat_imp"
   ]
  },
  {
   "cell_type": "markdown",
   "id": "0a812aef",
   "metadata": {},
   "source": [
    "Отсортированный словарь \"признак\": количество сплитов."
   ]
  },
  {
   "cell_type": "code",
   "execution_count": 8,
   "id": "911537c2",
   "metadata": {},
   "outputs": [
    {
     "data": {
      "text/plain": [
       "{'total_area': 12234.25,\n",
       " 'area/num+1': 11929.75,\n",
       " 'num_floor': 9906.5,\n",
       " 'Kre*area': 9798.25,\n",
       " 'kitchen_area': 8888.5,\n",
       " 'metro_distance': 8200.75,\n",
       " 'distance_to_Kremlin': 7098.25,\n",
       " 'year*area': 7042.5,\n",
       " 'year*floors': 6412.0,\n",
       " 'Kre*time': 6391.25,\n",
       " 'distr*time': 6059.75,\n",
       " 'district': 5672.25,\n",
       " 'floors': 4588.0,\n",
       " 'year*repair': 4230.0,\n",
       " 'year_house': 3963.25,\n",
       " 'metro_line': 3273.0,\n",
       " 'time_to_metro': 1466.25,\n",
       " 'num_rooms': 1465.5,\n",
       " 'repair': 1380.0}"
      ]
     },
     "execution_count": 8,
     "metadata": {},
     "output_type": "execute_result"
    }
   ],
   "source": [
    "dict_imp={X.columns[i]:feat_imp[i] for i in range(X.shape[1])}\n",
    "dict_imp_s=sorted(dict_imp, key=lambda x: dict_imp[x], reverse=True)\n",
    "f_dict={}\n",
    "for i in dict_imp_s:\n",
    "    f_dict[i]=dict_imp[i]\n",
    "f_dict"
   ]
  },
  {
   "cell_type": "markdown",
   "id": "4aa21bcb",
   "metadata": {},
   "source": [
    "Визуализация"
   ]
  },
  {
   "cell_type": "code",
   "execution_count": 9,
   "id": "56252907",
   "metadata": {},
   "outputs": [
    {
     "data": {
      "image/png": "[encoded data removed]",
      "text/plain": [
       "<Figure size 1152x576 with 1 Axes>"
      ]
     },
     "metadata": {
      "needs_background": "light"
     },
     "output_type": "display_data"
    }
   ],
   "source": [
    "with warnings.catch_warnings():\n",
    "    warnings.simplefilter(\"ignore\")\n",
    "    plt.figure(figsize=(16, 8))\n",
    "    plt.xlabel('Feature_importance', fontsize=16)\n",
    "    plt.ylabel('Features', fontsize=16)\n",
    "    sns.barplot(list(f_dict.values()), list(f_dict.keys()), color='blue')"
   ]
  },
  {
   "cell_type": "markdown",
   "id": "18b1f9c6",
   "metadata": {},
   "source": [
    "## Permutation importance"
   ]
  },
  {
   "cell_type": "markdown",
   "id": "1532c316",
   "metadata": {},
   "source": [
    "Метод основан на перестановке. Модель обучается на части данных, предсказывает результат на валидационной части данных с каким то качеством. Потом признак перемешивается на валидации, и модель делает предсказание еще раз. Разностью в качестве до перемешивания и после оценивается важность признака."
   ]
  },
  {
   "cell_type": "markdown",
   "id": "e4278883",
   "metadata": {},
   "source": [
    "Смотрим важность на кроссвалидации."
   ]
  },
  {
   "cell_type": "code",
   "execution_count": 10,
   "id": "5b085701",
   "metadata": {},
   "outputs": [
    {
     "name": "stderr",
     "output_type": "stream",
     "text": [
      "5it [19:59, 239.90s/it]\n"
     ]
    }
   ],
   "source": [
    "skf = StratifiedKFold(n_splits=5, random_state=42, shuffle=True)\n",
    "perm_imp=[]\n",
    "with open(os.devnull, \"w\") as f, contextlib.redirect_stdout(f):\n",
    "    with warnings.catch_warnings():\n",
    "        warnings.simplefilter(\"ignore\")\n",
    "        for tr_ind, val_ind in tqdm(skf.split(X, y)):\n",
    "            \n",
    "            lgbm=LGBMRegressor(bagging_fraction=0.5, random_state=42, **gd.best_params_)\n",
    "            lgbm.fit(X.iloc[tr_ind,:], y.iloc[tr_ind])\n",
    "            \n",
    "            perm_imp.append(permutation_importance(lgbm, X.iloc[val_ind], y.iloc[val_ind], random_state=42, scoring='neg_mean_absolute_percentage_error', n_repeats=30))\n",
    "            \n"
   ]
  },
  {
   "cell_type": "markdown",
   "id": "c67e7bcb",
   "metadata": {},
   "source": [
    "Создаем табличку"
   ]
  },
  {
   "cell_type": "code",
   "execution_count": 11,
   "id": "c73acde2",
   "metadata": {},
   "outputs": [],
   "source": [
    "perm_df=pd.DataFrame(columns=['fold №1', 'fold №2', 'fold №3', 'fold №4', 'fold №5', 'mean'], index=X.columns)\n",
    "for i in range(1,6):\n",
    "    perm_df[f'fold №{i}']=perm_imp[i-1]['importances_mean']\n",
    "perm_df['mean']=perm_df.mean(axis=1)"
   ]
  },
  {
   "cell_type": "code",
   "execution_count": 12,
   "id": "de0d9834",
   "metadata": {},
   "outputs": [
    {
     "data": {
      "text/html": [
       "<div>\n",
       "<style scoped>\n",
       "    .dataframe tbody tr th:only-of-type {\n",
       "        vertical-align: middle;\n",
       "    }\n",
       "\n",
       "    .dataframe tbody tr th {\n",
       "        vertical-align: top;\n",
       "    }\n",
       "\n",
       "    .dataframe thead th {\n",
       "        text-align: right;\n",
       "    }\n",
       "</style>\n",
       "<table border=\"1\" class=\"dataframe\">\n",
       "  <thead>\n",
       "    <tr style=\"text-align: right;\">\n",
       "      <th></th>\n",
       "      <th>fold №1</th>\n",
       "      <th>fold №2</th>\n",
       "      <th>fold №3</th>\n",
       "      <th>fold №4</th>\n",
       "      <th>fold №5</th>\n",
       "      <th>mean</th>\n",
       "    </tr>\n",
       "  </thead>\n",
       "  <tbody>\n",
       "    <tr>\n",
       "      <th>time_to_metro</th>\n",
       "      <td>0.046296</td>\n",
       "      <td>0.046155</td>\n",
       "      <td>0.058021</td>\n",
       "      <td>0.042620</td>\n",
       "      <td>0.041881</td>\n",
       "      <td>0.046995</td>\n",
       "    </tr>\n",
       "    <tr>\n",
       "      <th>num_rooms</th>\n",
       "      <td>0.060330</td>\n",
       "      <td>0.056884</td>\n",
       "      <td>0.054096</td>\n",
       "      <td>0.042224</td>\n",
       "      <td>0.049655</td>\n",
       "      <td>0.052638</td>\n",
       "    </tr>\n",
       "    <tr>\n",
       "      <th>total_area</th>\n",
       "      <td>0.738339</td>\n",
       "      <td>0.736152</td>\n",
       "      <td>0.704546</td>\n",
       "      <td>0.745267</td>\n",
       "      <td>0.728895</td>\n",
       "      <td>0.730640</td>\n",
       "    </tr>\n",
       "    <tr>\n",
       "      <th>year_house</th>\n",
       "      <td>0.019169</td>\n",
       "      <td>0.019539</td>\n",
       "      <td>0.022069</td>\n",
       "      <td>0.020715</td>\n",
       "      <td>0.020545</td>\n",
       "      <td>0.020408</td>\n",
       "    </tr>\n",
       "    <tr>\n",
       "      <th>kitchen_area</th>\n",
       "      <td>0.020014</td>\n",
       "      <td>0.019431</td>\n",
       "      <td>0.022529</td>\n",
       "      <td>0.020647</td>\n",
       "      <td>0.020168</td>\n",
       "      <td>0.020558</td>\n",
       "    </tr>\n",
       "    <tr>\n",
       "      <th>repair</th>\n",
       "      <td>0.023160</td>\n",
       "      <td>0.018308</td>\n",
       "      <td>0.019631</td>\n",
       "      <td>0.020662</td>\n",
       "      <td>0.020655</td>\n",
       "      <td>0.020483</td>\n",
       "    </tr>\n",
       "    <tr>\n",
       "      <th>floors</th>\n",
       "      <td>0.055320</td>\n",
       "      <td>0.033142</td>\n",
       "      <td>0.044842</td>\n",
       "      <td>0.038445</td>\n",
       "      <td>0.036081</td>\n",
       "      <td>0.041566</td>\n",
       "    </tr>\n",
       "    <tr>\n",
       "      <th>num_floor</th>\n",
       "      <td>0.010600</td>\n",
       "      <td>0.011616</td>\n",
       "      <td>0.010372</td>\n",
       "      <td>0.009814</td>\n",
       "      <td>0.010727</td>\n",
       "      <td>0.010626</td>\n",
       "    </tr>\n",
       "    <tr>\n",
       "      <th>distance_to_Kremlin</th>\n",
       "      <td>0.098951</td>\n",
       "      <td>0.113557</td>\n",
       "      <td>0.117757</td>\n",
       "      <td>0.158659</td>\n",
       "      <td>0.129065</td>\n",
       "      <td>0.123598</td>\n",
       "    </tr>\n",
       "    <tr>\n",
       "      <th>district</th>\n",
       "      <td>0.092931</td>\n",
       "      <td>0.083063</td>\n",
       "      <td>0.096572</td>\n",
       "      <td>0.086403</td>\n",
       "      <td>0.084569</td>\n",
       "      <td>0.088708</td>\n",
       "    </tr>\n",
       "    <tr>\n",
       "      <th>metro_line</th>\n",
       "      <td>0.019076</td>\n",
       "      <td>0.018067</td>\n",
       "      <td>0.016808</td>\n",
       "      <td>0.015562</td>\n",
       "      <td>0.018383</td>\n",
       "      <td>0.017579</td>\n",
       "    </tr>\n",
       "    <tr>\n",
       "      <th>metro_distance</th>\n",
       "      <td>0.025217</td>\n",
       "      <td>0.028396</td>\n",
       "      <td>0.026392</td>\n",
       "      <td>0.025696</td>\n",
       "      <td>0.025582</td>\n",
       "      <td>0.026257</td>\n",
       "    </tr>\n",
       "    <tr>\n",
       "      <th>distr*time</th>\n",
       "      <td>0.025920</td>\n",
       "      <td>0.024525</td>\n",
       "      <td>0.022294</td>\n",
       "      <td>0.021298</td>\n",
       "      <td>0.022223</td>\n",
       "      <td>0.023252</td>\n",
       "    </tr>\n",
       "    <tr>\n",
       "      <th>Kre*time</th>\n",
       "      <td>0.033374</td>\n",
       "      <td>0.029711</td>\n",
       "      <td>0.049330</td>\n",
       "      <td>0.030275</td>\n",
       "      <td>0.018789</td>\n",
       "      <td>0.032296</td>\n",
       "    </tr>\n",
       "    <tr>\n",
       "      <th>Kre*area</th>\n",
       "      <td>0.024486</td>\n",
       "      <td>0.026159</td>\n",
       "      <td>0.032078</td>\n",
       "      <td>0.035112</td>\n",
       "      <td>0.033376</td>\n",
       "      <td>0.030242</td>\n",
       "    </tr>\n",
       "    <tr>\n",
       "      <th>year*area</th>\n",
       "      <td>0.026241</td>\n",
       "      <td>0.022451</td>\n",
       "      <td>0.026116</td>\n",
       "      <td>0.023007</td>\n",
       "      <td>0.025208</td>\n",
       "      <td>0.024605</td>\n",
       "    </tr>\n",
       "    <tr>\n",
       "      <th>year*repair</th>\n",
       "      <td>0.013028</td>\n",
       "      <td>0.007707</td>\n",
       "      <td>0.014725</td>\n",
       "      <td>0.016269</td>\n",
       "      <td>0.009711</td>\n",
       "      <td>0.012288</td>\n",
       "    </tr>\n",
       "    <tr>\n",
       "      <th>year*floors</th>\n",
       "      <td>0.021175</td>\n",
       "      <td>0.016743</td>\n",
       "      <td>0.020611</td>\n",
       "      <td>0.017390</td>\n",
       "      <td>0.018103</td>\n",
       "      <td>0.018804</td>\n",
       "    </tr>\n",
       "    <tr>\n",
       "      <th>area/num+1</th>\n",
       "      <td>0.042278</td>\n",
       "      <td>0.051920</td>\n",
       "      <td>0.044957</td>\n",
       "      <td>0.046708</td>\n",
       "      <td>0.050918</td>\n",
       "      <td>0.047356</td>\n",
       "    </tr>\n",
       "  </tbody>\n",
       "</table>\n",
       "</div>"
      ],
      "text/plain": [
       "                      fold №1   fold №2   fold №3   fold №4   fold №5  \\\n",
       "time_to_metro        0.046296  0.046155  0.058021  0.042620  0.041881   \n",
       "num_rooms            0.060330  0.056884  0.054096  0.042224  0.049655   \n",
       "total_area           0.738339  0.736152  0.704546  0.745267  0.728895   \n",
       "year_house           0.019169  0.019539  0.022069  0.020715  0.020545   \n",
       "kitchen_area         0.020014  0.019431  0.022529  0.020647  0.020168   \n",
       "repair               0.023160  0.018308  0.019631  0.020662  0.020655   \n",
       "floors               0.055320  0.033142  0.044842  0.038445  0.036081   \n",
       "num_floor            0.010600  0.011616  0.010372  0.009814  0.010727   \n",
       "distance_to_Kremlin  0.098951  0.113557  0.117757  0.158659  0.129065   \n",
       "district             0.092931  0.083063  0.096572  0.086403  0.084569   \n",
       "metro_line           0.019076  0.018067  0.016808  0.015562  0.018383   \n",
       "metro_distance       0.025217  0.028396  0.026392  0.025696  0.025582   \n",
       "distr*time           0.025920  0.024525  0.022294  0.021298  0.022223   \n",
       "Kre*time             0.033374  0.029711  0.049330  0.030275  0.018789   \n",
       "Kre*area             0.024486  0.026159  0.032078  0.035112  0.033376   \n",
       "year*area            0.026241  0.022451  0.026116  0.023007  0.025208   \n",
       "year*repair          0.013028  0.007707  0.014725  0.016269  0.009711   \n",
       "year*floors          0.021175  0.016743  0.020611  0.017390  0.018103   \n",
       "area/num+1           0.042278  0.051920  0.044957  0.046708  0.050918   \n",
       "\n",
       "                         mean  \n",
       "time_to_metro        0.046995  \n",
       "num_rooms            0.052638  \n",
       "total_area           0.730640  \n",
       "year_house           0.020408  \n",
       "kitchen_area         0.020558  \n",
       "repair               0.020483  \n",
       "floors               0.041566  \n",
       "num_floor            0.010626  \n",
       "distance_to_Kremlin  0.123598  \n",
       "district             0.088708  \n",
       "metro_line           0.017579  \n",
       "metro_distance       0.026257  \n",
       "distr*time           0.023252  \n",
       "Kre*time             0.032296  \n",
       "Kre*area             0.030242  \n",
       "year*area            0.024605  \n",
       "year*repair          0.012288  \n",
       "year*floors          0.018804  \n",
       "area/num+1           0.047356  "
      ]
     },
     "execution_count": 12,
     "metadata": {},
     "output_type": "execute_result"
    }
   ],
   "source": [
    "perm_df"
   ]
  },
  {
   "cell_type": "markdown",
   "id": "1241ddcd",
   "metadata": {},
   "source": [
    "Визуализация"
   ]
  },
  {
   "cell_type": "code",
   "execution_count": 13,
   "id": "3e2ad9d8",
   "metadata": {},
   "outputs": [
    {
     "data": {
      "text/plain": [
       "<AxesSubplot:xlabel='Feature importance', ylabel='Features'>"
      ]
     },
     "execution_count": 13,
     "metadata": {},
     "output_type": "execute_result"
    },
    {
     "data": {
      "image/png": "[encoded data removed]",
      "text/plain": [
       "<Figure size 1152x576 with 1 Axes>"
      ]
     },
     "metadata": {
      "needs_background": "light"
     },
     "output_type": "display_data"
    }
   ],
   "source": [
    "plt.figure(figsize=(16,8))\n",
    "a=perm_df['mean'].sort_values()[::-1]\n",
    "plt.xlabel('Feature importance', fontsize=16)\n",
    "plt.ylabel('Features', fontsize=16)\n",
    "sns.barplot(x=a.values, y=a.index, color='purple')"
   ]
  },
  {
   "cell_type": "markdown",
   "id": "797f2c7a",
   "metadata": {},
   "source": [
    "Результаты получились слегка отличающиеся от метода split."
   ]
  },
  {
   "cell_type": "markdown",
   "id": "e55f309d",
   "metadata": {},
   "source": [
    "## Жадное удалерие признаков"
   ]
  },
  {
   "cell_type": "markdown",
   "id": "36614e29",
   "metadata": {},
   "source": [
    "Метод заключается в том, чтобы поочередно удалять признаки, обучать модель на новом датасете и сранивать качество с базом датасетом. Чем больше падение качества- тем выше значимость признака"
   ]
  },
  {
   "cell_type": "markdown",
   "id": "b4f6cba6",
   "metadata": {},
   "source": [
    "Каждый раз будем смотреть качество на кросс валидации. Для каждого нового датасета надо будет \"тюнить\" модель"
   ]
  },
  {
   "cell_type": "markdown",
   "id": "3de40700",
   "metadata": {},
   "source": [
    "Качество базового датасета."
   ]
  },
  {
   "cell_type": "code",
   "execution_count": 14,
   "id": "12e5bb45",
   "metadata": {},
   "outputs": [
    {
     "name": "stdout",
     "output_type": "stream",
     "text": [
      "best params: {'lambda_l1': 5, 'learning_rate': 0.05, 'n_estimators': 4000}\n"
     ]
    }
   ],
   "source": [
    "lgbm=LGBMRegressor(bagging_fraction=0.5, random_state=42)\n",
    "param_grid={'learning_rate':[0.01,0.05,0.1,0.2], 'n_estimators':[1000,2000, 4000], 'lambda_l1':[5,15,30]}\n",
    "gd=GridSearchCV(lgbm, param_grid, cv=5)\n",
    "with open(os.devnull, \"w\") as f, contextlib.redirect_stdout(f):\n",
    "    gd.fit(X,y)\n",
    "print(f'best params: {gd.best_params_}')"
   ]
  },
  {
   "cell_type": "code",
   "execution_count": 15,
   "id": "afe2dd75",
   "metadata": {},
   "outputs": [
    {
     "name": "stdout",
     "output_type": "stream",
     "text": [
      "MAPE for f dataset: 0.1498223225813041\n"
     ]
    }
   ],
   "source": [
    "skf = StratifiedKFold(n_splits=5, random_state=42, shuffle=True)\n",
    "errors=[]\n",
    "\n",
    "with open(os.devnull, \"w\") as f, contextlib.redirect_stdout(f):\n",
    "    with warnings.catch_warnings():\n",
    "        warnings.simplefilter(\"ignore\")\n",
    "        \n",
    "        for tr_ind, val_ind in skf.split(X, y):\n",
    "            lgbm=LGBMRegressor(bagging_fraction=0.5, **gd.best_params_, random_state=42)\n",
    "            lgbm.fit(X.iloc[tr_ind,:], y.iloc[tr_ind])\n",
    "            errors.append(mape(y.iloc[val_ind],lgbm.predict(X.iloc[val_ind,:])))\n",
    "            \n",
    "print(f'MAPE for f dataset: {np.mean(errors)}')\n",
    "\n",
    "all_feat_error=np.mean(errors)"
   ]
  },
  {
   "cell_type": "markdown",
   "id": "23a15095",
   "metadata": {},
   "source": [
    "Поочередно удаляем признаки, тюним модель, получаем качество на кросс-валидации. Сохраняем в словарь."
   ]
  },
  {
   "cell_type": "code",
   "execution_count": 16,
   "id": "e38536eb",
   "metadata": {},
   "outputs": [
    {
     "name": "stdout",
     "output_type": "stream",
     "text": [
      "Error with drop repair: 0.1501762960971061\n",
      "Error with all features: 0.1498223225813041\n",
      "Difference between errors for repair: 0.0003539735158019919\n",
      "Remain repair\n",
      "\n",
      "Error with drop num_rooms: 0.15040710490624276\n",
      "Error with all features: 0.1498223225813041\n",
      "Difference between errors for num_rooms: 0.0005847823249386652\n",
      "Remain num_rooms\n",
      "\n",
      "Error with drop time_to_metro: 0.15119539339236632\n",
      "Error with all features: 0.1498223225813041\n",
      "Difference between errors for time_to_metro: 0.0013730708110622214\n",
      "Remain time_to_metro\n",
      "\n",
      "Error with drop metro_line: 0.150310071769653\n",
      "Error with all features: 0.1498223225813041\n",
      "Difference between errors for metro_line: 0.0004877491883489016\n",
      "Remain metro_line\n",
      "\n",
      "Error with drop year_house: 0.15094710998495114\n",
      "Error with all features: 0.1498223225813041\n",
      "Difference between errors for year_house: 0.0011247874036470484\n",
      "Remain year_house\n",
      "\n",
      "Error with drop year*repair: 0.14907498545408188\n",
      "Error with all features: 0.1498223225813041\n",
      "Difference between errors for year*repair: -0.0007473371272222196\n",
      "Delete year*repair\n",
      "\n",
      "Error with drop floors: 0.1502774988966776\n",
      "Error with all features: 0.1498223225813041\n",
      "Difference between errors for floors: 0.00045517631537350667\n",
      "Remain floors\n",
      "\n",
      "Error with drop district: 0.15407247319993647\n",
      "Error with all features: 0.1498223225813041\n",
      "Difference between errors for district: 0.004250150618632376\n",
      "Remain district\n",
      "\n",
      "Error with drop distr*time: 0.15018379063723647\n",
      "Error with all features: 0.1498223225813041\n",
      "Difference between errors for distr*time: 0.0003614680559323735\n",
      "Remain distr*time\n",
      "\n",
      "Error with drop Kre*time: 0.149594980361351\n",
      "Error with all features: 0.1498223225813041\n",
      "Difference between errors for Kre*time: -0.00022734221995310278\n",
      "Delete Kre*time\n",
      "\n",
      "Error with drop year*floors: 0.15021791842932003\n",
      "Error with all features: 0.1498223225813041\n",
      "Difference between errors for year*floors: 0.00039559584801593384\n",
      "Remain year*floors\n",
      "\n",
      "Error with drop year*area: 0.14996680565713802\n",
      "Error with all features: 0.1498223225813041\n",
      "Difference between errors for year*area: 0.00014448307583392328\n",
      "Remain year*area\n",
      "\n",
      "Error with drop distance_to_Kremlin: 0.1530325862813973\n",
      "Error with all features: 0.1498223225813041\n",
      "Difference between errors for distance_to_Kremlin: 0.0032102637000931966\n",
      "Remain distance_to_Kremlin\n",
      "\n",
      "Error with drop metro_distance: 0.1512337668563354\n",
      "Error with all features: 0.1498223225813041\n",
      "Difference between errors for metro_distance: 0.001411444275031315\n",
      "Remain metro_distance\n",
      "\n",
      "Error with drop kitchen_area: 0.1508254126935749\n",
      "Error with all features: 0.1498223225813041\n",
      "Difference between errors for kitchen_area: 0.0010030901122708158\n",
      "Remain kitchen_area\n",
      "\n",
      "Error with drop Kre*area: 0.15021889779365308\n",
      "Error with all features: 0.1498223225813041\n",
      "Difference between errors for Kre*area: 0.00039657521234898185\n",
      "Remain Kre*area\n",
      "\n",
      "Error with drop num_floor: 0.15184332048490579\n",
      "Error with all features: 0.1498223225813041\n",
      "Difference between errors for num_floor: 0.00202099790360169\n",
      "Remain num_floor\n",
      "\n",
      "Error with drop area/num+1: 0.15031668968566078\n",
      "Error with all features: 0.1498223225813041\n",
      "Difference between errors for area/num+1: 0.0004943671043566855\n",
      "Remain area/num+1\n",
      "\n",
      "Error with drop total_area: 0.1516076887467802\n",
      "Error with all features: 0.1498223225813041\n",
      "Difference between errors for total_area: 0.0017853661654761155\n",
      "Remain total_area\n",
      "\n"
     ]
    }
   ],
   "source": [
    "errors_dict={}\n",
    "\n",
    "feat_to_drop=[]\n",
    "col_rfe=perm_df['mean'].sort_values().index\n",
    "t=0.00001\n",
    "c=list(f_dict.keys())[::-1]\n",
    "\n",
    "for i in c:\n",
    "    \n",
    "    X_time=X.drop(feat_to_drop+[i], axis=1)\n",
    "\n",
    "        \n",
    "        \n",
    "    errors_t=[]\n",
    "    with open(os.devnull, \"w\") as f, contextlib.redirect_stdout(f):\n",
    "        with warnings.catch_warnings():\n",
    "            warnings.simplefilter(\"ignore\")\n",
    "            \n",
    "            for tr_ind, val_ind in skf.split(X_time, y):\n",
    "                lgbm=LGBMRegressor(bagging_fraction=0.5, **gd.best_params_, random_state=42)\n",
    "                lgbm.fit(X_time.iloc[tr_ind,:], y.iloc[tr_ind])\n",
    "                errors_t.append(mape(y.iloc[val_ind],lgbm.predict(X_time.iloc[val_ind,:])))\n",
    "                \n",
    "    errors_dict[i]=np.mean(errors_t)\n",
    "    \n",
    "    print(f'Error with drop {i}: {errors_dict[i]}')\n",
    "    print(f'Error with all features: {all_feat_error}')\n",
    "    diff_err=errors_dict[i]-all_feat_error\n",
    "    \n",
    "    print(f'Difference between errors for {i}: {diff_err}')\n",
    "    \n",
    "    if diff_err< t:\n",
    "        feat_to_drop.append(i)\n",
    "        print(f'Delete {i}')\n",
    "    else:\n",
    "        print(f'Remain {i}')\n",
    "    print()"
   ]
  },
  {
   "cell_type": "markdown",
   "id": "49680bb8",
   "metadata": {},
   "source": [
    "Признаки для удаления"
   ]
  },
  {
   "cell_type": "code",
   "execution_count": 17,
   "id": "cce516e9",
   "metadata": {},
   "outputs": [
    {
     "name": "stdout",
     "output_type": "stream",
     "text": [
      "['year*repair', 'Kre*time']\n"
     ]
    }
   ],
   "source": [
    "print(feat_to_drop)"
   ]
  },
  {
   "cell_type": "markdown",
   "id": "4e30fde0",
   "metadata": {},
   "source": [
    "## Split в динамике"
   ]
  },
  {
   "cell_type": "markdown",
   "id": "26b5e56b",
   "metadata": {},
   "source": [
    "Здесь мы посмотрим важность split в зависимости от максимальной глубины дерева"
   ]
  },
  {
   "cell_type": "code",
   "execution_count": 18,
   "id": "c83f4fea",
   "metadata": {},
   "outputs": [],
   "source": [
    "max_depth=[1,2,3,4,5]\n",
    "skf = StratifiedKFold(n_splits=5, random_state=42, shuffle=True)\n",
    "dm_imp=[]\n",
    "for num in max_depth:\n",
    "    \n",
    "    importance=[]\n",
    "    \n",
    "    with open(os.devnull, \"w\") as f, contextlib.redirect_stdout(f):\n",
    "        with warnings.catch_warnings():\n",
    "            warnings.simplefilter(\"ignore\")\n",
    "            \n",
    "            for tr_ind, val_ind in skf.split(X, y):\n",
    "                lgbm=LGBMRegressor(bagging_fraction=0.5, random_state=42, \n",
    "                                   **gd.best_params_, max_depth=num)\n",
    "                \n",
    "                lgbm.fit(X.iloc[tr_ind,:], y.iloc[tr_ind])\n",
    "                \n",
    "                importance.append(lgbm.booster_.feature_importance())\n",
    "\n",
    "\n",
    "    feat_imp=np.mean(np.array(importance), axis=0)\n",
    "    \n",
    "    dm_imp.append(feat_imp)\n"
   ]
  },
  {
   "cell_type": "markdown",
   "id": "709a8d44",
   "metadata": {},
   "source": [
    "Создадим таблицу"
   ]
  },
  {
   "cell_type": "code",
   "execution_count": 19,
   "id": "43fbcfa5",
   "metadata": {},
   "outputs": [],
   "source": [
    "dm_imp_df=pd.DataFrame(columns=[f'depth {i}' for i in range(1, 6)], index=X.columns)\n",
    "\n",
    "for i in range(1,6):\n",
    "    dm_imp_df[f'depth {i}']= dm_imp[i-1]\n",
    "dm_imp_df['mean']=dm_imp_df.mean(axis=1)\n"
   ]
  },
  {
   "cell_type": "code",
   "execution_count": 20,
   "id": "1f3851e3",
   "metadata": {},
   "outputs": [
    {
     "data": {
      "text/html": [
       "<div>\n",
       "<style scoped>\n",
       "    .dataframe tbody tr th:only-of-type {\n",
       "        vertical-align: middle;\n",
       "    }\n",
       "\n",
       "    .dataframe tbody tr th {\n",
       "        vertical-align: top;\n",
       "    }\n",
       "\n",
       "    .dataframe thead th {\n",
       "        text-align: right;\n",
       "    }\n",
       "</style>\n",
       "<table border=\"1\" class=\"dataframe\">\n",
       "  <thead>\n",
       "    <tr style=\"text-align: right;\">\n",
       "      <th></th>\n",
       "      <th>depth 1</th>\n",
       "      <th>depth 2</th>\n",
       "      <th>depth 3</th>\n",
       "      <th>depth 4</th>\n",
       "      <th>depth 5</th>\n",
       "      <th>mean</th>\n",
       "    </tr>\n",
       "  </thead>\n",
       "  <tbody>\n",
       "    <tr>\n",
       "      <th>time_to_metro</th>\n",
       "      <td>416.4</td>\n",
       "      <td>341.0</td>\n",
       "      <td>541.0</td>\n",
       "      <td>680.0</td>\n",
       "      <td>1021.8</td>\n",
       "      <td>600.04</td>\n",
       "    </tr>\n",
       "    <tr>\n",
       "      <th>num_rooms</th>\n",
       "      <td>95.2</td>\n",
       "      <td>220.6</td>\n",
       "      <td>446.6</td>\n",
       "      <td>703.8</td>\n",
       "      <td>1109.0</td>\n",
       "      <td>515.04</td>\n",
       "    </tr>\n",
       "    <tr>\n",
       "      <th>total_area</th>\n",
       "      <td>668.8</td>\n",
       "      <td>1989.0</td>\n",
       "      <td>3750.8</td>\n",
       "      <td>5728.8</td>\n",
       "      <td>8364.0</td>\n",
       "      <td>4100.28</td>\n",
       "    </tr>\n",
       "    <tr>\n",
       "      <th>year_house</th>\n",
       "      <td>371.2</td>\n",
       "      <td>405.6</td>\n",
       "      <td>734.4</td>\n",
       "      <td>1312.0</td>\n",
       "      <td>2142.6</td>\n",
       "      <td>993.16</td>\n",
       "    </tr>\n",
       "    <tr>\n",
       "      <th>kitchen_area</th>\n",
       "      <td>207.0</td>\n",
       "      <td>738.2</td>\n",
       "      <td>1672.6</td>\n",
       "      <td>3288.6</td>\n",
       "      <td>5403.8</td>\n",
       "      <td>2262.04</td>\n",
       "    </tr>\n",
       "    <tr>\n",
       "      <th>repair</th>\n",
       "      <td>30.4</td>\n",
       "      <td>135.4</td>\n",
       "      <td>284.8</td>\n",
       "      <td>475.8</td>\n",
       "      <td>754.0</td>\n",
       "      <td>336.08</td>\n",
       "    </tr>\n",
       "    <tr>\n",
       "      <th>floors</th>\n",
       "      <td>126.4</td>\n",
       "      <td>577.6</td>\n",
       "      <td>1140.6</td>\n",
       "      <td>2009.4</td>\n",
       "      <td>3102.0</td>\n",
       "      <td>1391.20</td>\n",
       "    </tr>\n",
       "    <tr>\n",
       "      <th>num_floor</th>\n",
       "      <td>43.6</td>\n",
       "      <td>275.6</td>\n",
       "      <td>1149.6</td>\n",
       "      <td>2826.0</td>\n",
       "      <td>5377.8</td>\n",
       "      <td>1934.52</td>\n",
       "    </tr>\n",
       "    <tr>\n",
       "      <th>distance_to_Kremlin</th>\n",
       "      <td>211.2</td>\n",
       "      <td>852.2</td>\n",
       "      <td>1891.0</td>\n",
       "      <td>3333.6</td>\n",
       "      <td>5293.8</td>\n",
       "      <td>2316.36</td>\n",
       "    </tr>\n",
       "    <tr>\n",
       "      <th>district</th>\n",
       "      <td>193.4</td>\n",
       "      <td>670.0</td>\n",
       "      <td>1385.0</td>\n",
       "      <td>2453.2</td>\n",
       "      <td>3890.6</td>\n",
       "      <td>1718.44</td>\n",
       "    </tr>\n",
       "    <tr>\n",
       "      <th>metro_line</th>\n",
       "      <td>44.4</td>\n",
       "      <td>174.8</td>\n",
       "      <td>571.8</td>\n",
       "      <td>1128.4</td>\n",
       "      <td>1920.8</td>\n",
       "      <td>768.04</td>\n",
       "    </tr>\n",
       "    <tr>\n",
       "      <th>metro_distance</th>\n",
       "      <td>202.2</td>\n",
       "      <td>429.8</td>\n",
       "      <td>1329.2</td>\n",
       "      <td>2847.8</td>\n",
       "      <td>4927.6</td>\n",
       "      <td>1947.32</td>\n",
       "    </tr>\n",
       "    <tr>\n",
       "      <th>distr*time</th>\n",
       "      <td>353.8</td>\n",
       "      <td>915.4</td>\n",
       "      <td>1368.8</td>\n",
       "      <td>2268.6</td>\n",
       "      <td>3664.6</td>\n",
       "      <td>1714.24</td>\n",
       "    </tr>\n",
       "    <tr>\n",
       "      <th>Kre*time</th>\n",
       "      <td>16.2</td>\n",
       "      <td>328.2</td>\n",
       "      <td>948.6</td>\n",
       "      <td>2119.2</td>\n",
       "      <td>3829.0</td>\n",
       "      <td>1448.24</td>\n",
       "    </tr>\n",
       "    <tr>\n",
       "      <th>Kre*area</th>\n",
       "      <td>328.6</td>\n",
       "      <td>681.2</td>\n",
       "      <td>1761.0</td>\n",
       "      <td>3315.6</td>\n",
       "      <td>5592.6</td>\n",
       "      <td>2335.80</td>\n",
       "    </tr>\n",
       "    <tr>\n",
       "      <th>year*area</th>\n",
       "      <td>141.4</td>\n",
       "      <td>642.6</td>\n",
       "      <td>1471.2</td>\n",
       "      <td>2874.4</td>\n",
       "      <td>4706.6</td>\n",
       "      <td>1967.24</td>\n",
       "    </tr>\n",
       "    <tr>\n",
       "      <th>year*repair</th>\n",
       "      <td>88.0</td>\n",
       "      <td>287.8</td>\n",
       "      <td>699.8</td>\n",
       "      <td>1415.0</td>\n",
       "      <td>2561.0</td>\n",
       "      <td>1010.32</td>\n",
       "    </tr>\n",
       "    <tr>\n",
       "      <th>year*floors</th>\n",
       "      <td>153.4</td>\n",
       "      <td>462.0</td>\n",
       "      <td>1245.6</td>\n",
       "      <td>2501.4</td>\n",
       "      <td>4222.4</td>\n",
       "      <td>1716.96</td>\n",
       "    </tr>\n",
       "    <tr>\n",
       "      <th>area/num+1</th>\n",
       "      <td>308.4</td>\n",
       "      <td>1367.4</td>\n",
       "      <td>2670.2</td>\n",
       "      <td>4746.2</td>\n",
       "      <td>7268.2</td>\n",
       "      <td>3272.08</td>\n",
       "    </tr>\n",
       "  </tbody>\n",
       "</table>\n",
       "</div>"
      ],
      "text/plain": [
       "                     depth 1  depth 2  depth 3  depth 4  depth 5     mean\n",
       "time_to_metro          416.4    341.0    541.0    680.0   1021.8   600.04\n",
       "num_rooms               95.2    220.6    446.6    703.8   1109.0   515.04\n",
       "total_area             668.8   1989.0   3750.8   5728.8   8364.0  4100.28\n",
       "year_house             371.2    405.6    734.4   1312.0   2142.6   993.16\n",
       "kitchen_area           207.0    738.2   1672.6   3288.6   5403.8  2262.04\n",
       "repair                  30.4    135.4    284.8    475.8    754.0   336.08\n",
       "floors                 126.4    577.6   1140.6   2009.4   3102.0  1391.20\n",
       "num_floor               43.6    275.6   1149.6   2826.0   5377.8  1934.52\n",
       "distance_to_Kremlin    211.2    852.2   1891.0   3333.6   5293.8  2316.36\n",
       "district               193.4    670.0   1385.0   2453.2   3890.6  1718.44\n",
       "metro_line              44.4    174.8    571.8   1128.4   1920.8   768.04\n",
       "metro_distance         202.2    429.8   1329.2   2847.8   4927.6  1947.32\n",
       "distr*time             353.8    915.4   1368.8   2268.6   3664.6  1714.24\n",
       "Kre*time                16.2    328.2    948.6   2119.2   3829.0  1448.24\n",
       "Kre*area               328.6    681.2   1761.0   3315.6   5592.6  2335.80\n",
       "year*area              141.4    642.6   1471.2   2874.4   4706.6  1967.24\n",
       "year*repair             88.0    287.8    699.8   1415.0   2561.0  1010.32\n",
       "year*floors            153.4    462.0   1245.6   2501.4   4222.4  1716.96\n",
       "area/num+1             308.4   1367.4   2670.2   4746.2   7268.2  3272.08"
      ]
     },
     "execution_count": 20,
     "metadata": {},
     "output_type": "execute_result"
    }
   ],
   "source": [
    "dm_imp_df"
   ]
  },
  {
   "cell_type": "markdown",
   "id": "546e0674",
   "metadata": {},
   "source": [
    "Визуализация"
   ]
  },
  {
   "cell_type": "code",
   "execution_count": 21,
   "id": "9dca03a5",
   "metadata": {},
   "outputs": [
    {
     "data": {
      "text/plain": [
       "<AxesSubplot:xlabel='Feature importance', ylabel='Features'>"
      ]
     },
     "execution_count": 21,
     "metadata": {},
     "output_type": "execute_result"
    },
    {
     "data": {
      "image/png": "[encoded data removed]",
      "text/plain": [
       "<Figure size 1152x576 with 1 Axes>"
      ]
     },
     "metadata": {
      "needs_background": "light"
     },
     "output_type": "display_data"
    }
   ],
   "source": [
    "plt.figure(figsize=(16,8))\n",
    "b=dm_imp_df['mean'].sort_values()[::-1]\n",
    "plt.xlabel('Feature importance', fontsize=16)\n",
    "plt.ylabel('Features', fontsize=16)\n",
    "sns.barplot(x=b.values, y=b.index, color='green')"
   ]
  },
  {
   "cell_type": "markdown",
   "id": "e78f585f",
   "metadata": {},
   "source": [
    "Разницы особо нет"
   ]
  },
  {
   "cell_type": "markdown",
   "id": "c32af090",
   "metadata": {},
   "source": [
    "## Модифицированный backward elimination features"
   ]
  },
  {
   "cell_type": "markdown",
   "id": "701c471e",
   "metadata": {},
   "source": [
    "Этот метод заключается в том, чтобы наоборот, находить самые наилучшие признаки и их удалять. Удалять до тех пор, пока значимость самого лучшего признака не будет ниже какого-то порога. Тогда оставшиеся признаки- кандидаты на удаление после отбора, а удаленные-хорошие признаки, которые мы оставляем."
   ]
  },
  {
   "cell_type": "code",
   "execution_count": 22,
   "id": "65337bb0",
   "metadata": {},
   "outputs": [
    {
     "name": "stdout",
     "output_type": "stream",
     "text": [
      "Feature \"district\" remain with mape 0.15378063256341554\n",
      "\n",
      "Feature \"distr*time\" remain with mape 0.1589818538001554\n",
      "\n",
      "Feature \"metro_line\" remain with mape 0.16461517319900473\n",
      "\n",
      "Feature \"metro_distance\" remain with mape 0.17155933328485254\n",
      "\n",
      "Feature \"distance_to_Kremlin\" remain with mape 0.17862183149366626\n",
      "\n",
      "Feature \"Kre*time\" remain with mape 0.18823729610448056\n",
      "\n",
      "Feature \"Kre*area\" remain with mape 0.23042099163164717\n",
      "\n",
      "Feature \"time_to_metro\" remain with mape 0.263978929666844\n",
      "\n",
      "Feature \"kitchen_area\" remain with mape 0.27306101201166405\n",
      "\n",
      "Feature \"year_house\" remain with mape 0.2762700662257798\n",
      "\n",
      "Feature \"year*floors\" remain with mape 0.2786928389337551\n",
      "\n",
      "Feature \"floors\" remain with mape 0.3196410743015804\n",
      "\n",
      "Feature \"num_floor\" remain with mape 0.32830105586392816\n",
      "\n",
      "Feature \"year*repair\" remain with mape 0.3366162100064506\n",
      "\n",
      "Feature \"repair\" remain with mape 0.3501039068981444\n",
      "\n",
      "Feature \"year*area\" remain with mape 0.3596113747371742\n",
      "\n",
      "Feature \"total_area\" remain with mape 0.360837237266033\n",
      "\n",
      "Feature \"num_rooms\" remain with mape 0.6205249932922919\n",
      "\n",
      "Feature \"area/num+1\" mape more then 1\n"
     ]
    }
   ],
   "source": [
    "fl=True\n",
    "k=0\n",
    "col_drop=[]\n",
    "\n",
    "\n",
    "while fl or k<X.shape[1]:\n",
    "    col_errors=[]\n",
    "    for col in set(X.columns.to_list())-set(col_drop):\n",
    "        \n",
    "        X_time=X.drop([col]+col_drop, axis=1)\n",
    "        \n",
    "        with open(os.devnull, \"w\") as f, contextlib.redirect_stdout(f):\n",
    "            with warnings.catch_warnings():\n",
    "                warnings.simplefilter(\"ignore\")\n",
    "\n",
    "                errors=[]\n",
    "\n",
    "                for tr_ind, val_ind in skf.split(X_time, y):\n",
    "                    lgbm=LGBMRegressor(bagging_fraction=0.5, random_state=42, \n",
    "                                       **gd.best_params_)\n",
    "\n",
    "                    lgbm.fit(X_time.iloc[tr_ind,:], y.iloc[tr_ind])\n",
    "\n",
    "                    errors.append(mape(y.iloc[val_ind],lgbm.predict(X_time.iloc[val_ind,:])))\n",
    "    \n",
    "        \n",
    "        col_errors.append([col,np.mean(errors)])\n",
    "\n",
    "    max_col=max(col_errors, key=lambda x: x[1])\n",
    "    min_col=min(col_errors, key=lambda x: x[1])\n",
    "    if min_col[1]> 1:\n",
    "        fl=False\n",
    "        print(f'Feature \"{min_col[0]}\" mape more then 1')\n",
    "        break\n",
    "    else:\n",
    "        k+=1\n",
    "        col_drop.append(max_col[0])\n",
    "        print(f'Feature \"{max_col[0]}\" remain with mape {max_col[1]}')\n",
    "    \n",
    "    print()\n",
    "    "
   ]
  },
  {
   "cell_type": "code",
   "execution_count": 23,
   "id": "5714d06f",
   "metadata": {},
   "outputs": [
    {
     "data": {
      "text/plain": [
       "[['area/num+1', 1.3602795432000674]]"
      ]
     },
     "execution_count": 23,
     "metadata": {},
     "output_type": "execute_result"
    }
   ],
   "source": [
    "col_errors"
   ]
  },
  {
   "cell_type": "code",
   "execution_count": 24,
   "id": "48222346",
   "metadata": {},
   "outputs": [
    {
     "data": {
      "text/plain": [
       "{'area/num+1'}"
      ]
     },
     "execution_count": 24,
     "metadata": {},
     "output_type": "execute_result"
    }
   ],
   "source": [
    "set(X.columns.to_list())-set(col_drop)"
   ]
  },
  {
   "cell_type": "markdown",
   "id": "d4f2ec55",
   "metadata": {},
   "source": [
    "Список признаков для удаления"
   ]
  },
  {
   "cell_type": "code",
   "execution_count": 25,
   "id": "1cc28849",
   "metadata": {},
   "outputs": [
    {
     "data": {
      "text/plain": [
       "{'area/num+1'}"
      ]
     },
     "execution_count": 25,
     "metadata": {},
     "output_type": "execute_result"
    }
   ],
   "source": [
    "set(X.columns.to_list())-set(col_drop)"
   ]
  },
  {
   "cell_type": "markdown",
   "id": "6927f596",
   "metadata": {},
   "source": [
    "# Удаляем признаки"
   ]
  },
  {
   "cell_type": "markdown",
   "id": "9c97363a",
   "metadata": {},
   "source": [
    "Самые частые кандидаты на удаление"
   ]
  },
  {
   "cell_type": "code",
   "execution_count": 26,
   "id": "1c567f32",
   "metadata": {},
   "outputs": [],
   "source": [
    "bad_feats=['time_to_metro', 'year*repair']"
   ]
  },
  {
   "cell_type": "markdown",
   "id": "bc018356",
   "metadata": {},
   "source": [
    "Попробуем разные комбинации для удаления."
   ]
  },
  {
   "cell_type": "code",
   "execution_count": 27,
   "id": "68311dc6",
   "metadata": {},
   "outputs": [
    {
     "name": "stdout",
     "output_type": "stream",
     "text": [
      "Mape with delete this features: [] equals 0.1498223225813041\n",
      "Mape with delete this features: ['time_to_metro', 'year*repair'] equals 0.1515852021567931\n",
      "Mape with delete this features: ['time_to_metro'] equals 0.15119539339236632\n",
      "Mape with delete this features: ['year*repair'] equals 0.14907498545408188\n"
     ]
    }
   ],
   "source": [
    "            \n",
    "for i in [[],['time_to_metro','year*repair'],['time_to_metro'], ['year*repair']]:\n",
    "    \n",
    "    errors=[]\n",
    "    \n",
    "    X_t=X.drop(i, axis=1)\n",
    "\n",
    "    with open(os.devnull, \"w\") as f, contextlib.redirect_stdout(f):\n",
    "        with warnings.catch_warnings():\n",
    "            warnings.simplefilter(\"ignore\")\n",
    "    \n",
    "            for tr_ind, val_ind in skf.split(X_t, y):\n",
    "\n",
    "                    lgbm=LGBMRegressor(bagging_fraction=0.5, random_state=42, \n",
    "                                           **gd.best_params_)\n",
    "\n",
    "                    lgbm.fit(X_t.iloc[tr_ind,:], y.iloc[tr_ind])\n",
    "\n",
    "                    errors.append(mape(y.iloc[val_ind],lgbm.predict(X_t.iloc[val_ind])))\n",
    "                          \n",
    "    print(f'Mape with delete this features: {i} equals {np.mean(errors)}')\n",
    "    "
   ]
  },
  {
   "cell_type": "markdown",
   "id": "4015fc2d",
   "metadata": {},
   "source": [
    "Удалим только $year*repair$"
   ]
  },
  {
   "cell_type": "code",
   "execution_count": 28,
   "id": "b0235826",
   "metadata": {},
   "outputs": [],
   "source": [
    "df_le=df_le.drop('year*repair', axis=1)\n",
    "df_mte=df_mte.drop('year*repair', axis=1)"
   ]
  },
  {
   "cell_type": "markdown",
   "id": "e0df5394",
   "metadata": {},
   "source": [
    "# Сохраняем данные"
   ]
  },
  {
   "cell_type": "code",
   "execution_count": 29,
   "id": "b08ef5cb",
   "metadata": {},
   "outputs": [],
   "source": [
    "df_le.to_csv(r\"C:\\Users\\Stepan\\Desktop\\ВУЗ\\Клиент-серверные\\папка датафреймов\\df_after_delete_le.csv\")\n",
    "df_mte.to_csv(r\"C:\\Users\\Stepan\\Desktop\\ВУЗ\\Клиент-серверные\\папка датафреймов\\df_after_delete_mte.csv\")"
   ]
  }
 ],
 "metadata": {
  "kernelspec": {
   "display_name": "Python 3 (ipykernel)",
   "language": "python",
   "name": "python3"
  },
  "language_info": {
   "codemirror_mode": {
    "name": "ipython",
    "version": 3
   },
   "file_extension": ".py",
   "mimetype": "text/x-python",
   "name": "python",
   "nbconvert_exporter": "python",
   "pygments_lexer": "ipython3",
   "version": "3.9.12"
  }
 },
 "nbformat": 4,
 "nbformat_minor": 5
}
