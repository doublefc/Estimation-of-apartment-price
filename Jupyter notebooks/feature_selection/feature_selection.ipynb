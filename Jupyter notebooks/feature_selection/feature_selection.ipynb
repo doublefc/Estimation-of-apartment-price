{
 "cells": [
  {
   "cell_type": "markdown",
   "id": "f4607063",
   "metadata": {},
   "source": [
    "# Импортируем библиотеки"
   ]
  },
  {
   "cell_type": "code",
   "execution_count": 2,
   "id": "1ad7bbb2",
   "metadata": {},
   "outputs": [],
   "source": [
    "from lightgbm import LGBMRegressor\n",
    "import pandas as pd\n",
    "import lightgbm as lgb\n",
    "from sklearn.inspection import permutation_importance\n",
    "import random\n",
    "import numpy as np\n",
    "from sklearn.model_selection import train_test_split\n",
    "from sklearn.model_selection import StratifiedKFold\n",
    "import os\n",
    "import contextlib\n",
    "import warnings\n",
    "from sklearn.metrics import mean_absolute_percentage_error as mape\n",
    "import matplotlib.pyplot as plt\n",
    "import seaborn as sns\n",
    "from sklearn.inspection import permutation_importance\n",
    "from sklearn.model_selection import  GridSearchCV\n",
    "from tqdm import tqdm\n",
    "import statsmodels.api as sm"
   ]
  },
  {
   "cell_type": "markdown",
   "id": "bda5cbef",
   "metadata": {},
   "source": [
    "# Загрузка данных"
   ]
  },
  {
   "cell_type": "markdown",
   "id": "af1554df",
   "metadata": {},
   "source": [
    "Будем использовать mte кодировку, так как будем работать с lightgbm"
   ]
  },
  {
   "cell_type": "code",
   "execution_count": 3,
   "id": "4b374f06",
   "metadata": {},
   "outputs": [
    {
     "data": {
      "text/html": [
       "<div>\n",
       "<style scoped>\n",
       "    .dataframe tbody tr th:only-of-type {\n",
       "        vertical-align: middle;\n",
       "    }\n",
       "\n",
       "    .dataframe tbody tr th {\n",
       "        vertical-align: top;\n",
       "    }\n",
       "\n",
       "    .dataframe thead th {\n",
       "        text-align: right;\n",
       "    }\n",
       "</style>\n",
       "<table border=\"1\" class=\"dataframe\">\n",
       "  <thead>\n",
       "    <tr style=\"text-align: right;\">\n",
       "      <th></th>\n",
       "      <th>metro_name</th>\n",
       "      <th>time_to_metro</th>\n",
       "      <th>num_rooms</th>\n",
       "      <th>total_area</th>\n",
       "      <th>year_house</th>\n",
       "      <th>kitchen_area</th>\n",
       "      <th>repair</th>\n",
       "      <th>price</th>\n",
       "      <th>floors</th>\n",
       "      <th>num_floor</th>\n",
       "      <th>...</th>\n",
       "      <th>district</th>\n",
       "      <th>metro_line</th>\n",
       "      <th>metro_distance</th>\n",
       "      <th>distr*time</th>\n",
       "      <th>Kre*time</th>\n",
       "      <th>Kre*area</th>\n",
       "      <th>year*area</th>\n",
       "      <th>year*repair</th>\n",
       "      <th>year*floors</th>\n",
       "      <th>area/num+1</th>\n",
       "    </tr>\n",
       "  </thead>\n",
       "  <tbody>\n",
       "    <tr>\n",
       "      <th>19162</th>\n",
       "      <td>Перово</td>\n",
       "      <td>5.0</td>\n",
       "      <td>1</td>\n",
       "      <td>22.0</td>\n",
       "      <td>1987.0</td>\n",
       "      <td>8.0</td>\n",
       "      <td>2</td>\n",
       "      <td>9300000.0</td>\n",
       "      <td>12.0</td>\n",
       "      <td>3.0</td>\n",
       "      <td>...</td>\n",
       "      <td>94</td>\n",
       "      <td>4</td>\n",
       "      <td>4.84</td>\n",
       "      <td>470.0</td>\n",
       "      <td>49.20</td>\n",
       "      <td>216.48</td>\n",
       "      <td>43714.0</td>\n",
       "      <td>3974.0</td>\n",
       "      <td>23844.0</td>\n",
       "      <td>11.000000</td>\n",
       "    </tr>\n",
       "    <tr>\n",
       "      <th>22329</th>\n",
       "      <td>NaN</td>\n",
       "      <td>-1.0</td>\n",
       "      <td>3</td>\n",
       "      <td>42.5</td>\n",
       "      <td>1700.0</td>\n",
       "      <td>6.5</td>\n",
       "      <td>3</td>\n",
       "      <td>12850000.0</td>\n",
       "      <td>17.0</td>\n",
       "      <td>12.0</td>\n",
       "      <td>...</td>\n",
       "      <td>0</td>\n",
       "      <td>1</td>\n",
       "      <td>26.58</td>\n",
       "      <td>-0.0</td>\n",
       "      <td>-32.58</td>\n",
       "      <td>1384.65</td>\n",
       "      <td>72250.0</td>\n",
       "      <td>5100.0</td>\n",
       "      <td>28900.0</td>\n",
       "      <td>10.625000</td>\n",
       "    </tr>\n",
       "    <tr>\n",
       "      <th>10308</th>\n",
       "      <td>Окская</td>\n",
       "      <td>5.0</td>\n",
       "      <td>2</td>\n",
       "      <td>23.5</td>\n",
       "      <td>1700.0</td>\n",
       "      <td>3.0</td>\n",
       "      <td>2</td>\n",
       "      <td>10350000.0</td>\n",
       "      <td>12.0</td>\n",
       "      <td>9.0</td>\n",
       "      <td>...</td>\n",
       "      <td>104</td>\n",
       "      <td>9</td>\n",
       "      <td>7.12</td>\n",
       "      <td>520.0</td>\n",
       "      <td>55.60</td>\n",
       "      <td>261.32</td>\n",
       "      <td>39950.0</td>\n",
       "      <td>3400.0</td>\n",
       "      <td>20400.0</td>\n",
       "      <td>7.833333</td>\n",
       "    </tr>\n",
       "    <tr>\n",
       "      <th>13810</th>\n",
       "      <td>Аминьевская</td>\n",
       "      <td>5.0</td>\n",
       "      <td>2</td>\n",
       "      <td>26.0</td>\n",
       "      <td>1700.0</td>\n",
       "      <td>12.5</td>\n",
       "      <td>2</td>\n",
       "      <td>15259178.0</td>\n",
       "      <td>33.0</td>\n",
       "      <td>21.0</td>\n",
       "      <td>...</td>\n",
       "      <td>92</td>\n",
       "      <td>1</td>\n",
       "      <td>5.68</td>\n",
       "      <td>460.0</td>\n",
       "      <td>58.40</td>\n",
       "      <td>303.68</td>\n",
       "      <td>44200.0</td>\n",
       "      <td>3400.0</td>\n",
       "      <td>56100.0</td>\n",
       "      <td>8.666667</td>\n",
       "    </tr>\n",
       "    <tr>\n",
       "      <th>6743</th>\n",
       "      <td>Минская</td>\n",
       "      <td>13.0</td>\n",
       "      <td>4</td>\n",
       "      <td>190.0</td>\n",
       "      <td>1700.0</td>\n",
       "      <td>23.0</td>\n",
       "      <td>3</td>\n",
       "      <td>126000000.0</td>\n",
       "      <td>36.0</td>\n",
       "      <td>26.0</td>\n",
       "      <td>...</td>\n",
       "      <td>102</td>\n",
       "      <td>12</td>\n",
       "      <td>6.18</td>\n",
       "      <td>1326.0</td>\n",
       "      <td>106.34</td>\n",
       "      <td>1554.20</td>\n",
       "      <td>323000.0</td>\n",
       "      <td>5100.0</td>\n",
       "      <td>61200.0</td>\n",
       "      <td>38.000000</td>\n",
       "    </tr>\n",
       "  </tbody>\n",
       "</table>\n",
       "<p>5 rows × 26 columns</p>\n",
       "</div>"
      ],
      "text/plain": [
       "        metro_name  time_to_metro  num_rooms  total_area  year_house  \\\n",
       "19162       Перово            5.0          1        22.0      1987.0   \n",
       "22329          NaN           -1.0          3        42.5      1700.0   \n",
       "10308       Окская            5.0          2        23.5      1700.0   \n",
       "13810  Аминьевская            5.0          2        26.0      1700.0   \n",
       "6743       Минская           13.0          4       190.0      1700.0   \n",
       "\n",
       "       kitchen_area  repair        price  floors  num_floor  ... district  \\\n",
       "19162           8.0       2    9300000.0    12.0        3.0  ...       94   \n",
       "22329           6.5       3   12850000.0    17.0       12.0  ...        0   \n",
       "10308           3.0       2   10350000.0    12.0        9.0  ...      104   \n",
       "13810          12.5       2   15259178.0    33.0       21.0  ...       92   \n",
       "6743           23.0       3  126000000.0    36.0       26.0  ...      102   \n",
       "\n",
       "       metro_line  metro_distance  distr*time Kre*time  Kre*area  year*area  \\\n",
       "19162           4            4.84       470.0    49.20    216.48    43714.0   \n",
       "22329           1           26.58        -0.0   -32.58   1384.65    72250.0   \n",
       "10308           9            7.12       520.0    55.60    261.32    39950.0   \n",
       "13810           1            5.68       460.0    58.40    303.68    44200.0   \n",
       "6743           12            6.18      1326.0   106.34   1554.20   323000.0   \n",
       "\n",
       "       year*repair  year*floors  area/num+1  \n",
       "19162       3974.0      23844.0   11.000000  \n",
       "22329       5100.0      28900.0   10.625000  \n",
       "10308       3400.0      20400.0    7.833333  \n",
       "13810       3400.0      56100.0    8.666667  \n",
       "6743        5100.0      61200.0   38.000000  \n",
       "\n",
       "[5 rows x 26 columns]"
      ]
     },
     "execution_count": 3,
     "metadata": {},
     "output_type": "execute_result"
    }
   ],
   "source": [
    "df_le=pd.read_csv(r\"C:\\Users\\Stepan\\Desktop\\ВУЗ\\Клиент-серверные\\папка датафреймов\\df_after_feat_eng_le.csv\")\n",
    "df_mte=pd.read_csv(r\"C:\\Users\\Stepan\\Desktop\\ВУЗ\\Клиент-серверные\\папка датафреймов\\df_after_feat_eng_mte.csv\")\n",
    "df_le=df_le.drop('Unnamed: 0', axis=1)\n",
    "df_mte=df_mte.drop('Unnamed: 0', axis=1)\n",
    "df_le.sample(5)"
   ]
  },
  {
   "cell_type": "code",
   "execution_count": 4,
   "id": "dcceaf82",
   "metadata": {},
   "outputs": [
    {
     "data": {
      "text/plain": [
       "(27974, 26)"
      ]
     },
     "execution_count": 4,
     "metadata": {},
     "output_type": "execute_result"
    }
   ],
   "source": [
    "df_le.shape"
   ]
  },
  {
   "cell_type": "markdown",
   "id": "761ff9d7",
   "metadata": {},
   "source": [
    "# Важности признаков"
   ]
  },
  {
   "cell_type": "markdown",
   "id": "56291129",
   "metadata": {},
   "source": [
    "Будем двигаться от более легких методов к более сложным."
   ]
  },
  {
   "cell_type": "markdown",
   "id": "ed7ab9a8",
   "metadata": {},
   "source": [
    "## Split "
   ]
  },
  {
   "cell_type": "markdown",
   "id": "17009598",
   "metadata": {},
   "source": [
    "Посмотрим простейший способ получения важности под названием split, который встроен в lightgbm. Важность признака определяется по количеству использований признака для сплита в течение всего процесса обучения."
   ]
  },
  {
   "cell_type": "markdown",
   "id": "ff1a6d2c",
   "metadata": {},
   "source": [
    "Для этого сначала обучим градиентный бустинг на кросс-валидации. Также перед этим потюним модель."
   ]
  },
  {
   "cell_type": "code",
   "execution_count": 5,
   "id": "358c7d9e",
   "metadata": {},
   "outputs": [],
   "source": [
    "X,y=df_le.drop(['coord_width', 'coord_len', 'link', 'address', 'metro_name', 'price', 'date'], axis=1), df_mte['price']\n",
    "X_tr, X_v,y_tr, y_v=train_test_split(X,y, test_size=0.8)"
   ]
  },
  {
   "cell_type": "code",
   "execution_count": 5,
   "id": "73af9c57",
   "metadata": {},
   "outputs": [
    {
     "name": "stdout",
     "output_type": "stream",
     "text": [
      "best params: {'lambda_l1': 15, 'learning_rate': 0.05, 'n_estimators': 4000}\n"
     ]
    }
   ],
   "source": [
    "lgbm=LGBMRegressor(bagging_fraction=0.5, random_state=42)\n",
    "param_grid={'learning_rate':[0.01,0.05,0.1,0.2], 'n_estimators':[1000,2000, 4000], 'lambda_l1':[5,15,30]}\n",
    "gd=GridSearchCV(lgbm, param_grid, cv=5)\n",
    "with open(os.devnull, \"w\") as f, contextlib.redirect_stdout(f):\n",
    "    gd.fit(X,y)\n",
    "print(f'best params: {gd.best_params_}')"
   ]
  },
  {
   "cell_type": "markdown",
   "id": "d163f6cc",
   "metadata": {},
   "source": [
    "Считаем важности признаков на кросс-валидации."
   ]
  },
  {
   "cell_type": "code",
   "execution_count": 6,
   "id": "6f0bbaa9",
   "metadata": {},
   "outputs": [],
   "source": [
    "skf = StratifiedKFold(n_splits=4, random_state=42, shuffle=True)\n",
    "importance=[]\n",
    "with open(os.devnull, \"w\") as f, contextlib.redirect_stdout(f):\n",
    "    with warnings.catch_warnings():\n",
    "        warnings.simplefilter(\"ignore\")\n",
    "        for tr_ind, val_ind in skf.split(X, y):\n",
    "            lgbm=LGBMRegressor(bagging_fraction=0.5, random_state=42, **gd.best_params_)\n",
    "            lgbm.fit(X.loc[tr_ind,:], y.loc[tr_ind])\n",
    "            importance.append(lgbm.booster_.feature_importance())\n"
   ]
  },
  {
   "cell_type": "code",
   "execution_count": 7,
   "id": "8fea3ff8",
   "metadata": {},
   "outputs": [
    {
     "data": {
      "text/plain": [
       "array([ 1792.  ,  1517.75, 11655.75,  4039.25,  8814.25,  1366.  ,\n",
       "        4657.5 ,  9947.25,  8136.25,  4997.25,  3410.  ,  8363.75,\n",
       "        5719.  ,  7006.25,  9112.75,  7400.5 ,  4136.5 ,  6455.  ,\n",
       "       11473.  ])"
      ]
     },
     "execution_count": 7,
     "metadata": {},
     "output_type": "execute_result"
    }
   ],
   "source": [
    "feat_imp=np.mean(np.array(importance), axis=0)\n",
    "feat_imp"
   ]
  },
  {
   "cell_type": "markdown",
   "id": "0a812aef",
   "metadata": {},
   "source": [
    "Отсортированный словарь \"признак\": количество сплитов."
   ]
  },
  {
   "cell_type": "code",
   "execution_count": 8,
   "id": "911537c2",
   "metadata": {},
   "outputs": [
    {
     "data": {
      "text/plain": [
       "{'total_area': 11655.75,\n",
       " 'area/num+1': 11473.0,\n",
       " 'num_floor': 9947.25,\n",
       " 'Kre*area': 9112.75,\n",
       " 'kitchen_area': 8814.25,\n",
       " 'metro_distance': 8363.75,\n",
       " 'distance_to_Kremlin': 8136.25,\n",
       " 'year*area': 7400.5,\n",
       " 'Kre*time': 7006.25,\n",
       " 'year*floors': 6455.0,\n",
       " 'distr*time': 5719.0,\n",
       " 'district': 4997.25,\n",
       " 'floors': 4657.5,\n",
       " 'year*repair': 4136.5,\n",
       " 'year_house': 4039.25,\n",
       " 'metro_line': 3410.0,\n",
       " 'time_to_metro': 1792.0,\n",
       " 'num_rooms': 1517.75,\n",
       " 'repair': 1366.0}"
      ]
     },
     "execution_count": 8,
     "metadata": {},
     "output_type": "execute_result"
    }
   ],
   "source": [
    "dict_imp={X.columns[i]:feat_imp[i] for i in range(X.shape[1])}\n",
    "dict_imp_s=sorted(dict_imp, key=lambda x: dict_imp[x], reverse=True)\n",
    "f_dict={}\n",
    "for i in dict_imp_s:\n",
    "    f_dict[i]=dict_imp[i]\n",
    "f_dict"
   ]
  },
  {
   "cell_type": "markdown",
   "id": "4aa21bcb",
   "metadata": {},
   "source": [
    "Визуализация"
   ]
  },
  {
   "cell_type": "code",
   "execution_count": 9,
   "id": "56252907",
   "metadata": {},
   "outputs": [
    {
     "data": {
      "image/png": "[encoded data removed]",
      "text/plain": [
       "<Figure size 1152x576 with 1 Axes>"
      ]
     },
     "metadata": {
      "needs_background": "light"
     },
     "output_type": "display_data"
    }
   ],
   "source": [
    "with warnings.catch_warnings():\n",
    "    warnings.simplefilter(\"ignore\")\n",
    "    plt.figure(figsize=(16, 8))\n",
    "    plt.xlabel('Feature_importance', fontsize=16)\n",
    "    plt.ylabel('Features', fontsize=16)\n",
    "    sns.barplot(list(f_dict.values()), list(f_dict.keys()), color='blue')"
   ]
  },
  {
   "cell_type": "markdown",
   "id": "18b1f9c6",
   "metadata": {},
   "source": [
    "## Permutation importance"
   ]
  },
  {
   "cell_type": "markdown",
   "id": "1532c316",
   "metadata": {},
   "source": [
    "Метод основан на перестановке. Модель обучается на части данных, предсказывает результат на валидационной части данных с каким то качеством. Потом признак перемешивается на валидации, и модель делает предсказание еще раз. Разностью в качестве до перемешивания и после оценивается важность признака."
   ]
  },
  {
   "cell_type": "markdown",
   "id": "e4278883",
   "metadata": {},
   "source": [
    "Смотрим важность на кроссвалидации."
   ]
  },
  {
   "cell_type": "code",
   "execution_count": 10,
   "id": "5b085701",
   "metadata": {},
   "outputs": [
    {
     "name": "stderr",
     "output_type": "stream",
     "text": [
      "5it [24:01, 288.37s/it]\n"
     ]
    }
   ],
   "source": [
    "skf = StratifiedKFold(n_splits=5, random_state=42, shuffle=True)\n",
    "perm_imp=[]\n",
    "with open(os.devnull, \"w\") as f, contextlib.redirect_stdout(f):\n",
    "    with warnings.catch_warnings():\n",
    "        warnings.simplefilter(\"ignore\")\n",
    "        for tr_ind, val_ind in tqdm(skf.split(X, y)):\n",
    "            \n",
    "            lgbm=LGBMRegressor(bagging_fraction=0.5, random_state=42, **gd.best_params_)\n",
    "            lgbm.fit(X.iloc[tr_ind,:], y.iloc[tr_ind])\n",
    "            \n",
    "            perm_imp.append(permutation_importance(lgbm, X.iloc[val_ind], y.iloc[val_ind], random_state=42, scoring='neg_mean_absolute_percentage_error', n_repeats=30))\n",
    "            \n"
   ]
  },
  {
   "cell_type": "markdown",
   "id": "c67e7bcb",
   "metadata": {},
   "source": [
    "Создаем табличку"
   ]
  },
  {
   "cell_type": "code",
   "execution_count": 11,
   "id": "c73acde2",
   "metadata": {},
   "outputs": [],
   "source": [
    "perm_df=pd.DataFrame(columns=['fold №1', 'fold №2', 'fold №3', 'fold №4', 'fold №5', 'mean'], index=X.columns)\n",
    "for i in range(1,6):\n",
    "    perm_df[f'fold №{i}']=perm_imp[i-1]['importances_mean']\n",
    "perm_df['mean']=perm_df.mean(axis=1)"
   ]
  },
  {
   "cell_type": "code",
   "execution_count": 12,
   "id": "de0d9834",
   "metadata": {},
   "outputs": [
    {
     "data": {
      "text/html": [
       "<div>\n",
       "<style scoped>\n",
       "    .dataframe tbody tr th:only-of-type {\n",
       "        vertical-align: middle;\n",
       "    }\n",
       "\n",
       "    .dataframe tbody tr th {\n",
       "        vertical-align: top;\n",
       "    }\n",
       "\n",
       "    .dataframe thead th {\n",
       "        text-align: right;\n",
       "    }\n",
       "</style>\n",
       "<table border=\"1\" class=\"dataframe\">\n",
       "  <thead>\n",
       "    <tr style=\"text-align: right;\">\n",
       "      <th></th>\n",
       "      <th>fold №1</th>\n",
       "      <th>fold №2</th>\n",
       "      <th>fold №3</th>\n",
       "      <th>fold №4</th>\n",
       "      <th>fold №5</th>\n",
       "      <th>mean</th>\n",
       "    </tr>\n",
       "  </thead>\n",
       "  <tbody>\n",
       "    <tr>\n",
       "      <th>time_to_metro</th>\n",
       "      <td>0.028767</td>\n",
       "      <td>0.029481</td>\n",
       "      <td>0.034583</td>\n",
       "      <td>0.034018</td>\n",
       "      <td>0.035555</td>\n",
       "      <td>0.032481</td>\n",
       "    </tr>\n",
       "    <tr>\n",
       "      <th>num_rooms</th>\n",
       "      <td>0.041848</td>\n",
       "      <td>0.037693</td>\n",
       "      <td>0.042300</td>\n",
       "      <td>0.041595</td>\n",
       "      <td>0.034753</td>\n",
       "      <td>0.039638</td>\n",
       "    </tr>\n",
       "    <tr>\n",
       "      <th>total_area</th>\n",
       "      <td>0.770653</td>\n",
       "      <td>0.798409</td>\n",
       "      <td>0.722495</td>\n",
       "      <td>0.783942</td>\n",
       "      <td>0.756283</td>\n",
       "      <td>0.766356</td>\n",
       "    </tr>\n",
       "    <tr>\n",
       "      <th>year_house</th>\n",
       "      <td>0.021191</td>\n",
       "      <td>0.019099</td>\n",
       "      <td>0.022371</td>\n",
       "      <td>0.020431</td>\n",
       "      <td>0.019265</td>\n",
       "      <td>0.020472</td>\n",
       "    </tr>\n",
       "    <tr>\n",
       "      <th>kitchen_area</th>\n",
       "      <td>0.022829</td>\n",
       "      <td>0.021613</td>\n",
       "      <td>0.022804</td>\n",
       "      <td>0.021086</td>\n",
       "      <td>0.023812</td>\n",
       "      <td>0.022429</td>\n",
       "    </tr>\n",
       "    <tr>\n",
       "      <th>repair</th>\n",
       "      <td>0.007236</td>\n",
       "      <td>0.005833</td>\n",
       "      <td>0.007180</td>\n",
       "      <td>0.006757</td>\n",
       "      <td>0.006605</td>\n",
       "      <td>0.006722</td>\n",
       "    </tr>\n",
       "    <tr>\n",
       "      <th>floors</th>\n",
       "      <td>0.050193</td>\n",
       "      <td>0.047444</td>\n",
       "      <td>0.049444</td>\n",
       "      <td>0.039178</td>\n",
       "      <td>0.040831</td>\n",
       "      <td>0.045418</td>\n",
       "    </tr>\n",
       "    <tr>\n",
       "      <th>num_floor</th>\n",
       "      <td>0.010706</td>\n",
       "      <td>0.012243</td>\n",
       "      <td>0.010974</td>\n",
       "      <td>0.010962</td>\n",
       "      <td>0.010981</td>\n",
       "      <td>0.011173</td>\n",
       "    </tr>\n",
       "    <tr>\n",
       "      <th>distance_to_Kremlin</th>\n",
       "      <td>0.186769</td>\n",
       "      <td>0.158012</td>\n",
       "      <td>0.206781</td>\n",
       "      <td>0.203091</td>\n",
       "      <td>0.196222</td>\n",
       "      <td>0.190175</td>\n",
       "    </tr>\n",
       "    <tr>\n",
       "      <th>district</th>\n",
       "      <td>0.034894</td>\n",
       "      <td>0.040290</td>\n",
       "      <td>0.035004</td>\n",
       "      <td>0.038722</td>\n",
       "      <td>0.036647</td>\n",
       "      <td>0.037111</td>\n",
       "    </tr>\n",
       "    <tr>\n",
       "      <th>metro_line</th>\n",
       "      <td>0.029509</td>\n",
       "      <td>0.026411</td>\n",
       "      <td>0.024066</td>\n",
       "      <td>0.022438</td>\n",
       "      <td>0.022719</td>\n",
       "      <td>0.025029</td>\n",
       "    </tr>\n",
       "    <tr>\n",
       "      <th>metro_distance</th>\n",
       "      <td>0.032953</td>\n",
       "      <td>0.028314</td>\n",
       "      <td>0.028233</td>\n",
       "      <td>0.032178</td>\n",
       "      <td>0.025951</td>\n",
       "      <td>0.029526</td>\n",
       "    </tr>\n",
       "    <tr>\n",
       "      <th>distr*time</th>\n",
       "      <td>0.022248</td>\n",
       "      <td>0.017952</td>\n",
       "      <td>0.021197</td>\n",
       "      <td>0.022462</td>\n",
       "      <td>0.019985</td>\n",
       "      <td>0.020769</td>\n",
       "    </tr>\n",
       "    <tr>\n",
       "      <th>Kre*time</th>\n",
       "      <td>0.021191</td>\n",
       "      <td>0.021674</td>\n",
       "      <td>0.026408</td>\n",
       "      <td>0.023915</td>\n",
       "      <td>0.019462</td>\n",
       "      <td>0.022530</td>\n",
       "    </tr>\n",
       "    <tr>\n",
       "      <th>Kre*area</th>\n",
       "      <td>0.023302</td>\n",
       "      <td>0.027731</td>\n",
       "      <td>0.033769</td>\n",
       "      <td>0.033127</td>\n",
       "      <td>0.032107</td>\n",
       "      <td>0.030007</td>\n",
       "    </tr>\n",
       "    <tr>\n",
       "      <th>year*area</th>\n",
       "      <td>0.026650</td>\n",
       "      <td>0.028949</td>\n",
       "      <td>0.032203</td>\n",
       "      <td>0.025359</td>\n",
       "      <td>0.039749</td>\n",
       "      <td>0.030582</td>\n",
       "    </tr>\n",
       "    <tr>\n",
       "      <th>year*repair</th>\n",
       "      <td>0.020790</td>\n",
       "      <td>0.021124</td>\n",
       "      <td>0.021676</td>\n",
       "      <td>0.020313</td>\n",
       "      <td>0.020233</td>\n",
       "      <td>0.020827</td>\n",
       "    </tr>\n",
       "    <tr>\n",
       "      <th>year*floors</th>\n",
       "      <td>0.021025</td>\n",
       "      <td>0.019740</td>\n",
       "      <td>0.021063</td>\n",
       "      <td>0.020614</td>\n",
       "      <td>0.023390</td>\n",
       "      <td>0.021166</td>\n",
       "    </tr>\n",
       "    <tr>\n",
       "      <th>area/num+1</th>\n",
       "      <td>0.047482</td>\n",
       "      <td>0.058365</td>\n",
       "      <td>0.048367</td>\n",
       "      <td>0.054687</td>\n",
       "      <td>0.047325</td>\n",
       "      <td>0.051245</td>\n",
       "    </tr>\n",
       "  </tbody>\n",
       "</table>\n",
       "</div>"
      ],
      "text/plain": [
       "                      fold №1   fold №2   fold №3   fold №4   fold №5  \\\n",
       "time_to_metro        0.028767  0.029481  0.034583  0.034018  0.035555   \n",
       "num_rooms            0.041848  0.037693  0.042300  0.041595  0.034753   \n",
       "total_area           0.770653  0.798409  0.722495  0.783942  0.756283   \n",
       "year_house           0.021191  0.019099  0.022371  0.020431  0.019265   \n",
       "kitchen_area         0.022829  0.021613  0.022804  0.021086  0.023812   \n",
       "repair               0.007236  0.005833  0.007180  0.006757  0.006605   \n",
       "floors               0.050193  0.047444  0.049444  0.039178  0.040831   \n",
       "num_floor            0.010706  0.012243  0.010974  0.010962  0.010981   \n",
       "distance_to_Kremlin  0.186769  0.158012  0.206781  0.203091  0.196222   \n",
       "district             0.034894  0.040290  0.035004  0.038722  0.036647   \n",
       "metro_line           0.029509  0.026411  0.024066  0.022438  0.022719   \n",
       "metro_distance       0.032953  0.028314  0.028233  0.032178  0.025951   \n",
       "distr*time           0.022248  0.017952  0.021197  0.022462  0.019985   \n",
       "Kre*time             0.021191  0.021674  0.026408  0.023915  0.019462   \n",
       "Kre*area             0.023302  0.027731  0.033769  0.033127  0.032107   \n",
       "year*area            0.026650  0.028949  0.032203  0.025359  0.039749   \n",
       "year*repair          0.020790  0.021124  0.021676  0.020313  0.020233   \n",
       "year*floors          0.021025  0.019740  0.021063  0.020614  0.023390   \n",
       "area/num+1           0.047482  0.058365  0.048367  0.054687  0.047325   \n",
       "\n",
       "                         mean  \n",
       "time_to_metro        0.032481  \n",
       "num_rooms            0.039638  \n",
       "total_area           0.766356  \n",
       "year_house           0.020472  \n",
       "kitchen_area         0.022429  \n",
       "repair               0.006722  \n",
       "floors               0.045418  \n",
       "num_floor            0.011173  \n",
       "distance_to_Kremlin  0.190175  \n",
       "district             0.037111  \n",
       "metro_line           0.025029  \n",
       "metro_distance       0.029526  \n",
       "distr*time           0.020769  \n",
       "Kre*time             0.022530  \n",
       "Kre*area             0.030007  \n",
       "year*area            0.030582  \n",
       "year*repair          0.020827  \n",
       "year*floors          0.021166  \n",
       "area/num+1           0.051245  "
      ]
     },
     "execution_count": 12,
     "metadata": {},
     "output_type": "execute_result"
    }
   ],
   "source": [
    "perm_df"
   ]
  },
  {
   "cell_type": "markdown",
   "id": "1241ddcd",
   "metadata": {},
   "source": [
    "Визуализация"
   ]
  },
  {
   "cell_type": "code",
   "execution_count": 13,
   "id": "3e2ad9d8",
   "metadata": {},
   "outputs": [
    {
     "data": {
      "text/plain": [
       "<AxesSubplot:xlabel='Feature importance', ylabel='Features'>"
      ]
     },
     "execution_count": 13,
     "metadata": {},
     "output_type": "execute_result"
    },
    {
     "data": {
      "image/png": "[encoded data removed]",
      "text/plain": [
       "<Figure size 1152x576 with 1 Axes>"
      ]
     },
     "metadata": {
      "needs_background": "light"
     },
     "output_type": "display_data"
    }
   ],
   "source": [
    "plt.figure(figsize=(16,8))\n",
    "a=perm_df['mean'].sort_values()[::-1]\n",
    "plt.xlabel('Feature importance', fontsize=16)\n",
    "plt.ylabel('Features', fontsize=16)\n",
    "sns.barplot(x=a.values, y=a.index, color='purple')"
   ]
  },
  {
   "cell_type": "markdown",
   "id": "797f2c7a",
   "metadata": {},
   "source": [
    "Результаты получились слегка отличающиеся от метода split."
   ]
  },
  {
   "cell_type": "markdown",
   "id": "e55f309d",
   "metadata": {},
   "source": [
    "## Жадное удаление признаков"
   ]
  },
  {
   "cell_type": "markdown",
   "id": "36614e29",
   "metadata": {},
   "source": [
    "Метод заключается в том, чтобы поочередно удалять признаки, обучать модель на новом датасете и сранивать качество с базом датасетом. Чем больше падение качества- тем выше значимость признака"
   ]
  },
  {
   "cell_type": "markdown",
   "id": "b4f6cba6",
   "metadata": {},
   "source": [
    "Каждый раз будем смотреть качество на кросс валидации. Для каждого нового датасета надо будет \"тюнить\" модель"
   ]
  },
  {
   "cell_type": "markdown",
   "id": "3de40700",
   "metadata": {},
   "source": [
    "Качество базового датасета."
   ]
  },
  {
   "cell_type": "code",
   "execution_count": 14,
   "id": "afe2dd75",
   "metadata": {},
   "outputs": [
    {
     "name": "stdout",
     "output_type": "stream",
     "text": [
      "MAPE for f dataset: 0.15209498914130842\n"
     ]
    }
   ],
   "source": [
    "skf = StratifiedKFold(n_splits=5, random_state=42, shuffle=True)\n",
    "errors=[]\n",
    "\n",
    "with open(os.devnull, \"w\") as f, contextlib.redirect_stdout(f):\n",
    "    with warnings.catch_warnings():\n",
    "        warnings.simplefilter(\"ignore\")\n",
    "        \n",
    "        for tr_ind, val_ind in skf.split(X, y):\n",
    "            lgbm=LGBMRegressor(bagging_fraction=0.5, **gd.best_params_, random_state=42)\n",
    "            lgbm.fit(X.iloc[tr_ind,:], y.iloc[tr_ind])\n",
    "            errors.append(mape(y.iloc[val_ind],lgbm.predict(X.iloc[val_ind,:])))\n",
    "            \n",
    "print(f'MAPE for f dataset: {np.mean(errors)}')\n",
    "\n",
    "all_feat_error=np.mean(errors)"
   ]
  },
  {
   "cell_type": "markdown",
   "id": "23a15095",
   "metadata": {},
   "source": [
    "Поочередно удаляем признаки, тюним модель, получаем качество на кросс-валидации. Сохраняем в словарь."
   ]
  },
  {
   "cell_type": "code",
   "execution_count": 15,
   "id": "e38536eb",
   "metadata": {},
   "outputs": [
    {
     "name": "stdout",
     "output_type": "stream",
     "text": [
      "Error with drop repair: 0.15246181030764633\n",
      "Error with all features: 0.15209498914130842\n",
      "Difference between errors for repair: 0.00036682116633790507\n",
      "Remain repair\n",
      "\n",
      "Error with drop num_rooms: 0.15355616345645856\n",
      "Error with all features: 0.15209498914130842\n",
      "Difference between errors for num_rooms: 0.0014611743151501377\n",
      "Remain num_rooms\n",
      "\n",
      "Error with drop time_to_metro: 0.15432688875483427\n",
      "Error with all features: 0.15209498914130842\n",
      "Difference between errors for time_to_metro: 0.0022318996135258506\n",
      "Remain time_to_metro\n",
      "\n",
      "Error with drop metro_line: 0.15335858666080207\n",
      "Error with all features: 0.15209498914130842\n",
      "Difference between errors for metro_line: 0.0012635975194936477\n",
      "Remain metro_line\n",
      "\n",
      "Error with drop year_house: 0.15385505526398158\n",
      "Error with all features: 0.15209498914130842\n",
      "Difference between errors for year_house: 0.001760066122673154\n",
      "Remain year_house\n",
      "\n",
      "Error with drop year*repair: 0.15330379699949398\n",
      "Error with all features: 0.15209498914130842\n",
      "Difference between errors for year*repair: 0.0012088078581855566\n",
      "Remain year*repair\n",
      "\n",
      "Error with drop floors: 0.15279432349121683\n",
      "Error with all features: 0.15209498914130842\n",
      "Difference between errors for floors: 0.0006993343499084037\n",
      "Remain floors\n",
      "\n",
      "Error with drop district: 0.15520873813183889\n",
      "Error with all features: 0.15209498914130842\n",
      "Difference between errors for district: 0.0031137489905304627\n",
      "Remain district\n",
      "\n",
      "Error with drop distr*time: 0.1527316750759849\n",
      "Error with all features: 0.15209498914130842\n",
      "Difference between errors for distr*time: 0.000636685934676473\n",
      "Remain distr*time\n",
      "\n",
      "Error with drop year*floors: 0.1520906048693158\n",
      "Error with all features: 0.15209498914130842\n",
      "Difference between errors for year*floors: -4.384271992619038e-06\n",
      "Delete year*floors\n",
      "\n",
      "Error with drop Kre*time: 0.1521568745964885\n",
      "Error with all features: 0.15209498914130842\n",
      "Difference between errors for Kre*time: 6.188545518007182e-05\n",
      "Remain Kre*time\n",
      "\n",
      "Error with drop year*area: 0.15174972737298\n",
      "Error with all features: 0.15209498914130842\n",
      "Difference between errors for year*area: -0.00034526176832841426\n",
      "Delete year*area\n",
      "\n",
      "Error with drop distance_to_Kremlin: 0.15565849356855427\n",
      "Error with all features: 0.15209498914130842\n",
      "Difference between errors for distance_to_Kremlin: 0.003563504427245845\n",
      "Remain distance_to_Kremlin\n",
      "\n",
      "Error with drop metro_distance: 0.15393338810549212\n",
      "Error with all features: 0.15209498914130842\n",
      "Difference between errors for metro_distance: 0.0018383989641836962\n",
      "Remain metro_distance\n",
      "\n",
      "Error with drop kitchen_area: 0.15380869117395587\n",
      "Error with all features: 0.15209498914130842\n",
      "Difference between errors for kitchen_area: 0.0017137020326474517\n",
      "Remain kitchen_area\n",
      "\n",
      "Error with drop Kre*area: 0.1525900090072015\n",
      "Error with all features: 0.15209498914130842\n",
      "Difference between errors for Kre*area: 0.0004950198658930649\n",
      "Remain Kre*area\n",
      "\n",
      "Error with drop num_floor: 0.15409213758667545\n",
      "Error with all features: 0.15209498914130842\n",
      "Difference between errors for num_floor: 0.001997148445367025\n",
      "Remain num_floor\n",
      "\n",
      "Error with drop area/num+1: 0.15221427388405057\n",
      "Error with all features: 0.15209498914130842\n",
      "Difference between errors for area/num+1: 0.00011928474274214285\n",
      "Remain area/num+1\n",
      "\n",
      "Error with drop total_area: 0.15705871797064988\n",
      "Error with all features: 0.15209498914130842\n",
      "Difference between errors for total_area: 0.004963728829341457\n",
      "Remain total_area\n",
      "\n"
     ]
    }
   ],
   "source": [
    "errors_dict={}\n",
    "\n",
    "feat_to_drop=[]\n",
    "col_rfe=perm_df['mean'].sort_values().index\n",
    "t=0.00001\n",
    "c=list(f_dict.keys())[::-1]\n",
    "\n",
    "for i in c:\n",
    "    \n",
    "    X_time=X.drop(feat_to_drop+[i], axis=1)\n",
    "\n",
    "        \n",
    "        \n",
    "    errors_t=[]\n",
    "    with open(os.devnull, \"w\") as f, contextlib.redirect_stdout(f):\n",
    "        with warnings.catch_warnings():\n",
    "            warnings.simplefilter(\"ignore\")\n",
    "            \n",
    "            for tr_ind, val_ind in skf.split(X_time, y):\n",
    "                lgbm=LGBMRegressor(bagging_fraction=0.5, **gd.best_params_, random_state=42)\n",
    "                lgbm.fit(X_time.iloc[tr_ind,:], y.iloc[tr_ind])\n",
    "                errors_t.append(mape(y.iloc[val_ind],lgbm.predict(X_time.iloc[val_ind,:])))\n",
    "                \n",
    "    errors_dict[i]=np.mean(errors_t)\n",
    "    \n",
    "    print(f'Error with drop {i}: {errors_dict[i]}')\n",
    "    print(f'Error with all features: {all_feat_error}')\n",
    "    diff_err=errors_dict[i]-all_feat_error\n",
    "    \n",
    "    print(f'Difference between errors for {i}: {diff_err}')\n",
    "    \n",
    "    if diff_err< t:\n",
    "        feat_to_drop.append(i)\n",
    "        print(f'Delete {i}')\n",
    "    else:\n",
    "        print(f'Remain {i}')\n",
    "    print()"
   ]
  },
  {
   "cell_type": "markdown",
   "id": "49680bb8",
   "metadata": {},
   "source": [
    "Признаки для удаления"
   ]
  },
  {
   "cell_type": "code",
   "execution_count": 16,
   "id": "cce516e9",
   "metadata": {},
   "outputs": [
    {
     "name": "stdout",
     "output_type": "stream",
     "text": [
      "['year*floors', 'year*area']\n"
     ]
    }
   ],
   "source": [
    "print(feat_to_drop)"
   ]
  },
  {
   "cell_type": "markdown",
   "id": "4e30fde0",
   "metadata": {},
   "source": [
    "## Split в динамике"
   ]
  },
  {
   "cell_type": "markdown",
   "id": "26b5e56b",
   "metadata": {},
   "source": [
    "Здесь мы посмотрим важность split в зависимости от максимальной глубины дерева"
   ]
  },
  {
   "cell_type": "code",
   "execution_count": 17,
   "id": "c83f4fea",
   "metadata": {},
   "outputs": [],
   "source": [
    "max_depth=[1,2,3,4,5]\n",
    "skf = StratifiedKFold(n_splits=5, random_state=42, shuffle=True)\n",
    "dm_imp=[]\n",
    "for num in max_depth:\n",
    "    \n",
    "    importance=[]\n",
    "    \n",
    "    with open(os.devnull, \"w\") as f, contextlib.redirect_stdout(f):\n",
    "        with warnings.catch_warnings():\n",
    "            warnings.simplefilter(\"ignore\")\n",
    "            \n",
    "            for tr_ind, val_ind in skf.split(X, y):\n",
    "                lgbm=LGBMRegressor(bagging_fraction=0.5, random_state=42, \n",
    "                                   **gd.best_params_, max_depth=num)\n",
    "                \n",
    "                lgbm.fit(X.iloc[tr_ind,:], y.iloc[tr_ind])\n",
    "                \n",
    "                importance.append(lgbm.booster_.feature_importance())\n",
    "\n",
    "\n",
    "    feat_imp=np.mean(np.array(importance), axis=0)\n",
    "    \n",
    "    dm_imp.append(feat_imp)\n"
   ]
  },
  {
   "cell_type": "markdown",
   "id": "709a8d44",
   "metadata": {},
   "source": [
    "Создадим таблицу"
   ]
  },
  {
   "cell_type": "code",
   "execution_count": 18,
   "id": "43fbcfa5",
   "metadata": {},
   "outputs": [],
   "source": [
    "dm_imp_df=pd.DataFrame(columns=[f'depth {i}' for i in range(1, 6)], index=X.columns)\n",
    "\n",
    "for i in range(1,6):\n",
    "    dm_imp_df[f'depth {i}']= dm_imp[i-1]\n",
    "dm_imp_df['mean']=dm_imp_df.mean(axis=1)\n"
   ]
  },
  {
   "cell_type": "code",
   "execution_count": 19,
   "id": "1f3851e3",
   "metadata": {},
   "outputs": [
    {
     "data": {
      "text/html": [
       "<div>\n",
       "<style scoped>\n",
       "    .dataframe tbody tr th:only-of-type {\n",
       "        vertical-align: middle;\n",
       "    }\n",
       "\n",
       "    .dataframe tbody tr th {\n",
       "        vertical-align: top;\n",
       "    }\n",
       "\n",
       "    .dataframe thead th {\n",
       "        text-align: right;\n",
       "    }\n",
       "</style>\n",
       "<table border=\"1\" class=\"dataframe\">\n",
       "  <thead>\n",
       "    <tr style=\"text-align: right;\">\n",
       "      <th></th>\n",
       "      <th>depth 1</th>\n",
       "      <th>depth 2</th>\n",
       "      <th>depth 3</th>\n",
       "      <th>depth 4</th>\n",
       "      <th>depth 5</th>\n",
       "      <th>mean</th>\n",
       "    </tr>\n",
       "  </thead>\n",
       "  <tbody>\n",
       "    <tr>\n",
       "      <th>time_to_metro</th>\n",
       "      <td>370.8</td>\n",
       "      <td>566.6</td>\n",
       "      <td>610.2</td>\n",
       "      <td>846.0</td>\n",
       "      <td>1201.6</td>\n",
       "      <td>719.04</td>\n",
       "    </tr>\n",
       "    <tr>\n",
       "      <th>num_rooms</th>\n",
       "      <td>76.6</td>\n",
       "      <td>230.4</td>\n",
       "      <td>389.4</td>\n",
       "      <td>685.6</td>\n",
       "      <td>1060.6</td>\n",
       "      <td>488.52</td>\n",
       "    </tr>\n",
       "    <tr>\n",
       "      <th>total_area</th>\n",
       "      <td>575.4</td>\n",
       "      <td>2276.8</td>\n",
       "      <td>3911.8</td>\n",
       "      <td>6090.2</td>\n",
       "      <td>8848.2</td>\n",
       "      <td>4340.48</td>\n",
       "    </tr>\n",
       "    <tr>\n",
       "      <th>year_house</th>\n",
       "      <td>287.8</td>\n",
       "      <td>336.4</td>\n",
       "      <td>696.0</td>\n",
       "      <td>1344.6</td>\n",
       "      <td>2323.8</td>\n",
       "      <td>997.72</td>\n",
       "    </tr>\n",
       "    <tr>\n",
       "      <th>kitchen_area</th>\n",
       "      <td>175.2</td>\n",
       "      <td>640.8</td>\n",
       "      <td>1720.4</td>\n",
       "      <td>3262.4</td>\n",
       "      <td>5461.0</td>\n",
       "      <td>2251.96</td>\n",
       "    </tr>\n",
       "    <tr>\n",
       "      <th>repair</th>\n",
       "      <td>23.2</td>\n",
       "      <td>62.2</td>\n",
       "      <td>212.2</td>\n",
       "      <td>452.2</td>\n",
       "      <td>783.8</td>\n",
       "      <td>306.72</td>\n",
       "    </tr>\n",
       "    <tr>\n",
       "      <th>floors</th>\n",
       "      <td>82.8</td>\n",
       "      <td>594.6</td>\n",
       "      <td>1107.8</td>\n",
       "      <td>1917.2</td>\n",
       "      <td>3135.2</td>\n",
       "      <td>1367.52</td>\n",
       "    </tr>\n",
       "    <tr>\n",
       "      <th>num_floor</th>\n",
       "      <td>42.0</td>\n",
       "      <td>251.4</td>\n",
       "      <td>1068.8</td>\n",
       "      <td>2622.0</td>\n",
       "      <td>5302.6</td>\n",
       "      <td>1857.36</td>\n",
       "    </tr>\n",
       "    <tr>\n",
       "      <th>distance_to_Kremlin</th>\n",
       "      <td>149.4</td>\n",
       "      <td>886.2</td>\n",
       "      <td>2092.4</td>\n",
       "      <td>3849.6</td>\n",
       "      <td>6091.2</td>\n",
       "      <td>2613.76</td>\n",
       "    </tr>\n",
       "    <tr>\n",
       "      <th>district</th>\n",
       "      <td>847.4</td>\n",
       "      <td>546.2</td>\n",
       "      <td>1095.8</td>\n",
       "      <td>2093.2</td>\n",
       "      <td>3299.4</td>\n",
       "      <td>1576.40</td>\n",
       "    </tr>\n",
       "    <tr>\n",
       "      <th>metro_line</th>\n",
       "      <td>137.4</td>\n",
       "      <td>346.8</td>\n",
       "      <td>637.0</td>\n",
       "      <td>1206.8</td>\n",
       "      <td>2082.0</td>\n",
       "      <td>882.00</td>\n",
       "    </tr>\n",
       "    <tr>\n",
       "      <th>metro_distance</th>\n",
       "      <td>125.8</td>\n",
       "      <td>536.0</td>\n",
       "      <td>1387.2</td>\n",
       "      <td>2954.2</td>\n",
       "      <td>5213.4</td>\n",
       "      <td>2043.32</td>\n",
       "    </tr>\n",
       "    <tr>\n",
       "      <th>distr*time</th>\n",
       "      <td>175.0</td>\n",
       "      <td>597.2</td>\n",
       "      <td>1174.0</td>\n",
       "      <td>2119.6</td>\n",
       "      <td>3542.4</td>\n",
       "      <td>1521.64</td>\n",
       "    </tr>\n",
       "    <tr>\n",
       "      <th>Kre*time</th>\n",
       "      <td>10.4</td>\n",
       "      <td>360.2</td>\n",
       "      <td>1055.6</td>\n",
       "      <td>2244.8</td>\n",
       "      <td>4007.0</td>\n",
       "      <td>1535.60</td>\n",
       "    </tr>\n",
       "    <tr>\n",
       "      <th>Kre*area</th>\n",
       "      <td>304.0</td>\n",
       "      <td>578.4</td>\n",
       "      <td>1666.6</td>\n",
       "      <td>3275.2</td>\n",
       "      <td>5579.0</td>\n",
       "      <td>2280.64</td>\n",
       "    </tr>\n",
       "    <tr>\n",
       "      <th>year*area</th>\n",
       "      <td>116.6</td>\n",
       "      <td>727.8</td>\n",
       "      <td>1511.4</td>\n",
       "      <td>2929.0</td>\n",
       "      <td>4972.6</td>\n",
       "      <td>2051.48</td>\n",
       "    </tr>\n",
       "    <tr>\n",
       "      <th>year*repair</th>\n",
       "      <td>77.4</td>\n",
       "      <td>348.2</td>\n",
       "      <td>663.0</td>\n",
       "      <td>1337.8</td>\n",
       "      <td>2542.2</td>\n",
       "      <td>993.72</td>\n",
       "    </tr>\n",
       "    <tr>\n",
       "      <th>year*floors</th>\n",
       "      <td>164.4</td>\n",
       "      <td>434.4</td>\n",
       "      <td>1305.2</td>\n",
       "      <td>2470.0</td>\n",
       "      <td>4291.2</td>\n",
       "      <td>1733.04</td>\n",
       "    </tr>\n",
       "    <tr>\n",
       "      <th>area/num+1</th>\n",
       "      <td>258.4</td>\n",
       "      <td>1428.8</td>\n",
       "      <td>2905.8</td>\n",
       "      <td>4892.6</td>\n",
       "      <td>7486.8</td>\n",
       "      <td>3394.48</td>\n",
       "    </tr>\n",
       "  </tbody>\n",
       "</table>\n",
       "</div>"
      ],
      "text/plain": [
       "                     depth 1  depth 2  depth 3  depth 4  depth 5     mean\n",
       "time_to_metro          370.8    566.6    610.2    846.0   1201.6   719.04\n",
       "num_rooms               76.6    230.4    389.4    685.6   1060.6   488.52\n",
       "total_area             575.4   2276.8   3911.8   6090.2   8848.2  4340.48\n",
       "year_house             287.8    336.4    696.0   1344.6   2323.8   997.72\n",
       "kitchen_area           175.2    640.8   1720.4   3262.4   5461.0  2251.96\n",
       "repair                  23.2     62.2    212.2    452.2    783.8   306.72\n",
       "floors                  82.8    594.6   1107.8   1917.2   3135.2  1367.52\n",
       "num_floor               42.0    251.4   1068.8   2622.0   5302.6  1857.36\n",
       "distance_to_Kremlin    149.4    886.2   2092.4   3849.6   6091.2  2613.76\n",
       "district               847.4    546.2   1095.8   2093.2   3299.4  1576.40\n",
       "metro_line             137.4    346.8    637.0   1206.8   2082.0   882.00\n",
       "metro_distance         125.8    536.0   1387.2   2954.2   5213.4  2043.32\n",
       "distr*time             175.0    597.2   1174.0   2119.6   3542.4  1521.64\n",
       "Kre*time                10.4    360.2   1055.6   2244.8   4007.0  1535.60\n",
       "Kre*area               304.0    578.4   1666.6   3275.2   5579.0  2280.64\n",
       "year*area              116.6    727.8   1511.4   2929.0   4972.6  2051.48\n",
       "year*repair             77.4    348.2    663.0   1337.8   2542.2   993.72\n",
       "year*floors            164.4    434.4   1305.2   2470.0   4291.2  1733.04\n",
       "area/num+1             258.4   1428.8   2905.8   4892.6   7486.8  3394.48"
      ]
     },
     "execution_count": 19,
     "metadata": {},
     "output_type": "execute_result"
    }
   ],
   "source": [
    "dm_imp_df"
   ]
  },
  {
   "cell_type": "markdown",
   "id": "546e0674",
   "metadata": {},
   "source": [
    "Визуализация"
   ]
  },
  {
   "cell_type": "code",
   "execution_count": 20,
   "id": "9dca03a5",
   "metadata": {},
   "outputs": [
    {
     "data": {
      "text/plain": [
       "<AxesSubplot:xlabel='Feature importance', ylabel='Features'>"
      ]
     },
     "execution_count": 20,
     "metadata": {},
     "output_type": "execute_result"
    },
    {
     "data": {
      "image/png": "[encoded data removed]",
      "text/plain": [
       "<Figure size 1152x576 with 1 Axes>"
      ]
     },
     "metadata": {
      "needs_background": "light"
     },
     "output_type": "display_data"
    }
   ],
   "source": [
    "plt.figure(figsize=(16,8))\n",
    "b=dm_imp_df['mean'].sort_values()[::-1]\n",
    "plt.xlabel('Feature importance', fontsize=16)\n",
    "plt.ylabel('Features', fontsize=16)\n",
    "sns.barplot(x=b.values, y=b.index, color='green')"
   ]
  },
  {
   "cell_type": "markdown",
   "id": "e78f585f",
   "metadata": {},
   "source": [
    "Разницы особо нет"
   ]
  },
  {
   "cell_type": "markdown",
   "id": "c32af090",
   "metadata": {},
   "source": [
    "## Модифицированный backward elimination features"
   ]
  },
  {
   "cell_type": "markdown",
   "id": "701c471e",
   "metadata": {},
   "source": [
    "Суть обычного backward elimination features заключается в том, что мы на каждой итерации алгоритма удаляем признак с самым большим p-значением и делаем это до тех пор, пока качество модели не достигнет пика. В нашем случае вместо максимального p-значения мы будем использовать минимальный прирост качества"
   ]
  },
  {
   "cell_type": "code",
   "execution_count": 7,
   "id": "65337bb0",
   "metadata": {},
   "outputs": [
    {
     "name": "stdout",
     "output_type": "stream",
     "text": [
      "Feature \"year*area\" delete with mape 0.15143800373114794\n",
      "\n",
      "Feature \"year*floors\" delete with mape 0.15117689533251005\n",
      "\n",
      "Feature \"Kre*area\" delete with mape 0.1513857780371489\n",
      "\n",
      "Feature \"distr*time\" delete with mape 0.15159790356504022\n",
      "\n",
      "Feature \"repair\" delete with mape 0.15189638617273435\n",
      "\n",
      "Feature \"area/num+1\" delete with mape 0.15170917996633165\n",
      "\n",
      "Feature \"kitchen_area\" delete with mape 0.15197662096459638\n",
      "\n",
      "Feature \"Kre*time\" delete with mape 0.15254914710094822\n",
      "\n",
      "Feature \"metro_line\" delete with mape 0.15336399426397934\n",
      "\n",
      "Feature \"metro_distance\" delete with mape 0.1554956182012257\n",
      "\n",
      "Feature \"num_floor\" delete with mape 0.15729029214503348\n",
      "\n",
      "Feature \"year_house\" delete with mape 0.15984296127740413\n",
      "\n",
      "Feature \"time_to_metro\" delete with mape 0.1683423710493157\n",
      "\n",
      "Feature \"year*repair\" delete with mape 0.17937948697524028\n",
      "\n",
      "Feature \"num_rooms\" delete with mape 0.19133737857867683\n",
      "\n",
      "Feature \"floors\" delete with mape 0.21231014948919125\n",
      "\n",
      "Feature \"distance_to_Kremlin\" delete with mape 0.24849224147440432\n",
      "\n",
      "Feature \"district\" delete with mape 0.38849303214361663\n",
      "\n",
      "Feature \"total_area\" delete with mape 1.3602795432000674\n",
      "\n"
     ]
    }
   ],
   "source": [
    "fl=True\n",
    "k=0\n",
    "col_drop=[]\n",
    "\n",
    "feat_imp=[]\n",
    "skf = StratifiedKFold(n_splits=5, random_state=42, shuffle=True)\n",
    "\n",
    "while len(col_drop)<X.shape[1]:\n",
    "    col_errors=[]\n",
    "    for col in set(X.columns.to_list())-set(col_drop):\n",
    "        \n",
    "        X_time=X.drop([col]+col_drop, axis=1)\n",
    "        \n",
    "        with open(os.devnull, \"w\") as f, contextlib.redirect_stdout(f):\n",
    "            with warnings.catch_warnings():\n",
    "                warnings.simplefilter(\"ignore\")\n",
    "\n",
    "                errors=[]\n",
    "\n",
    "                for tr_ind, val_ind in skf.split(X_time, y):\n",
    "                    lgbm=LGBMRegressor(bagging_fraction=0.5, random_state=42, \n",
    "                                       **{'lambda_l1': 15, 'learning_rate': 0.05, 'n_estimators': 4000})\n",
    "\n",
    "                    lgbm.fit(X_time.iloc[tr_ind,:], y.iloc[tr_ind])\n",
    "\n",
    "                    errors.append(mape(y.iloc[val_ind],lgbm.predict(X_time.iloc[val_ind,:])))\n",
    "    \n",
    "        \n",
    "        col_errors.append([col,np.mean(errors)])\n",
    "\n",
    "    \n",
    "    min_col=min(col_errors, key=lambda x: x[1])\n",
    "    \n",
    "    col_drop.append(min_col[0])\n",
    "    print(f'Feature \"{min_col[0]}\" delete with mape {min_col[1]}')\n",
    "    feat_imp.append(col_errors)\n",
    "    print()\n",
    "    "
   ]
  },
  {
   "cell_type": "code",
   "execution_count": 22,
   "id": "5714d06f",
   "metadata": {},
   "outputs": [
    {
     "data": {
      "text/plain": [
       "[['num_rooms', 1.3602795432000674]]"
      ]
     },
     "execution_count": 22,
     "metadata": {},
     "output_type": "execute_result"
    }
   ],
   "source": [
    "col_errors"
   ]
  },
  {
   "cell_type": "markdown",
   "id": "d4f2ec55",
   "metadata": {},
   "source": [
    "Список признаков для удаления"
   ]
  },
  {
   "cell_type": "code",
   "execution_count": 23,
   "id": "1cc28849",
   "metadata": {},
   "outputs": [
    {
     "data": {
      "text/plain": [
       "{'num_rooms'}"
      ]
     },
     "execution_count": 23,
     "metadata": {},
     "output_type": "execute_result"
    }
   ],
   "source": [
    "set(X.columns.to_list())-set(col_drop)"
   ]
  },
  {
   "cell_type": "markdown",
   "id": "6927f596",
   "metadata": {},
   "source": [
    "# Удаляем признаки"
   ]
  },
  {
   "cell_type": "markdown",
   "id": "9c97363a",
   "metadata": {},
   "source": [
    "Самые частые кандидаты на удаление"
   ]
  },
  {
   "cell_type": "code",
   "execution_count": 24,
   "id": "1c567f32",
   "metadata": {},
   "outputs": [],
   "source": [
    "bad_feats=['repair', 'year*repair']"
   ]
  },
  {
   "cell_type": "markdown",
   "id": "bc018356",
   "metadata": {},
   "source": [
    "Попробуем разные комбинации для удаления."
   ]
  },
  {
   "cell_type": "code",
   "execution_count": 25,
   "id": "68311dc6",
   "metadata": {},
   "outputs": [
    {
     "name": "stdout",
     "output_type": "stream",
     "text": [
      "Mape with delete this features: [] equals 0.15209498914130842\n",
      "Mape with delete this features: ['repair', 'year*repair'] equals 0.16138905593620803\n",
      "Mape with delete this features: ['repair'] equals 0.15246181030764633\n",
      "Mape with delete this features: ['year*repair'] equals 0.15330379699949398\n"
     ]
    }
   ],
   "source": [
    "skf = StratifiedKFold(n_splits=5, random_state=42, shuffle=True)          \n",
    "for i in [[],['repair','year*repair'],['repair'], ['year*repair']]:\n",
    "    \n",
    "    errors=[]\n",
    "    \n",
    "    X_t=X.drop(i, axis=1)\n",
    "\n",
    "    with open(os.devnull, \"w\") as f, contextlib.redirect_stdout(f):\n",
    "        with warnings.catch_warnings():\n",
    "            warnings.simplefilter(\"ignore\")\n",
    "    \n",
    "            for tr_ind, val_ind in skf.split(X_t, y):\n",
    "\n",
    "                    lgbm=LGBMRegressor(bagging_fraction=0.5, random_state=42, \n",
    "                                           **{'lambda_l1': 15, 'learning_rate': 0.05, 'n_estimators': 4000})\n",
    "\n",
    "                    lgbm.fit(X_t.iloc[tr_ind,:], y.iloc[tr_ind])\n",
    "\n",
    "                    errors.append(mape(y.iloc[val_ind],lgbm.predict(X_t.iloc[val_ind])))\n",
    "                          \n",
    "    print(f'Mape with delete this features: {i} equals {np.mean(errors)}')\n",
    "    "
   ]
  },
  {
   "cell_type": "markdown",
   "id": "4015fc2d",
   "metadata": {},
   "source": [
    "Удалим только repair. Будем считать, что улучшение/ ухудшение качества для mte кодировки такое же, как и для le."
   ]
  },
  {
   "cell_type": "code",
   "execution_count": 9,
   "id": "b0235826",
   "metadata": {},
   "outputs": [],
   "source": [
    "df_le=df_le.drop('repair', axis=1)\n",
    "df_mte=df_mte.drop('repair', axis=1)"
   ]
  },
  {
   "cell_type": "markdown",
   "id": "e0df5394",
   "metadata": {},
   "source": [
    "# Сохраняем данные"
   ]
  },
  {
   "cell_type": "code",
   "execution_count": 10,
   "id": "b08ef5cb",
   "metadata": {},
   "outputs": [],
   "source": [
    "df_le.to_csv(r\"C:\\Users\\Stepan\\Desktop\\ВУЗ\\Клиент-серверные\\папка датафреймов\\df_after_delete_le.csv\")\n",
    "df_mte.to_csv(r\"C:\\Users\\Stepan\\Desktop\\ВУЗ\\Клиент-серверные\\папка датафреймов\\df_after_delete_mte.csv\")"
   ]
  }
 ],
 "metadata": {
  "kernelspec": {
   "display_name": "Python 3 (ipykernel)",
   "language": "python",
   "name": "python3"
  },
  "language_info": {
   "codemirror_mode": {
    "name": "ipython",
    "version": 3
   },
   "file_extension": ".py",
   "mimetype": "text/x-python",
   "name": "python",
   "nbconvert_exporter": "python",
   "pygments_lexer": "ipython3",
   "version": "3.9.12"
  }
 },
 "nbformat": 4,
 "nbformat_minor": 5
}
