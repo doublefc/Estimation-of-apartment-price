{
 "cells": [
  {
   "cell_type": "markdown",
   "id": "f4607063",
   "metadata": {},
   "source": [
    "# Импортируем библиотеки"
   ]
  },
  {
   "cell_type": "code",
   "execution_count": 1,
   "id": "1ad7bbb2",
   "metadata": {},
   "outputs": [],
   "source": [
    "from lightgbm import LGBMRegressor\n",
    "import pandas as pd\n",
    "import lightgbm as lgb\n",
    "from sklearn.inspection import permutation_importance\n",
    "import random\n",
    "import numpy as np\n",
    "from sklearn.model_selection import train_test_split\n",
    "from sklearn.model_selection import StratifiedKFold\n",
    "import os\n",
    "import contextlib\n",
    "import warnings\n",
    "from sklearn.metrics import mean_absolute_percentage_error as mape\n",
    "import matplotlib.pyplot as plt\n",
    "import seaborn as sns\n",
    "from sklearn.inspection import permutation_importance\n",
    "from sklearn.model_selection import  GridSearchCV\n",
    "from tqdm import tqdm\n",
    "import statsmodels.api as sm"
   ]
  },
  {
   "cell_type": "markdown",
   "id": "bda5cbef",
   "metadata": {},
   "source": [
    "# Загрузка данных"
   ]
  },
  {
   "cell_type": "markdown",
   "id": "af1554df",
   "metadata": {},
   "source": [
    "Будем использовать mte кодировку, так как будем работать с lightgbm"
   ]
  },
  {
   "cell_type": "code",
   "execution_count": 2,
   "id": "4b374f06",
   "metadata": {},
   "outputs": [
    {
     "data": {
      "text/html": [
       "<div>\n",
       "<style scoped>\n",
       "    .dataframe tbody tr th:only-of-type {\n",
       "        vertical-align: middle;\n",
       "    }\n",
       "\n",
       "    .dataframe tbody tr th {\n",
       "        vertical-align: top;\n",
       "    }\n",
       "\n",
       "    .dataframe thead th {\n",
       "        text-align: right;\n",
       "    }\n",
       "</style>\n",
       "<table border=\"1\" class=\"dataframe\">\n",
       "  <thead>\n",
       "    <tr style=\"text-align: right;\">\n",
       "      <th></th>\n",
       "      <th>metro_name</th>\n",
       "      <th>time_to_metro</th>\n",
       "      <th>num_rooms</th>\n",
       "      <th>total_area</th>\n",
       "      <th>year_house</th>\n",
       "      <th>kitchen_area</th>\n",
       "      <th>repair</th>\n",
       "      <th>price</th>\n",
       "      <th>floors</th>\n",
       "      <th>num_floor</th>\n",
       "      <th>...</th>\n",
       "      <th>metro_line</th>\n",
       "      <th>metro_distance</th>\n",
       "      <th>distr*time</th>\n",
       "      <th>Kre*time</th>\n",
       "      <th>Kre*area</th>\n",
       "      <th>year*area</th>\n",
       "      <th>year*repair</th>\n",
       "      <th>year*floors</th>\n",
       "      <th>distr*area</th>\n",
       "      <th>area/num+1</th>\n",
       "    </tr>\n",
       "  </thead>\n",
       "  <tbody>\n",
       "    <tr>\n",
       "      <th>9634</th>\n",
       "      <td>Кунцевская</td>\n",
       "      <td>15.0</td>\n",
       "      <td>1.555949e+07</td>\n",
       "      <td>19.0</td>\n",
       "      <td>1700.0</td>\n",
       "      <td>3.5</td>\n",
       "      <td>3.579406e+07</td>\n",
       "      <td>6400000.0</td>\n",
       "      <td>14.0</td>\n",
       "      <td>12.0</td>\n",
       "      <td>...</td>\n",
       "      <td>4.907639e+07</td>\n",
       "      <td>2.42</td>\n",
       "      <td>3.981117e+08</td>\n",
       "      <td>186.300</td>\n",
       "      <td>235.98</td>\n",
       "      <td>32300.0</td>\n",
       "      <td>6.084989e+10</td>\n",
       "      <td>23800.0</td>\n",
       "      <td>5.042748e+08</td>\n",
       "      <td>0.000001</td>\n",
       "    </tr>\n",
       "    <tr>\n",
       "      <th>17972</th>\n",
       "      <td>Римская</td>\n",
       "      <td>7.5</td>\n",
       "      <td>1.555949e+07</td>\n",
       "      <td>23.5</td>\n",
       "      <td>1700.0</td>\n",
       "      <td>11.0</td>\n",
       "      <td>2.299117e+07</td>\n",
       "      <td>20726560.0</td>\n",
       "      <td>25.0</td>\n",
       "      <td>14.0</td>\n",
       "      <td>...</td>\n",
       "      <td>2.451582e+07</td>\n",
       "      <td>4.42</td>\n",
       "      <td>1.823331e+08</td>\n",
       "      <td>33.150</td>\n",
       "      <td>103.87</td>\n",
       "      <td>39950.0</td>\n",
       "      <td>3.908499e+10</td>\n",
       "      <td>42500.0</td>\n",
       "      <td>5.713103e+08</td>\n",
       "      <td>0.000002</td>\n",
       "    </tr>\n",
       "    <tr>\n",
       "      <th>24613</th>\n",
       "      <td>Борисово</td>\n",
       "      <td>15.5</td>\n",
       "      <td>1.555949e+07</td>\n",
       "      <td>19.0</td>\n",
       "      <td>1700.0</td>\n",
       "      <td>12.0</td>\n",
       "      <td>2.299117e+07</td>\n",
       "      <td>12787213.0</td>\n",
       "      <td>52.0</td>\n",
       "      <td>30.0</td>\n",
       "      <td>...</td>\n",
       "      <td>2.451582e+07</td>\n",
       "      <td>4.81</td>\n",
       "      <td>2.832050e+08</td>\n",
       "      <td>214.055</td>\n",
       "      <td>262.39</td>\n",
       "      <td>32300.0</td>\n",
       "      <td>3.908499e+10</td>\n",
       "      <td>88400.0</td>\n",
       "      <td>3.471545e+08</td>\n",
       "      <td>0.000001</td>\n",
       "    </tr>\n",
       "    <tr>\n",
       "      <th>26228</th>\n",
       "      <td>Чкаловская</td>\n",
       "      <td>7.5</td>\n",
       "      <td>2.651027e+07</td>\n",
       "      <td>75.0</td>\n",
       "      <td>1700.0</td>\n",
       "      <td>15.0</td>\n",
       "      <td>5.234562e+07</td>\n",
       "      <td>99000000.0</td>\n",
       "      <td>6.0</td>\n",
       "      <td>2.0</td>\n",
       "      <td>...</td>\n",
       "      <td>2.451582e+07</td>\n",
       "      <td>0.88</td>\n",
       "      <td>2.540575e+08</td>\n",
       "      <td>14.100</td>\n",
       "      <td>141.00</td>\n",
       "      <td>127500.0</td>\n",
       "      <td>8.898756e+10</td>\n",
       "      <td>10200.0</td>\n",
       "      <td>2.540575e+09</td>\n",
       "      <td>0.000003</td>\n",
       "    </tr>\n",
       "    <tr>\n",
       "      <th>8768</th>\n",
       "      <td>Нагатинская</td>\n",
       "      <td>7.5</td>\n",
       "      <td>1.555949e+07</td>\n",
       "      <td>23.0</td>\n",
       "      <td>1700.0</td>\n",
       "      <td>9.0</td>\n",
       "      <td>2.299117e+07</td>\n",
       "      <td>15800000.0</td>\n",
       "      <td>26.0</td>\n",
       "      <td>4.0</td>\n",
       "      <td>...</td>\n",
       "      <td>2.633074e+07</td>\n",
       "      <td>5.79</td>\n",
       "      <td>1.568573e+08</td>\n",
       "      <td>58.425</td>\n",
       "      <td>179.17</td>\n",
       "      <td>39100.0</td>\n",
       "      <td>3.908499e+10</td>\n",
       "      <td>44200.0</td>\n",
       "      <td>4.810290e+08</td>\n",
       "      <td>0.000001</td>\n",
       "    </tr>\n",
       "  </tbody>\n",
       "</table>\n",
       "<p>5 rows × 27 columns</p>\n",
       "</div>"
      ],
      "text/plain": [
       "        metro_name  time_to_metro     num_rooms  total_area  year_house  \\\n",
       "9634    Кунцевская           15.0  1.555949e+07        19.0      1700.0   \n",
       "17972      Римская            7.5  1.555949e+07        23.5      1700.0   \n",
       "24613     Борисово           15.5  1.555949e+07        19.0      1700.0   \n",
       "26228   Чкаловская            7.5  2.651027e+07        75.0      1700.0   \n",
       "8768   Нагатинская            7.5  1.555949e+07        23.0      1700.0   \n",
       "\n",
       "       kitchen_area        repair       price  floors  num_floor  ...  \\\n",
       "9634            3.5  3.579406e+07   6400000.0    14.0       12.0  ...   \n",
       "17972          11.0  2.299117e+07  20726560.0    25.0       14.0  ...   \n",
       "24613          12.0  2.299117e+07  12787213.0    52.0       30.0  ...   \n",
       "26228          15.0  5.234562e+07  99000000.0     6.0        2.0  ...   \n",
       "8768            9.0  2.299117e+07  15800000.0    26.0        4.0  ...   \n",
       "\n",
       "         metro_line  metro_distance    distr*time  Kre*time Kre*area  \\\n",
       "9634   4.907639e+07            2.42  3.981117e+08   186.300   235.98   \n",
       "17972  2.451582e+07            4.42  1.823331e+08    33.150   103.87   \n",
       "24613  2.451582e+07            4.81  2.832050e+08   214.055   262.39   \n",
       "26228  2.451582e+07            0.88  2.540575e+08    14.100   141.00   \n",
       "8768   2.633074e+07            5.79  1.568573e+08    58.425   179.17   \n",
       "\n",
       "       year*area   year*repair  year*floors    distr*area  area/num+1  \n",
       "9634     32300.0  6.084989e+10      23800.0  5.042748e+08    0.000001  \n",
       "17972    39950.0  3.908499e+10      42500.0  5.713103e+08    0.000002  \n",
       "24613    32300.0  3.908499e+10      88400.0  3.471545e+08    0.000001  \n",
       "26228   127500.0  8.898756e+10      10200.0  2.540575e+09    0.000003  \n",
       "8768     39100.0  3.908499e+10      44200.0  4.810290e+08    0.000001  \n",
       "\n",
       "[5 rows x 27 columns]"
      ]
     },
     "execution_count": 2,
     "metadata": {},
     "output_type": "execute_result"
    }
   ],
   "source": [
    "df_le=pd.read_csv(r\"C:\\Users\\Stepan\\Desktop\\ВУЗ\\Клиент-серверные\\папка датафреймов\\df_after_feat_eng_le.csv\")\n",
    "df_mte=pd.read_csv(r\"C:\\Users\\Stepan\\Desktop\\ВУЗ\\Клиент-серверные\\папка датафреймов\\df_after_feat_eng_mte.csv\")\n",
    "df_le=df_le.drop('Unnamed: 0', axis=1)\n",
    "df_mte=df_mte.drop('Unnamed: 0', axis=1)\n",
    "df_mte.sample(5)"
   ]
  },
  {
   "cell_type": "code",
   "execution_count": 3,
   "id": "dcceaf82",
   "metadata": {},
   "outputs": [
    {
     "data": {
      "text/plain": [
       "(27974, 27)"
      ]
     },
     "execution_count": 3,
     "metadata": {},
     "output_type": "execute_result"
    }
   ],
   "source": [
    "df_mte.shape"
   ]
  },
  {
   "cell_type": "markdown",
   "id": "761ff9d7",
   "metadata": {},
   "source": [
    "# Важности признаков"
   ]
  },
  {
   "cell_type": "markdown",
   "id": "56291129",
   "metadata": {},
   "source": [
    "Будем двигаться от более легких методов к более сложным."
   ]
  },
  {
   "cell_type": "markdown",
   "id": "ed7ab9a8",
   "metadata": {},
   "source": [
    "## Split "
   ]
  },
  {
   "cell_type": "markdown",
   "id": "17009598",
   "metadata": {},
   "source": [
    "Посмотрим простейший способ получения важности под названием split, который встроен в lightgbm. Важность признака определяется по количеству использований признака для сплита в течение всего процесса обучения."
   ]
  },
  {
   "cell_type": "markdown",
   "id": "ff1a6d2c",
   "metadata": {},
   "source": [
    "Для этого сначала обучим градиентный бустинг на кросс-валидации. Также перед этим потюним модель."
   ]
  },
  {
   "cell_type": "code",
   "execution_count": 4,
   "id": "358c7d9e",
   "metadata": {},
   "outputs": [],
   "source": [
    "X,y=df_mte.drop(['coord_width', 'coord_len', 'link', 'address', 'metro_name', 'price', 'date'], axis=1), df_mte['price']\n",
    "X_tr, X_v,y_tr, y_v=train_test_split(X,y, test_size=0.8)"
   ]
  },
  {
   "cell_type": "code",
   "execution_count": 5,
   "id": "73af9c57",
   "metadata": {},
   "outputs": [
    {
     "name": "stdout",
     "output_type": "stream",
     "text": [
      "best params: {'lambda_l1': 30, 'learning_rate': 0.1, 'n_estimators': 4000}\n"
     ]
    }
   ],
   "source": [
    "lgbm=LGBMRegressor(bagging_fraction=0.5, random_state=42)\n",
    "param_grid={'learning_rate':[0.01,0.05,0.1,0.2], 'n_estimators':[1000,2000, 4000], 'lambda_l1':[5,15,30]}\n",
    "gd=GridSearchCV(lgbm, param_grid, cv=5)\n",
    "with open(os.devnull, \"w\") as f, contextlib.redirect_stdout(f):\n",
    "    gd.fit(X,y)\n",
    "print(f'best params: {gd.best_params_}')"
   ]
  },
  {
   "cell_type": "markdown",
   "id": "d163f6cc",
   "metadata": {},
   "source": [
    "Считаем важности признаков на кросс-валидации."
   ]
  },
  {
   "cell_type": "code",
   "execution_count": 6,
   "id": "6f0bbaa9",
   "metadata": {},
   "outputs": [],
   "source": [
    "skf = StratifiedKFold(n_splits=4, random_state=42, shuffle=True)\n",
    "importance=[]\n",
    "with open(os.devnull, \"w\") as f, contextlib.redirect_stdout(f):\n",
    "    with warnings.catch_warnings():\n",
    "        warnings.simplefilter(\"ignore\")\n",
    "        for tr_ind, val_ind in skf.split(X, y):\n",
    "            lgbm=LGBMRegressor(bagging_fraction=0.5, random_state=42, **gd.best_params_)\n",
    "            lgbm.fit(X.loc[tr_ind,:], y.loc[tr_ind])\n",
    "            importance.append(lgbm.booster_.feature_importance())\n"
   ]
  },
  {
   "cell_type": "code",
   "execution_count": 7,
   "id": "8fea3ff8",
   "metadata": {},
   "outputs": [
    {
     "data": {
      "text/plain": [
       "array([ 1439.5 ,   863.75,  8183.25,  3658.5 ,  9142.25,  1160.25,\n",
       "        4389.  ,  8871.  ,  6773.  ,  4203.  ,  3147.  ,  8477.5 ,\n",
       "        5983.  ,  6504.  ,  9131.75,  6381.5 ,  5780.75,  6883.5 ,\n",
       "        8081.  , 10946.5 ])"
      ]
     },
     "execution_count": 7,
     "metadata": {},
     "output_type": "execute_result"
    }
   ],
   "source": [
    "feat_imp=np.mean(np.array(importance), axis=0)\n",
    "feat_imp"
   ]
  },
  {
   "cell_type": "markdown",
   "id": "0a812aef",
   "metadata": {},
   "source": [
    "Отсортированный словарь \"признак\": количество сплитов."
   ]
  },
  {
   "cell_type": "code",
   "execution_count": 8,
   "id": "911537c2",
   "metadata": {},
   "outputs": [
    {
     "data": {
      "text/plain": [
       "{'area/num+1': 10946.5,\n",
       " 'kitchen_area': 9142.25,\n",
       " 'Kre*area': 9131.75,\n",
       " 'num_floor': 8871.0,\n",
       " 'metro_distance': 8477.5,\n",
       " 'total_area': 8183.25,\n",
       " 'distr*area': 8081.0,\n",
       " 'year*floors': 6883.5,\n",
       " 'distance_to_Kremlin': 6773.0,\n",
       " 'Kre*time': 6504.0,\n",
       " 'year*area': 6381.5,\n",
       " 'distr*time': 5983.0,\n",
       " 'year*repair': 5780.75,\n",
       " 'floors': 4389.0,\n",
       " 'district': 4203.0,\n",
       " 'year_house': 3658.5,\n",
       " 'metro_line': 3147.0,\n",
       " 'time_to_metro': 1439.5,\n",
       " 'repair': 1160.25,\n",
       " 'num_rooms': 863.75}"
      ]
     },
     "execution_count": 8,
     "metadata": {},
     "output_type": "execute_result"
    }
   ],
   "source": [
    "dict_imp={X.columns[i]:feat_imp[i] for i in range(X.shape[1])}\n",
    "dict_imp_s=sorted(dict_imp, key=lambda x: dict_imp[x], reverse=True)\n",
    "f_dict={}\n",
    "for i in dict_imp_s:\n",
    "    f_dict[i]=dict_imp[i]\n",
    "f_dict"
   ]
  },
  {
   "cell_type": "markdown",
   "id": "4aa21bcb",
   "metadata": {},
   "source": [
    "Визуализация"
   ]
  },
  {
   "cell_type": "code",
   "execution_count": 9,
   "id": "56252907",
   "metadata": {},
   "outputs": [
    {
     "data": {
      "image/png": "[encoded data removed]",
      "text/plain": [
       "<Figure size 1152x576 with 1 Axes>"
      ]
     },
     "metadata": {
      "needs_background": "light"
     },
     "output_type": "display_data"
    }
   ],
   "source": [
    "with warnings.catch_warnings():\n",
    "    warnings.simplefilter(\"ignore\")\n",
    "    plt.figure(figsize=(16, 8))\n",
    "    plt.xlabel('Feature_importance', fontsize=16)\n",
    "    plt.ylabel('Features', fontsize=16)\n",
    "    sns.barplot(list(f_dict.values()), list(f_dict.keys()), color='blue')"
   ]
  },
  {
   "cell_type": "markdown",
   "id": "18b1f9c6",
   "metadata": {},
   "source": [
    "## Permutation importance"
   ]
  },
  {
   "cell_type": "markdown",
   "id": "1532c316",
   "metadata": {},
   "source": [
    "Метод основан на перестановке. Модель обучается на части данных, предсказывает результат на валидационной части данных с каким то качеством. Потом признак перемешивается на валидации, и модель делает предсказание еще раз. Разностью в качестве до перемешивания и после оценивается важность признака."
   ]
  },
  {
   "cell_type": "markdown",
   "id": "e4278883",
   "metadata": {},
   "source": [
    "Смотрим важность на кроссвалидации."
   ]
  },
  {
   "cell_type": "code",
   "execution_count": 10,
   "id": "5b085701",
   "metadata": {},
   "outputs": [
    {
     "name": "stderr",
     "output_type": "stream",
     "text": [
      "5it [26:08, 313.66s/it]\n"
     ]
    }
   ],
   "source": [
    "skf = StratifiedKFold(n_splits=5, random_state=42, shuffle=True)\n",
    "perm_imp=[]\n",
    "with open(os.devnull, \"w\") as f, contextlib.redirect_stdout(f):\n",
    "    with warnings.catch_warnings():\n",
    "        warnings.simplefilter(\"ignore\")\n",
    "        for tr_ind, val_ind in tqdm(skf.split(X, y)):\n",
    "            \n",
    "            lgbm=LGBMRegressor(bagging_fraction=0.5, random_state=42, **gd.best_params_)\n",
    "            lgbm.fit(X.iloc[tr_ind,:], y.iloc[tr_ind])\n",
    "            \n",
    "            perm_imp.append(permutation_importance(lgbm, X.iloc[val_ind], y.iloc[val_ind], random_state=42, scoring='neg_mean_absolute_percentage_error', n_repeats=30))\n",
    "            \n"
   ]
  },
  {
   "cell_type": "markdown",
   "id": "c67e7bcb",
   "metadata": {},
   "source": [
    "Создаем табличку"
   ]
  },
  {
   "cell_type": "code",
   "execution_count": 11,
   "id": "c73acde2",
   "metadata": {},
   "outputs": [],
   "source": [
    "perm_df=pd.DataFrame(columns=['fold №1', 'fold №2', 'fold №3', 'fold №4', 'fold №5', 'mean'], index=X.columns)\n",
    "for i in range(1,6):\n",
    "    perm_df[f'fold №{i}']=perm_imp[i-1]['importances_mean']\n",
    "perm_df['mean']=perm_df.mean(axis=1)"
   ]
  },
  {
   "cell_type": "code",
   "execution_count": 12,
   "id": "de0d9834",
   "metadata": {},
   "outputs": [
    {
     "data": {
      "text/html": [
       "<div>\n",
       "<style scoped>\n",
       "    .dataframe tbody tr th:only-of-type {\n",
       "        vertical-align: middle;\n",
       "    }\n",
       "\n",
       "    .dataframe tbody tr th {\n",
       "        vertical-align: top;\n",
       "    }\n",
       "\n",
       "    .dataframe thead th {\n",
       "        text-align: right;\n",
       "    }\n",
       "</style>\n",
       "<table border=\"1\" class=\"dataframe\">\n",
       "  <thead>\n",
       "    <tr style=\"text-align: right;\">\n",
       "      <th></th>\n",
       "      <th>fold №1</th>\n",
       "      <th>fold №2</th>\n",
       "      <th>fold №3</th>\n",
       "      <th>fold №4</th>\n",
       "      <th>fold №5</th>\n",
       "      <th>mean</th>\n",
       "    </tr>\n",
       "  </thead>\n",
       "  <tbody>\n",
       "    <tr>\n",
       "      <th>time_to_metro</th>\n",
       "      <td>0.035034</td>\n",
       "      <td>0.024513</td>\n",
       "      <td>0.028373</td>\n",
       "      <td>0.024572</td>\n",
       "      <td>0.026018</td>\n",
       "      <td>0.027702</td>\n",
       "    </tr>\n",
       "    <tr>\n",
       "      <th>num_rooms</th>\n",
       "      <td>0.044116</td>\n",
       "      <td>0.046604</td>\n",
       "      <td>0.037754</td>\n",
       "      <td>0.050420</td>\n",
       "      <td>0.053821</td>\n",
       "      <td>0.046543</td>\n",
       "    </tr>\n",
       "    <tr>\n",
       "      <th>total_area</th>\n",
       "      <td>0.166626</td>\n",
       "      <td>0.214201</td>\n",
       "      <td>0.205163</td>\n",
       "      <td>0.182392</td>\n",
       "      <td>0.210003</td>\n",
       "      <td>0.195677</td>\n",
       "    </tr>\n",
       "    <tr>\n",
       "      <th>year_house</th>\n",
       "      <td>0.017176</td>\n",
       "      <td>0.017490</td>\n",
       "      <td>0.020599</td>\n",
       "      <td>0.018413</td>\n",
       "      <td>0.022147</td>\n",
       "      <td>0.019165</td>\n",
       "    </tr>\n",
       "    <tr>\n",
       "      <th>kitchen_area</th>\n",
       "      <td>0.019954</td>\n",
       "      <td>0.021396</td>\n",
       "      <td>0.021736</td>\n",
       "      <td>0.020381</td>\n",
       "      <td>0.020277</td>\n",
       "      <td>0.020749</td>\n",
       "    </tr>\n",
       "    <tr>\n",
       "      <th>repair</th>\n",
       "      <td>0.014332</td>\n",
       "      <td>0.013748</td>\n",
       "      <td>0.015575</td>\n",
       "      <td>0.016580</td>\n",
       "      <td>0.014922</td>\n",
       "      <td>0.015031</td>\n",
       "    </tr>\n",
       "    <tr>\n",
       "      <th>floors</th>\n",
       "      <td>0.034986</td>\n",
       "      <td>0.028880</td>\n",
       "      <td>0.048991</td>\n",
       "      <td>0.035475</td>\n",
       "      <td>0.034828</td>\n",
       "      <td>0.036632</td>\n",
       "    </tr>\n",
       "    <tr>\n",
       "      <th>num_floor</th>\n",
       "      <td>0.028275</td>\n",
       "      <td>0.027130</td>\n",
       "      <td>0.023429</td>\n",
       "      <td>0.026666</td>\n",
       "      <td>0.024646</td>\n",
       "      <td>0.026029</td>\n",
       "    </tr>\n",
       "    <tr>\n",
       "      <th>distance_to_Kremlin</th>\n",
       "      <td>0.116105</td>\n",
       "      <td>0.114220</td>\n",
       "      <td>0.133710</td>\n",
       "      <td>0.137547</td>\n",
       "      <td>0.125668</td>\n",
       "      <td>0.125450</td>\n",
       "    </tr>\n",
       "    <tr>\n",
       "      <th>district</th>\n",
       "      <td>0.052370</td>\n",
       "      <td>0.069242</td>\n",
       "      <td>0.056342</td>\n",
       "      <td>0.080143</td>\n",
       "      <td>0.066096</td>\n",
       "      <td>0.064838</td>\n",
       "    </tr>\n",
       "    <tr>\n",
       "      <th>metro_line</th>\n",
       "      <td>0.015796</td>\n",
       "      <td>0.015236</td>\n",
       "      <td>0.014648</td>\n",
       "      <td>0.013200</td>\n",
       "      <td>0.015007</td>\n",
       "      <td>0.014777</td>\n",
       "    </tr>\n",
       "    <tr>\n",
       "      <th>metro_distance</th>\n",
       "      <td>0.026464</td>\n",
       "      <td>0.029159</td>\n",
       "      <td>0.031346</td>\n",
       "      <td>0.030622</td>\n",
       "      <td>0.029481</td>\n",
       "      <td>0.029415</td>\n",
       "    </tr>\n",
       "    <tr>\n",
       "      <th>distr*time</th>\n",
       "      <td>0.029081</td>\n",
       "      <td>0.026244</td>\n",
       "      <td>0.026946</td>\n",
       "      <td>0.026142</td>\n",
       "      <td>0.028873</td>\n",
       "      <td>0.027457</td>\n",
       "    </tr>\n",
       "    <tr>\n",
       "      <th>Kre*time</th>\n",
       "      <td>0.039481</td>\n",
       "      <td>0.024208</td>\n",
       "      <td>0.023683</td>\n",
       "      <td>0.025750</td>\n",
       "      <td>0.021768</td>\n",
       "      <td>0.026978</td>\n",
       "    </tr>\n",
       "    <tr>\n",
       "      <th>Kre*area</th>\n",
       "      <td>0.027036</td>\n",
       "      <td>0.028674</td>\n",
       "      <td>0.032564</td>\n",
       "      <td>0.037921</td>\n",
       "      <td>0.034420</td>\n",
       "      <td>0.032123</td>\n",
       "    </tr>\n",
       "    <tr>\n",
       "      <th>year*area</th>\n",
       "      <td>0.029589</td>\n",
       "      <td>0.033887</td>\n",
       "      <td>0.025347</td>\n",
       "      <td>0.026224</td>\n",
       "      <td>0.022473</td>\n",
       "      <td>0.027504</td>\n",
       "    </tr>\n",
       "    <tr>\n",
       "      <th>year*repair</th>\n",
       "      <td>0.015160</td>\n",
       "      <td>0.016287</td>\n",
       "      <td>0.013898</td>\n",
       "      <td>0.014929</td>\n",
       "      <td>0.025815</td>\n",
       "      <td>0.017218</td>\n",
       "    </tr>\n",
       "    <tr>\n",
       "      <th>year*floors</th>\n",
       "      <td>0.021941</td>\n",
       "      <td>0.020539</td>\n",
       "      <td>0.024310</td>\n",
       "      <td>0.022331</td>\n",
       "      <td>0.023619</td>\n",
       "      <td>0.022548</td>\n",
       "    </tr>\n",
       "    <tr>\n",
       "      <th>distr*area</th>\n",
       "      <td>0.683145</td>\n",
       "      <td>0.678743</td>\n",
       "      <td>0.715924</td>\n",
       "      <td>0.693907</td>\n",
       "      <td>0.741830</td>\n",
       "      <td>0.702710</td>\n",
       "    </tr>\n",
       "    <tr>\n",
       "      <th>area/num+1</th>\n",
       "      <td>0.030852</td>\n",
       "      <td>0.035849</td>\n",
       "      <td>0.034395</td>\n",
       "      <td>0.037944</td>\n",
       "      <td>0.036304</td>\n",
       "      <td>0.035069</td>\n",
       "    </tr>\n",
       "  </tbody>\n",
       "</table>\n",
       "</div>"
      ],
      "text/plain": [
       "                      fold №1   fold №2   fold №3   fold №4   fold №5  \\\n",
       "time_to_metro        0.035034  0.024513  0.028373  0.024572  0.026018   \n",
       "num_rooms            0.044116  0.046604  0.037754  0.050420  0.053821   \n",
       "total_area           0.166626  0.214201  0.205163  0.182392  0.210003   \n",
       "year_house           0.017176  0.017490  0.020599  0.018413  0.022147   \n",
       "kitchen_area         0.019954  0.021396  0.021736  0.020381  0.020277   \n",
       "repair               0.014332  0.013748  0.015575  0.016580  0.014922   \n",
       "floors               0.034986  0.028880  0.048991  0.035475  0.034828   \n",
       "num_floor            0.028275  0.027130  0.023429  0.026666  0.024646   \n",
       "distance_to_Kremlin  0.116105  0.114220  0.133710  0.137547  0.125668   \n",
       "district             0.052370  0.069242  0.056342  0.080143  0.066096   \n",
       "metro_line           0.015796  0.015236  0.014648  0.013200  0.015007   \n",
       "metro_distance       0.026464  0.029159  0.031346  0.030622  0.029481   \n",
       "distr*time           0.029081  0.026244  0.026946  0.026142  0.028873   \n",
       "Kre*time             0.039481  0.024208  0.023683  0.025750  0.021768   \n",
       "Kre*area             0.027036  0.028674  0.032564  0.037921  0.034420   \n",
       "year*area            0.029589  0.033887  0.025347  0.026224  0.022473   \n",
       "year*repair          0.015160  0.016287  0.013898  0.014929  0.025815   \n",
       "year*floors          0.021941  0.020539  0.024310  0.022331  0.023619   \n",
       "distr*area           0.683145  0.678743  0.715924  0.693907  0.741830   \n",
       "area/num+1           0.030852  0.035849  0.034395  0.037944  0.036304   \n",
       "\n",
       "                         mean  \n",
       "time_to_metro        0.027702  \n",
       "num_rooms            0.046543  \n",
       "total_area           0.195677  \n",
       "year_house           0.019165  \n",
       "kitchen_area         0.020749  \n",
       "repair               0.015031  \n",
       "floors               0.036632  \n",
       "num_floor            0.026029  \n",
       "distance_to_Kremlin  0.125450  \n",
       "district             0.064838  \n",
       "metro_line           0.014777  \n",
       "metro_distance       0.029415  \n",
       "distr*time           0.027457  \n",
       "Kre*time             0.026978  \n",
       "Kre*area             0.032123  \n",
       "year*area            0.027504  \n",
       "year*repair          0.017218  \n",
       "year*floors          0.022548  \n",
       "distr*area           0.702710  \n",
       "area/num+1           0.035069  "
      ]
     },
     "execution_count": 12,
     "metadata": {},
     "output_type": "execute_result"
    }
   ],
   "source": [
    "perm_df"
   ]
  },
  {
   "cell_type": "markdown",
   "id": "1241ddcd",
   "metadata": {},
   "source": [
    "Визуализация"
   ]
  },
  {
   "cell_type": "code",
   "execution_count": 13,
   "id": "3e2ad9d8",
   "metadata": {},
   "outputs": [
    {
     "data": {
      "text/plain": [
       "<AxesSubplot:xlabel='Feature importance', ylabel='Features'>"
      ]
     },
     "execution_count": 13,
     "metadata": {},
     "output_type": "execute_result"
    },
    {
     "data": {
      "image/png": "[encoded data removed]",
      "text/plain": [
       "<Figure size 1152x576 with 1 Axes>"
      ]
     },
     "metadata": {
      "needs_background": "light"
     },
     "output_type": "display_data"
    }
   ],
   "source": [
    "plt.figure(figsize=(16,8))\n",
    "a=perm_df['mean'].sort_values()[::-1]\n",
    "plt.xlabel('Feature importance', fontsize=16)\n",
    "plt.ylabel('Features', fontsize=16)\n",
    "sns.barplot(x=a.values, y=a.index, color='purple')"
   ]
  },
  {
   "cell_type": "markdown",
   "id": "797f2c7a",
   "metadata": {},
   "source": [
    "Результаты получились слегка отличающиеся от метода split."
   ]
  },
  {
   "cell_type": "markdown",
   "id": "e55f309d",
   "metadata": {},
   "source": [
    "## Жадное удаление признаков"
   ]
  },
  {
   "cell_type": "markdown",
   "id": "36614e29",
   "metadata": {},
   "source": [
    "Метод заключается в том, чтобы поочередно удалять признаки, обучать модель на новом датасете и сранивать качество с базом датасетом. Чем больше падение качества- тем выше значимость признака"
   ]
  },
  {
   "cell_type": "markdown",
   "id": "b4f6cba6",
   "metadata": {},
   "source": [
    "Каждый раз будем смотреть качество на кросс валидации. Для каждого нового датасета надо будет \"тюнить\" модель"
   ]
  },
  {
   "cell_type": "markdown",
   "id": "3de40700",
   "metadata": {},
   "source": [
    "Качество базового датасета."
   ]
  },
  {
   "cell_type": "code",
   "execution_count": 14,
   "id": "afe2dd75",
   "metadata": {},
   "outputs": [
    {
     "name": "stdout",
     "output_type": "stream",
     "text": [
      "MAPE for f dataset: 0.1494413386488436\n"
     ]
    }
   ],
   "source": [
    "skf = StratifiedKFold(n_splits=5, random_state=42, shuffle=True)\n",
    "errors=[]\n",
    "\n",
    "with open(os.devnull, \"w\") as f, contextlib.redirect_stdout(f):\n",
    "    with warnings.catch_warnings():\n",
    "        warnings.simplefilter(\"ignore\")\n",
    "        \n",
    "        for tr_ind, val_ind in skf.split(X, y):\n",
    "            lgbm=LGBMRegressor(bagging_fraction=0.5, **gd.best_params_, random_state=42)\n",
    "            lgbm.fit(X.iloc[tr_ind,:], y.iloc[tr_ind])\n",
    "            errors.append(mape(y.iloc[val_ind],lgbm.predict(X.iloc[val_ind,:])))\n",
    "            \n",
    "print(f'MAPE for f dataset: {np.mean(errors)}')\n",
    "\n",
    "all_feat_error=np.mean(errors)"
   ]
  },
  {
   "cell_type": "markdown",
   "id": "23a15095",
   "metadata": {},
   "source": [
    "Поочередно удаляем признаки, тюним модель, получаем качество на кросс-валидации. Сохраняем в словарь."
   ]
  },
  {
   "cell_type": "code",
   "execution_count": 15,
   "id": "e38536eb",
   "metadata": {},
   "outputs": [
    {
     "name": "stdout",
     "output_type": "stream",
     "text": [
      "Error with drop num_rooms: 0.14941650003362153\n",
      "Error with all features: 0.1494413386488436\n",
      "Difference between errors for num_rooms: -2.4838615222066984e-05\n",
      "Delete num_rooms\n",
      "\n",
      "Error with drop repair: 0.14980191505954316\n",
      "Error with all features: 0.1494413386488436\n",
      "Difference between errors for repair: 0.00036057641069955904\n",
      "Remain repair\n",
      "\n",
      "Error with drop time_to_metro: 0.15124561881843815\n",
      "Error with all features: 0.1494413386488436\n",
      "Difference between errors for time_to_metro: 0.001804280169594552\n",
      "Remain time_to_metro\n",
      "\n",
      "Error with drop metro_line: 0.15027429185016278\n",
      "Error with all features: 0.1494413386488436\n",
      "Difference between errors for metro_line: 0.0008329532013191809\n",
      "Remain metro_line\n",
      "\n",
      "Error with drop year_house: 0.15002381467053605\n",
      "Error with all features: 0.1494413386488436\n",
      "Difference between errors for year_house: 0.0005824760216924518\n",
      "Remain year_house\n",
      "\n",
      "Error with drop district: 0.15112348575259332\n",
      "Error with all features: 0.1494413386488436\n",
      "Difference between errors for district: 0.001682147103749726\n",
      "Remain district\n",
      "\n",
      "Error with drop floors: 0.14987297880994754\n",
      "Error with all features: 0.1494413386488436\n",
      "Difference between errors for floors: 0.00043164016110394665\n",
      "Remain floors\n",
      "\n",
      "Error with drop year*repair: 0.14942880369309236\n",
      "Error with all features: 0.1494413386488436\n",
      "Difference between errors for year*repair: -1.2534955751236643e-05\n",
      "Delete year*repair\n",
      "\n",
      "Error with drop distr*time: 0.15012917656770636\n",
      "Error with all features: 0.1494413386488436\n",
      "Difference between errors for distr*time: 0.0006878379188627604\n",
      "Remain distr*time\n",
      "\n",
      "Error with drop year*area: 0.14997294252578952\n",
      "Error with all features: 0.1494413386488436\n",
      "Difference between errors for year*area: 0.0005316038769459241\n",
      "Remain year*area\n",
      "\n",
      "Error with drop Kre*time: 0.14941947163185496\n",
      "Error with all features: 0.1494413386488436\n",
      "Difference between errors for Kre*time: -2.1867016988641463e-05\n",
      "Delete Kre*time\n",
      "\n",
      "Error with drop distance_to_Kremlin: 0.15221564177808516\n",
      "Error with all features: 0.1494413386488436\n",
      "Difference between errors for distance_to_Kremlin: 0.0027743031292415676\n",
      "Remain distance_to_Kremlin\n",
      "\n",
      "Error with drop year*floors: 0.14985067968238336\n",
      "Error with all features: 0.1494413386488436\n",
      "Difference between errors for year*floors: 0.0004093410335397618\n",
      "Remain year*floors\n",
      "\n",
      "Error with drop distr*area: 0.14980769280836487\n",
      "Error with all features: 0.1494413386488436\n",
      "Difference between errors for distr*area: 0.0003663541595212705\n",
      "Remain distr*area\n",
      "\n",
      "Error with drop total_area: 0.15071799651458778\n",
      "Error with all features: 0.1494413386488436\n",
      "Difference between errors for total_area: 0.0012766578657441852\n",
      "Remain total_area\n",
      "\n",
      "Error with drop metro_distance: 0.1514424589136694\n",
      "Error with all features: 0.1494413386488436\n",
      "Difference between errors for metro_distance: 0.0020011202648257953\n",
      "Remain metro_distance\n",
      "\n",
      "Error with drop num_floor: 0.15183244637792875\n",
      "Error with all features: 0.1494413386488436\n",
      "Difference between errors for num_floor: 0.002391107729085157\n",
      "Remain num_floor\n",
      "\n",
      "Error with drop Kre*area: 0.15024309230659388\n",
      "Error with all features: 0.1494413386488436\n",
      "Difference between errors for Kre*area: 0.0008017536577502871\n",
      "Remain Kre*area\n",
      "\n",
      "Error with drop kitchen_area: 0.15053238024836518\n",
      "Error with all features: 0.1494413386488436\n",
      "Difference between errors for kitchen_area: 0.001091041599521586\n",
      "Remain kitchen_area\n",
      "\n",
      "Error with drop area/num+1: 0.15485477805146666\n",
      "Error with all features: 0.1494413386488436\n",
      "Difference between errors for area/num+1: 0.005413439402623066\n",
      "Remain area/num+1\n",
      "\n"
     ]
    }
   ],
   "source": [
    "errors_dict={}\n",
    "\n",
    "feat_to_drop=[]\n",
    "col_rfe=perm_df['mean'].sort_values().index\n",
    "t=0.00001\n",
    "c=list(f_dict.keys())[::-1]\n",
    "\n",
    "for i in c:\n",
    "    \n",
    "    X_time=X.drop(feat_to_drop+[i], axis=1)\n",
    "\n",
    "        \n",
    "        \n",
    "    errors_t=[]\n",
    "    with open(os.devnull, \"w\") as f, contextlib.redirect_stdout(f):\n",
    "        with warnings.catch_warnings():\n",
    "            warnings.simplefilter(\"ignore\")\n",
    "            \n",
    "            for tr_ind, val_ind in skf.split(X_time, y):\n",
    "                lgbm=LGBMRegressor(bagging_fraction=0.5, **gd.best_params_, random_state=42)\n",
    "                lgbm.fit(X_time.iloc[tr_ind,:], y.iloc[tr_ind])\n",
    "                errors_t.append(mape(y.iloc[val_ind],lgbm.predict(X_time.iloc[val_ind,:])))\n",
    "                \n",
    "    errors_dict[i]=np.mean(errors_t)\n",
    "    \n",
    "    print(f'Error with drop {i}: {errors_dict[i]}')\n",
    "    print(f'Error with all features: {all_feat_error}')\n",
    "    diff_err=errors_dict[i]-all_feat_error\n",
    "    \n",
    "    print(f'Difference between errors for {i}: {diff_err}')\n",
    "    \n",
    "    if diff_err< t:\n",
    "        feat_to_drop.append(i)\n",
    "        print(f'Delete {i}')\n",
    "    else:\n",
    "        print(f'Remain {i}')\n",
    "    print()"
   ]
  },
  {
   "cell_type": "markdown",
   "id": "49680bb8",
   "metadata": {},
   "source": [
    "Признаки для удаления"
   ]
  },
  {
   "cell_type": "code",
   "execution_count": 16,
   "id": "cce516e9",
   "metadata": {},
   "outputs": [
    {
     "name": "stdout",
     "output_type": "stream",
     "text": [
      "['num_rooms', 'year*repair', 'Kre*time']\n"
     ]
    }
   ],
   "source": [
    "print(feat_to_drop)"
   ]
  },
  {
   "cell_type": "markdown",
   "id": "4e30fde0",
   "metadata": {},
   "source": [
    "## Split в динамике"
   ]
  },
  {
   "cell_type": "markdown",
   "id": "26b5e56b",
   "metadata": {},
   "source": [
    "Здесь мы посмотрим важность split в зависимости от максимальной глубины дерева"
   ]
  },
  {
   "cell_type": "code",
   "execution_count": 17,
   "id": "c83f4fea",
   "metadata": {},
   "outputs": [],
   "source": [
    "max_depth=[1,2,3,4,5]\n",
    "skf = StratifiedKFold(n_splits=5, random_state=42, shuffle=True)\n",
    "dm_imp=[]\n",
    "for num in max_depth:\n",
    "    \n",
    "    importance=[]\n",
    "    \n",
    "    with open(os.devnull, \"w\") as f, contextlib.redirect_stdout(f):\n",
    "        with warnings.catch_warnings():\n",
    "            warnings.simplefilter(\"ignore\")\n",
    "            \n",
    "            for tr_ind, val_ind in skf.split(X, y):\n",
    "                lgbm=LGBMRegressor(bagging_fraction=0.5, random_state=42, \n",
    "                                   **gd.best_params_, max_depth=num)\n",
    "                \n",
    "                lgbm.fit(X.iloc[tr_ind,:], y.iloc[tr_ind])\n",
    "                \n",
    "                importance.append(lgbm.booster_.feature_importance())\n",
    "\n",
    "\n",
    "    feat_imp=np.mean(np.array(importance), axis=0)\n",
    "    \n",
    "    dm_imp.append(feat_imp)\n"
   ]
  },
  {
   "cell_type": "markdown",
   "id": "709a8d44",
   "metadata": {},
   "source": [
    "Создадим таблицу"
   ]
  },
  {
   "cell_type": "code",
   "execution_count": 18,
   "id": "43fbcfa5",
   "metadata": {},
   "outputs": [],
   "source": [
    "dm_imp_df=pd.DataFrame(columns=[f'depth {i}' for i in range(1, 6)], index=X.columns)\n",
    "\n",
    "for i in range(1,6):\n",
    "    dm_imp_df[f'depth {i}']= dm_imp[i-1]\n",
    "dm_imp_df['mean']=dm_imp_df.mean(axis=1)\n"
   ]
  },
  {
   "cell_type": "code",
   "execution_count": 19,
   "id": "1f3851e3",
   "metadata": {},
   "outputs": [
    {
     "data": {
      "text/html": [
       "<div>\n",
       "<style scoped>\n",
       "    .dataframe tbody tr th:only-of-type {\n",
       "        vertical-align: middle;\n",
       "    }\n",
       "\n",
       "    .dataframe tbody tr th {\n",
       "        vertical-align: top;\n",
       "    }\n",
       "\n",
       "    .dataframe thead th {\n",
       "        text-align: right;\n",
       "    }\n",
       "</style>\n",
       "<table border=\"1\" class=\"dataframe\">\n",
       "  <thead>\n",
       "    <tr style=\"text-align: right;\">\n",
       "      <th></th>\n",
       "      <th>depth 1</th>\n",
       "      <th>depth 2</th>\n",
       "      <th>depth 3</th>\n",
       "      <th>depth 4</th>\n",
       "      <th>depth 5</th>\n",
       "      <th>mean</th>\n",
       "    </tr>\n",
       "  </thead>\n",
       "  <tbody>\n",
       "    <tr>\n",
       "      <th>time_to_metro</th>\n",
       "      <td>410.8</td>\n",
       "      <td>368.0</td>\n",
       "      <td>491.6</td>\n",
       "      <td>697.2</td>\n",
       "      <td>944.4</td>\n",
       "      <td>582.40</td>\n",
       "    </tr>\n",
       "    <tr>\n",
       "      <th>num_rooms</th>\n",
       "      <td>53.4</td>\n",
       "      <td>143.8</td>\n",
       "      <td>273.8</td>\n",
       "      <td>447.4</td>\n",
       "      <td>657.0</td>\n",
       "      <td>315.08</td>\n",
       "    </tr>\n",
       "    <tr>\n",
       "      <th>total_area</th>\n",
       "      <td>800.4</td>\n",
       "      <td>1925.8</td>\n",
       "      <td>3090.8</td>\n",
       "      <td>4509.4</td>\n",
       "      <td>6436.0</td>\n",
       "      <td>3352.48</td>\n",
       "    </tr>\n",
       "    <tr>\n",
       "      <th>year_house</th>\n",
       "      <td>314.6</td>\n",
       "      <td>333.6</td>\n",
       "      <td>621.0</td>\n",
       "      <td>1204.2</td>\n",
       "      <td>2128.6</td>\n",
       "      <td>920.40</td>\n",
       "    </tr>\n",
       "    <tr>\n",
       "      <th>kitchen_area</th>\n",
       "      <td>223.2</td>\n",
       "      <td>665.6</td>\n",
       "      <td>1744.0</td>\n",
       "      <td>3320.6</td>\n",
       "      <td>5619.4</td>\n",
       "      <td>2314.56</td>\n",
       "    </tr>\n",
       "    <tr>\n",
       "      <th>repair</th>\n",
       "      <td>10.0</td>\n",
       "      <td>94.0</td>\n",
       "      <td>209.8</td>\n",
       "      <td>384.4</td>\n",
       "      <td>675.4</td>\n",
       "      <td>274.72</td>\n",
       "    </tr>\n",
       "    <tr>\n",
       "      <th>floors</th>\n",
       "      <td>128.2</td>\n",
       "      <td>536.6</td>\n",
       "      <td>980.4</td>\n",
       "      <td>1747.0</td>\n",
       "      <td>2848.0</td>\n",
       "      <td>1248.04</td>\n",
       "    </tr>\n",
       "    <tr>\n",
       "      <th>num_floor</th>\n",
       "      <td>53.4</td>\n",
       "      <td>508.8</td>\n",
       "      <td>1192.8</td>\n",
       "      <td>2574.8</td>\n",
       "      <td>4776.8</td>\n",
       "      <td>1821.32</td>\n",
       "    </tr>\n",
       "    <tr>\n",
       "      <th>distance_to_Kremlin</th>\n",
       "      <td>274.6</td>\n",
       "      <td>802.4</td>\n",
       "      <td>1786.6</td>\n",
       "      <td>3144.4</td>\n",
       "      <td>4760.4</td>\n",
       "      <td>2153.68</td>\n",
       "    </tr>\n",
       "    <tr>\n",
       "      <th>district</th>\n",
       "      <td>148.6</td>\n",
       "      <td>460.8</td>\n",
       "      <td>854.0</td>\n",
       "      <td>1677.0</td>\n",
       "      <td>2695.0</td>\n",
       "      <td>1167.08</td>\n",
       "    </tr>\n",
       "    <tr>\n",
       "      <th>metro_line</th>\n",
       "      <td>52.8</td>\n",
       "      <td>189.4</td>\n",
       "      <td>544.4</td>\n",
       "      <td>1075.8</td>\n",
       "      <td>1833.8</td>\n",
       "      <td>739.24</td>\n",
       "    </tr>\n",
       "    <tr>\n",
       "      <th>metro_distance</th>\n",
       "      <td>161.6</td>\n",
       "      <td>516.2</td>\n",
       "      <td>1430.2</td>\n",
       "      <td>2985.0</td>\n",
       "      <td>5116.8</td>\n",
       "      <td>2041.96</td>\n",
       "    </tr>\n",
       "    <tr>\n",
       "      <th>distr*time</th>\n",
       "      <td>336.2</td>\n",
       "      <td>712.8</td>\n",
       "      <td>1304.4</td>\n",
       "      <td>2308.8</td>\n",
       "      <td>3744.2</td>\n",
       "      <td>1681.28</td>\n",
       "    </tr>\n",
       "    <tr>\n",
       "      <th>Kre*time</th>\n",
       "      <td>60.0</td>\n",
       "      <td>398.8</td>\n",
       "      <td>1061.6</td>\n",
       "      <td>2181.6</td>\n",
       "      <td>3874.2</td>\n",
       "      <td>1515.24</td>\n",
       "    </tr>\n",
       "    <tr>\n",
       "      <th>Kre*area</th>\n",
       "      <td>104.6</td>\n",
       "      <td>756.0</td>\n",
       "      <td>1756.6</td>\n",
       "      <td>3314.6</td>\n",
       "      <td>5466.8</td>\n",
       "      <td>2279.72</td>\n",
       "    </tr>\n",
       "    <tr>\n",
       "      <th>year*area</th>\n",
       "      <td>172.4</td>\n",
       "      <td>601.8</td>\n",
       "      <td>1397.0</td>\n",
       "      <td>2654.4</td>\n",
       "      <td>4361.4</td>\n",
       "      <td>1837.40</td>\n",
       "    </tr>\n",
       "    <tr>\n",
       "      <th>year*repair</th>\n",
       "      <td>113.6</td>\n",
       "      <td>319.2</td>\n",
       "      <td>951.4</td>\n",
       "      <td>1958.2</td>\n",
       "      <td>3454.4</td>\n",
       "      <td>1359.36</td>\n",
       "    </tr>\n",
       "    <tr>\n",
       "      <th>year*floors</th>\n",
       "      <td>172.4</td>\n",
       "      <td>500.0</td>\n",
       "      <td>1327.2</td>\n",
       "      <td>2555.6</td>\n",
       "      <td>4435.2</td>\n",
       "      <td>1798.08</td>\n",
       "    </tr>\n",
       "    <tr>\n",
       "      <th>distr*area</th>\n",
       "      <td>130.0</td>\n",
       "      <td>1048.2</td>\n",
       "      <td>2095.8</td>\n",
       "      <td>3656.8</td>\n",
       "      <td>5797.0</td>\n",
       "      <td>2545.56</td>\n",
       "    </tr>\n",
       "    <tr>\n",
       "      <th>area/num+1</th>\n",
       "      <td>279.2</td>\n",
       "      <td>924.2</td>\n",
       "      <td>2137.8</td>\n",
       "      <td>4150.0</td>\n",
       "      <td>6976.6</td>\n",
       "      <td>2893.56</td>\n",
       "    </tr>\n",
       "  </tbody>\n",
       "</table>\n",
       "</div>"
      ],
      "text/plain": [
       "                     depth 1  depth 2  depth 3  depth 4  depth 5     mean\n",
       "time_to_metro          410.8    368.0    491.6    697.2    944.4   582.40\n",
       "num_rooms               53.4    143.8    273.8    447.4    657.0   315.08\n",
       "total_area             800.4   1925.8   3090.8   4509.4   6436.0  3352.48\n",
       "year_house             314.6    333.6    621.0   1204.2   2128.6   920.40\n",
       "kitchen_area           223.2    665.6   1744.0   3320.6   5619.4  2314.56\n",
       "repair                  10.0     94.0    209.8    384.4    675.4   274.72\n",
       "floors                 128.2    536.6    980.4   1747.0   2848.0  1248.04\n",
       "num_floor               53.4    508.8   1192.8   2574.8   4776.8  1821.32\n",
       "distance_to_Kremlin    274.6    802.4   1786.6   3144.4   4760.4  2153.68\n",
       "district               148.6    460.8    854.0   1677.0   2695.0  1167.08\n",
       "metro_line              52.8    189.4    544.4   1075.8   1833.8   739.24\n",
       "metro_distance         161.6    516.2   1430.2   2985.0   5116.8  2041.96\n",
       "distr*time             336.2    712.8   1304.4   2308.8   3744.2  1681.28\n",
       "Kre*time                60.0    398.8   1061.6   2181.6   3874.2  1515.24\n",
       "Kre*area               104.6    756.0   1756.6   3314.6   5466.8  2279.72\n",
       "year*area              172.4    601.8   1397.0   2654.4   4361.4  1837.40\n",
       "year*repair            113.6    319.2    951.4   1958.2   3454.4  1359.36\n",
       "year*floors            172.4    500.0   1327.2   2555.6   4435.2  1798.08\n",
       "distr*area             130.0   1048.2   2095.8   3656.8   5797.0  2545.56\n",
       "area/num+1             279.2    924.2   2137.8   4150.0   6976.6  2893.56"
      ]
     },
     "execution_count": 19,
     "metadata": {},
     "output_type": "execute_result"
    }
   ],
   "source": [
    "dm_imp_df"
   ]
  },
  {
   "cell_type": "markdown",
   "id": "546e0674",
   "metadata": {},
   "source": [
    "Визуализация"
   ]
  },
  {
   "cell_type": "code",
   "execution_count": 20,
   "id": "9dca03a5",
   "metadata": {},
   "outputs": [
    {
     "data": {
      "text/plain": [
       "<AxesSubplot:xlabel='Feature importance', ylabel='Features'>"
      ]
     },
     "execution_count": 20,
     "metadata": {},
     "output_type": "execute_result"
    },
    {
     "data": {
      "image/png": "[encoded data removed]",
      "text/plain": [
       "<Figure size 1152x576 with 1 Axes>"
      ]
     },
     "metadata": {
      "needs_background": "light"
     },
     "output_type": "display_data"
    }
   ],
   "source": [
    "plt.figure(figsize=(16,8))\n",
    "b=dm_imp_df['mean'].sort_values()[::-1]\n",
    "plt.xlabel('Feature importance', fontsize=16)\n",
    "plt.ylabel('Features', fontsize=16)\n",
    "sns.barplot(x=b.values, y=b.index, color='green')"
   ]
  },
  {
   "cell_type": "markdown",
   "id": "e78f585f",
   "metadata": {},
   "source": [
    "Разницы особо нет"
   ]
  },
  {
   "cell_type": "markdown",
   "id": "c32af090",
   "metadata": {},
   "source": [
    "## Модифицированный backward elimination features"
   ]
  },
  {
   "cell_type": "markdown",
   "id": "701c471e",
   "metadata": {},
   "source": [
    "Суть обычного backward elimination features заключается в том, что мы на каждой итерации алгоритма удаляем признак с самым большим p-значением и делаем это до тех пор, пока качество модели не достигнет пика. В нашем случае вместо максимального p-значения мы будем использовать минимальный прирост качества."
   ]
  },
  {
   "cell_type": "code",
   "execution_count": 25,
   "id": "65337bb0",
   "metadata": {},
   "outputs": [
    {
     "name": "stdout",
     "output_type": "stream",
     "text": [
      "Feature \"year*repair\" delete with mape 0.14832097896805158\n",
      "\n",
      "Feature \"year*area\" delete with mape 0.1487054971213422\n",
      "\n",
      "Feature \"year*floors\" delete with mape 0.14888157426652432\n",
      "\n",
      "Feature \"area/num+1\" delete with mape 0.1484314785648759\n",
      "\n",
      "Feature \"Kre*area\" delete with mape 0.1480381205567654\n",
      "\n",
      "Feature \"distr*area\" delete with mape 0.14784764460161406\n",
      "\n",
      "Feature \"distr*time\" delete with mape 0.14705610330423344\n",
      "\n",
      "Feature \"Kre*time\" delete with mape 0.1470698880126026\n",
      "\n",
      "Feature \"metro_line\" delete with mape 0.14815501840943662\n",
      "\n",
      "Feature \"kitchen_area\" delete with mape 0.14810784670517246\n",
      "\n",
      "Feature \"num_floor\" delete with mape 0.15105056311084694\n",
      "\n",
      "Feature \"metro_distance\" delete with mape 0.1527486502357588\n",
      "\n",
      "Feature \"year_house\" delete with mape 0.15648357859370088\n",
      "\n",
      "Feature \"repair\" delete with mape 0.16450074995302408\n",
      "\n",
      "Feature \"time_to_metro\" delete with mape 0.17320935106836277\n",
      "\n",
      "Feature \"num_rooms\" delete with mape 0.18554432417169195\n",
      "\n",
      "Feature \"distance_to_Kremlin\" delete with mape 0.20573969336122544\n",
      "\n",
      "Feature \"floors\" delete with mape 0.24386778475542153\n",
      "\n",
      "Feature \"district\" delete with mape 0.3884930400229396\n",
      "\n",
      "Feature \"total_area\" delete with mape 1.3602795432000674\n",
      "\n"
     ]
    }
   ],
   "source": [
    "fl=True\n",
    "k=0\n",
    "col_drop=[]\n",
    "\n",
    "\n",
    "while len(col_drop)<X.shape[1]:\n",
    "    col_errors=[]\n",
    "    for col in set(X.columns.to_list())-set(col_drop):\n",
    "        \n",
    "        X_time=X.drop([col]+col_drop, axis=1)\n",
    "        \n",
    "        with open(os.devnull, \"w\") as f, contextlib.redirect_stdout(f):\n",
    "            with warnings.catch_warnings():\n",
    "                warnings.simplefilter(\"ignore\")\n",
    "\n",
    "                errors=[]\n",
    "\n",
    "                for tr_ind, val_ind in skf.split(X_time, y):\n",
    "                    lgbm=LGBMRegressor(bagging_fraction=0.5, random_state=42, \n",
    "                                       **gd.best_params_)\n",
    "\n",
    "                    lgbm.fit(X_time.iloc[tr_ind,:], y.iloc[tr_ind])\n",
    "\n",
    "                    errors.append(mape(y.iloc[val_ind],lgbm.predict(X_time.iloc[val_ind,:])))\n",
    "    \n",
    "        \n",
    "        col_errors.append([col,np.mean(errors)])\n",
    "\n",
    "    \n",
    "    min_col=min(col_errors, key=lambda x: x[1])\n",
    "    \n",
    "    col_drop.append(min_col[0])\n",
    "    print(f'Feature \"{min_col[0]}\" delete with mape {min_col[1]}')\n",
    "    \n",
    "    print()\n",
    "    "
   ]
  },
  {
   "cell_type": "markdown",
   "id": "32abdb53",
   "metadata": {},
   "source": [
    "Признаки от самого плохого, к самому лучшему."
   ]
  },
  {
   "cell_type": "code",
   "execution_count": 27,
   "id": "5714d06f",
   "metadata": {},
   "outputs": [
    {
     "data": {
      "text/plain": [
       "['year*repair',\n",
       " 'year*area',\n",
       " 'year*floors',\n",
       " 'area/num+1',\n",
       " 'Kre*area',\n",
       " 'distr*area',\n",
       " 'distr*time',\n",
       " 'Kre*time',\n",
       " 'metro_line',\n",
       " 'kitchen_area',\n",
       " 'num_floor',\n",
       " 'metro_distance',\n",
       " 'year_house',\n",
       " 'repair',\n",
       " 'time_to_metro',\n",
       " 'num_rooms',\n",
       " 'distance_to_Kremlin',\n",
       " 'floors',\n",
       " 'district',\n",
       " 'total_area']"
      ]
     },
     "execution_count": 27,
     "metadata": {},
     "output_type": "execute_result"
    }
   ],
   "source": [
    "col_drop"
   ]
  },
  {
   "cell_type": "markdown",
   "id": "6927f596",
   "metadata": {},
   "source": [
    "# Удаляем признаки"
   ]
  },
  {
   "cell_type": "markdown",
   "id": "9c97363a",
   "metadata": {},
   "source": [
    "Самые частые кандидаты на удаление"
   ]
  },
  {
   "cell_type": "code",
   "execution_count": 28,
   "id": "1c567f32",
   "metadata": {},
   "outputs": [],
   "source": [
    "bad_feats=['repair', 'year*repair']"
   ]
  },
  {
   "cell_type": "markdown",
   "id": "bc018356",
   "metadata": {},
   "source": [
    "Попробуем разные комбинации для удаления."
   ]
  },
  {
   "cell_type": "code",
   "execution_count": 29,
   "id": "68311dc6",
   "metadata": {},
   "outputs": [
    {
     "name": "stdout",
     "output_type": "stream",
     "text": [
      "Mape with delete this features: [] equals 0.15000059838940735\n",
      "Mape with delete this features: ['repair', 'year*repair'] equals 0.15749484531622066\n",
      "Mape with delete this features: ['repair'] equals 0.1504385364683617\n",
      "Mape with delete this features: ['year*repair'] equals 0.15056863744158777\n"
     ]
    }
   ],
   "source": [
    "skf = StratifiedKFold(n_splits=5, random_state=42, shuffle=True)          \n",
    "for i in [[],['repair','year*repair'],['repair'], ['year*repair']]:\n",
    "    \n",
    "    errors=[]\n",
    "    \n",
    "    X_t=X.drop(i, axis=1)\n",
    "\n",
    "    with open(os.devnull, \"w\") as f, contextlib.redirect_stdout(f):\n",
    "        with warnings.catch_warnings():\n",
    "            warnings.simplefilter(\"ignore\")\n",
    "    \n",
    "            for tr_ind, val_ind in skf.split(X_t, y):\n",
    "\n",
    "                    lgbm=LGBMRegressor(bagging_fraction=0.5, random_state=42, \n",
    "                                           **{'lambda_l1': 15, 'learning_rate': 0.05, 'n_estimators': 4000})\n",
    "\n",
    "                    lgbm.fit(X_t.iloc[tr_ind,:], y.iloc[tr_ind])\n",
    "\n",
    "                    errors.append(mape(y.iloc[val_ind],lgbm.predict(X_t.iloc[val_ind])))\n",
    "                          \n",
    "    print(f'Mape with delete this features: {i} equals {np.mean(errors)}')\n",
    "    "
   ]
  },
  {
   "cell_type": "code",
   "execution_count": 30,
   "id": "41855c4f",
   "metadata": {},
   "outputs": [
    {
     "name": "stdout",
     "output_type": "stream",
     "text": [
      "Mape with delete this features: [] equals 0.15161666717968103\n",
      "Mape with delete this features: ['repair', 'year*repair'] equals 0.15965952142656878\n",
      "Mape with delete this features: ['repair'] equals 0.15131672793534645\n",
      "Mape with delete this features: ['year*repair'] equals 0.1522335322840696\n"
     ]
    }
   ],
   "source": [
    "X,y=df_le.drop(['coord_width', 'coord_len', 'link', 'address', 'metro_name', 'price', 'date'], axis=1), df_le['price']\n",
    "skf = StratifiedKFold(n_splits=5, random_state=42, shuffle=True)          \n",
    "for i in [[],['repair','year*repair'],['repair'], ['year*repair']]:\n",
    "    \n",
    "    errors=[]\n",
    "    \n",
    "    X_t=X.drop(i, axis=1)\n",
    "\n",
    "    with open(os.devnull, \"w\") as f, contextlib.redirect_stdout(f):\n",
    "        with warnings.catch_warnings():\n",
    "            warnings.simplefilter(\"ignore\")\n",
    "    \n",
    "            for tr_ind, val_ind in skf.split(X_t, y):\n",
    "\n",
    "                    lgbm=LGBMRegressor(bagging_fraction=0.5, random_state=42, \n",
    "                                           **{'lambda_l1': 15, 'learning_rate': 0.05, 'n_estimators': 4000})\n",
    "\n",
    "                    lgbm.fit(X_t.iloc[tr_ind,:], y.iloc[tr_ind])\n",
    "\n",
    "                    errors.append(mape(y.iloc[val_ind],lgbm.predict(X_t.iloc[val_ind])))\n",
    "                          \n",
    "    print(f'Mape with delete this features: {i} equals {np.mean(errors)}')"
   ]
  },
  {
   "cell_type": "markdown",
   "id": "4015fc2d",
   "metadata": {},
   "source": [
    "Удалим только repair. Прирост качества на mte довольно низкий, а на le кодировке пристутствие этого признака вообще понизило качество."
   ]
  },
  {
   "cell_type": "code",
   "execution_count": 31,
   "id": "b0235826",
   "metadata": {},
   "outputs": [],
   "source": [
    "df_le=df_le.drop('repair', axis=1)\n",
    "df_mte=df_mte.drop('repair', axis=1)"
   ]
  },
  {
   "cell_type": "markdown",
   "id": "e0df5394",
   "metadata": {},
   "source": [
    "# Сохраняем данные"
   ]
  },
  {
   "cell_type": "code",
   "execution_count": 32,
   "id": "b08ef5cb",
   "metadata": {},
   "outputs": [],
   "source": [
    "df_le.to_csv(r\"C:\\Users\\Stepan\\Desktop\\ВУЗ\\Клиент-серверные\\папка датафреймов\\df_after_delete_le.csv\")\n",
    "df_mte.to_csv(r\"C:\\Users\\Stepan\\Desktop\\ВУЗ\\Клиент-серверные\\папка датафреймов\\df_after_delete_mte.csv\")"
   ]
  }
 ],
 "metadata": {
  "kernelspec": {
   "display_name": "Python 3 (ipykernel)",
   "language": "python",
   "name": "python3"
  },
  "language_info": {
   "codemirror_mode": {
    "name": "ipython",
    "version": 3
   },
   "file_extension": ".py",
   "mimetype": "text/x-python",
   "name": "python",
   "nbconvert_exporter": "python",
   "pygments_lexer": "ipython3",
   "version": "3.9.12"
  }
 },
 "nbformat": 4,
 "nbformat_minor": 5
}
